{
  "nbformat": 4,
  "nbformat_minor": 0,
  "metadata": {
    "colab": {
      "provenance": [],
      "authorship_tag": "ABX9TyPFac2a8G5LDZfD8YXC56+i"
    },
    "kernelspec": {
      "name": "python3",
      "display_name": "Python 3"
    },
    "language_info": {
      "name": "python"
    }
  },
  "cells": [
    {
      "cell_type": "markdown",
      "metadata": {
        "id": "QVzBa72FMGEF"
      },
      "source": [
        "### RANDOM WALK:\n",
        "\n",
        "$$X_n = \\sum_{i=1}^n X_i $$\n",
        "\n",
        "with $$\\Pr(X_i = 1) = p, \\;\\;\\; \\Pr(X_1 = -1) = q$$\n",
        "\n",
        "where if $p=q$ we have a simple, symmetric random walk, whereas if $p \\neq q$ we have a random walk with drift. See [here](https://www.softcover.io/read/bf34ea25/math_for_finance/random_walks).\n",
        "\n",
        "Brownian motion is the continuous time equivalent.\n",
        "\n",
        "Now, from [here](https://quant.stackexchange.com/q/19454/31759), a random walk is different from white noise, which is stationary, has constant variance, and no autocorrelation. The variance of a random walk is increasing.\n",
        "\n",
        "In a random walk,\n",
        "\n",
        "$$x_{t+1} = x_t + \\varepsilon_{t+1}$$\n",
        "\n",
        "with $\\varepsilon$ being white noise.\n",
        "\n",
        "#### MULTIPLICATIVE STOCHASTIC PROCESS:\n",
        "\n",
        "Will follow a lognormal or power-law distribution as explained [here](https://www.youtube.com/watch?v=yA1pkyanbzw&ab_channel=ComplexityExplorer).\n",
        "\n",
        "Geometric Brownian motion comes instead as the limit of a **multiplicative random walk** : look at an initial stock price, $X_0,$ multiplied by factors $\\varepsilon_i$ at each time step:\n",
        "\n",
        "$$X_n=X_0 \\; \\varepsilon_1\\;\\varepsilon_2 \\;\\cdots\\; \\varepsilon_n.$$\n",
        "\n",
        "Therefore we will have\n",
        "\n",
        "$$x_{t+1} = x_t  \\varepsilon_{t+1}$$\n",
        "\n",
        "where $\\varepsilon$ can be a variable interest rate.\n",
        "\n",
        "If we model these $L_i$ as independent and identically distributed random variables, applying the logarithm allows us to write the equation additively:\n",
        "\n",
        "$$\\ln X_n=\\ln X_0+ \\sum_{i=1}^n\\ln \\varepsilon_i$$\n",
        "\n",
        "\n",
        "The Central Limit Theorem applies, and $\\sum_{i=1}^n\\ln \\varepsilon_i$ is a sum of random variables, and it is distributed normally independently of the distribution of $\\varepsilon$. Consequently, $\\ln X_n$ is distributed normally as more terms are added, and $\\ln X_0$ becomes less significant. So $X$ is log-normally distributed. Positive normal variables that multiply together are log-normal in distribution: investments, city size...\n",
        "\n",
        "But, if there is a lower bound to $X_n,$ then $X$ will be distributed as a power law.\n",
        "\n",
        "### MARKOV PROCESS and AR(1):\n",
        "\n",
        "From [here](https://stats.stackexchange.com/q/23789/67822) a Markov process fulfills:\n",
        "\n",
        "$$P(X_{t} = x_t | {\\rm entire \\ history \\ of \\ the \\ process }) = P(X_{t}=x_t| X_{t-1}=x_{t-1})$$\n",
        "\n",
        "and an AR(1) process is\n",
        "\n",
        "$$X_{t} = c + \\varphi X_{t-1} + \\varepsilon_{t}$$\n",
        "\n",
        "Hence, a Markov process is an AR(1) process.\n"
      ]
    }
  ]
}