{
  "cells": [
    {
      "cell_type": "code",
      "source": [
        "library(\"tidyverse\")\n",
        "\n",
        "df <- read_csv(readr_example(\"mtcars.csv\"))\n",
        "head(df)\n",
        "is_tibble(df)\n",
        "str(df)\n",
        "colnames(df)\n",
        "\n",
        "dat = df %>% select(wt,cyl,mpg) %>%\n",
        "              mutate(cyl = as.character(cyl)) %>%\n",
        "              filter(cyl==4) %>%\n",
        "              mutate(wt = wt*100) %>%\n",
        "              mutate(CPW = mpg/wt)\n",
        "dat\n",
        "is.tibble(dat)\n",
        "\n",
        "d = mtcars %>% select(wt,cyl,mpg) %>%\n",
        "                mutate(cyl = as.character(cyl)) %>%\n",
        "                filter(cyl==4)%>%\n",
        "                mutate(wt = wt*100) %>%\n",
        "                mutate(CPW = mpg/wt)\n",
        "\n",
        "d\n",
        "is.tibble(d)\n"
      ],
      "metadata": {
        "colab": {
          "base_uri": "https://localhost:8080/",
          "height": 1000
        },
        "id": "45Kkh8fULT91",
        "outputId": "3a1db6e3-7bae-4146-936d-93af3c79afe4"
      },
      "execution_count": null,
      "outputs": [
        {
          "output_type": "stream",
          "name": "stderr",
          "text": [
            "── \u001b[1mAttaching packages\u001b[22m ─────────────────────────────────────── tidyverse 1.3.1 ──\n",
            "\n",
            "\u001b[32m✔\u001b[39m \u001b[34mggplot2\u001b[39m 3.4.2     \u001b[32m✔\u001b[39m \u001b[34mpurrr  \u001b[39m 1.0.1\n",
            "\u001b[32m✔\u001b[39m \u001b[34mtibble \u001b[39m 3.2.1     \u001b[32m✔\u001b[39m \u001b[34mdplyr  \u001b[39m 1.1.2\n",
            "\u001b[32m✔\u001b[39m \u001b[34mtidyr  \u001b[39m 1.3.0     \u001b[32m✔\u001b[39m \u001b[34mstringr\u001b[39m 1.5.0\n",
            "\u001b[32m✔\u001b[39m \u001b[34mreadr  \u001b[39m 2.1.4     \u001b[32m✔\u001b[39m \u001b[34mforcats\u001b[39m 1.0.0\n",
            "\n",
            "── \u001b[1mConflicts\u001b[22m ────────────────────────────────────────── tidyverse_conflicts() ──\n",
            "\u001b[31m✖\u001b[39m \u001b[34mdplyr\u001b[39m::\u001b[32mfilter()\u001b[39m masks \u001b[34mstats\u001b[39m::filter()\n",
            "\u001b[31m✖\u001b[39m \u001b[34mdplyr\u001b[39m::\u001b[32mlag()\u001b[39m    masks \u001b[34mstats\u001b[39m::lag()\n",
            "\n",
            "\u001b[1mRows: \u001b[22m\u001b[34m32\u001b[39m \u001b[1mColumns: \u001b[22m\u001b[34m11\u001b[39m\n",
            "\u001b[36m──\u001b[39m \u001b[1mColumn specification\u001b[22m \u001b[36m────────────────────────────────────────────────────────\u001b[39m\n",
            "\u001b[1mDelimiter:\u001b[22m \",\"\n",
            "\u001b[32mdbl\u001b[39m (11): mpg, cyl, disp, hp, drat, wt, qsec, vs, am, gear, carb\n",
            "\n",
            "\u001b[36mℹ\u001b[39m Use `spec()` to retrieve the full column specification for this data.\n",
            "\u001b[36mℹ\u001b[39m Specify the column types or set `show_col_types = FALSE` to quiet this message.\n"
          ]
        },
        {
          "output_type": "display_data",
          "data": {
            "text/html": [
              "<table class=\"dataframe\">\n",
              "<caption>A tibble: 6 × 11</caption>\n",
              "<thead>\n",
              "\t<tr><th scope=col>mpg</th><th scope=col>cyl</th><th scope=col>disp</th><th scope=col>hp</th><th scope=col>drat</th><th scope=col>wt</th><th scope=col>qsec</th><th scope=col>vs</th><th scope=col>am</th><th scope=col>gear</th><th scope=col>carb</th></tr>\n",
              "\t<tr><th scope=col>&lt;dbl&gt;</th><th scope=col>&lt;dbl&gt;</th><th scope=col>&lt;dbl&gt;</th><th scope=col>&lt;dbl&gt;</th><th scope=col>&lt;dbl&gt;</th><th scope=col>&lt;dbl&gt;</th><th scope=col>&lt;dbl&gt;</th><th scope=col>&lt;dbl&gt;</th><th scope=col>&lt;dbl&gt;</th><th scope=col>&lt;dbl&gt;</th><th scope=col>&lt;dbl&gt;</th></tr>\n",
              "</thead>\n",
              "<tbody>\n",
              "\t<tr><td>21.0</td><td>6</td><td>160</td><td>110</td><td>3.90</td><td>2.620</td><td>16.46</td><td>0</td><td>1</td><td>4</td><td>4</td></tr>\n",
              "\t<tr><td>21.0</td><td>6</td><td>160</td><td>110</td><td>3.90</td><td>2.875</td><td>17.02</td><td>0</td><td>1</td><td>4</td><td>4</td></tr>\n",
              "\t<tr><td>22.8</td><td>4</td><td>108</td><td> 93</td><td>3.85</td><td>2.320</td><td>18.61</td><td>1</td><td>1</td><td>4</td><td>1</td></tr>\n",
              "\t<tr><td>21.4</td><td>6</td><td>258</td><td>110</td><td>3.08</td><td>3.215</td><td>19.44</td><td>1</td><td>0</td><td>3</td><td>1</td></tr>\n",
              "\t<tr><td>18.7</td><td>8</td><td>360</td><td>175</td><td>3.15</td><td>3.440</td><td>17.02</td><td>0</td><td>0</td><td>3</td><td>2</td></tr>\n",
              "\t<tr><td>18.1</td><td>6</td><td>225</td><td>105</td><td>2.76</td><td>3.460</td><td>20.22</td><td>1</td><td>0</td><td>3</td><td>1</td></tr>\n",
              "</tbody>\n",
              "</table>\n"
            ],
            "text/markdown": "\nA tibble: 6 × 11\n\n| mpg &lt;dbl&gt; | cyl &lt;dbl&gt; | disp &lt;dbl&gt; | hp &lt;dbl&gt; | drat &lt;dbl&gt; | wt &lt;dbl&gt; | qsec &lt;dbl&gt; | vs &lt;dbl&gt; | am &lt;dbl&gt; | gear &lt;dbl&gt; | carb &lt;dbl&gt; |\n|---|---|---|---|---|---|---|---|---|---|---|\n| 21.0 | 6 | 160 | 110 | 3.90 | 2.620 | 16.46 | 0 | 1 | 4 | 4 |\n| 21.0 | 6 | 160 | 110 | 3.90 | 2.875 | 17.02 | 0 | 1 | 4 | 4 |\n| 22.8 | 4 | 108 |  93 | 3.85 | 2.320 | 18.61 | 1 | 1 | 4 | 1 |\n| 21.4 | 6 | 258 | 110 | 3.08 | 3.215 | 19.44 | 1 | 0 | 3 | 1 |\n| 18.7 | 8 | 360 | 175 | 3.15 | 3.440 | 17.02 | 0 | 0 | 3 | 2 |\n| 18.1 | 6 | 225 | 105 | 2.76 | 3.460 | 20.22 | 1 | 0 | 3 | 1 |\n\n",
            "text/latex": "A tibble: 6 × 11\n\\begin{tabular}{lllllllllll}\n mpg & cyl & disp & hp & drat & wt & qsec & vs & am & gear & carb\\\\\n <dbl> & <dbl> & <dbl> & <dbl> & <dbl> & <dbl> & <dbl> & <dbl> & <dbl> & <dbl> & <dbl>\\\\\n\\hline\n\t 21.0 & 6 & 160 & 110 & 3.90 & 2.620 & 16.46 & 0 & 1 & 4 & 4\\\\\n\t 21.0 & 6 & 160 & 110 & 3.90 & 2.875 & 17.02 & 0 & 1 & 4 & 4\\\\\n\t 22.8 & 4 & 108 &  93 & 3.85 & 2.320 & 18.61 & 1 & 1 & 4 & 1\\\\\n\t 21.4 & 6 & 258 & 110 & 3.08 & 3.215 & 19.44 & 1 & 0 & 3 & 1\\\\\n\t 18.7 & 8 & 360 & 175 & 3.15 & 3.440 & 17.02 & 0 & 0 & 3 & 2\\\\\n\t 18.1 & 6 & 225 & 105 & 2.76 & 3.460 & 20.22 & 1 & 0 & 3 & 1\\\\\n\\end{tabular}\n",
            "text/plain": [
              "  mpg  cyl disp hp  drat wt    qsec  vs am gear carb\n",
              "1 21.0 6   160  110 3.90 2.620 16.46 0  1  4    4   \n",
              "2 21.0 6   160  110 3.90 2.875 17.02 0  1  4    4   \n",
              "3 22.8 4   108   93 3.85 2.320 18.61 1  1  4    1   \n",
              "4 21.4 6   258  110 3.08 3.215 19.44 1  0  3    1   \n",
              "5 18.7 8   360  175 3.15 3.440 17.02 0  0  3    2   \n",
              "6 18.1 6   225  105 2.76 3.460 20.22 1  0  3    1   "
            ]
          },
          "metadata": {}
        },
        {
          "output_type": "display_data",
          "data": {
            "text/html": [
              "TRUE"
            ],
            "text/markdown": "TRUE",
            "text/latex": "TRUE",
            "text/plain": [
              "[1] TRUE"
            ]
          },
          "metadata": {}
        },
        {
          "output_type": "stream",
          "name": "stdout",
          "text": [
            "spc_tbl_ [32 × 11] (S3: spec_tbl_df/tbl_df/tbl/data.frame)\n",
            " $ mpg : num [1:32] 21 21 22.8 21.4 18.7 18.1 14.3 24.4 22.8 19.2 ...\n",
            " $ cyl : num [1:32] 6 6 4 6 8 6 8 4 4 6 ...\n",
            " $ disp: num [1:32] 160 160 108 258 360 ...\n",
            " $ hp  : num [1:32] 110 110 93 110 175 105 245 62 95 123 ...\n",
            " $ drat: num [1:32] 3.9 3.9 3.85 3.08 3.15 2.76 3.21 3.69 3.92 3.92 ...\n",
            " $ wt  : num [1:32] 2.62 2.88 2.32 3.21 3.44 ...\n",
            " $ qsec: num [1:32] 16.5 17 18.6 19.4 17 ...\n",
            " $ vs  : num [1:32] 0 0 1 1 0 1 0 1 1 1 ...\n",
            " $ am  : num [1:32] 1 1 1 0 0 0 0 0 0 0 ...\n",
            " $ gear: num [1:32] 4 4 4 3 3 3 3 4 4 4 ...\n",
            " $ carb: num [1:32] 4 4 1 1 2 1 4 2 2 4 ...\n",
            " - attr(*, \"spec\")=\n",
            "  .. cols(\n",
            "  ..   mpg = \u001b[32mcol_double()\u001b[39m,\n",
            "  ..   cyl = \u001b[32mcol_double()\u001b[39m,\n",
            "  ..   disp = \u001b[32mcol_double()\u001b[39m,\n",
            "  ..   hp = \u001b[32mcol_double()\u001b[39m,\n",
            "  ..   drat = \u001b[32mcol_double()\u001b[39m,\n",
            "  ..   wt = \u001b[32mcol_double()\u001b[39m,\n",
            "  ..   qsec = \u001b[32mcol_double()\u001b[39m,\n",
            "  ..   vs = \u001b[32mcol_double()\u001b[39m,\n",
            "  ..   am = \u001b[32mcol_double()\u001b[39m,\n",
            "  ..   gear = \u001b[32mcol_double()\u001b[39m,\n",
            "  ..   carb = \u001b[32mcol_double()\u001b[39m\n",
            "  .. )\n",
            " - attr(*, \"problems\")=<externalptr> \n"
          ]
        },
        {
          "output_type": "display_data",
          "data": {
            "text/html": [
              "<style>\n",
              ".list-inline {list-style: none; margin:0; padding: 0}\n",
              ".list-inline>li {display: inline-block}\n",
              ".list-inline>li:not(:last-child)::after {content: \"\\00b7\"; padding: 0 .5ex}\n",
              "</style>\n",
              "<ol class=list-inline><li>'mpg'</li><li>'cyl'</li><li>'disp'</li><li>'hp'</li><li>'drat'</li><li>'wt'</li><li>'qsec'</li><li>'vs'</li><li>'am'</li><li>'gear'</li><li>'carb'</li></ol>\n"
            ],
            "text/markdown": "1. 'mpg'\n2. 'cyl'\n3. 'disp'\n4. 'hp'\n5. 'drat'\n6. 'wt'\n7. 'qsec'\n8. 'vs'\n9. 'am'\n10. 'gear'\n11. 'carb'\n\n\n",
            "text/latex": "\\begin{enumerate*}\n\\item 'mpg'\n\\item 'cyl'\n\\item 'disp'\n\\item 'hp'\n\\item 'drat'\n\\item 'wt'\n\\item 'qsec'\n\\item 'vs'\n\\item 'am'\n\\item 'gear'\n\\item 'carb'\n\\end{enumerate*}\n",
            "text/plain": [
              " [1] \"mpg\"  \"cyl\"  \"disp\" \"hp\"   \"drat\" \"wt\"   \"qsec\" \"vs\"   \"am\"   \"gear\"\n",
              "[11] \"carb\""
            ]
          },
          "metadata": {}
        },
        {
          "output_type": "display_data",
          "data": {
            "text/html": [
              "<table class=\"dataframe\">\n",
              "<caption>A tibble: 11 × 4</caption>\n",
              "<thead>\n",
              "\t<tr><th scope=col>wt</th><th scope=col>cyl</th><th scope=col>mpg</th><th scope=col>CPW</th></tr>\n",
              "\t<tr><th scope=col>&lt;dbl&gt;</th><th scope=col>&lt;chr&gt;</th><th scope=col>&lt;dbl&gt;</th><th scope=col>&lt;dbl&gt;</th></tr>\n",
              "</thead>\n",
              "<tbody>\n",
              "\t<tr><td>232.0</td><td>4</td><td>22.8</td><td>0.09827586</td></tr>\n",
              "\t<tr><td>319.0</td><td>4</td><td>24.4</td><td>0.07648903</td></tr>\n",
              "\t<tr><td>315.0</td><td>4</td><td>22.8</td><td>0.07238095</td></tr>\n",
              "\t<tr><td>220.0</td><td>4</td><td>32.4</td><td>0.14727273</td></tr>\n",
              "\t<tr><td>161.5</td><td>4</td><td>30.4</td><td>0.18823529</td></tr>\n",
              "\t<tr><td>183.5</td><td>4</td><td>33.9</td><td>0.18474114</td></tr>\n",
              "\t<tr><td>246.5</td><td>4</td><td>21.5</td><td>0.08722110</td></tr>\n",
              "\t<tr><td>193.5</td><td>4</td><td>27.3</td><td>0.14108527</td></tr>\n",
              "\t<tr><td>214.0</td><td>4</td><td>26.0</td><td>0.12149533</td></tr>\n",
              "\t<tr><td>151.3</td><td>4</td><td>30.4</td><td>0.20092531</td></tr>\n",
              "\t<tr><td>278.0</td><td>4</td><td>21.4</td><td>0.07697842</td></tr>\n",
              "</tbody>\n",
              "</table>\n"
            ],
            "text/markdown": "\nA tibble: 11 × 4\n\n| wt &lt;dbl&gt; | cyl &lt;chr&gt; | mpg &lt;dbl&gt; | CPW &lt;dbl&gt; |\n|---|---|---|---|\n| 232.0 | 4 | 22.8 | 0.09827586 |\n| 319.0 | 4 | 24.4 | 0.07648903 |\n| 315.0 | 4 | 22.8 | 0.07238095 |\n| 220.0 | 4 | 32.4 | 0.14727273 |\n| 161.5 | 4 | 30.4 | 0.18823529 |\n| 183.5 | 4 | 33.9 | 0.18474114 |\n| 246.5 | 4 | 21.5 | 0.08722110 |\n| 193.5 | 4 | 27.3 | 0.14108527 |\n| 214.0 | 4 | 26.0 | 0.12149533 |\n| 151.3 | 4 | 30.4 | 0.20092531 |\n| 278.0 | 4 | 21.4 | 0.07697842 |\n\n",
            "text/latex": "A tibble: 11 × 4\n\\begin{tabular}{llll}\n wt & cyl & mpg & CPW\\\\\n <dbl> & <chr> & <dbl> & <dbl>\\\\\n\\hline\n\t 232.0 & 4 & 22.8 & 0.09827586\\\\\n\t 319.0 & 4 & 24.4 & 0.07648903\\\\\n\t 315.0 & 4 & 22.8 & 0.07238095\\\\\n\t 220.0 & 4 & 32.4 & 0.14727273\\\\\n\t 161.5 & 4 & 30.4 & 0.18823529\\\\\n\t 183.5 & 4 & 33.9 & 0.18474114\\\\\n\t 246.5 & 4 & 21.5 & 0.08722110\\\\\n\t 193.5 & 4 & 27.3 & 0.14108527\\\\\n\t 214.0 & 4 & 26.0 & 0.12149533\\\\\n\t 151.3 & 4 & 30.4 & 0.20092531\\\\\n\t 278.0 & 4 & 21.4 & 0.07697842\\\\\n\\end{tabular}\n",
            "text/plain": [
              "   wt    cyl mpg  CPW       \n",
              "1  232.0 4   22.8 0.09827586\n",
              "2  319.0 4   24.4 0.07648903\n",
              "3  315.0 4   22.8 0.07238095\n",
              "4  220.0 4   32.4 0.14727273\n",
              "5  161.5 4   30.4 0.18823529\n",
              "6  183.5 4   33.9 0.18474114\n",
              "7  246.5 4   21.5 0.08722110\n",
              "8  193.5 4   27.3 0.14108527\n",
              "9  214.0 4   26.0 0.12149533\n",
              "10 151.3 4   30.4 0.20092531\n",
              "11 278.0 4   21.4 0.07697842"
            ]
          },
          "metadata": {}
        },
        {
          "output_type": "stream",
          "name": "stderr",
          "text": [
            "Warning message:\n",
            "“\u001b[1m\u001b[22m`is.tibble()` was deprecated in tibble 2.0.0.\n",
            "\u001b[36mℹ\u001b[39m Please use `is_tibble()` instead.”\n"
          ]
        },
        {
          "output_type": "display_data",
          "data": {
            "text/html": [
              "TRUE"
            ],
            "text/markdown": "TRUE",
            "text/latex": "TRUE",
            "text/plain": [
              "[1] TRUE"
            ]
          },
          "metadata": {}
        },
        {
          "output_type": "display_data",
          "data": {
            "text/html": [
              "<table class=\"dataframe\">\n",
              "<caption>A data.frame: 11 × 4</caption>\n",
              "<thead>\n",
              "\t<tr><th></th><th scope=col>wt</th><th scope=col>cyl</th><th scope=col>mpg</th><th scope=col>CPW</th></tr>\n",
              "\t<tr><th></th><th scope=col>&lt;dbl&gt;</th><th scope=col>&lt;chr&gt;</th><th scope=col>&lt;dbl&gt;</th><th scope=col>&lt;dbl&gt;</th></tr>\n",
              "</thead>\n",
              "<tbody>\n",
              "\t<tr><th scope=row>Datsun 710</th><td>232.0</td><td>4</td><td>22.8</td><td>0.09827586</td></tr>\n",
              "\t<tr><th scope=row>Merc 240D</th><td>319.0</td><td>4</td><td>24.4</td><td>0.07648903</td></tr>\n",
              "\t<tr><th scope=row>Merc 230</th><td>315.0</td><td>4</td><td>22.8</td><td>0.07238095</td></tr>\n",
              "\t<tr><th scope=row>Fiat 128</th><td>220.0</td><td>4</td><td>32.4</td><td>0.14727273</td></tr>\n",
              "\t<tr><th scope=row>Honda Civic</th><td>161.5</td><td>4</td><td>30.4</td><td>0.18823529</td></tr>\n",
              "\t<tr><th scope=row>Toyota Corolla</th><td>183.5</td><td>4</td><td>33.9</td><td>0.18474114</td></tr>\n",
              "\t<tr><th scope=row>Toyota Corona</th><td>246.5</td><td>4</td><td>21.5</td><td>0.08722110</td></tr>\n",
              "\t<tr><th scope=row>Fiat X1-9</th><td>193.5</td><td>4</td><td>27.3</td><td>0.14108527</td></tr>\n",
              "\t<tr><th scope=row>Porsche 914-2</th><td>214.0</td><td>4</td><td>26.0</td><td>0.12149533</td></tr>\n",
              "\t<tr><th scope=row>Lotus Europa</th><td>151.3</td><td>4</td><td>30.4</td><td>0.20092531</td></tr>\n",
              "\t<tr><th scope=row>Volvo 142E</th><td>278.0</td><td>4</td><td>21.4</td><td>0.07697842</td></tr>\n",
              "</tbody>\n",
              "</table>\n"
            ],
            "text/markdown": "\nA data.frame: 11 × 4\n\n| <!--/--> | wt &lt;dbl&gt; | cyl &lt;chr&gt; | mpg &lt;dbl&gt; | CPW &lt;dbl&gt; |\n|---|---|---|---|---|\n| Datsun 710 | 232.0 | 4 | 22.8 | 0.09827586 |\n| Merc 240D | 319.0 | 4 | 24.4 | 0.07648903 |\n| Merc 230 | 315.0 | 4 | 22.8 | 0.07238095 |\n| Fiat 128 | 220.0 | 4 | 32.4 | 0.14727273 |\n| Honda Civic | 161.5 | 4 | 30.4 | 0.18823529 |\n| Toyota Corolla | 183.5 | 4 | 33.9 | 0.18474114 |\n| Toyota Corona | 246.5 | 4 | 21.5 | 0.08722110 |\n| Fiat X1-9 | 193.5 | 4 | 27.3 | 0.14108527 |\n| Porsche 914-2 | 214.0 | 4 | 26.0 | 0.12149533 |\n| Lotus Europa | 151.3 | 4 | 30.4 | 0.20092531 |\n| Volvo 142E | 278.0 | 4 | 21.4 | 0.07697842 |\n\n",
            "text/latex": "A data.frame: 11 × 4\n\\begin{tabular}{r|llll}\n  & wt & cyl & mpg & CPW\\\\\n  & <dbl> & <chr> & <dbl> & <dbl>\\\\\n\\hline\n\tDatsun 710 & 232.0 & 4 & 22.8 & 0.09827586\\\\\n\tMerc 240D & 319.0 & 4 & 24.4 & 0.07648903\\\\\n\tMerc 230 & 315.0 & 4 & 22.8 & 0.07238095\\\\\n\tFiat 128 & 220.0 & 4 & 32.4 & 0.14727273\\\\\n\tHonda Civic & 161.5 & 4 & 30.4 & 0.18823529\\\\\n\tToyota Corolla & 183.5 & 4 & 33.9 & 0.18474114\\\\\n\tToyota Corona & 246.5 & 4 & 21.5 & 0.08722110\\\\\n\tFiat X1-9 & 193.5 & 4 & 27.3 & 0.14108527\\\\\n\tPorsche 914-2 & 214.0 & 4 & 26.0 & 0.12149533\\\\\n\tLotus Europa & 151.3 & 4 & 30.4 & 0.20092531\\\\\n\tVolvo 142E & 278.0 & 4 & 21.4 & 0.07697842\\\\\n\\end{tabular}\n",
            "text/plain": [
              "               wt    cyl mpg  CPW       \n",
              "Datsun 710     232.0 4   22.8 0.09827586\n",
              "Merc 240D      319.0 4   24.4 0.07648903\n",
              "Merc 230       315.0 4   22.8 0.07238095\n",
              "Fiat 128       220.0 4   32.4 0.14727273\n",
              "Honda Civic    161.5 4   30.4 0.18823529\n",
              "Toyota Corolla 183.5 4   33.9 0.18474114\n",
              "Toyota Corona  246.5 4   21.5 0.08722110\n",
              "Fiat X1-9      193.5 4   27.3 0.14108527\n",
              "Porsche 914-2  214.0 4   26.0 0.12149533\n",
              "Lotus Europa   151.3 4   30.4 0.20092531\n",
              "Volvo 142E     278.0 4   21.4 0.07697842"
            ]
          },
          "metadata": {}
        },
        {
          "output_type": "display_data",
          "data": {
            "text/html": [
              "FALSE"
            ],
            "text/markdown": "FALSE",
            "text/latex": "FALSE",
            "text/plain": [
              "[1] FALSE"
            ]
          },
          "metadata": {}
        }
      ]
    }
  ],
  "metadata": {
    "colab": {
      "provenance": []
    },
    "kernelspec": {
      "display_name": "R",
      "name": "ir"
    }
  },
  "nbformat": 4,
  "nbformat_minor": 0
}