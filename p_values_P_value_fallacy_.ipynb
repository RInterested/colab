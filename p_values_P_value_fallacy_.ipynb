{
  "nbformat": 4,
  "nbformat_minor": 0,
  "metadata": {
    "colab": {
      "provenance": [],
      "authorship_tag": "ABX9TyM2JrJGNCHvt+l+shup4VbW"
    },
    "kernelspec": {
      "name": "ir",
      "display_name": "R"
    }
  },
  "cells": [
    {
      "cell_type": "markdown",
      "metadata": {
        "id": "RLLwxtqZWDDz"
      },
      "source": [
        "Replicating [this Applet](https://www2.stat.duke.edu/~berger/p-values.html).\n",
        "\n",
        "termed the \"p value fallacy,\" by which we\n",
        "mean the misinterpretation of a p value as either a direct\n",
        "frequentist error rate, the probability that the hypothesis is\n",
        "true in light of the data, or a measure of odds of Ho to\n",
        "H1. [The term \"p value fallacy\" was used, in the first of\n",
        "these senses, in the excellent articles Goodman (1999a,b).]"
      ]
    },
    {
      "cell_type": "code",
      "metadata": {
        "id": "HI288MnmvAa4"
      },
      "source": [
        "# Two Gaussian distributions:\n",
        "mu <- 0\n",
        "mu.alt <- 1\n",
        "\n",
        "sd <- 1\n",
        "sd.alt <- 3\n",
        "\n",
        "# Sample size:\n",
        "size <- 10\n",
        "\n",
        "set.seed(pi)\n",
        "\n",
        "# Num,ber of p-values within boundaries we decide to collect:\n",
        "num <- 200\n",
        "\n",
        "# p-value of interest:\n",
        "\n",
        "pv <-  0.05\n",
        "eps <- 0.001\n",
        "\n",
        "# empty vector to contain desired p-values\n",
        "vec <- vector()\n",
        "# counter for how many draws are from H1:\n",
        "prop.null <- vector()\n",
        "\n",
        "while(length(vec) < num){\n",
        "if(rbinom(1,1,0.5) == 0){ # Coin toss\n",
        "  concl <- 'null'         # If 0, we draw sam from null distr.\n",
        "  sam <- rnorm(size,mu,sd)\n",
        "}else{\n",
        "  concl <- 'alter'        # If 1 from H1 distr.\n",
        "  sam <- rnorm(size, mu.alt, sd.alt)\n",
        "}\n",
        "prop.null <- append(prop.null, concl=='alter') # Add to counter if alternative.\n",
        "z.test <- (mean(sam) - mu) / (sd/sqrt(size))\n",
        "pval <- 1 - pnorm(abs(z.test))\n",
        "if((pv - eps) < pval & pval < pv) vec <- append(vec, concl)\n",
        "}"
      ],
      "execution_count": null,
      "outputs": []
    },
    {
      "cell_type": "code",
      "metadata": {
        "colab": {
          "base_uri": "https://localhost:8080/",
          "height": 136
        },
        "id": "d2HNeK9HMvso",
        "outputId": "0db80192-9225-4ee9-aa96-2fa955cad912"
      },
      "source": [
        "paste('Therefore a p-value of ~ ', pv, 'corresponds to an alpha value of ', round(mean(prop.null), 2),'.')\n",
        "length(prop.null)\n",
        "length(vec)\n",
        "table(vec)\n",
        "mean(vec=='alter')"
      ],
      "execution_count": null,
      "outputs": [
        {
          "output_type": "display_data",
          "data": {
            "text/plain": [
              "[1] \"Therefore a p-value of ~  0.05 corresponds to an alpha value of  0.5 .\""
            ],
            "text/latex": "'Therefore a p-value of \\textasciitilde{}  0.05 corresponds to an alpha value of  0.5 .'",
            "text/markdown": "<span style=white-space:pre-wrap>'Therefore a p-value of ~  0.05 corresponds to an alpha value of  0.5 .'</span>",
            "text/html": [
              "<span style=white-space:pre-wrap>'Therefore a p-value of ~  0.05 corresponds to an alpha value of  0.5 .'</span>"
            ]
          },
          "metadata": {
            "tags": []
          }
        },
        {
          "output_type": "display_data",
          "data": {
            "text/plain": [
              "[1] 108779"
            ],
            "text/latex": "108779",
            "text/markdown": "108779",
            "text/html": [
              "108779"
            ]
          },
          "metadata": {
            "tags": []
          }
        },
        {
          "output_type": "display_data",
          "data": {
            "text/plain": [
              "[1] 200"
            ],
            "text/latex": "200",
            "text/markdown": "200",
            "text/html": [
              "200"
            ]
          },
          "metadata": {
            "tags": []
          }
        },
        {
          "output_type": "display_data",
          "data": {
            "text/plain": [
              "vec\n",
              "alter  null \n",
              "   89   111 "
            ]
          },
          "metadata": {
            "tags": []
          }
        },
        {
          "output_type": "display_data",
          "data": {
            "text/plain": [
              "[1] 0.445"
            ],
            "text/latex": "0.445",
            "text/markdown": "0.445",
            "text/html": [
              "0.445"
            ]
          },
          "metadata": {
            "tags": []
          }
        }
      ]
    },
    {
      "cell_type": "code",
      "metadata": {
        "colab": {
          "base_uri": "https://localhost:8080/",
          "height": 486
        },
        "id": "WXohsHXu0Eh0",
        "outputId": "0d77e0e0-4dcd-4761-9d4b-52fb5b958290"
      },
      "source": [
        "set.seed(3141592)\n",
        "# Vector containing number of draws before a spurious p-value:\n",
        "firsthackingop <- 0\n",
        "for(i in 1:1e5){\n",
        "hackingwait <- 1 # Counter for num draws before success (at least 1)\n",
        "  repeat{\n",
        "  x=rnorm(100, 0, 1) # Draw from H0\n",
        "  if(t.test(x, mu=0)$p.value > 0.05){hackingwait=hackingwait+1}else{break}\n",
        "}\n",
        "firsthackingop[i] <- hackingwait\n",
        "}\n",
        "\n",
        "# Stats on results:\n",
        "mean(firsthackingop)\n",
        "median(firsthackingop)\n",
        "Mode <- function(x) {\n",
        "  ux <- unique(x)\n",
        "  ux[which.max(tabulate(match(x, ux)))]\n",
        "}\n",
        "Mode(firsthackingop)\n",
        "\n",
        "\n",
        "hist(firsthackingop, freq = T, main = \"No. t-tests before Type I Error\",\n",
        "          xlim=c(0,100), col = rgb(.2,.2,.8,.5), border = F,\n",
        "          cex.axis=.75, cex.main=.9, xlab=\"\", ylab=\"\")"
      ],
      "execution_count": null,
      "outputs": [
        {
          "output_type": "display_data",
          "data": {
            "text/plain": [
              "[1] 20.17556"
            ],
            "text/latex": "20.17556",
            "text/markdown": "20.17556",
            "text/html": [
              "20.17556"
            ]
          },
          "metadata": {
            "tags": []
          }
        },
        {
          "output_type": "display_data",
          "data": {
            "text/plain": [
              "[1] 14"
            ],
            "text/latex": "14",
            "text/markdown": "14",
            "text/html": [
              "14"
            ]
          },
          "metadata": {
            "tags": []
          }
        },
        {
          "output_type": "display_data",
          "data": {
            "text/plain": [
              "[1] 1"
            ],
            "text/latex": "1",
            "text/markdown": "1",
            "text/html": [
              "1"
            ]
          },
          "metadata": {
            "tags": []
          }
        },
        {
          "output_type": "display_data",
          "data": {
            "image/png": "[encoded data removed]",
            "text/plain": [
              "Plot with title “No. t-tests before Type I Error”"
            ]
          },
          "metadata": {
            "tags": [],
            "image/png": {
              "width": 420,
              "height": 420
            }
          }
        }
      ]
    }
  ]
}