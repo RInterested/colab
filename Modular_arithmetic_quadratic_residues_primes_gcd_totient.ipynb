{
  "cells": [
    {
      "cell_type": "code",
      "source": [
        "# This function checks wheather a number (or vector of numbers) is (are) prime.\n",
        "\n",
        "is.prime = function(x){\n",
        "  prime = 1\n",
        "  is.it.a.prime <- numeric(0)\n",
        "  for(k in 1:length(x)){\n",
        "  for(i in 2:ceiling(sqrt(x[k]))) ifelse(x[k] %% i == 0, prime <- 0, 1)\n",
        "  if(x[k] == 2) prime <- 1\n",
        "  is.it.a.prime[k] <- prime == 1\n",
        "  }\n",
        "\n",
        "rbind(number=x, is.it.a.prime)\n",
        "}"
      ],
      "metadata": {
        "id": "v5RKsLDl3gi0"
      },
      "execution_count": null,
      "outputs": []
    },
    {
      "cell_type": "code",
      "source": [
        "is.prime(c(113,19,137,7867,3167,6763,6762))"
      ],
      "metadata": {
        "colab": {
          "base_uri": "https://localhost:8080/",
          "height": 97
        },
        "id": "N-tAUVUJ2uza",
        "outputId": "6bdd1d08-917e-4603-88c5-8927d2d84be2"
      },
      "execution_count": null,
      "outputs": [
        {
          "output_type": "display_data",
          "data": {
            "text/html": [
              "<table class=\"dataframe\">\n",
              "<caption>A matrix: 2 × 7 of type dbl</caption>\n",
              "<tbody>\n",
              "\t<tr><th scope=row>number</th><td>113</td><td>19</td><td>137</td><td>7867</td><td>3167</td><td>6763</td><td>6762</td></tr>\n",
              "\t<tr><th scope=row>is.it.a.prime</th><td>  1</td><td> 1</td><td>  1</td><td>   1</td><td>   1</td><td>   1</td><td>   0</td></tr>\n",
              "</tbody>\n",
              "</table>\n"
            ],
            "text/markdown": "\nA matrix: 2 × 7 of type dbl\n\n| number | 113 | 19 | 137 | 7867 | 3167 | 6763 | 6762 |\n| is.it.a.prime |   1 |  1 |   1 |    1 |    1 |    1 |    0 |\n\n",
            "text/latex": "A matrix: 2 × 7 of type dbl\n\\begin{tabular}{r|lllllll}\n\tnumber & 113 & 19 & 137 & 7867 & 3167 & 6763 & 6762\\\\\n\tis.it.a.prime &   1 &  1 &   1 &    1 &    1 &    1 &    0\\\\\n\\end{tabular}\n",
            "text/plain": [
              "              [,1] [,2] [,3] [,4] [,5] [,6] [,7]\n",
              "number        113  19   137  7867 3167 6763 6762\n",
              "is.it.a.prime   1   1     1     1    1    1    0"
            ]
          },
          "metadata": {}
        }
      ]
    },
    {
      "cell_type": "code",
      "source": [
        "is.prime(7)"
      ],
      "metadata": {
        "colab": {
          "base_uri": "https://localhost:8080/",
          "height": 114
        },
        "id": "bzFC4nls68t4",
        "outputId": "938c96fa-b1eb-4d9b-87a9-8e74a4272cdb"
      },
      "execution_count": null,
      "outputs": [
        {
          "output_type": "display_data",
          "data": {
            "text/html": [
              "<table class=\"dataframe\">\n",
              "<caption>A matrix: 2 × 1 of type dbl</caption>\n",
              "<tbody>\n",
              "\t<tr><th scope=row>number</th><td>7</td></tr>\n",
              "\t<tr><th scope=row>is.it.a.prime</th><td>1</td></tr>\n",
              "</tbody>\n",
              "</table>\n"
            ],
            "text/markdown": "\nA matrix: 2 × 1 of type dbl\n\n| number | 7 |\n| is.it.a.prime | 1 |\n\n",
            "text/latex": "A matrix: 2 × 1 of type dbl\n\\begin{tabular}{r|l}\n\tnumber & 7\\\\\n\tis.it.a.prime & 1\\\\\n\\end{tabular}\n",
            "text/plain": [
              "              [,1]\n",
              "number        7   \n",
              "is.it.a.prime 1   "
            ]
          },
          "metadata": {}
        }
      ]
    },
    {
      "cell_type": "code",
      "source": [
        "# Which numbers in a vector are prime:\n",
        "\n",
        "prime.select = function(x){\n",
        "  vec <- numeric(0)\n",
        "  for(k in 1:length(x)){\n",
        "  prime = TRUE\n",
        "  for(i in 2:ceiling(sqrt(x[k]))) ifelse(x[k] %% i == 0, prime <- FALSE, prime)\n",
        "  if(x[k] == 2) prime <- TRUE\n",
        "  vec[k] <- prime\n",
        "  }\n",
        "  m = rbind(x, as.numeric(vec))\n",
        "  m[1,m[2,]==1]\n",
        "}"
      ],
      "metadata": {
        "id": "q4iHOgQ-OSlj"
      },
      "execution_count": null,
      "outputs": []
    },
    {
      "cell_type": "code",
      "source": [
        "prime.select(c(113,19,137,7867,3167,6763,6762))"
      ],
      "metadata": {
        "colab": {
          "base_uri": "https://localhost:8080/",
          "height": 34
        },
        "id": "a0WL0Bk6Es46",
        "outputId": "637502a8-b8e0-4c9c-c97e-33a197c48fda"
      },
      "execution_count": null,
      "outputs": [
        {
          "output_type": "display_data",
          "data": {
            "text/html": [
              "<style>\n",
              ".list-inline {list-style: none; margin:0; padding: 0}\n",
              ".list-inline>li {display: inline-block}\n",
              ".list-inline>li:not(:last-child)::after {content: \"\\00b7\"; padding: 0 .5ex}\n",
              "</style>\n",
              "<ol class=list-inline><li>113</li><li>19</li><li>137</li><li>7867</li><li>3167</li><li>6763</li></ol>\n"
            ],
            "text/markdown": "1. 113\n2. 19\n3. 137\n4. 7867\n5. 3167\n6. 6763\n\n\n",
            "text/latex": "\\begin{enumerate*}\n\\item 113\n\\item 19\n\\item 137\n\\item 7867\n\\item 3167\n\\item 6763\n\\end{enumerate*}\n",
            "text/plain": [
              "[1]  113   19  137 7867 3167 6763"
            ]
          },
          "metadata": {}
        }
      ]
    },
    {
      "cell_type": "code",
      "source": [
        "prime.select(c(1:15))"
      ],
      "metadata": {
        "colab": {
          "base_uri": "https://localhost:8080/",
          "height": 34
        },
        "id": "P_SceqD4F641",
        "outputId": "f0d47a96-1f16-437e-8f9f-876bf5eee9ec"
      },
      "execution_count": null,
      "outputs": [
        {
          "output_type": "display_data",
          "data": {
            "text/html": [
              "<style>\n",
              ".list-inline {list-style: none; margin:0; padding: 0}\n",
              ".list-inline>li {display: inline-block}\n",
              ".list-inline>li:not(:last-child)::after {content: \"\\00b7\"; padding: 0 .5ex}\n",
              "</style>\n",
              "<ol class=list-inline><li>2</li><li>3</li><li>5</li><li>7</li><li>11</li><li>13</li></ol>\n"
            ],
            "text/markdown": "1. 2\n2. 3\n3. 5\n4. 7\n5. 11\n6. 13\n\n\n",
            "text/latex": "\\begin{enumerate*}\n\\item 2\n\\item 3\n\\item 5\n\\item 7\n\\item 11\n\\item 13\n\\end{enumerate*}\n",
            "text/plain": [
              "[1]  2  3  5  7 11 13"
            ]
          },
          "metadata": {}
        }
      ]
    },
    {
      "cell_type": "code",
      "source": [
        "# Factoring into primes\n",
        "\n",
        "factors = function(x){\n",
        "  fact = numeric(0)\n",
        "  i <- 0\n",
        "  div <- 2\n",
        "  rest <- x\n",
        "  while(rest != 1){\n",
        "    while(rest %% div == 0) {\n",
        "      fact <- c(fact, div)\n",
        "      rest <- rest / div\n",
        "    }\n",
        "    i <- i + 1\n",
        "    div <- 2 * i + 1\n",
        "  }\n",
        "  fact\n",
        "}"
      ],
      "metadata": {
        "id": "wcJm-wgfHF2W"
      },
      "execution_count": null,
      "outputs": []
    },
    {
      "cell_type": "code",
      "source": [
        "factors(1985)"
      ],
      "metadata": {
        "colab": {
          "base_uri": "https://localhost:8080/",
          "height": 34
        },
        "id": "yKs_7tIm2pZD",
        "outputId": "f72fed48-4e8c-4625-b370-a265c56a7692"
      },
      "execution_count": null,
      "outputs": [
        {
          "output_type": "display_data",
          "data": {
            "text/html": [
              "<style>\n",
              ".list-inline {list-style: none; margin:0; padding: 0}\n",
              ".list-inline>li {display: inline-block}\n",
              ".list-inline>li:not(:last-child)::after {content: \"\\00b7\"; padding: 0 .5ex}\n",
              "</style>\n",
              "<ol class=list-inline><li>5</li><li>397</li></ol>\n"
            ],
            "text/markdown": "1. 5\n2. 397\n\n\n",
            "text/latex": "\\begin{enumerate*}\n\\item 5\n\\item 397\n\\end{enumerate*}\n",
            "text/plain": [
              "[1]   5 397"
            ]
          },
          "metadata": {}
        }
      ]
    },
    {
      "cell_type": "code",
      "source": [
        "factors(72)"
      ],
      "metadata": {
        "colab": {
          "base_uri": "https://localhost:8080/",
          "height": 34
        },
        "id": "SnHX4ITkaj8u",
        "outputId": "003e27f5-7b1a-47aa-94f7-60f13357bd26"
      },
      "execution_count": null,
      "outputs": [
        {
          "output_type": "display_data",
          "data": {
            "text/html": [
              "<style>\n",
              ".list-inline {list-style: none; margin:0; padding: 0}\n",
              ".list-inline>li {display: inline-block}\n",
              ".list-inline>li:not(:last-child)::after {content: \"\\00b7\"; padding: 0 .5ex}\n",
              "</style>\n",
              "<ol class=list-inline><li>2</li><li>2</li><li>2</li><li>3</li><li>3</li></ol>\n"
            ],
            "text/markdown": "1. 2\n2. 2\n3. 2\n4. 3\n5. 3\n\n\n",
            "text/latex": "\\begin{enumerate*}\n\\item 2\n\\item 2\n\\item 2\n\\item 3\n\\item 3\n\\end{enumerate*}\n",
            "text/plain": [
              "[1] 2 2 2 3 3"
            ]
          },
          "metadata": {}
        }
      ]
    },
    {
      "cell_type": "code",
      "source": [
        "# Greatest common denominator:\n",
        "\n",
        "gcd = function(a,b) {\n",
        "    r <- a %% b\n",
        "    while(r !=0 ){\n",
        "      a <- b\n",
        "      b <- r\n",
        "      r <- a %% b\n",
        "    }\n",
        "    return(b)\n",
        "  }"
      ],
      "metadata": {
        "id": "c2uttsoAryDI"
      },
      "execution_count": null,
      "outputs": []
    },
    {
      "cell_type": "code",
      "source": [
        "# Modular inverse:\n",
        "\n",
        "inverse.mod.m = function(a,m){\n",
        "  if(gcd(a,m) != 1){\n",
        "  paste('WARNING:', a, 'and', m, 'are not relatively prime. Hence,', a, 'has no inverse!')\n",
        "  }else{\n",
        "    mat <- matrix(0,0,4)\n",
        "    x = m; w = a\n",
        "    while(x%%w != 0){\n",
        "    r <- x%%w\n",
        "    mat <- rbind(mat, c(r, x, floor(x/w), w))\n",
        "    x <- w; w <- r\n",
        "    }\n",
        "\n",
        "    mat[1,1] <- - mat[1,3] * sign(a)\n",
        "    mat[2,1] <-  1 * (sign(a)) - mat[2,3] * mat[1,1]\n",
        "    if(nrow(mat)>2){\n",
        "    for(i in 3: (nrow(mat))){\n",
        "            mat[i,1] <-  mat[i-2,1] - mat[i,3] * mat[i-1,1]\n",
        "    }\n",
        "        ans <- mat[nrow(mat),1]\n",
        "    while(ans < 0)\n",
        "    ans <- ans + m\n",
        "    }else{\n",
        "    ans <- 1*(sign(a)) - mat[2,3] * mat[1,1]\n",
        "    }\n",
        "    paste('The inverse of', a ,'is', ans, '(mod', m,')')\n",
        "  }\n",
        "}"
      ],
      "metadata": {
        "id": "tW_7nBCz-Ugd"
      },
      "execution_count": null,
      "outputs": []
    },
    {
      "cell_type": "code",
      "source": [
        "inverse.mod.m(-22,122)"
      ],
      "metadata": {
        "colab": {
          "base_uri": "https://localhost:8080/",
          "height": 34
        },
        "id": "RPZp7Lzov9nX",
        "outputId": "0a73c009-0438-4992-8620-6b1782554ed7"
      },
      "execution_count": null,
      "outputs": [
        {
          "output_type": "display_data",
          "data": {
            "text/html": [
              "'WARNING: -22 and 122 are not relatively prime. Hence, -22 has no inverse!'"
            ],
            "text/markdown": "'WARNING: -22 and 122 are not relatively prime. Hence, -22 has no inverse!'",
            "text/latex": "'WARNING: -22 and 122 are not relatively prime. Hence, -22 has no inverse!'",
            "text/plain": [
              "[1] \"WARNING: -22 and 122 are not relatively prime. Hence, -22 has no inverse!\""
            ]
          },
          "metadata": {}
        }
      ]
    },
    {
      "cell_type": "code",
      "source": [
        "inverse.mod.m(99,80)"
      ],
      "metadata": {
        "id": "p16c2uuq_jff",
        "outputId": "40367e37-7d29-4e2a-8c2c-58e629b41c5c",
        "colab": {
          "base_uri": "https://localhost:8080/",
          "height": 34
        }
      },
      "execution_count": null,
      "outputs": [
        {
          "output_type": "display_data",
          "data": {
            "text/html": [
              "'The inverse of 99 is 59 (mod 80 )'"
            ],
            "text/markdown": "'The inverse of 99 is 59 (mod 80 )'",
            "text/latex": "'The inverse of 99 is 59 (mod 80 )'",
            "text/plain": [
              "[1] \"The inverse of 99 is 59 (mod 80 )\""
            ]
          },
          "metadata": {}
        }
      ]
    },
    {
      "cell_type": "code",
      "source": [
        "inverse.mod.m(-21,122)"
      ],
      "metadata": {
        "colab": {
          "base_uri": "https://localhost:8080/",
          "height": 34
        },
        "id": "n6YC_JIC_WUw",
        "outputId": "d1d0794b-7806-48c8-c71e-bbe9fc18ca84"
      },
      "execution_count": null,
      "outputs": [
        {
          "output_type": "display_data",
          "data": {
            "text/html": [
              "'The inverse of -21 is 29 (mod 122 )'"
            ],
            "text/markdown": "'The inverse of -21 is 29 (mod 122 )'",
            "text/latex": "'The inverse of -21 is 29 (mod 122 )'",
            "text/plain": [
              "[1] \"The inverse of -21 is 29 (mod 122 )\""
            ]
          },
          "metadata": {}
        }
      ]
    },
    {
      "cell_type": "code",
      "source": [
        "# Totient Euler function:\n",
        "\n",
        "phi = function(n){\n",
        "    result = 1\n",
        "    for (i in 2:n)\n",
        "        if (gcd(i, n) == 1)\n",
        "            result = result + 1\n",
        "    return(paste('There are ', result, ' relatively prime integers from 1 to', n, '.'))\n",
        "}"
      ],
      "metadata": {
        "id": "Bf4wLE33zcNK"
      },
      "execution_count": null,
      "outputs": []
    },
    {
      "cell_type": "code",
      "source": [
        "phi(16)"
      ],
      "metadata": {
        "colab": {
          "base_uri": "https://localhost:8080/",
          "height": 34
        },
        "id": "qbUqWugg1-8R",
        "outputId": "d870e405-258c-481f-b84d-b59fd07b8c5c"
      },
      "execution_count": null,
      "outputs": [
        {
          "output_type": "display_data",
          "data": {
            "text/html": [
              "<span style=white-space:pre-wrap>'There are  8  relatively prime integers from 1 to 16 .'</span>"
            ],
            "text/markdown": "<span style=white-space:pre-wrap>'There are  8  relatively prime integers from 1 to 16 .'</span>",
            "text/latex": "'There are  8  relatively prime integers from 1 to 16 .'",
            "text/plain": [
              "[1] \"There are  8  relatively prime integers from 1 to 16 .\""
            ]
          },
          "metadata": {}
        }
      ]
    },
    {
      "cell_type": "code",
      "source": [
        "# Quadratic residues\n",
        "\n",
        "quad = function(n){\n",
        "    quad = numeric(0)\n",
        "    for (i in 1: (n - 1))\n",
        "      if(gcd(i,n)==1) quad <- c(quad, i^2 %% n)\n",
        "    unique(quad)\n",
        "}"
      ],
      "metadata": {
        "id": "GGTdx9P7kpva"
      },
      "execution_count": null,
      "outputs": []
    },
    {
      "cell_type": "code",
      "source": [
        "quad(7)"
      ],
      "metadata": {
        "colab": {
          "base_uri": "https://localhost:8080/",
          "height": 34
        },
        "id": "1bN2ltXAlFTR",
        "outputId": "dfb53b02-4196-4f5e-b626-13cb313d7070"
      },
      "execution_count": null,
      "outputs": [
        {
          "output_type": "display_data",
          "data": {
            "text/html": [
              "<style>\n",
              ".list-inline {list-style: none; margin:0; padding: 0}\n",
              ".list-inline>li {display: inline-block}\n",
              ".list-inline>li:not(:last-child)::after {content: \"\\00b7\"; padding: 0 .5ex}\n",
              "</style>\n",
              "<ol class=list-inline><li>1</li><li>4</li><li>2</li></ol>\n"
            ],
            "text/markdown": "1. 1\n2. 4\n3. 2\n\n\n",
            "text/latex": "\\begin{enumerate*}\n\\item 1\n\\item 4\n\\item 2\n\\end{enumerate*}\n",
            "text/plain": [
              "[1] 1 4 2"
            ]
          },
          "metadata": {}
        }
      ]
    },
    {
      "cell_type": "code",
      "source": [
        "# Legendre symbol\n",
        "\n",
        "legend = function(a,m){\n",
        "  quad = numeric(0)\n",
        "  for(i in 1:(m-1)) quad <- c(quad, i^2 %% m)\n",
        "  ifelse((a%%m) %in% quad, 1, -1)\n",
        "}"
      ],
      "metadata": {
        "id": "y6KgdIYaBafM"
      },
      "execution_count": null,
      "outputs": []
    },
    {
      "cell_type": "code",
      "source": [
        "legend(34,13)"
      ],
      "metadata": {
        "colab": {
          "base_uri": "https://localhost:8080/",
          "height": 34
        },
        "id": "Smd7CKSZKpPi",
        "outputId": "be03c26a-8c37-4f3d-fcda-4a787a6cef7f"
      },
      "execution_count": null,
      "outputs": [
        {
          "output_type": "display_data",
          "data": {
            "text/html": [
              "-1"
            ],
            "text/markdown": "-1",
            "text/latex": "-1",
            "text/plain": [
              "[1] -1"
            ]
          },
          "metadata": {}
        }
      ]
    },
    {
      "cell_type": "code",
      "source": [
        "# Finding primitive roots mod n:\n",
        "\n",
        "primitive.roots.mod.n = function(n){\n",
        "\n",
        "    phi = function(n){\n",
        "    result = 1\n",
        "    for (i in 2:n)\n",
        "        if (gcd(i, n) == 1)\n",
        "            result = result + 1\n",
        "    return(result)\n",
        "}\n",
        "\n",
        "  print('WARNING: Loses accuracy above 17.')\n",
        "\n",
        "  roots = numeric(0)\n",
        "  for(i in 1:(n-1)){\n",
        "    vec = numeric(0)\n",
        "      for(k in 1:(n-1)){\n",
        "          vec[k] <- i^k %% n\n",
        "    }\n",
        "    roots[i] <- length(unique(vec))\n",
        "  }\n",
        "\n",
        "  len = length(which(roots==phi(n)))\n",
        "  r = which(roots==phi(n))\n",
        "  m <- matrix(0, len, n - 1)\n",
        "  for (k in 1: len){\n",
        "          for (i in 1:(n - 1)) m[k, i] <- r[k]^i %% n\n",
        "  }\n",
        "\n",
        "l = list('primitive roots'=paste(list(which(roots==phi(n))), ' is/are primitive root(s) modulo', n, '.'), 'powers mod n'=m)\n",
        "return(l)\n",
        "}"
      ],
      "metadata": {
        "id": "f6VgjtxP-aNr"
      },
      "execution_count": null,
      "outputs": []
    },
    {
      "cell_type": "code",
      "source": [
        "primitive.roots.mod.n(3)"
      ],
      "metadata": {
        "colab": {
          "base_uri": "https://localhost:8080/",
          "height": 233
        },
        "id": "jfE7mw8MYKqm",
        "outputId": "3fb616f3-0a3d-4917-de22-00f8d949b620"
      },
      "execution_count": null,
      "outputs": [
        {
          "output_type": "stream",
          "name": "stdout",
          "text": [
            "[1] \"WARNING: Loses accuracy above 17.\"\n"
          ]
        },
        {
          "output_type": "display_data",
          "data": {
            "text/html": [
              "<dl>\n",
              "\t<dt>$`primitive roots`</dt>\n",
              "\t\t<dd><span style=white-space:pre-wrap>'2  is/are primitive root(s) modulo 3 .'</span></dd>\n",
              "\t<dt>$`powers mod n`</dt>\n",
              "\t\t<dd><table class=\"dataframe\">\n",
              "<caption>A matrix: 1 × 2 of type dbl</caption>\n",
              "<tbody>\n",
              "\t<tr><td>2</td><td>1</td></tr>\n",
              "</tbody>\n",
              "</table>\n",
              "</dd>\n",
              "</dl>\n"
            ],
            "text/markdown": "$`primitive roots`\n:   <span style=white-space:pre-wrap>'2  is/are primitive root(s) modulo 3 .'</span>\n$`powers mod n`\n:   \nA matrix: 1 × 2 of type dbl\n\n| 2 | 1 |\n\n\n\n\n",
            "text/latex": "\\begin{description}\n\\item[\\$`primitive roots`] '2  is/are primitive root(s) modulo 3 .'\n\\item[\\$`powers mod n`] A matrix: 1 × 2 of type dbl\n\\begin{tabular}{ll}\n\t 2 & 1\\\\\n\\end{tabular}\n\n\\end{description}\n",
            "text/plain": [
              "$`primitive roots`\n",
              "[1] \"2  is/are primitive root(s) modulo 3 .\"\n",
              "\n",
              "$`powers mod n`\n",
              "     [,1] [,2]\n",
              "[1,]    2    1\n"
            ]
          },
          "metadata": {}
        }
      ]
    },
    {
      "cell_type": "code",
      "source": [
        "primitive.roots.mod.n(5)"
      ],
      "metadata": {
        "colab": {
          "base_uri": "https://localhost:8080/",
          "height": 212
        },
        "id": "Tjkpj6RaN18D",
        "outputId": "764b496c-3e8f-42e4-ef2e-8637edaa92a7"
      },
      "execution_count": null,
      "outputs": [
        {
          "output_type": "stream",
          "name": "stdout",
          "text": [
            "[1] \"WARNING: Loses accuracy above 17.\"\n"
          ]
        },
        {
          "output_type": "display_data",
          "data": {
            "text/html": [
              "<dl>\n",
              "\t<dt>$`primitive roots`</dt>\n",
              "\t\t<dd><span style=white-space:pre-wrap>'2:3  is/are primitive root(s) modulo 5 .'</span></dd>\n",
              "\t<dt>$`powers mod n`</dt>\n",
              "\t\t<dd><table class=\"dataframe\">\n",
              "<caption>A matrix: 2 × 4 of type dbl</caption>\n",
              "<tbody>\n",
              "\t<tr><td>2</td><td>4</td><td>3</td><td>1</td></tr>\n",
              "\t<tr><td>3</td><td>4</td><td>2</td><td>1</td></tr>\n",
              "</tbody>\n",
              "</table>\n",
              "</dd>\n",
              "</dl>\n"
            ],
            "text/markdown": "$`primitive roots`\n:   <span style=white-space:pre-wrap>'2:3  is/are primitive root(s) modulo 5 .'</span>\n$`powers mod n`\n:   \nA matrix: 2 × 4 of type dbl\n\n| 2 | 4 | 3 | 1 |\n| 3 | 4 | 2 | 1 |\n\n\n\n\n",
            "text/latex": "\\begin{description}\n\\item[\\$`primitive roots`] '2:3  is/are primitive root(s) modulo 5 .'\n\\item[\\$`powers mod n`] A matrix: 2 × 4 of type dbl\n\\begin{tabular}{llll}\n\t 2 & 4 & 3 & 1\\\\\n\t 3 & 4 & 2 & 1\\\\\n\\end{tabular}\n\n\\end{description}\n",
            "text/plain": [
              "$`primitive roots`\n",
              "[1] \"2:3  is/are primitive root(s) modulo 5 .\"\n",
              "\n",
              "$`powers mod n`\n",
              "     [,1] [,2] [,3] [,4]\n",
              "[1,]    2    4    3    1\n",
              "[2,]    3    4    2    1\n"
            ]
          },
          "metadata": {}
        }
      ]
    },
    {
      "cell_type": "code",
      "source": [
        "primitive.roots.mod.n(7)"
      ],
      "metadata": {
        "colab": {
          "base_uri": "https://localhost:8080/",
          "height": 212
        },
        "id": "kycaL9EYQTKE",
        "outputId": "24a5e551-2213-45de-880b-7c1b6433214d"
      },
      "execution_count": null,
      "outputs": [
        {
          "output_type": "stream",
          "name": "stdout",
          "text": [
            "[1] \"WARNING: Loses accuracy above 17.\"\n"
          ]
        },
        {
          "output_type": "display_data",
          "data": {
            "text/html": [
              "<dl>\n",
              "\t<dt>$`primitive roots`</dt>\n",
              "\t\t<dd><span style=white-space:pre-wrap>'c(3, 5)  is/are primitive root(s) modulo 7 .'</span></dd>\n",
              "\t<dt>$`powers mod n`</dt>\n",
              "\t\t<dd><table class=\"dataframe\">\n",
              "<caption>A matrix: 2 × 6 of type dbl</caption>\n",
              "<tbody>\n",
              "\t<tr><td>3</td><td>2</td><td>6</td><td>4</td><td>5</td><td>1</td></tr>\n",
              "\t<tr><td>5</td><td>4</td><td>6</td><td>2</td><td>3</td><td>1</td></tr>\n",
              "</tbody>\n",
              "</table>\n",
              "</dd>\n",
              "</dl>\n"
            ],
            "text/markdown": "$`primitive roots`\n:   <span style=white-space:pre-wrap>'c(3, 5)  is/are primitive root(s) modulo 7 .'</span>\n$`powers mod n`\n:   \nA matrix: 2 × 6 of type dbl\n\n| 3 | 2 | 6 | 4 | 5 | 1 |\n| 5 | 4 | 6 | 2 | 3 | 1 |\n\n\n\n\n",
            "text/latex": "\\begin{description}\n\\item[\\$`primitive roots`] 'c(3, 5)  is/are primitive root(s) modulo 7 .'\n\\item[\\$`powers mod n`] A matrix: 2 × 6 of type dbl\n\\begin{tabular}{llllll}\n\t 3 & 2 & 6 & 4 & 5 & 1\\\\\n\t 5 & 4 & 6 & 2 & 3 & 1\\\\\n\\end{tabular}\n\n\\end{description}\n",
            "text/plain": [
              "$`primitive roots`\n",
              "[1] \"c(3, 5)  is/are primitive root(s) modulo 7 .\"\n",
              "\n",
              "$`powers mod n`\n",
              "     [,1] [,2] [,3] [,4] [,5] [,6]\n",
              "[1,]    3    2    6    4    5    1\n",
              "[2,]    5    4    6    2    3    1\n"
            ]
          },
          "metadata": {}
        }
      ]
    },
    {
      "cell_type": "code",
      "source": [
        "primitive.roots.mod.n(11)"
      ],
      "metadata": {
        "colab": {
          "base_uri": "https://localhost:8080/",
          "height": 257
        },
        "id": "3xBiMOgYXvhz",
        "outputId": "15407806-1119-4b40-b8fb-097b0f07e6ca"
      },
      "execution_count": null,
      "outputs": [
        {
          "output_type": "stream",
          "name": "stdout",
          "text": [
            "[1] \"WARNING: Loses accuracy above 17.\"\n"
          ]
        },
        {
          "output_type": "display_data",
          "data": {
            "text/html": [
              "<dl>\n",
              "\t<dt>$`primitive roots`</dt>\n",
              "\t\t<dd><span style=white-space:pre-wrap>'c(2, 6, 7, 8)  is/are primitive root(s) modulo 11 .'</span></dd>\n",
              "\t<dt>$`powers mod n`</dt>\n",
              "\t\t<dd><table class=\"dataframe\">\n",
              "<caption>A matrix: 4 × 10 of type dbl</caption>\n",
              "<tbody>\n",
              "\t<tr><td>2</td><td>4</td><td>8</td><td>5</td><td>10</td><td>9</td><td>7</td><td>3</td><td>6</td><td>1</td></tr>\n",
              "\t<tr><td>6</td><td>3</td><td>7</td><td>9</td><td>10</td><td>5</td><td>8</td><td>4</td><td>2</td><td>1</td></tr>\n",
              "\t<tr><td>7</td><td>5</td><td>2</td><td>3</td><td>10</td><td>4</td><td>6</td><td>9</td><td>8</td><td>1</td></tr>\n",
              "\t<tr><td>8</td><td>9</td><td>6</td><td>4</td><td>10</td><td>3</td><td>2</td><td>5</td><td>7</td><td>1</td></tr>\n",
              "</tbody>\n",
              "</table>\n",
              "</dd>\n",
              "</dl>\n"
            ],
            "text/markdown": "$`primitive roots`\n:   <span style=white-space:pre-wrap>'c(2, 6, 7, 8)  is/are primitive root(s) modulo 11 .'</span>\n$`powers mod n`\n:   \nA matrix: 4 × 10 of type dbl\n\n| 2 | 4 | 8 | 5 | 10 | 9 | 7 | 3 | 6 | 1 |\n| 6 | 3 | 7 | 9 | 10 | 5 | 8 | 4 | 2 | 1 |\n| 7 | 5 | 2 | 3 | 10 | 4 | 6 | 9 | 8 | 1 |\n| 8 | 9 | 6 | 4 | 10 | 3 | 2 | 5 | 7 | 1 |\n\n\n\n\n",
            "text/latex": "\\begin{description}\n\\item[\\$`primitive roots`] 'c(2, 6, 7, 8)  is/are primitive root(s) modulo 11 .'\n\\item[\\$`powers mod n`] A matrix: 4 × 10 of type dbl\n\\begin{tabular}{llllllllll}\n\t 2 & 4 & 8 & 5 & 10 & 9 & 7 & 3 & 6 & 1\\\\\n\t 6 & 3 & 7 & 9 & 10 & 5 & 8 & 4 & 2 & 1\\\\\n\t 7 & 5 & 2 & 3 & 10 & 4 & 6 & 9 & 8 & 1\\\\\n\t 8 & 9 & 6 & 4 & 10 & 3 & 2 & 5 & 7 & 1\\\\\n\\end{tabular}\n\n\\end{description}\n",
            "text/plain": [
              "$`primitive roots`\n",
              "[1] \"c(2, 6, 7, 8)  is/are primitive root(s) modulo 11 .\"\n",
              "\n",
              "$`powers mod n`\n",
              "     [,1] [,2] [,3] [,4] [,5] [,6] [,7] [,8] [,9] [,10]\n",
              "[1,]    2    4    8    5   10    9    7    3    6     1\n",
              "[2,]    6    3    7    9   10    5    8    4    2     1\n",
              "[3,]    7    5    2    3   10    4    6    9    8     1\n",
              "[4,]    8    9    6    4   10    3    2    5    7     1\n"
            ]
          },
          "metadata": {}
        }
      ]
    },
    {
      "cell_type": "code",
      "source": [
        "primitive.roots.mod.n(13)"
      ],
      "metadata": {
        "colab": {
          "base_uri": "https://localhost:8080/",
          "height": 257
        },
        "id": "pERbJ_veX2KS",
        "outputId": "a6828d6f-3d69-42f9-f0dc-52f473a4d267"
      },
      "execution_count": null,
      "outputs": [
        {
          "output_type": "stream",
          "name": "stdout",
          "text": [
            "[1] \"WARNING: Loses accuracy above 17.\"\n"
          ]
        },
        {
          "output_type": "display_data",
          "data": {
            "text/html": [
              "<dl>\n",
              "\t<dt>$`primitive roots`</dt>\n",
              "\t\t<dd><span style=white-space:pre-wrap>'c(2, 6, 7, 11)  is/are primitive root(s) modulo 13 .'</span></dd>\n",
              "\t<dt>$`powers mod n`</dt>\n",
              "\t\t<dd><table class=\"dataframe\">\n",
              "<caption>A matrix: 4 × 12 of type dbl</caption>\n",
              "<tbody>\n",
              "\t<tr><td> 2</td><td> 4</td><td>8</td><td>3</td><td> 6</td><td>12</td><td>11</td><td>9</td><td>5</td><td>10</td><td> 7</td><td>1</td></tr>\n",
              "\t<tr><td> 6</td><td>10</td><td>8</td><td>9</td><td> 2</td><td>12</td><td> 7</td><td>3</td><td>5</td><td> 4</td><td>11</td><td>1</td></tr>\n",
              "\t<tr><td> 7</td><td>10</td><td>5</td><td>9</td><td>11</td><td>12</td><td> 6</td><td>3</td><td>8</td><td> 4</td><td> 2</td><td>1</td></tr>\n",
              "\t<tr><td>11</td><td> 4</td><td>5</td><td>3</td><td> 7</td><td>12</td><td> 2</td><td>9</td><td>8</td><td>10</td><td> 6</td><td>1</td></tr>\n",
              "</tbody>\n",
              "</table>\n",
              "</dd>\n",
              "</dl>\n"
            ],
            "text/markdown": "$`primitive roots`\n:   <span style=white-space:pre-wrap>'c(2, 6, 7, 11)  is/are primitive root(s) modulo 13 .'</span>\n$`powers mod n`\n:   \nA matrix: 4 × 12 of type dbl\n\n|  2 |  4 | 8 | 3 |  6 | 12 | 11 | 9 | 5 | 10 |  7 | 1 |\n|  6 | 10 | 8 | 9 |  2 | 12 |  7 | 3 | 5 |  4 | 11 | 1 |\n|  7 | 10 | 5 | 9 | 11 | 12 |  6 | 3 | 8 |  4 |  2 | 1 |\n| 11 |  4 | 5 | 3 |  7 | 12 |  2 | 9 | 8 | 10 |  6 | 1 |\n\n\n\n\n",
            "text/latex": "\\begin{description}\n\\item[\\$`primitive roots`] 'c(2, 6, 7, 11)  is/are primitive root(s) modulo 13 .'\n\\item[\\$`powers mod n`] A matrix: 4 × 12 of type dbl\n\\begin{tabular}{llllllllllll}\n\t  2 &  4 & 8 & 3 &  6 & 12 & 11 & 9 & 5 & 10 &  7 & 1\\\\\n\t  6 & 10 & 8 & 9 &  2 & 12 &  7 & 3 & 5 &  4 & 11 & 1\\\\\n\t  7 & 10 & 5 & 9 & 11 & 12 &  6 & 3 & 8 &  4 &  2 & 1\\\\\n\t 11 &  4 & 5 & 3 &  7 & 12 &  2 & 9 & 8 & 10 &  6 & 1\\\\\n\\end{tabular}\n\n\\end{description}\n",
            "text/plain": [
              "$`primitive roots`\n",
              "[1] \"c(2, 6, 7, 11)  is/are primitive root(s) modulo 13 .\"\n",
              "\n",
              "$`powers mod n`\n",
              "     [,1] [,2] [,3] [,4] [,5] [,6] [,7] [,8] [,9] [,10] [,11] [,12]\n",
              "[1,]    2    4    8    3    6   12   11    9    5    10     7     1\n",
              "[2,]    6   10    8    9    2   12    7    3    5     4    11     1\n",
              "[3,]    7   10    5    9   11   12    6    3    8     4     2     1\n",
              "[4,]   11    4    5    3    7   12    2    9    8    10     6     1\n"
            ]
          },
          "metadata": {}
        }
      ]
    }
  ],
  "metadata": {
    "colab": {
      "provenance": []
    },
    "kernelspec": {
      "display_name": "R",
      "name": "ir"
    }
  },
  "nbformat": 4,
  "nbformat_minor": 0
}