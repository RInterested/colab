{
  "nbformat": 4,
  "nbformat_minor": 0,
  "metadata": {
    "colab": {
      "provenance": [],
      "authorship_tag": "ABX9TyMzP+UD6mYr0VaNhil+jCxY"
    },
    "kernelspec": {
      "name": "python3",
      "display_name": "Python 3"
    },
    "language_info": {
      "name": "python"
    }
  },
  "cells": [
    {
      "cell_type": "code",
      "execution_count": null,
      "metadata": {
        "colab": {
          "base_uri": "https://localhost:8080/"
        },
        "id": "rIJCAZg4eNTv",
        "outputId": "842d40cb-7beb-4bfd-a618-b35d4fdc07fb"
      },
      "outputs": [
        {
          "output_type": "stream",
          "name": "stdout",
          "text": [
            "Collecting silence_tensorflow\n",
            "  Downloading silence_tensorflow-1.1.1.tar.gz (3.6 kB)\n",
            "Building wheels for collected packages: silence-tensorflow\n",
            "  Building wheel for silence-tensorflow (setup.py) ... \u001b[?25l\u001b[?25hdone\n",
            "  Created wheel for silence-tensorflow: filename=silence_tensorflow-1.1.1-py3-none-any.whl size=3743 sha256=bbc9a7a6177a4774fc7b4abb03f5149828e1f225d086fbef18c03f3f12b1d744\n",
            "  Stored in directory: /root/.cache/pip/wheels/a2/42/cf/26148cd545b324903a62edde56cfc4502b278c104a07bb6b96\n",
            "Successfully built silence-tensorflow\n",
            "Installing collected packages: silence-tensorflow\n",
            "Successfully installed silence-tensorflow-1.1.1\n"
          ]
        }
      ],
      "source": [
        "!pip install silence_tensorflow\n",
        "import silence_tensorflow.auto\n",
        "import tensorflow as tf\n",
        "import tensorflow_probability as tfp"
      ]
    },
    {
      "cell_type": "code",
      "source": [
        "def happiness_model():\n",
        "  weather = yield tfp.distributions.JointDistributionCoroutine.Root(\n",
        "      tfp.distributions.Bernoulli(probs=0.3, name=\"weather\") # pobability of good weather.\n",
        "  )\n",
        "  weather_to_happiness = tf.constant([0.6,0.9]) # 60% happiness if bad weather; 90% if good weather.\n",
        "  happiness = yield tfp.distributions.Bernoulli(\n",
        "      probs= weather_to_happiness[weather], name=\"happiness\"\n",
        "  )\n",
        "\n",
        "model_joint = tfp.distributions.JointDistributionCoroutineAutoBatched(happiness_model)"
      ],
      "metadata": {
        "id": "wC3cfE_HepN7"
      },
      "execution_count": null,
      "outputs": []
    },
    {
      "cell_type": "code",
      "source": [
        "model_joint.sample(10)"
      ],
      "metadata": {
        "colab": {
          "base_uri": "https://localhost:8080/"
        },
        "id": "b3ddIv-dmj6D",
        "outputId": "63ac5939-01b9-4126-9c34-bd0e2352f256"
      },
      "execution_count": null,
      "outputs": [
        {
          "output_type": "execute_result",
          "data": {
            "text/plain": [
              "StructTuple(\n",
              "  weather=<tf.Tensor: shape=(10,), dtype=int32, numpy=array([1, 0, 1, 0, 0, 1, 1, 0, 0, 0], dtype=int32)>,\n",
              "  happiness=<tf.Tensor: shape=(10,), dtype=int32, numpy=array([1, 1, 1, 0, 1, 1, 1, 0, 0, 1], dtype=int32)>\n",
              ")"
            ]
          },
          "metadata": {},
          "execution_count": 3
        }
      ]
    },
    {
      "cell_type": "code",
      "source": [
        "model_joint.prob([1,1]) # Pr good weather and good mood."
      ],
      "metadata": {
        "colab": {
          "base_uri": "https://localhost:8080/"
        },
        "id": "lwF5mdYCmoBz",
        "outputId": "dec24b17-d1dd-4b3f-d03d-159c418f96ce"
      },
      "execution_count": null,
      "outputs": [
        {
          "output_type": "execute_result",
          "data": {
            "text/plain": [
              "<tf.Tensor: shape=(), dtype=float32, numpy=0.27>"
            ]
          },
          "metadata": {},
          "execution_count": 4
        }
      ]
    },
    {
      "cell_type": "code",
      "source": [
        "0.3*0.9"
      ],
      "metadata": {
        "colab": {
          "base_uri": "https://localhost:8080/"
        },
        "id": "j3RlA9OTm586",
        "outputId": "a04929d6-53c5-4e1f-acff-5e0ea1099b51"
      },
      "execution_count": null,
      "outputs": [
        {
          "output_type": "execute_result",
          "data": {
            "text/plain": [
              "0.27"
            ]
          },
          "metadata": {},
          "execution_count": 5
        }
      ]
    }
  ]
}