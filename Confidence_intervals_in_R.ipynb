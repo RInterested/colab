{
  "nbformat": 4,
  "nbformat_minor": 0,
  "metadata": {
    "colab": {
      "provenance": [],
      "authorship_tag": "ABX9TyNWiJGaNGZ36EiD1od3iom0"
    },
    "kernelspec": {
      "name": "ir",
      "display_name": "R"
    }
  },
  "cells": [
    {
      "cell_type": "code",
      "metadata": {
        "id": "k-FNj4iEEA5d",
        "outputId": "522ccba6-7ef6-4ddd-8eb0-0e08bb9ea934",
        "colab": {
          "base_uri": "https://localhost:8080/",
          "height": 85
        }
      },
      "source": [
        "#The filling machine used by a dairy company to fill 1kg containers of yoghurt produces output which follows a\n",
        "#normal distribution with mean 1030g (slightly more than 1kg) and standard deviation 20g.\n",
        "#Suppose that the company can change either the mean or the standard deviation of the filling amount (but not both).\n",
        "#If they require the probability of underfilling a container (i.e. contents less than 1000g) to equal 0.05,\n",
        "#find (i) the smallest value of the mean; and (ii) the largest value of the standard deviation\n",
        "#that satisfies this requirement (in each case to the nearest gram).\n",
        "\n",
        "\n",
        "mean <- 1030\n",
        "p <- 0.05\n",
        "lower <- 1000\n",
        "\n",
        "# mean - qnorm(0.95) * SD = 1,000\n",
        "\n",
        "# hence, SD = (lower - mean) /  - qnorm(0.9))\n",
        "\n",
        "\n",
        "SD <- (lower - mean) / - qnorm(0.95)\n",
        "\n",
        "SD\n",
        "\n",
        "#[1] 18.2387\n",
        "\n",
        "#Proof:\n",
        "\n",
        "qnorm(p, mean, SD)\n",
        "\n",
        "\n",
        "#[1] 1000\n",
        "\n",
        "\n",
        "#For the minimal mean with a given SD of 20:\n",
        "\n",
        "SD <- 20\n",
        "\n",
        "# mean = 1,000 + qnorm(0.95) * SD\n",
        "\n",
        "min_mean <- lower + qnorm(0.95) * SD\n",
        "\n",
        "min_mean\n",
        "\n",
        "#[1] 967.1029\n",
        "\n",
        "qnorm(p, min_mean, SD)\n",
        "\n",
        "#[1] 1000"
      ],
      "execution_count": null,
      "outputs": [
        {
          "output_type": "display_data",
          "data": {
            "text/plain": [
              "[1] 18.2387"
            ],
            "text/latex": "18.2387049573531",
            "text/markdown": "18.2387049573531",
            "text/html": [
              "18.2387049573531"
            ]
          },
          "metadata": {
            "tags": []
          }
        },
        {
          "output_type": "display_data",
          "data": {
            "text/plain": [
              "[1] 1000"
            ],
            "text/latex": "1000",
            "text/markdown": "1000",
            "text/html": [
              "1000"
            ]
          },
          "metadata": {
            "tags": []
          }
        },
        {
          "output_type": "display_data",
          "data": {
            "text/plain": [
              "[1] 1032.897"
            ],
            "text/latex": "1032.89707253903",
            "text/markdown": "1032.89707253903",
            "text/html": [
              "1032.89707253903"
            ]
          },
          "metadata": {
            "tags": []
          }
        },
        {
          "output_type": "display_data",
          "data": {
            "text/plain": [
              "[1] 1000"
            ],
            "text/latex": "1000",
            "text/markdown": "1000",
            "text/html": [
              "1000"
            ]
          },
          "metadata": {
            "tags": []
          }
        }
      ]
    }
  ]
}