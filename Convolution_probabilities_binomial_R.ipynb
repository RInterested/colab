{
  "nbformat": 4,
  "nbformat_minor": 0,
  "metadata": {
    "colab": {
      "provenance": [],
      "authorship_tag": "ABX9TyO5Lq1QKPGW9UNk51hyuB1N"
    },
    "kernelspec": {
      "name": "ir",
      "display_name": "R"
    }
  },
  "cells": [
    {
      "cell_type": "code",
      "metadata": {
        "id": "k-FNj4iEEA5d",
        "outputId": "2f4f4cc7-5831-42d0-c64e-5092cfeb9c8d",
        "colab": {
          "base_uri": "https://localhost:8080/",
          "height": 187
        }
      },
      "source": [
        "#CODE FOR THIS POST: http://stats.stackexchange.com/a/237203/67822\n",
        "\n",
        "### WITHOUT CONVOLUTION:\n",
        "\n",
        "Yr = 1:11 # Years zero to 10. x corresponds to 10, which is Yr[11].\n",
        "\n",
        "a = .055\n",
        "# Arbritarily chosen slope of the function for p(mating at time = yr)\n",
        "(m_t = ifelse((1 - a * Yr) > 0, 1 - a * Yr, 0))\n",
        "# Ifelse to reject potential negative prob. values\n",
        "\n",
        "# [1] 0.945 0.890 0.835 0.780 0.725 0.670 0.615 0.560 0.505 0.450 0.395\n",
        "\n",
        "b = .09\n",
        "# Doing the same for the slope to calculate P(offspring | mate)\n",
        "(o_t = ifelse((1 - b * Yr) > 0, 1 - b * Yr, 0)) # Same trick to avoid neg values\n",
        "\n",
        "# [1] 0.91 0.82 0.73 0.64 0.55 0.46 0.37 0.28 0.19 0.10 0.01\n",
        "\n",
        "Prob_Off_k_and_mate_yr = function(k=1:11, yr= 0:10){\n",
        "  # Probability Offspring = k AND mating at Yr = yr\n",
        "  #k needs to be between yr and x\n",
        "  if(k > (length(Yr) - yr + 1)){stop('Number of spring selected is impossible')}else{\n",
        "    #Probability to mate at year Yr = yr:\n",
        "    P_mate_at_yr = ifelse(yr==0, m_t[1], prod(1 - (m_t)[1:yr]) * m_t[yr + 1])\n",
        "    #Probability of Offspring = k having mated at Yr = yr\n",
        "    S = seq(yr, length(Yr) - 1)\n",
        "    # All the years remaning to choose from, including the mating year.\n",
        "    A = combn(S, k)\n",
        "    # All possible combinations of k times from S\n",
        "    P_off_k_having_mated_yr = 0 # Starting an empty vector\n",
        "    for (i in 1:ncol(A)) {\n",
        "      # For all subsets of k elements from the years \"available\"\n",
        "      P_off_k_having_mated_yr = P_off_k_having_mated_yr +\n",
        "        prod(o_t[A[,i] + 1], 1 - o_t[setdiff(S, A[,i]) + 1])\n",
        "      # Poisson binomial\n",
        "    }\n",
        "    Prob_Off_k_and_mate_yr = P_mate_at_yr * P_off_k_having_mated_yr\n",
        "    return(Prob_Off_k_and_mate_yr)\n",
        "  }\n",
        "}\n",
        "\n",
        "\n",
        "# Trying the function for Offspring = 6 and mating at year 1:\n",
        "k = 6\n",
        "yr= 1\n",
        "Prob_Off_k_and_mate_yr(k,yr)\n",
        "\n",
        "# [1] 0.005674715\n",
        "\n",
        "# What about the probability of Offspring = 6\n",
        "# regardless of the mating year (summation over years):\n",
        "Prob_Off_k = 0\n",
        "for(i in 0:(length(Yr) - k)){\n",
        "  Prob_Off_k =  Prob_Off_k + Prob_Off_k_and_mate_yr(k, i)\n",
        "}\n",
        "Prob_Off_k\n",
        "\n",
        "# [1] 0.2238927\n",
        "\n",
        "# Finally, the actual question in the OP: AT LEAST 3 Offspring (for example):\n",
        "k=3\n",
        "Prob_at_least_k = 0 # Starting empty vector\n",
        "for(i in 0:(length(Yr)- k)){\n",
        "  # Loop over mating year, which can't go beyond len(Yr) - k\n",
        "  Prob_Off_k = 0\n",
        "  # Probability of k and any max allowable k depending on the year of mating (i)\n",
        "  for(j in k:(length(Yr) - i)){ # Index for k's\n",
        "    Prob_Off_k =  Prob_Off_k + Prob_Off_k_and_mate_yr(j, i)\n",
        "  }\n",
        "  Prob_at_least_k = Prob_at_least_k + Prob_Off_k\n",
        "}\n",
        "Prob_at_least_k\n",
        "\n",
        "# [1] 0.9682951\n",
        "\n",
        "### WITH CONVOLUTION:\n",
        "\n",
        "Yr = 1:11 # Years zero to 10. x corresponds to 10, which is Yr[11].\n",
        "\n",
        "a = .055\n",
        "# Arbritarily chosen slope of the function for p(mating at time = yr)\n",
        "(m_t = ifelse((1 - a * Yr) > 0, 1 - a * Yr, 0))\n",
        "# Ifelse to reject potential negative prob. values\n",
        "\n",
        "# [1] 0.945 0.890 0.835 0.780 0.725 0.670 0.615 0.560 0.505 0.450 0.395\n",
        "\n",
        "b = .09\n",
        "# Doing the same for the slope to calculate P(offspring | mate)\n",
        "(o_t = ifelse((1 - b * Yr) > 0, 1 - b * Yr, 0)) # Same trick to avoid neg values\n",
        "\n",
        "# [1] 0.91 0.82 0.73 0.64 0.55 0.46 0.37 0.28 0.19 0.10 0.01\n",
        "\n",
        "Prob_Off_k_and_mate_yr_convolution = function(k=1:11, yr= 0:10){\n",
        "  # Probability Offspring = k AND mating at Yr = yr\n",
        "  #k needs to be between yr and x\n",
        "  if(k > (length(Yr) - yr + 1)){stop('Number of spring selected is impossible')}else{\n",
        "    #Probability to mate at year Yr = yr:\n",
        "    P_mate_at_yr = ifelse(yr==0, m_t[1], prod(1 - (m_t)[1:yr]) * m_t[yr + 1])\n",
        "    #Probability of Offspring = k having mated at Yr = yr\n",
        "\n",
        "    z = 1\n",
        "    for (u in sort(o_t[yr+1:length(o_t)])) z <- convolve(z, c(u, 1 - u), type = \"open\")\n",
        "    Prob_Offspring = z *  P_mate_at_yr\n",
        "    return(Prob_Offspring[k + 1])\n",
        "  }\n",
        "}\n",
        "\n",
        "\n",
        "# Trying the function for Offspring = 6 and mating at year 1:\n",
        "k = 6\n",
        "yr= 1\n",
        "Prob_Off_k_and_mate_yr_convolution(k,yr)\n",
        "\n",
        "\n",
        "# [1] 0.005674715\n",
        "\n",
        "# What about the probability of Offspring = 6\n",
        "# regardless of the mating year (summation over years):\n",
        "Prob_Off_k = 0\n",
        "for(i in 0:(length(Yr) - k)){\n",
        "  Prob_Off_k =  Prob_Off_k + Prob_Off_k_and_mate_yr_convolution(k, i)\n",
        "}\n",
        "Prob_Off_k\n",
        "\n",
        "# [1] 0.2238927\n",
        "\n",
        "# Finally, the actual question in the OP: AT LEAST 3 Offspring (for example):\n",
        "k=3\n",
        "Prob_at_least_k = 0 # Starting empty vector\n",
        "for(i in 0:(length(Yr)- k)){\n",
        "  # Loop over mating year, which can't go beyond len(Yr) - k\n",
        "  Prob_Off_k = 0\n",
        "  # Probability of k and any max allowable k depending on the year of mating (i)\n",
        "  for(j in k:(length(Yr) - i)){ # Index for k's\n",
        "    Prob_Off_k =  Prob_Off_k + Prob_Off_k_and_mate_yr_convolution(j, i)\n",
        "  }\n",
        "  Prob_at_least_k = Prob_at_least_k + Prob_Off_k\n",
        "}\n",
        "Prob_at_least_k\n",
        "\n",
        "# [1] 0.9682951"
      ],
      "execution_count": null,
      "outputs": [
        {
          "output_type": "display_data",
          "data": {
            "text/plain": [
              " [1] 0.945 0.890 0.835 0.780 0.725 0.670 0.615 0.560 0.505 0.450 0.395"
            ],
            "text/latex": "\\begin{enumerate*}\n\\item 0.945\n\\item 0.89\n\\item 0.835\n\\item 0.78\n\\item 0.725\n\\item 0.67\n\\item 0.615\n\\item 0.56\n\\item 0.505\n\\item 0.45\n\\item 0.395\n\\end{enumerate*}\n",
            "text/markdown": "1. 0.945\n2. 0.89\n3. 0.835\n4. 0.78\n5. 0.725\n6. 0.67\n7. 0.615\n8. 0.56\n9. 0.505\n10. 0.45\n11. 0.395\n\n\n",
            "text/html": [
              "<style>\n",
              ".list-inline {list-style: none; margin:0; padding: 0}\n",
              ".list-inline>li {display: inline-block}\n",
              ".list-inline>li:not(:last-child)::after {content: \"\\00b7\"; padding: 0 .5ex}\n",
              "</style>\n",
              "<ol class=list-inline><li>0.945</li><li>0.89</li><li>0.835</li><li>0.78</li><li>0.725</li><li>0.67</li><li>0.615</li><li>0.56</li><li>0.505</li><li>0.45</li><li>0.395</li></ol>\n"
            ]
          },
          "metadata": {
            "tags": []
          }
        },
        {
          "output_type": "display_data",
          "data": {
            "text/plain": [
              " [1] 0.91 0.82 0.73 0.64 0.55 0.46 0.37 0.28 0.19 0.10 0.01"
            ],
            "text/latex": "\\begin{enumerate*}\n\\item 0.91\n\\item 0.82\n\\item 0.73\n\\item 0.64\n\\item 0.55\n\\item 0.46\n\\item 0.37\n\\item 0.28\n\\item 0.19\n\\item 0.1\n\\item 0.01\n\\end{enumerate*}\n",
            "text/markdown": "1. 0.91\n2. 0.82\n3. 0.73\n4. 0.64\n5. 0.55\n6. 0.46\n7. 0.37\n8. 0.28\n9. 0.19\n10. 0.1\n11. 0.01\n\n\n",
            "text/html": [
              "<style>\n",
              ".list-inline {list-style: none; margin:0; padding: 0}\n",
              ".list-inline>li {display: inline-block}\n",
              ".list-inline>li:not(:last-child)::after {content: \"\\00b7\"; padding: 0 .5ex}\n",
              "</style>\n",
              "<ol class=list-inline><li>0.91</li><li>0.82</li><li>0.73</li><li>0.64</li><li>0.55</li><li>0.46</li><li>0.37</li><li>0.28</li><li>0.19</li><li>0.1</li><li>0.01</li></ol>\n"
            ]
          },
          "metadata": {
            "tags": []
          }
        },
        {
          "output_type": "display_data",
          "data": {
            "text/plain": [
              "[1] 0.005674715"
            ],
            "text/latex": "0.00567471505796878",
            "text/markdown": "0.00567471505796878",
            "text/html": [
              "0.00567471505796878"
            ]
          },
          "metadata": {
            "tags": []
          }
        },
        {
          "output_type": "display_data",
          "data": {
            "text/plain": [
              "[1] 0.2238927"
            ],
            "text/latex": "0.223892710891149",
            "text/markdown": "0.223892710891149",
            "text/html": [
              "0.223892710891149"
            ]
          },
          "metadata": {
            "tags": []
          }
        },
        {
          "output_type": "display_data",
          "data": {
            "text/plain": [
              "[1] 0.9682951"
            ],
            "text/latex": "0.968295058330207",
            "text/markdown": "0.968295058330207",
            "text/html": [
              "0.968295058330207"
            ]
          },
          "metadata": {
            "tags": []
          }
        },
        {
          "output_type": "display_data",
          "data": {
            "text/plain": [
              " [1] 0.945 0.890 0.835 0.780 0.725 0.670 0.615 0.560 0.505 0.450 0.395"
            ],
            "text/latex": "\\begin{enumerate*}\n\\item 0.945\n\\item 0.89\n\\item 0.835\n\\item 0.78\n\\item 0.725\n\\item 0.67\n\\item 0.615\n\\item 0.56\n\\item 0.505\n\\item 0.45\n\\item 0.395\n\\end{enumerate*}\n",
            "text/markdown": "1. 0.945\n2. 0.89\n3. 0.835\n4. 0.78\n5. 0.725\n6. 0.67\n7. 0.615\n8. 0.56\n9. 0.505\n10. 0.45\n11. 0.395\n\n\n",
            "text/html": [
              "<style>\n",
              ".list-inline {list-style: none; margin:0; padding: 0}\n",
              ".list-inline>li {display: inline-block}\n",
              ".list-inline>li:not(:last-child)::after {content: \"\\00b7\"; padding: 0 .5ex}\n",
              "</style>\n",
              "<ol class=list-inline><li>0.945</li><li>0.89</li><li>0.835</li><li>0.78</li><li>0.725</li><li>0.67</li><li>0.615</li><li>0.56</li><li>0.505</li><li>0.45</li><li>0.395</li></ol>\n"
            ]
          },
          "metadata": {
            "tags": []
          }
        },
        {
          "output_type": "display_data",
          "data": {
            "text/plain": [
              " [1] 0.91 0.82 0.73 0.64 0.55 0.46 0.37 0.28 0.19 0.10 0.01"
            ],
            "text/latex": "\\begin{enumerate*}\n\\item 0.91\n\\item 0.82\n\\item 0.73\n\\item 0.64\n\\item 0.55\n\\item 0.46\n\\item 0.37\n\\item 0.28\n\\item 0.19\n\\item 0.1\n\\item 0.01\n\\end{enumerate*}\n",
            "text/markdown": "1. 0.91\n2. 0.82\n3. 0.73\n4. 0.64\n5. 0.55\n6. 0.46\n7. 0.37\n8. 0.28\n9. 0.19\n10. 0.1\n11. 0.01\n\n\n",
            "text/html": [
              "<style>\n",
              ".list-inline {list-style: none; margin:0; padding: 0}\n",
              ".list-inline>li {display: inline-block}\n",
              ".list-inline>li:not(:last-child)::after {content: \"\\00b7\"; padding: 0 .5ex}\n",
              "</style>\n",
              "<ol class=list-inline><li>0.91</li><li>0.82</li><li>0.73</li><li>0.64</li><li>0.55</li><li>0.46</li><li>0.37</li><li>0.28</li><li>0.19</li><li>0.1</li><li>0.01</li></ol>\n"
            ]
          },
          "metadata": {
            "tags": []
          }
        },
        {
          "output_type": "display_data",
          "data": {
            "text/plain": [
              "[1] 0.005674715"
            ],
            "text/latex": "0.00567471505796878",
            "text/markdown": "0.00567471505796878",
            "text/html": [
              "0.00567471505796878"
            ]
          },
          "metadata": {
            "tags": []
          }
        },
        {
          "output_type": "display_data",
          "data": {
            "text/plain": [
              "[1] 0.2238927"
            ],
            "text/latex": "0.223892710891149",
            "text/markdown": "0.223892710891149",
            "text/html": [
              "0.223892710891149"
            ]
          },
          "metadata": {
            "tags": []
          }
        },
        {
          "output_type": "display_data",
          "data": {
            "text/plain": [
              "[1] 0.9682951"
            ],
            "text/latex": "0.968295058330206",
            "text/markdown": "0.968295058330206",
            "text/html": [
              "0.968295058330206"
            ]
          },
          "metadata": {
            "tags": []
          }
        }
      ]
    }
  ]
}