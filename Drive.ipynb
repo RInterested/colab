{
  "nbformat": 4,
  "nbformat_minor": 0,
  "metadata": {
    "colab": {
      "provenance": [],
      "mount_file_id": "1uTsr05I2-HklOflJIO16GxEloUc4Os5Z",
      "authorship_tag": "ABX9TyOs1BcFwNU2tT+kKcjBCbeQ"
    },
    "kernelspec": {
      "name": "python3",
      "display_name": "Python 3"
    }
  },
  "cells": [
    {
      "cell_type": "code",
      "metadata": {
        "id": "hyhR4gWnvz_7",
        "outputId": "fba77c66-75a5-4f20-8dd5-58828f219f96",
        "colab": {
          "base_uri": "https://localhost:8080/",
          "height": 34
        }
      },
      "source": [
        "from google.colab import drive\n",
        "drive.mount('/content/gdrive/')"
      ],
      "execution_count": null,
      "outputs": [
        {
          "output_type": "stream",
          "text": [
            "Drive already mounted at /content/gdrive/; to attempt to forcibly remount, call drive.mount(\"/content/gdrive/\", force_remount=True).\n"
          ],
          "name": "stdout"
        }
      ]
    },
    {
      "cell_type": "code",
      "metadata": {
        "id": "OLNKQfv0D__m"
      },
      "source": [
        "import sys\n",
        "sys.path.append('/content/gdrive/colab Notebooks/Chaos')"
      ],
      "execution_count": null,
      "outputs": []
    }
  ]
}