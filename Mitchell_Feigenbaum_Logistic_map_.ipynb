{
  "nbformat": 4,
  "nbformat_minor": 0,
  "metadata": {
    "colab": {
      "provenance": [],
      "authorship_tag": "ABX9TyP/0TY7pdaEYUr8YyfvY0Jv"
    },
    "kernelspec": {
      "name": "ir",
      "display_name": "R"
    }
  },
  "cells": [
    {
      "cell_type": "markdown",
      "metadata": {
        "id": "aoTF8rl3bEl1"
      },
      "source": [
        "The equation in continuous time is\n",
        "\n",
        "$$dy/dt= ry - by^2$$\n",
        "\n",
        "The solution is explained [here](https://youtu.be/TCkLSYxx21c) by Prof. Strang, and reached through a change of variables $z= 1/y$ as\n",
        "\n",
        "$$y(t) = \\frac{r}{d\\;e^{-rt}+b}$$\n",
        "\n",
        "with steady states at $t=0$ (unstable) and $r/b$ (stable).\n",
        "\n",
        "For discrete processes, the equation presented [here](https://youtu.be/ovJcsL7vyrk) is\n",
        "\n",
        "$$x_{n+1}= r x_n(1-x_n)= rx_n-rx_n^2$$\n",
        "\n",
        "and the presentation in R is [here](https://www.magesblog.com/post/2012-03-17-logistic-map-feigenbaum-diagram/).\n",
        "\n",
        "The Feigenbaum constant is explained [here](https://youtu.be/ETrYE4MdoLQ).\n",
        "\n"
      ]
    },
    {
      "cell_type": "code",
      "metadata": {
        "colab": {
          "base_uri": "https://localhost:8080/",
          "height": 541
        },
        "id": "xfH1hverhKxc",
        "outputId": "d69edf84-c69c-42d6-e971-fab1df03d4c4"
      },
      "source": [
        "logistic.map <- function(r, t0, N, M){\n",
        "  ## r: bifurcation parameter (rate of growth)\n",
        "  ## t0: initial value\n",
        "  ## N: number of iteration\n",
        "  ## M: number of iteration points to be returned\n",
        "  z <- 1:N\n",
        "  z[1] <- t0\n",
        "  for(i in c(1:(N-1))){\n",
        "    z[i+1] <- r *z[i]  * (1 - z[i])\n",
        "  }\n",
        "  ## Return the last M iterations\n",
        "  z[c((N-M):N)]\n",
        "}\n",
        "\n",
        "## Set scanning range for bifurcation parameter r\n",
        "my.r <- seq(2.5, 4, by=0.003)\n",
        "Orbit <- sapply(my.r, logistic.map,  t0=0.1, N=1000, M=300)\n",
        "length(my.r)\n",
        "str(Orbit)\n",
        "Orbit <- as.vector(Orbit)\n",
        "head(Orbit)\n",
        "r <- sort(rep(my.r, 301))\n",
        "301*501\n",
        "str(r)\n",
        "head(r)\n",
        "plot(Orbit ~ r, pch=\".\")\n",
        "\n",
        "# So the plot would start at an r value of 2.5, and the steady state would be from the beginning 0.6 - 501 dots will be plotted exactly on top\n",
        "# of each other at the beginning of the plot.\n",
        "# When the r goes above 3, for each value in the x-axis there will be 501 y values alternating between ~ 0.4 and ~ 0.9.\n",
        "\n",
        "# For instance if we choose r = 3.8...\n",
        "orbit <- logistic.map(3.8, t0=0.1, N=1000, M=300)\n",
        "points(orbit~rep(3.8,301), col='red', cex=5, pch='.')\n",
        "# For r = 4:\n",
        "orbit <- logistic.map(4, t0=0.1, N=1000, M=300)\n",
        "points(orbit~rep(4,301), col='blue', cex=5, pch='.')\n",
        "# For r=3.5...\n",
        "orbit <- logistic.map(3.5, t0=0.1, N=1000, M=300)\n",
        "points(orbit~rep(3.5,301), col='orange', cex=10, pch='.')\n",
        "# For r=3.2...\n",
        "orbit <- logistic.map(3.2, t0=0.1, N=1000, M=300)\n",
        "points(orbit~rep(3.2,301), col='magenta', cex=10, pch='.')\n",
        "# For r=2.9...\n",
        "orbit <- logistic.map(2.9, t0=0.1, N=1000, M=300)\n",
        "points(orbit~rep(2.9,301), col='green', cex=10, pch='.')"
      ],
      "execution_count": null,
      "outputs": [
        {
          "output_type": "display_data",
          "data": {
            "text/plain": [
              "[1] 501"
            ],
            "text/latex": "501",
            "text/markdown": "501",
            "text/html": [
              "501"
            ]
          },
          "metadata": {}
        },
        {
          "output_type": "stream",
          "name": "stdout",
          "text": [
            " num [1:301, 1:501] 0.6 0.6 0.6 0.6 0.6 0.6 0.6 0.6 0.6 0.6 ...\n"
          ]
        },
        {
          "output_type": "display_data",
          "data": {
            "text/plain": [
              "[1] 0.6 0.6 0.6 0.6 0.6 0.6"
            ],
            "text/latex": "\\begin{enumerate*}\n\\item 0.6\n\\item 0.6\n\\item 0.6\n\\item 0.6\n\\item 0.6\n\\item 0.6\n\\end{enumerate*}\n",
            "text/markdown": "1. 0.6\n2. 0.6\n3. 0.6\n4. 0.6\n5. 0.6\n6. 0.6\n\n\n",
            "text/html": [
              "<style>\n",
              ".list-inline {list-style: none; margin:0; padding: 0}\n",
              ".list-inline>li {display: inline-block}\n",
              ".list-inline>li:not(:last-child)::after {content: \"\\00b7\"; padding: 0 .5ex}\n",
              "</style>\n",
              "<ol class=list-inline><li>0.6</li><li>0.6</li><li>0.6</li><li>0.6</li><li>0.6</li><li>0.6</li></ol>\n"
            ]
          },
          "metadata": {}
        },
        {
          "output_type": "display_data",
          "data": {
            "text/plain": [
              "[1] 150801"
            ],
            "text/latex": "150801",
            "text/markdown": "150801",
            "text/html": [
              "150801"
            ]
          },
          "metadata": {}
        },
        {
          "output_type": "stream",
          "name": "stdout",
          "text": [
            " num [1:150801] 2.5 2.5 2.5 2.5 2.5 2.5 2.5 2.5 2.5 2.5 ...\n"
          ]
        },
        {
          "output_type": "display_data",
          "data": {
            "text/plain": [
              "[1] 2.5 2.5 2.5 2.5 2.5 2.5"
            ],
            "text/latex": "\\begin{enumerate*}\n\\item 2.5\n\\item 2.5\n\\item 2.5\n\\item 2.5\n\\item 2.5\n\\item 2.5\n\\end{enumerate*}\n",
            "text/markdown": "1. 2.5\n2. 2.5\n3. 2.5\n4. 2.5\n5. 2.5\n6. 2.5\n\n\n",
            "text/html": [
              "<style>\n",
              ".list-inline {list-style: none; margin:0; padding: 0}\n",
              ".list-inline>li {display: inline-block}\n",
              ".list-inline>li:not(:last-child)::after {content: \"\\00b7\"; padding: 0 .5ex}\n",
              "</style>\n",
              "<ol class=list-inline><li>2.5</li><li>2.5</li><li>2.5</li><li>2.5</li><li>2.5</li><li>2.5</li></ol>\n"
            ]
          },
          "metadata": {}
        },
        {
          "output_type": "display_data",
          "data": {
            "image/png": "[encoded data removed]",
            "text/plain": [
              "plot without title"
            ]
          },
          "metadata": {
            "image/png": {
              "width": 420,
              "height": 420
            }
          }
        }
      ]
    }
  ]
}