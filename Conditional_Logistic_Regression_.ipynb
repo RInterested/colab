{
  "cells": [
    {
      "cell_type": "markdown",
      "source": [
        "From [here](https://www2.karlin.mff.cuni.cz/~otava/ClinExpSolution/assignment3_solution.html). The matching algorithm in R is [here](https://sejdemyr.github.io/r-tutorials/statistics/tutorial8.html)."
      ],
      "metadata": {
        "id": "EUO0U0rJkpaK"
      }
    },
    {
      "cell_type": "markdown",
      "source": [
        "The Los Angeles Study of Endometrial Cancer was a matched case-control study conducted in California in the 1970’s. There are 63 cases of endometrial cancer, all women age 55 or over, each matched to four controls living in the same retirement community. The primary exposure of interest was estrogen use. The secondary exposure was gallbladder disease. The Epi library in R includes two versions of the data: the full dataset `bdendo` and a subset containing a single control matched to each case `bdendo11`.\n",
        "\n",
        "```\n",
        "set Case-control set: a numeric vector\n",
        "d   Case or control: a numeric vector (1=case, 0=control)\n",
        "gall  Gall bladder disease\n",
        "hyp \tHypertension\n",
        "ob    Obesity\n",
        "est   Estrogen therapy\n",
        "dur   Duration of conjugated estrogen therapy: a factor with levels 0, 1, 2, 3, 4.\n",
        "non   Use of non estrogen drugs: a factor with levels No Yes.\n",
        "duration Months of oestrogen therapy: a numeric vector.\n",
        "cest  Conjugated oestrogen dose a factor with levels 0, 1, 2, 3\n",
        "```\n"
      ],
      "metadata": {
        "id": "c8hjBCPFh4jp"
      }
    },
    {
      "cell_type": "code",
      "source": [
        "install.packages('Epi')\n",
        "library('Epi')"
      ],
      "metadata": {
        "colab": {
          "base_uri": "https://localhost:8080/"
        },
        "id": "ND8G1tT2QIRa",
        "outputId": "b16ab8e9-bc8b-439f-f8fd-60c3b0bb7c06"
      },
      "execution_count": null,
      "outputs": [
        {
          "output_type": "stream",
          "name": "stderr",
          "text": [
            "Installing package into ‘/usr/local/lib/R/site-library’\n",
            "(as ‘lib’ is unspecified)\n",
            "\n",
            "also installing the dependencies ‘Rcpp’, ‘RcppArmadillo’, ‘cmprsk’, ‘etm’, ‘plyr’, ‘numDeriv’, ‘zoo’\n",
            "\n",
            "\n"
          ]
        }
      ]
    },
    {
      "cell_type": "code",
      "source": [
        "data(bdendo11)\n",
        "head(bdendo11)"
      ],
      "metadata": {
        "colab": {
          "base_uri": "https://localhost:8080/",
          "height": 286
        },
        "id": "vC_5xnlVQWS7",
        "outputId": "e5b7c094-2a86-4d2c-c796-4dc01e9ca3ec"
      },
      "execution_count": null,
      "outputs": [
        {
          "output_type": "display_data",
          "data": {
            "text/html": [
              "<table class=\"dataframe\">\n",
              "<caption>A data.frame: 6 × 13</caption>\n",
              "<thead>\n",
              "\t<tr><th></th><th scope=col>set</th><th scope=col>d</th><th scope=col>gall</th><th scope=col>hyp</th><th scope=col>ob</th><th scope=col>est</th><th scope=col>dur</th><th scope=col>non</th><th scope=col>duration</th><th scope=col>age</th><th scope=col>cest</th><th scope=col>agegrp</th><th scope=col>age3</th></tr>\n",
              "\t<tr><th></th><th scope=col>&lt;dbl&gt;</th><th scope=col>&lt;dbl&gt;</th><th scope=col>&lt;fct&gt;</th><th scope=col>&lt;fct&gt;</th><th scope=col>&lt;fct&gt;</th><th scope=col>&lt;fct&gt;</th><th scope=col>&lt;fct&gt;</th><th scope=col>&lt;fct&gt;</th><th scope=col>&lt;dbl&gt;</th><th scope=col>&lt;dbl&gt;</th><th scope=col>&lt;fct&gt;</th><th scope=col>&lt;fct&gt;</th><th scope=col>&lt;fct&gt;</th></tr>\n",
              "</thead>\n",
              "<tbody>\n",
              "\t<tr><th scope=row>1</th><td>1</td><td>1</td><td>No</td><td>No</td><td>Yes</td><td>Yes</td><td>4</td><td>Yes</td><td>96</td><td>74</td><td>3</td><td>70-74</td><td>65-74</td></tr>\n",
              "\t<tr><th scope=row>2</th><td>1</td><td>0</td><td>No</td><td>No</td><td>NA </td><td>No </td><td>0</td><td>No </td><td> 0</td><td>75</td><td>0</td><td>70-74</td><td>65-74</td></tr>\n",
              "\t<tr><th scope=row>3</th><td>1</td><td>0</td><td>No</td><td>No</td><td>NA </td><td>No </td><td>0</td><td>No </td><td> 0</td><td>74</td><td>0</td><td>70-74</td><td>65-74</td></tr>\n",
              "\t<tr><th scope=row>4</th><td>1</td><td>0</td><td>No</td><td>No</td><td>NA </td><td>No </td><td>0</td><td>No </td><td> 0</td><td>74</td><td>0</td><td>70-74</td><td>65-74</td></tr>\n",
              "\t<tr><th scope=row>5</th><td>1</td><td>0</td><td>No</td><td>No</td><td>Yes</td><td>Yes</td><td>3</td><td>Yes</td><td>48</td><td>75</td><td>1</td><td>70-74</td><td>65-74</td></tr>\n",
              "\t<tr><th scope=row>6</th><td>2</td><td>1</td><td>No</td><td>No</td><td>No </td><td>Yes</td><td>4</td><td>Yes</td><td>96</td><td>67</td><td>3</td><td>65-69</td><td>65-74</td></tr>\n",
              "</tbody>\n",
              "</table>\n"
            ],
            "text/markdown": "\nA data.frame: 6 × 13\n\n| <!--/--> | set &lt;dbl&gt; | d &lt;dbl&gt; | gall &lt;fct&gt; | hyp &lt;fct&gt; | ob &lt;fct&gt; | est &lt;fct&gt; | dur &lt;fct&gt; | non &lt;fct&gt; | duration &lt;dbl&gt; | age &lt;dbl&gt; | cest &lt;fct&gt; | agegrp &lt;fct&gt; | age3 &lt;fct&gt; |\n|---|---|---|---|---|---|---|---|---|---|---|---|---|---|\n| 1 | 1 | 1 | No | No | Yes | Yes | 4 | Yes | 96 | 74 | 3 | 70-74 | 65-74 |\n| 2 | 1 | 0 | No | No | NA  | No  | 0 | No  |  0 | 75 | 0 | 70-74 | 65-74 |\n| 3 | 1 | 0 | No | No | NA  | No  | 0 | No  |  0 | 74 | 0 | 70-74 | 65-74 |\n| 4 | 1 | 0 | No | No | NA  | No  | 0 | No  |  0 | 74 | 0 | 70-74 | 65-74 |\n| 5 | 1 | 0 | No | No | Yes | Yes | 3 | Yes | 48 | 75 | 1 | 70-74 | 65-74 |\n| 6 | 2 | 1 | No | No | No  | Yes | 4 | Yes | 96 | 67 | 3 | 65-69 | 65-74 |\n\n",
            "text/latex": "A data.frame: 6 × 13\n\\begin{tabular}{r|lllllllllllll}\n  & set & d & gall & hyp & ob & est & dur & non & duration & age & cest & agegrp & age3\\\\\n  & <dbl> & <dbl> & <fct> & <fct> & <fct> & <fct> & <fct> & <fct> & <dbl> & <dbl> & <fct> & <fct> & <fct>\\\\\n\\hline\n\t1 & 1 & 1 & No & No & Yes & Yes & 4 & Yes & 96 & 74 & 3 & 70-74 & 65-74\\\\\n\t2 & 1 & 0 & No & No & NA  & No  & 0 & No  &  0 & 75 & 0 & 70-74 & 65-74\\\\\n\t3 & 1 & 0 & No & No & NA  & No  & 0 & No  &  0 & 74 & 0 & 70-74 & 65-74\\\\\n\t4 & 1 & 0 & No & No & NA  & No  & 0 & No  &  0 & 74 & 0 & 70-74 & 65-74\\\\\n\t5 & 1 & 0 & No & No & Yes & Yes & 3 & Yes & 48 & 75 & 1 & 70-74 & 65-74\\\\\n\t6 & 2 & 1 & No & No & No  & Yes & 4 & Yes & 96 & 67 & 3 & 65-69 & 65-74\\\\\n\\end{tabular}\n",
            "text/plain": [
              "  set d gall hyp ob  est dur non duration age cest agegrp age3 \n",
              "1 1   1 No   No  Yes Yes 4   Yes 96       74  3    70-74  65-74\n",
              "2 1   0 No   No  NA  No  0   No   0       75  0    70-74  65-74\n",
              "3 1   0 No   No  NA  No  0   No   0       74  0    70-74  65-74\n",
              "4 1   0 No   No  NA  No  0   No   0       74  0    70-74  65-74\n",
              "5 1   0 No   No  Yes Yes 3   Yes 48       75  1    70-74  65-74\n",
              "6 2   1 No   No  No  Yes 4   Yes 96       67  3    65-69  65-74"
            ]
          },
          "metadata": {}
        }
      ]
    },
    {
      "cell_type": "code",
      "source": [
        "data(bdendo11)\n",
        "\n",
        "table(as.character(bdendo11$d))\n",
        "with(bdendo11, twoby2(d,est))"
      ],
      "metadata": {
        "colab": {
          "base_uri": "https://localhost:8080/",
          "height": 382
        },
        "id": "iAX-urvFicSH",
        "outputId": "26e362ad-ba71-4f0b-973f-da69194f20e9"
      },
      "execution_count": null,
      "outputs": [
        {
          "output_type": "display_data",
          "data": {
            "text/plain": [
              "\n",
              " 0  1 \n",
              "63 63 "
            ]
          },
          "metadata": {}
        },
        {
          "output_type": "stream",
          "name": "stdout",
          "text": [
            "2 by 2 table analysis: \n",
            "------------------------------------------------------ \n",
            "Outcome   : No \n",
            "Comparing : 0 vs. 1 \n",
            "\n",
            "  No Yes    P(No) 95% conf. interval\n",
            "0 33  30   0.5238    0.4015   0.6433\n",
            "1  7  56   0.1111    0.0539   0.2152\n",
            "\n",
            "                                   95% conf. interval\n",
            "             Relative Risk: 4.7143    2.2559   9.8517\n",
            "         Sample Odds Ratio: 8.8000    3.4778  22.2669\n",
            "Conditional MLE Odds Ratio: 8.6344    3.2632  26.0178\n",
            "    Probability difference: 0.4127    0.2550   0.5437\n",
            "\n",
            "             Exact P-value: 0.0000 \n",
            "        Asymptotic P-value: 0.0000 \n",
            "------------------------------------------------------\n"
          ]
        }
      ]
    },
    {
      "cell_type": "code",
      "source": [
        "with(bdendo11, twoby2(d,gall))"
      ],
      "metadata": {
        "colab": {
          "base_uri": "https://localhost:8080/"
        },
        "id": "2OxkqBZbk64C",
        "outputId": "b0c67c2d-11a3-4f1f-af0b-c1617cb78c20"
      },
      "execution_count": null,
      "outputs": [
        {
          "output_type": "stream",
          "name": "stdout",
          "text": [
            "2 by 2 table analysis: \n",
            "------------------------------------------------------ \n",
            "Outcome   : No \n",
            "Comparing : 0 vs. 1 \n",
            "\n",
            "  No Yes    P(No) 95% conf. interval\n",
            "0 54   9   0.8571    0.7476   0.9240\n",
            "1 46  17   0.7302    0.6080   0.8252\n",
            "\n",
            "                                   95% conf. interval\n",
            "             Relative Risk: 1.1739    0.9797   1.4066\n",
            "         Sample Odds Ratio: 2.2174    0.9028   5.4462\n",
            "Conditional MLE Odds Ratio: 2.2035    0.8346   6.1824\n",
            "    Probability difference: 0.1270   -0.0154   0.2643\n",
            "\n",
            "             Exact P-value: 0.1223 \n",
            "        Asymptotic P-value: 0.0824 \n",
            "------------------------------------------------------\n"
          ]
        }
      ]
    },
    {
      "cell_type": "markdown",
      "source": [
        "Now, let us calculate the odds ratios using mh function (Mantel-Haenszel analyses of cohort and case-control studies) for 1:1 matching. Unlike in analysis above, here we consider the matching and therefore the resulting odds ratio is different."
      ],
      "metadata": {
        "id": "I6Q9YWzklSC5"
      }
    },
    {
      "cell_type": "code",
      "source": [
        "tg11Est = with(bdendo11,table(d, est, set))\n",
        "mhor11Est = mh(tg11Est[\"1\",,], tg11Est[\"0\",,], compare = \"est\", levels = c(2, 1))\n",
        "outEst <- c(mhor11Est$ratio, mhor11Est$cl.lower, mhor11Est$cl.upper, mhor11Est$p.value)\n",
        "names(outEst) <- c(\"Odds ratio\", \"CI lower\", \"CI upper\", \"p-val\")\n",
        "round(outEst,3)"
      ],
      "metadata": {
        "colab": {
          "base_uri": "https://localhost:8080/",
          "height": 34
        },
        "id": "Z0ZvxM8_lPo7",
        "outputId": "efcfcc92-bb08-46e0-af19-9cd414fad40b"
      },
      "execution_count": null,
      "outputs": [
        {
          "output_type": "display_data",
          "data": {
            "text/html": [
              "<style>\n",
              ".dl-inline {width: auto; margin:0; padding: 0}\n",
              ".dl-inline>dt, .dl-inline>dd {float: none; width: auto; display: inline-block}\n",
              ".dl-inline>dt::after {content: \":\\0020\"; padding-right: .5ex}\n",
              ".dl-inline>dt:not(:first-of-type) {padding-left: .5ex}\n",
              "</style><dl class=dl-inline><dt>Odds ratio</dt><dd>9.667</dd><dt>CI lower</dt><dd>3.565</dd><dt>CI upper</dt><dd>26.213</dd><dt>p-val</dt><dd>0</dd></dl>\n"
            ],
            "text/markdown": "Odds ratio\n:   9.667CI lower\n:   3.565CI upper\n:   26.213p-val\n:   0\n\n",
            "text/latex": "\\begin{description*}\n\\item[Odds ratio] 9.667\n\\item[CI lower] 3.565\n\\item[CI upper] 26.213\n\\item[p-val] 0\n\\end{description*}\n",
            "text/plain": [
              "Odds ratio   CI lower   CI upper      p-val \n",
              "     9.667      3.565     26.213      0.000 "
            ]
          },
          "metadata": {}
        }
      ]
    },
    {
      "cell_type": "code",
      "source": [
        "fit <- clogistic(d ~ gall + hyp + cest + dur, strata = set, data =bdendo11)"
      ],
      "metadata": {
        "id": "GjQxXTb4QZSY"
      },
      "execution_count": null,
      "outputs": []
    },
    {
      "cell_type": "code",
      "source": [
        "fit"
      ],
      "metadata": {
        "colab": {
          "base_uri": "https://localhost:8080/",
          "height": 364
        },
        "id": "LBlBqbSmStZ8",
        "outputId": "73f22927-93c2-4db7-9ed1-e7d98ec4124a"
      },
      "execution_count": null,
      "outputs": [
        {
          "output_type": "display_data",
          "data": {
            "text/plain": [
              "\n",
              "Call: \n",
              "clogistic(formula = d ~ gall + hyp + cest + dur, strata = set, \n",
              "    data = bdendo11)\n",
              "\n",
              "\n",
              "\n",
              "\n",
              "          coef exp(coef) se(coef)      z     p\n",
              "gallYes  0.611     1.842    0.701  0.871 0.380\n",
              "hypYes   0.198     1.218    0.487  0.406 0.680\n",
              "cest1    1.481     4.399    0.835  1.775 0.076\n",
              "cest2    0.677     1.968    0.853  0.793 0.430\n",
              "cest3    1.960     7.096    0.908  2.158 0.031\n",
              "dur1    -0.483     0.617    0.779 -0.620 0.540\n",
              "dur2     1.090     2.975    0.926  1.177 0.240\n",
              "dur3     0.122     1.130    0.839  0.146 0.880\n",
              "dur4        NA        NA    0.000     NA    NA\n",
              "\n",
              "Likelihood ratio test=21.2  on 8 df, p=0.0066, n=100"
            ]
          },
          "metadata": {}
        }
      ]
    }
  ],
  "metadata": {
    "colab": {
      "provenance": []
    },
    "kernelspec": {
      "display_name": "R",
      "name": "ir"
    }
  },
  "nbformat": 4,
  "nbformat_minor": 0
}