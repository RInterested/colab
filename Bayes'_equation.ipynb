{
  "nbformat": 4,
  "nbformat_minor": 0,
  "metadata": {
    "colab": {
      "provenance": [],
      "authorship_tag": "ABX9TyMLBxHjl+8Px8yJZXdhqU5A"
    },
    "kernelspec": {
      "name": "python3",
      "display_name": "Python 3"
    },
    "language_info": {
      "name": "python"
    }
  },
  "cells": [
    {
      "cell_type": "markdown",
      "metadata": {
        "id": "_KzubJWxgWvo"
      },
      "source": [
        "$$\\Tiny\\Pr\\left(\\text{Specific Bone Tumor} \\mid \\text{Radiology findings} \\right) = \\frac{\\color{red}{\\Pr(\\text{Findings}\\mid \\text{In AFIP series (Radiographics)})}}{\\Pr(\\text{Radiology findings})} \\;\\color{yellow}{\\text{Prevalence in the pop. (base rate)}}$$"
      ]
    }
  ]
}