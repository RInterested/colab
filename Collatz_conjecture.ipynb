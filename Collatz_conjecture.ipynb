{
  "nbformat": 4,
  "nbformat_minor": 0,
  "metadata": {
    "colab": {
      "provenance": [],
      "authorship_tag": "ABX9TyOY3BIu9iAnoB0nGOoxncrG"
    },
    "kernelspec": {
      "name": "python3",
      "display_name": "Python 3"
    },
    "language_info": {
      "name": "python"
    }
  },
  "cells": [
    {
      "cell_type": "markdown",
      "source": [
        "Code in Matlab to find the sequence leading to $1$ for any integer:\n",
        "\n",
        "```\n",
        "function sequence=collatz(n)\n",
        "%   Collatz problem. Generate a sequence of integers resolving to 1\n",
        "%   For any positive integer, n:\n",
        "%   Divide n by 2 if n is even\n",
        "%   Multiply n by 3 and add 1 if n is odd\n",
        "%   Continue until the result is 1.\n",
        "\n",
        "sequence = n;\n",
        "next_value = n;\n",
        "while next_value > 1\n",
        "    if rem(next_value, 2) == 0\n",
        "        next_value = next_value/2;\n",
        "    else\n",
        "        next_value = 3 * next_value + 1;\n",
        "    end\n",
        "    sequence = [sequence, next_value];\n",
        "end\n",
        "```\n",
        "\n"
      ],
      "metadata": {
        "id": "91LA1JUp_l4w"
      }
    },
    {
      "cell_type": "markdown",
      "source": [
        "Code to plot the length of the sequences to $1$ for all integers up to a given one:\n",
        "\n",
        "```\n",
        "function collatzplot(m)\n",
        "% Plot length of sequence for Collatz problem\n",
        "% Prepare figure\n",
        "clf\n",
        "set(gcf,'DoubleBuffer','on')\n",
        "set(gca,'XScale','linear')\n",
        "%\n",
        "% Determine and plot sequence and sequence length\n",
        "for N = 1:m\n",
        "    seq = collatz(N);\n",
        "    len = length(seq);\n",
        "    line(N, len,'Marker','.','MarkerSize',2,'Color','k')\n",
        "    drawnow\n",
        "end\n",
        "```\n",
        "\n",
        "This is very slow because it keeps on reformatting the plot as more Collatz numbers are added:\n",
        "\n",
        "![](https://user-images.githubusercontent.com/9312897/169914589-8618e686-1c59-4053-96f1-933659326267.png)"
      ],
      "metadata": {
        "id": "L-J4AL1KA1Ub"
      }
    },
    {
      "cell_type": "markdown",
      "source": [
        "Plotting a histogram of the stopping times for the first million natural numbers with also the plot above is better done by firs pre-allocating a vector:\n",
        "\n",
        "```\n",
        "n = 1e6;\n",
        "\n",
        "figure(1)\n",
        "plot(collatz(n), 'color', [0.1,0.1,0.9])\n",
        "\n",
        "h = zeros(1,n);\n",
        "for x = 1:n\n",
        "    h(x) = length(collatz(x));\n",
        "end\n",
        "\n",
        "figure(2)\n",
        "b = histogram(h);\n",
        "b.EdgeColor = 'white';\n",
        "b.FaceColor = [0 0.2 1];\n",
        "b.FaceAlpha = .6;\n",
        "\n",
        "\n",
        "figure(3)\n",
        "scatter(1:n, h, 1, 'Marker','.','MarkerFaceColor', ...\n",
        "    [0.1,0.1,0.9],'MarkerEdgeColor',[0.1,0.1,0.9])\n",
        "```\n",
        "\n",
        "\n",
        "![](https://user-images.githubusercontent.com/9312897/169915226-1ee555ea-e0ba-43d5-a4c0-c66f2e57ded8.png)\n",
        "\n",
        "\n",
        "\n",
        "![](https://user-images.githubusercontent.com/9312897/169915150-579da62d-fdcc-421c-8b4d-152eb34d7fee.png)"
      ],
      "metadata": {
        "id": "0hXOtLmhCcja"
      }
    }
  ]
}