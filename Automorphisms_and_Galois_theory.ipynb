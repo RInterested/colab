{
  "nbformat": 4,
  "nbformat_minor": 0,
  "metadata": {
    "colab": {
      "provenance": [],
      "authorship_tag": "ABX9TyP8UfiWq69pm/iVUGBHirUI"
    },
    "kernelspec": {
      "name": "python3",
      "display_name": "Python 3"
    }
  },
  "cells": [
    {
      "cell_type": "markdown",
      "metadata": {
        "id": "F8QPBVh1KRbv"
      },
      "source": [
        "###Find ALL the elements in the Galois group $\\mathrm {Gal}(\\mathbb Q(\\sqrt 7)/\\mathbb Q),$ and verify that each element is an automorphism.\n",
        "\n",
        "First we need a basis for this field extension, which is $\\{1,\\sqrt 7 \\},$ thought as a vector space:\n",
        "\n",
        "The dimension of $\\mathbb Q(\\sqrt 7)$ cannot be $1$ because $\\sqrt 7 \\notin \\mathbb Q.$ So it has to be $[\\mathbb Q(\\sqrt 7):\\mathbb Q]=2,$ we find that $\\{a+b\\sqrt7\\vert a,b \\in \\mathbb Q\\}$ is a basis.\n",
        "\n",
        "Since $1$ is a rational number, it doesn't change (fixed). For $\\sqrt 7,$ a Galois automorphism $\\sigma \\in \\mathrm {Gal}(\\mathbb Q(\\sqrt 7/\\mathbb Q),$ we have to look \"under the hood\"... If we applied $\\sigma$ to $7,$ it would have to stay the same because it is a rational number: $\\sigma(7)=7.$ Now we can apply the rules of an automorphism:\n",
        "\n",
        "\\begin{align}\n",
        "\\phi(a+b)&=\\phi(a)+\\phi(b)\\\\\n",
        "\\phi(ab)&=\\phi(a)\\phi(b)\\\\\n",
        "\\phi(z)&=z, \\forall z\\in F\\text{ base field}\n",
        "\\end{align}\n",
        "\n",
        "and we find that\n",
        "\n",
        "$$7=\\sigma(7)=\\sigma(\\sqrt 7^2)=\\sigma(\\sqrt 7)\\sigma(\\sqrt 7)=\\sigma(\\sqrt 7)^2 \\implies \\sigma(\\sqrt 7)=\\pm \\sqrt 7.$$\n",
        "\n",
        "Therefore $\\sigma$ can either be the identity automorphism (fixing everything), or the Galois conjugate: $\\sigma(a+b\\sqrt 7)=a-b\\sqrt(7).$\n",
        "\n",
        "Having defined $\\sigma$ on the basis, it will extend extend to a linear transformation of  $\\{1,\\sqrt 7 \\}.$ But we need to show that the multiplicative rule above is preserved:\n",
        "\n",
        "$$\\sigma\\left( (a+b\\sqrt 7)(c+d\\sqrt7)\\right)=(ac+7bd)-(ad+bc)\\sqrt7$$\n",
        "\n",
        "$$\\sigma (a+b\\sqrt 7)\\sigma(c+d\\sqrt7)=(ac+7bd)-(ad+bc)\\sqrt7.$$\n",
        "\n",
        "Hence, sigma is multiplicative and additive, and therefore $\\sigma$ is a Galois automorphism. The Galois group has two elements: the identity and the conjugation maps, and is isomorphic to $\\mathbb Z_2.$"
      ]
    },
    {
      "cell_type": "markdown",
      "metadata": {
        "id": "QtYDRgleQHi_"
      },
      "source": [
        "###Find a $\\mathbb Q$ basis for $\\mathbb(\\sqrt 5,\\sqrt 11).$\n",
        "\n",
        "Can it be that $\\sqrt{11}$ is already in the field $\\mathbb Q(\\sqrt5)$? If that were the case, then\n",
        "\n",
        "$$\\sqrt{11}=a + b\\sqrt5$$\n",
        "\n",
        "squaring both sides...\n",
        "\n",
        "$$11= a^2 + 10ab\\sqrt5+5,$$\n",
        "\n",
        "and $\\sqrt5$ would be a rational number!\n",
        "\n",
        "To find a basis, we can start by realizing that\n",
        "\n",
        "$$\\mathbb Q(\\sqrt5)(\\sqrt{11})=\\{e+f\\sqrt{11}\\quad|\\quad e,f\\in\\mathbb Q(\\sqrt5)\\}$$\n",
        "\n",
        "or\n",
        "\n",
        "$$\\{(a+b\\sqrt5) + (c+d\\sqrt5)\\sqrt{11}\\quad|\\quad a,b,c,d\\in \\mathbb Q\\}$$\n",
        "\n",
        "\n",
        "We are going to need not just $\\{a + b\\sqrt5 + c\\sqrt{11}\\}$ but also the multiplication of $\\sqrt5$ and $\\sqrt{11}$ to have a field (closure).\n",
        "\n",
        "The basis $\\{a + b\\sqrt5 + c\\sqrt{11} + d\\sqrt{55}\\}$ will span.\n",
        "\n",
        "But we have to prove that $\\sqrt11\\notin \\mathbb Q(\\sqrt5)$ by showing that is linearly independent over $\\mathbb Q(\\sqrt5).$ So the only way for $a + b\\sqrt5 + c\\sqrt{11} + d\\sqrt{55}=0$ should be for all coefficents to be zero. But this is the same as saying $(a + b\\sqrt5)\\cdot 1 + (c + d\\sqrt{5})\\cdot\\sqrt{11}=0,$ and $a+b\\sqrt5=c+d\\sqrt5=0.$"
      ]
    },
    {
      "cell_type": "markdown",
      "metadata": {
        "id": "ISAx3e1gHqFk"
      },
      "source": [
        "###Find the elements of the Galois group of $\\mathrm{Gal}(\\mathbb Q(\\sqrt5,\\sqrt{11}).$\n",
        "\n",
        "To define an automorphism we just have to find it on the basis $\\{a + b\\sqrt5 + c\\sqrt{11} + d\\sqrt{55}\\}$ . Since automorphisms are multiplicative, once we define it for $\\sqrt5$ and $\\sqrt{11},$ it will be defined for $\\sqrt{55}.$\n",
        "\n",
        "Following the reasoning in the first exercise, $\\sigma(\\sqrt5)=\\pm\\sqrt5$ and $\\sigma(\\sqrt{11})=\\pm \\sqrt{11}.$\n",
        "\n",
        "There will, therefore, four combinations:\n",
        "\n",
        "$$\\begin{align}\n",
        "\\mathrm{Id}: & \\sqrt5\\mapsto\\sqrt5; \\sqrt{11}\\mapsto\\sqrt{11}\\\\\n",
        "\\tau_-^+: & \\sqrt5\\mapsto\\sqrt5; \\sqrt{11}\\mapsto -\\sqrt{11}\\\\\n",
        "\\tau_+^-: & \\sqrt5\\mapsto -\\sqrt5; \\sqrt{11}\\mapsto \\sqrt{11}\\\\\n",
        "\\tau_-^-: & \\sqrt5\\mapsto -\\sqrt5; \\sqrt{11}\\mapsto -\\sqrt{11}\\\\\n",
        "\\end{align}$$\n",
        "\n",
        "The $\\mathrm{Gal}(\\mathbb Q(\\sqrt5,\\sqrt{11})/\\mathbb Q)=\\{\\mathrm{Id},\\tau_-^+, \\tau_+^-, \\tau_-^-\\}$ isomorphic to the Klein 4 group.\n",
        "\n",
        "Notice that squaring results in the identity. For instance take $\\tau_-^+ $ as an element and apply\n",
        "\n",
        "$$\\tau_-^+(\\tau_-^+(\\sqrt5))=\\tau_-^+(\\sqrt5)=\\sqrt5$$\n",
        "\n",
        "$$\\tau_-^+(\\tau_-^+(\\sqrt{11}))=\\tau_-^+(-\\sqrt{11})=\\sqrt{11}$$\n",
        "\n",
        "And it has three subgroups:\n",
        "\n",
        "\\begin{matrix}\n",
        "  && \\Bbb Q(\\sqrt{5},\\sqrt{11})/\\mathbb Q & \\\\\n",
        "  &\\huge\\diagup & \\huge| & \\huge\\diagdown \\\\\n",
        " <\\tau_-^+> & & <\\tau_+^-> &  & <\\tau_-^->\\\\\n",
        "  &\\huge\\diagdown & \\huge| & \\huge\\diagup \\\\\n",
        "  &&\\Bbb Q\n",
        "\\end{matrix}\n",
        "\n",
        "Each subgroup is, therefore, a cyclic group of order $2$ with generating elements $<\\tau_-^+>,<\\tau_+^->,<\\tau_+^+>.$"
      ]
    },
    {
      "cell_type": "markdown",
      "metadata": {
        "id": "P-jF6rVpuQgR"
      },
      "source": [
        "### Is $\\mathbb Q(2^{1/4},i)/\\mathbb Q)$ a Galois extension?\n",
        "\n",
        "It is a a Galois extension IF it is the splitting field of some separable polynomial.\n",
        "\n",
        "Since $2^{1/4}$ is a root of $x^4-2$ together with $-2^{1/4}$ and $\\pm 2^{1/4}i$ the answer is yes."
      ]
    },
    {
      "cell_type": "markdown",
      "metadata": {
        "id": "EW2vPIvZ1Usk"
      },
      "source": [
        "### What is the Galois group of $\\mathbb Q(2^{1/4},i)/\\mathbb Q)$?\n",
        "\n",
        "$2^{1/4}$ has a minimal polynomial (irreducible by E. criteria) with roots as above. Also $i$ has a minimal polynomial $x^2+1$ with roots $\\pm i.$\n",
        "\n",
        "We can send $2^{1/4}$ to $i 2^{1/4}$ (by trial and error), and send $i$ to $i$ to create the automorphism:\n",
        "\n",
        "$$\\begin{align}\\sigma(2^{1/4})&\\mapsto i2^{1/4};\\\\\n",
        "\\sigma(i)&\\mapsto i\n",
        "\\end{align}$$\n",
        "\n",
        "We can create a second automorphism\n",
        "\n",
        "$$\\begin{align}\n",
        "\\tau(2^{1/4})& \\mapsto 2^{1/4};\\\\\n",
        "\\tau(i)& \\mapsto -i\n",
        "\\end{align}$$\n",
        "\n",
        "If we square sigma $\\sigma^2(2^{1/4})=\\sigma(i2^{1/4})=i(i2^{1/4})=-2^{1/4}.$ If we cube it, $\\sigma^3(2^{1/4})=-i2^{1/4}$ whereas $\\sigma^4(2^{1/4})=2^{1/4}.$  So as an element of the Galois group $\\sigma$ has order $4.$ This element fixes $i,$ but gives us all the roots of $x^4-2.$\n",
        "\n",
        "$$\\mathrm{Gal}(\\mathbb Q(2^{1/4},i),\\mathbb Q)=\\{\\mathrm{Id},\\sigma,\\sigma^2,\\sigma^3,\\tau,\\tau\\sigma, \\tau\\sigma^2, \\tau\\sigma^3\\}$$\n",
        "\n",
        "How to generate the subgroups systematically? By Lagrange theorem the Gal group is of order $|8|,$ and hence any subgroup has to divide it, and it has to be of order $1$ (corresponding to the identity); order $2,$ corresponding to $\\sigma^2$ because $\\sigma^4=\\mathrm{Id},$ as well as $\\tau,$ because it gives the identity when squared. Also $<\\tau \\sigma>,$$<\\tau\\sigma^2>$ and $<\\tau\\sigma^3>$ are of order $2.$ Now, for order $4,$ we have $\\sigma$\n",
        "\n",
        "![](https://user-images.githubusercontent.com/9312897/86858048-daae5000-c08d-11ea-922d-99b8a3838cdc.png)"
      ]
    }
  ]
}