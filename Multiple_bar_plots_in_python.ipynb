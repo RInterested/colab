{
  "nbformat": 4,
  "nbformat_minor": 0,
  "metadata": {
    "colab": {
      "provenance": [],
      "authorship_tag": "ABX9TyN6KvOP2mNfhfSECvNCEOO7"
    },
    "kernelspec": {
      "name": "python3",
      "display_name": "Python 3"
    },
    "language_info": {
      "name": "python"
    }
  },
  "cells": [
    {
      "cell_type": "markdown",
      "source": [
        "From [here](https://stackoverflow.com/q/57293213/4089351):"
      ],
      "metadata": {
        "id": "LpBfJjASgBsi"
      }
    },
    {
      "cell_type": "code",
      "execution_count": null,
      "metadata": {
        "id": "2b8hj2Jbf7bn"
      },
      "outputs": [],
      "source": [
        "import pandas as pd\n",
        "\n",
        "df = pd.DataFrame(dict(\n",
        "    player=[\"player1\", \"player2\", \"player3\", \"player4\"] * 3, # The times 3 is the key!!!\n",
        "    building_type=[\"settlements\"] * 4 +  [\"cities\"] * 4 +  [\"roads\"] * 4,\n",
        "    won_game=[0.,1.35, 1.36, 1.36, 0., 3.48, 3.48, 3.47,0.,  8.27, 8.25, 8.33],\n",
        "    avg_game=[1.81, 1.38, 1.39, 1.38, 0.5, 2.77, 2.76, 2.77, 7.75, 6.72, 6.7, 6.76],\n",
        "    lost_game =[1.81, 1.4, 1.4, 1.39, 0.5, 2.41,2.42, 2.42, 7.75, 5.93,5.95, 5.96] ))"
      ]
    },
    {
      "cell_type": "code",
      "source": [
        "df"
      ],
      "metadata": {
        "colab": {
          "base_uri": "https://localhost:8080/",
          "height": 426
        },
        "id": "JZyBikXFhIpA",
        "outputId": "2d5cecf2-f126-48c5-bf19-1fa0392b89c2"
      },
      "execution_count": null,
      "outputs": [
        {
          "output_type": "execute_result",
          "data": {
            "text/plain": [
              "     player building_type  won_game  avg_game  lost_game\n",
              "0   player1   settlements      0.00      1.81       1.81\n",
              "1   player2   settlements      1.35      1.38       1.40\n",
              "2   player3   settlements      1.36      1.39       1.40\n",
              "3   player4   settlements      1.36      1.38       1.39\n",
              "4   player1        cities      0.00      0.50       0.50\n",
              "5   player2        cities      3.48      2.77       2.41\n",
              "6   player3        cities      3.48      2.76       2.42\n",
              "7   player4        cities      3.47      2.77       2.42\n",
              "8   player1         roads      0.00      7.75       7.75\n",
              "9   player2         roads      8.27      6.72       5.93\n",
              "10  player3         roads      8.25      6.70       5.95\n",
              "11  player4         roads      8.33      6.76       5.96"
            ],
            "text/html": [
              "\n",
              "  <div id=\"df-b1ac52df-7954-4231-b5a7-87488dd8e4fe\">\n",
              "    <div class=\"colab-df-container\">\n",
              "      <div>\n",
              "<style scoped>\n",
              "    .dataframe tbody tr th:only-of-type {\n",
              "        vertical-align: middle;\n",
              "    }\n",
              "\n",
              "    .dataframe tbody tr th {\n",
              "        vertical-align: top;\n",
              "    }\n",
              "\n",
              "    .dataframe thead th {\n",
              "        text-align: right;\n",
              "    }\n",
              "</style>\n",
              "<table border=\"1\" class=\"dataframe\">\n",
              "  <thead>\n",
              "    <tr style=\"text-align: right;\">\n",
              "      <th></th>\n",
              "      <th>player</th>\n",
              "      <th>building_type</th>\n",
              "      <th>won_game</th>\n",
              "      <th>avg_game</th>\n",
              "      <th>lost_game</th>\n",
              "    </tr>\n",
              "  </thead>\n",
              "  <tbody>\n",
              "    <tr>\n",
              "      <th>0</th>\n",
              "      <td>player1</td>\n",
              "      <td>settlements</td>\n",
              "      <td>0.00</td>\n",
              "      <td>1.81</td>\n",
              "      <td>1.81</td>\n",
              "    </tr>\n",
              "    <tr>\n",
              "      <th>1</th>\n",
              "      <td>player2</td>\n",
              "      <td>settlements</td>\n",
              "      <td>1.35</td>\n",
              "      <td>1.38</td>\n",
              "      <td>1.40</td>\n",
              "    </tr>\n",
              "    <tr>\n",
              "      <th>2</th>\n",
              "      <td>player3</td>\n",
              "      <td>settlements</td>\n",
              "      <td>1.36</td>\n",
              "      <td>1.39</td>\n",
              "      <td>1.40</td>\n",
              "    </tr>\n",
              "    <tr>\n",
              "      <th>3</th>\n",
              "      <td>player4</td>\n",
              "      <td>settlements</td>\n",
              "      <td>1.36</td>\n",
              "      <td>1.38</td>\n",
              "      <td>1.39</td>\n",
              "    </tr>\n",
              "    <tr>\n",
              "      <th>4</th>\n",
              "      <td>player1</td>\n",
              "      <td>cities</td>\n",
              "      <td>0.00</td>\n",
              "      <td>0.50</td>\n",
              "      <td>0.50</td>\n",
              "    </tr>\n",
              "    <tr>\n",
              "      <th>5</th>\n",
              "      <td>player2</td>\n",
              "      <td>cities</td>\n",
              "      <td>3.48</td>\n",
              "      <td>2.77</td>\n",
              "      <td>2.41</td>\n",
              "    </tr>\n",
              "    <tr>\n",
              "      <th>6</th>\n",
              "      <td>player3</td>\n",
              "      <td>cities</td>\n",
              "      <td>3.48</td>\n",
              "      <td>2.76</td>\n",
              "      <td>2.42</td>\n",
              "    </tr>\n",
              "    <tr>\n",
              "      <th>7</th>\n",
              "      <td>player4</td>\n",
              "      <td>cities</td>\n",
              "      <td>3.47</td>\n",
              "      <td>2.77</td>\n",
              "      <td>2.42</td>\n",
              "    </tr>\n",
              "    <tr>\n",
              "      <th>8</th>\n",
              "      <td>player1</td>\n",
              "      <td>roads</td>\n",
              "      <td>0.00</td>\n",
              "      <td>7.75</td>\n",
              "      <td>7.75</td>\n",
              "    </tr>\n",
              "    <tr>\n",
              "      <th>9</th>\n",
              "      <td>player2</td>\n",
              "      <td>roads</td>\n",
              "      <td>8.27</td>\n",
              "      <td>6.72</td>\n",
              "      <td>5.93</td>\n",
              "    </tr>\n",
              "    <tr>\n",
              "      <th>10</th>\n",
              "      <td>player3</td>\n",
              "      <td>roads</td>\n",
              "      <td>8.25</td>\n",
              "      <td>6.70</td>\n",
              "      <td>5.95</td>\n",
              "    </tr>\n",
              "    <tr>\n",
              "      <th>11</th>\n",
              "      <td>player4</td>\n",
              "      <td>roads</td>\n",
              "      <td>8.33</td>\n",
              "      <td>6.76</td>\n",
              "      <td>5.96</td>\n",
              "    </tr>\n",
              "  </tbody>\n",
              "</table>\n",
              "</div>\n",
              "      <button class=\"colab-df-convert\" onclick=\"convertToInteractive('df-b1ac52df-7954-4231-b5a7-87488dd8e4fe')\"\n",
              "              title=\"Convert this dataframe to an interactive table.\"\n",
              "              style=\"display:none;\">\n",
              "        \n",
              "  <svg xmlns=\"http://www.w3.org/2000/svg\" height=\"24px\"viewBox=\"0 0 24 24\"\n",
              "       width=\"24px\">\n",
              "    <path d=\"M0 0h24v24H0V0z\" fill=\"none\"/>\n",
              "    <path d=\"M18.56 5.44l.94 2.06.94-2.06 2.06-.94-2.06-.94-.94-2.06-.94 2.06-2.06.94zm-11 1L8.5 8.5l.94-2.06 2.06-.94-2.06-.94L8.5 2.5l-.94 2.06-2.06.94zm10 10l.94 2.06.94-2.06 2.06-.94-2.06-.94-.94-2.06-.94 2.06-2.06.94z\"/><path d=\"M17.41 7.96l-1.37-1.37c-.4-.4-.92-.59-1.43-.59-.52 0-1.04.2-1.43.59L10.3 9.45l-7.72 7.72c-.78.78-.78 2.05 0 2.83L4 21.41c.39.39.9.59 1.41.59.51 0 1.02-.2 1.41-.59l7.78-7.78 2.81-2.81c.8-.78.8-2.07 0-2.86zM5.41 20L4 18.59l7.72-7.72 1.47 1.35L5.41 20z\"/>\n",
              "  </svg>\n",
              "      </button>\n",
              "      \n",
              "  <style>\n",
              "    .colab-df-container {\n",
              "      display:flex;\n",
              "      flex-wrap:wrap;\n",
              "      gap: 12px;\n",
              "    }\n",
              "\n",
              "    .colab-df-convert {\n",
              "      background-color: #E8F0FE;\n",
              "      border: none;\n",
              "      border-radius: 50%;\n",
              "      cursor: pointer;\n",
              "      display: none;\n",
              "      fill: #1967D2;\n",
              "      height: 32px;\n",
              "      padding: 0 0 0 0;\n",
              "      width: 32px;\n",
              "    }\n",
              "\n",
              "    .colab-df-convert:hover {\n",
              "      background-color: #E2EBFA;\n",
              "      box-shadow: 0px 1px 2px rgba(60, 64, 67, 0.3), 0px 1px 3px 1px rgba(60, 64, 67, 0.15);\n",
              "      fill: #174EA6;\n",
              "    }\n",
              "\n",
              "    [theme=dark] .colab-df-convert {\n",
              "      background-color: #3B4455;\n",
              "      fill: #D2E3FC;\n",
              "    }\n",
              "\n",
              "    [theme=dark] .colab-df-convert:hover {\n",
              "      background-color: #434B5C;\n",
              "      box-shadow: 0px 1px 3px 1px rgba(0, 0, 0, 0.15);\n",
              "      filter: drop-shadow(0px 1px 2px rgba(0, 0, 0, 0.3));\n",
              "      fill: #FFFFFF;\n",
              "    }\n",
              "  </style>\n",
              "\n",
              "      <script>\n",
              "        const buttonEl =\n",
              "          document.querySelector('#df-b1ac52df-7954-4231-b5a7-87488dd8e4fe button.colab-df-convert');\n",
              "        buttonEl.style.display =\n",
              "          google.colab.kernel.accessAllowed ? 'block' : 'none';\n",
              "\n",
              "        async function convertToInteractive(key) {\n",
              "          const element = document.querySelector('#df-b1ac52df-7954-4231-b5a7-87488dd8e4fe');\n",
              "          const dataTable =\n",
              "            await google.colab.kernel.invokeFunction('convertToInteractive',\n",
              "                                                     [key], {});\n",
              "          if (!dataTable) return;\n",
              "\n",
              "          const docLinkHtml = 'Like what you see? Visit the ' +\n",
              "            '<a target=\"_blank\" href=https://colab.research.google.com/notebooks/data_table.ipynb>data table notebook</a>'\n",
              "            + ' to learn more about interactive tables.';\n",
              "          element.innerHTML = '';\n",
              "          dataTable['output_type'] = 'display_data';\n",
              "          await google.colab.output.renderOutput(dataTable, element);\n",
              "          const docLink = document.createElement('div');\n",
              "          docLink.innerHTML = docLinkHtml;\n",
              "          element.appendChild(docLink);\n",
              "        }\n",
              "      </script>\n",
              "    </div>\n",
              "  </div>\n",
              "  "
            ]
          },
          "metadata": {},
          "execution_count": 2
        }
      ]
    },
    {
      "cell_type": "code",
      "source": [
        "import seaborn as sns\n",
        "import matplotlib.pyplot as plt\n",
        "\n",
        "sns.barplot(x=\"player\",\n",
        "            y=\"won_game\",\n",
        "            hue=\"building_type\", data=df, hue_order = [\"settlements\", \"cities\", \"roads\"],\n",
        "            palette = sns.xkcd_palette([\"windows blue\", \"amber\",  \"raspberry\"]))\n",
        "sns.barplot(x=\"player\",\n",
        "            y=\"avg_game\",\n",
        "            hue=\"building_type\", data=df,\n",
        "            hue_order = [\"settlements\", \"cities\", \"roads\"],\n",
        "            palette = sns.xkcd_palette([\"grey blue\", \"pumpkin\",  \"reddish pink\"]))\n",
        "sns.barplot(x=\"player\",\n",
        "            y=\"lost_game\",\n",
        "            hue=\"building_type\", data=df,\n",
        "            hue_order = [\"settlements\", \"cities\", \"roads\"],\n",
        "            palette = sns.xkcd_palette([\"light blue grey\", \"pale gold\", \"rose pink\"]))\n",
        "\n",
        "handles, labels = plt.gca().get_legend_handles_labels()\n",
        "\n",
        "handles = [handles[0], handles[3], handles[6], handles[1], handles[4], handles[7], handles[2], handles[5], handles[8]]\n",
        "\n",
        "labels = ['settlements - won game', 'settlements - avg game','settlements - lost game',\n",
        "         'cities - won game', 'cities - avg game','cities - lost game',\n",
        "         'roads - won game','roads - avg game','roads - lost game']\n",
        "plt.legend(handles, labels, bbox_to_anchor=(1.05, 1), loc=2, borderaxespad=0., title = \"building type\")\n",
        "plt.show()\n"
      ],
      "metadata": {
        "colab": {
          "base_uri": "https://localhost:8080/",
          "height": 279
        },
        "id": "BSrTYfGFgaPW",
        "outputId": "aa4c8bc3-1e5c-4c17-ac9b-6b8b0a2d401b"
      },
      "execution_count": null,
      "outputs": [
        {
          "output_type": "display_data",
          "data": {
            "text/plain": [
              "<Figure size 432x288 with 1 Axes>"
            ],
            "image/png": "[encoded data removed]"
          },
          "metadata": {
            "needs_background": "light"
          }
        }
      ]
    },
    {
      "cell_type": "markdown",
      "source": [
        "From [here](https://itsmycode.com/how-to-create-a-pie-chart-in-seaborn/):"
      ],
      "metadata": {
        "id": "PSKCj833vUEN"
      }
    },
    {
      "cell_type": "code",
      "source": [
        "# car sales data\n",
        "total_sales = [3000, 2245, 1235, 5330, 4200]\n",
        "\n",
        "location = ['Bangalore', 'Delhi', 'Chennai', 'Mumbai', 'Kolkatta']\n",
        "\n",
        "# Seaborn color palette to plot pie chart\n",
        "colors = sns.color_palette('pastel')\n",
        "\n",
        "# create pie chart using matplotlib\n",
        "plt.pie(total_sales, labels=location, colors=colors)\n",
        "plt.show()"
      ],
      "metadata": {
        "colab": {
          "base_uri": "https://localhost:8080/",
          "height": 248
        },
        "id": "Rq0VOokOvNQD",
        "outputId": "e53ee9ff-e88a-4236-f249-2610fe54520d"
      },
      "execution_count": null,
      "outputs": [
        {
          "output_type": "display_data",
          "data": {
            "text/plain": [
              "<Figure size 432x288 with 1 Axes>"
            ],
            "image/png": "[encoded data removed]"
          },
          "metadata": {}
        }
      ]
    }
  ]
}