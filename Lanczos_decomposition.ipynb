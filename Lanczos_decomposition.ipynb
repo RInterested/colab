{
  "nbformat": 4,
  "nbformat_minor": 0,
  "metadata": {
    "colab": {
      "provenance": [],
      "authorship_tag": "ABX9TyOFGJzVrX8Ai6RrA2gVleus"
    },
    "kernelspec": {
      "name": "ir",
      "display_name": "R"
    }
  },
  "cells": [
    {
      "cell_type": "code",
      "metadata": {
        "id": "7RsTRVVWQUGS",
        "colab": {
          "base_uri": "https://localhost:8080/"
        },
        "outputId": "6bdb0b73-0eec-47bb-8740-a77e0bc73c49"
      },
      "source": [
        "install.packages('pracma')\n",
        "require(pracma)"
      ],
      "execution_count": null,
      "outputs": [
        {
          "output_type": "stream",
          "text": [
            "Installing package into ‘/usr/local/lib/R/site-library’\n",
            "(as ‘lib’ is unspecified)\n",
            "\n",
            "Loading required package: pracma\n",
            "\n"
          ],
          "name": "stderr"
        }
      ]
    },
    {
      "cell_type": "code",
      "metadata": {
        "colab": {
          "base_uri": "https://localhost:8080/",
          "height": 154
        },
        "id": "n7lDRUdye_Bx",
        "outputId": "10e9867d-3f7a-4a2f-af02-7c267068c7bf"
      },
      "source": [
        "G = round(matrix(c(1,0,0,sqrt(2),0,1,sqrt(2),0,1,0,sqrt(2),0,0,1,0,sqrt(2)),4,4,),3)\n",
        "round(G,1)\n",
        "Rank(G)"
      ],
      "execution_count": null,
      "outputs": [
        {
          "output_type": "display_data",
          "data": {
            "text/plain": [
              "     [,1] [,2] [,3] [,4]\n",
              "[1,] 1.0  0.0  1.0  0.0 \n",
              "[2,] 0.0  1.0  0.0  1.0 \n",
              "[3,] 0.0  1.4  1.4  0.0 \n",
              "[4,] 1.4  0.0  0.0  1.4 "
            ],
            "text/latex": "A matrix: 4 × 4 of type dbl\n\\begin{tabular}{llll}\n\t 1.0 & 0.0 & 1.0 & 0.0\\\\\n\t 0.0 & 1.0 & 0.0 & 1.0\\\\\n\t 0.0 & 1.4 & 1.4 & 0.0\\\\\n\t 1.4 & 0.0 & 0.0 & 1.4\\\\\n\\end{tabular}\n",
            "text/markdown": "\nA matrix: 4 × 4 of type dbl\n\n| 1.0 | 0.0 | 1.0 | 0.0 |\n| 0.0 | 1.0 | 0.0 | 1.0 |\n| 0.0 | 1.4 | 1.4 | 0.0 |\n| 1.4 | 0.0 | 0.0 | 1.4 |\n\n",
            "text/html": [
              "<table>\n",
              "<caption>A matrix: 4 × 4 of type dbl</caption>\n",
              "<tbody>\n",
              "\t<tr><td>1.0</td><td>0.0</td><td>1.0</td><td>0.0</td></tr>\n",
              "\t<tr><td>0.0</td><td>1.0</td><td>0.0</td><td>1.0</td></tr>\n",
              "\t<tr><td>0.0</td><td>1.4</td><td>1.4</td><td>0.0</td></tr>\n",
              "\t<tr><td>1.4</td><td>0.0</td><td>0.0</td><td>1.4</td></tr>\n",
              "</tbody>\n",
              "</table>\n"
            ]
          },
          "metadata": {
            "tags": []
          }
        },
        {
          "output_type": "display_data",
          "data": {
            "text/plain": [
              "[1] 3"
            ],
            "text/latex": "3",
            "text/markdown": "3",
            "text/html": [
              "3"
            ]
          },
          "metadata": {
            "tags": []
          }
        }
      ]
    },
    {
      "cell_type": "code",
      "metadata": {
        "id": "yNYre-ZuR3tu"
      },
      "source": [
        "dec = svd(G)"
      ],
      "execution_count": null,
      "outputs": []
    },
    {
      "cell_type": "code",
      "metadata": {
        "colab": {
          "base_uri": "https://localhost:8080/",
          "height": 137
        },
        "id": "ruK47-y4SC94",
        "outputId": "43d4ec06-8207-44a2-e2f9-d979db3aadd9"
      },
      "source": [
        "round(dec$u %*% (diag(dec$d) %*% t(dec$v)),2)"
      ],
      "execution_count": null,
      "outputs": [
        {
          "output_type": "display_data",
          "data": {
            "text/plain": [
              "     [,1] [,2] [,3] [,4]\n",
              "[1,] 1.00 0.00 1.00 0.00\n",
              "[2,] 0.00 1.00 0.00 1.00\n",
              "[3,] 0.00 1.41 1.41 0.00\n",
              "[4,] 1.41 0.00 0.00 1.41"
            ],
            "text/latex": "A matrix: 4 × 4 of type dbl\n\\begin{tabular}{llll}\n\t 1.00 & 0.00 & 1.00 & 0.00\\\\\n\t 0.00 & 1.00 & 0.00 & 1.00\\\\\n\t 0.00 & 1.41 & 1.41 & 0.00\\\\\n\t 1.41 & 0.00 & 0.00 & 1.41\\\\\n\\end{tabular}\n",
            "text/markdown": "\nA matrix: 4 × 4 of type dbl\n\n| 1.00 | 0.00 | 1.00 | 0.00 |\n| 0.00 | 1.00 | 0.00 | 1.00 |\n| 0.00 | 1.41 | 1.41 | 0.00 |\n| 1.41 | 0.00 | 0.00 | 1.41 |\n\n",
            "text/html": [
              "<table>\n",
              "<caption>A matrix: 4 × 4 of type dbl</caption>\n",
              "<tbody>\n",
              "\t<tr><td>1.00</td><td>0.00</td><td>1.00</td><td>0.00</td></tr>\n",
              "\t<tr><td>0.00</td><td>1.00</td><td>0.00</td><td>1.00</td></tr>\n",
              "\t<tr><td>0.00</td><td>1.41</td><td>1.41</td><td>0.00</td></tr>\n",
              "\t<tr><td>1.41</td><td>0.00</td><td>0.00</td><td>1.41</td></tr>\n",
              "</tbody>\n",
              "</table>\n"
            ]
          },
          "metadata": {
            "tags": []
          }
        }
      ]
    },
    {
      "cell_type": "code",
      "metadata": {
        "id": "RxOmVs4WSYzF"
      },
      "source": [
        "gtg = t(G)%*%G\n",
        "ggt = G%*%t(G)"
      ],
      "execution_count": null,
      "outputs": []
    },
    {
      "cell_type": "code",
      "metadata": {
        "colab": {
          "base_uri": "https://localhost:8080/",
          "height": 223
        },
        "id": "GOkPT5WmSgim",
        "outputId": "31cf6d58-597d-405f-bd53-cac5473c449e"
      },
      "source": [
        "round(dec$v %*% (diag(dec$d)^2 %*% t(dec$v)),3) # This gives gtg\n",
        "round(gtg,3)"
      ],
      "execution_count": null,
      "outputs": [
        {
          "output_type": "display_data",
          "data": {
            "text/plain": [
              "     [,1]  [,2]  [,3]  [,4] \n",
              "[1,] 2.999 0.000 1.000 1.999\n",
              "[2,] 0.000 2.999 1.999 1.000\n",
              "[3,] 1.000 1.999 2.999 0.000\n",
              "[4,] 1.999 1.000 0.000 2.999"
            ],
            "text/latex": "A matrix: 4 × 4 of type dbl\n\\begin{tabular}{llll}\n\t 2.999 & 0.000 & 1.000 & 1.999\\\\\n\t 0.000 & 2.999 & 1.999 & 1.000\\\\\n\t 1.000 & 1.999 & 2.999 & 0.000\\\\\n\t 1.999 & 1.000 & 0.000 & 2.999\\\\\n\\end{tabular}\n",
            "text/markdown": "\nA matrix: 4 × 4 of type dbl\n\n| 2.999 | 0.000 | 1.000 | 1.999 |\n| 0.000 | 2.999 | 1.999 | 1.000 |\n| 1.000 | 1.999 | 2.999 | 0.000 |\n| 1.999 | 1.000 | 0.000 | 2.999 |\n\n",
            "text/html": [
              "<table>\n",
              "<caption>A matrix: 4 × 4 of type dbl</caption>\n",
              "<tbody>\n",
              "\t<tr><td>2.999</td><td>0.000</td><td>1.000</td><td>1.999</td></tr>\n",
              "\t<tr><td>0.000</td><td>2.999</td><td>1.999</td><td>1.000</td></tr>\n",
              "\t<tr><td>1.000</td><td>1.999</td><td>2.999</td><td>0.000</td></tr>\n",
              "\t<tr><td>1.999</td><td>1.000</td><td>0.000</td><td>2.999</td></tr>\n",
              "</tbody>\n",
              "</table>\n"
            ]
          },
          "metadata": {
            "tags": []
          }
        },
        {
          "output_type": "display_data",
          "data": {
            "text/plain": [
              "     [,1]  [,2]  [,3]  [,4] \n",
              "[1,] 2.999 0.000 1.000 1.999\n",
              "[2,] 0.000 2.999 1.999 1.000\n",
              "[3,] 1.000 1.999 2.999 0.000\n",
              "[4,] 1.999 1.000 0.000 2.999"
            ],
            "text/latex": "A matrix: 4 × 4 of type dbl\n\\begin{tabular}{llll}\n\t 2.999 & 0.000 & 1.000 & 1.999\\\\\n\t 0.000 & 2.999 & 1.999 & 1.000\\\\\n\t 1.000 & 1.999 & 2.999 & 0.000\\\\\n\t 1.999 & 1.000 & 0.000 & 2.999\\\\\n\\end{tabular}\n",
            "text/markdown": "\nA matrix: 4 × 4 of type dbl\n\n| 2.999 | 0.000 | 1.000 | 1.999 |\n| 0.000 | 2.999 | 1.999 | 1.000 |\n| 1.000 | 1.999 | 2.999 | 0.000 |\n| 1.999 | 1.000 | 0.000 | 2.999 |\n\n",
            "text/html": [
              "<table>\n",
              "<caption>A matrix: 4 × 4 of type dbl</caption>\n",
              "<tbody>\n",
              "\t<tr><td>2.999</td><td>0.000</td><td>1.000</td><td>1.999</td></tr>\n",
              "\t<tr><td>0.000</td><td>2.999</td><td>1.999</td><td>1.000</td></tr>\n",
              "\t<tr><td>1.000</td><td>1.999</td><td>2.999</td><td>0.000</td></tr>\n",
              "\t<tr><td>1.999</td><td>1.000</td><td>0.000</td><td>2.999</td></tr>\n",
              "</tbody>\n",
              "</table>\n"
            ]
          },
          "metadata": {
            "tags": []
          }
        }
      ]
    },
    {
      "cell_type": "code",
      "metadata": {
        "colab": {
          "base_uri": "https://localhost:8080/",
          "height": 223
        },
        "id": "TaR9-9CYSp71",
        "outputId": "5effb6f6-a10b-4549-b066-1b3ad943d5fd"
      },
      "source": [
        "round(dec$u %*% (diag(dec$d)^2 %*% t(dec$u)),3) # This gives ggt\n",
        "round(ggt,3)"
      ],
      "execution_count": null,
      "outputs": [
        {
          "output_type": "display_data",
          "data": {
            "text/plain": [
              "     [,1]  [,2]  [,3]  [,4] \n",
              "[1,] 2.000 0.000 1.414 1.414\n",
              "[2,] 0.000 2.000 1.414 1.414\n",
              "[3,] 1.414 1.414 3.999 0.000\n",
              "[4,] 1.414 1.414 0.000 3.999"
            ],
            "text/latex": "A matrix: 4 × 4 of type dbl\n\\begin{tabular}{llll}\n\t 2.000 & 0.000 & 1.414 & 1.414\\\\\n\t 0.000 & 2.000 & 1.414 & 1.414\\\\\n\t 1.414 & 1.414 & 3.999 & 0.000\\\\\n\t 1.414 & 1.414 & 0.000 & 3.999\\\\\n\\end{tabular}\n",
            "text/markdown": "\nA matrix: 4 × 4 of type dbl\n\n| 2.000 | 0.000 | 1.414 | 1.414 |\n| 0.000 | 2.000 | 1.414 | 1.414 |\n| 1.414 | 1.414 | 3.999 | 0.000 |\n| 1.414 | 1.414 | 0.000 | 3.999 |\n\n",
            "text/html": [
              "<table>\n",
              "<caption>A matrix: 4 × 4 of type dbl</caption>\n",
              "<tbody>\n",
              "\t<tr><td>2.000</td><td>0.000</td><td>1.414</td><td>1.414</td></tr>\n",
              "\t<tr><td>0.000</td><td>2.000</td><td>1.414</td><td>1.414</td></tr>\n",
              "\t<tr><td>1.414</td><td>1.414</td><td>3.999</td><td>0.000</td></tr>\n",
              "\t<tr><td>1.414</td><td>1.414</td><td>0.000</td><td>3.999</td></tr>\n",
              "</tbody>\n",
              "</table>\n"
            ]
          },
          "metadata": {
            "tags": []
          }
        },
        {
          "output_type": "display_data",
          "data": {
            "text/plain": [
              "     [,1]  [,2]  [,3]  [,4] \n",
              "[1,] 2.000 0.000 1.414 1.414\n",
              "[2,] 0.000 2.000 1.414 1.414\n",
              "[3,] 1.414 1.414 3.999 0.000\n",
              "[4,] 1.414 1.414 0.000 3.999"
            ],
            "text/latex": "A matrix: 4 × 4 of type dbl\n\\begin{tabular}{llll}\n\t 2.000 & 0.000 & 1.414 & 1.414\\\\\n\t 0.000 & 2.000 & 1.414 & 1.414\\\\\n\t 1.414 & 1.414 & 3.999 & 0.000\\\\\n\t 1.414 & 1.414 & 0.000 & 3.999\\\\\n\\end{tabular}\n",
            "text/markdown": "\nA matrix: 4 × 4 of type dbl\n\n| 2.000 | 0.000 | 1.414 | 1.414 |\n| 0.000 | 2.000 | 1.414 | 1.414 |\n| 1.414 | 1.414 | 3.999 | 0.000 |\n| 1.414 | 1.414 | 0.000 | 3.999 |\n\n",
            "text/html": [
              "<table>\n",
              "<caption>A matrix: 4 × 4 of type dbl</caption>\n",
              "<tbody>\n",
              "\t<tr><td>2.000</td><td>0.000</td><td>1.414</td><td>1.414</td></tr>\n",
              "\t<tr><td>0.000</td><td>2.000</td><td>1.414</td><td>1.414</td></tr>\n",
              "\t<tr><td>1.414</td><td>1.414</td><td>3.999</td><td>0.000</td></tr>\n",
              "\t<tr><td>1.414</td><td>1.414</td><td>0.000</td><td>3.999</td></tr>\n",
              "</tbody>\n",
              "</table>\n"
            ]
          },
          "metadata": {
            "tags": []
          }
        }
      ]
    },
    {
      "cell_type": "code",
      "metadata": {
        "colab": {
          "base_uri": "https://localhost:8080/",
          "height": 137
        },
        "id": "7net1RDKSxPN",
        "outputId": "2f94d5cd-a9d8-4f13-ebac-340f101b67f8"
      },
      "source": [
        "gtgsvd = svd(gtg)\n",
        "ggtsvd = svd(ggt)\n",
        "\n",
        "gtgsvd$d <- ifelse(abs(svd(gtg)$d) <= 0.01, 0, svd(gtg)$d) # Getting the e-values greater than zero.\n",
        "gtgsvd$d <- gtgsvd$d[ gtgsvd$d !=0]  # Second step in getting the e-values.\n",
        "\n",
        "GtGU = gtgsvd$u[,1:length(gtgsvd$d)]\n",
        "GGtU = ggtsvd$u[,1:length(gtgsvd$d)]\n",
        "\n",
        "# 0   1   0   1\n",
        "# 1   0   1   0\n",
        "# 0   1.4 1.4 0\n",
        "# 1.4 0   0   1.4\n",
        "\n",
        "round(GGtU %*% (diag(sqrt(gtgsvd$d)) %*% t(GtGU)),2)"
      ],
      "execution_count": null,
      "outputs": [
        {
          "output_type": "display_data",
          "data": {
            "text/plain": [
              "     [,1] [,2] [,3] [,4]\n",
              "[1,] 0.00 1.00 0.00 1.00\n",
              "[2,] 1.00 0.00 1.00 0.00\n",
              "[3,] 1.41 0.00 0.00 1.41\n",
              "[4,] 0.00 1.41 1.41 0.00"
            ],
            "text/latex": "A matrix: 4 × 4 of type dbl\n\\begin{tabular}{llll}\n\t 0.00 & 1.00 & 0.00 & 1.00\\\\\n\t 1.00 & 0.00 & 1.00 & 0.00\\\\\n\t 1.41 & 0.00 & 0.00 & 1.41\\\\\n\t 0.00 & 1.41 & 1.41 & 0.00\\\\\n\\end{tabular}\n",
            "text/markdown": "\nA matrix: 4 × 4 of type dbl\n\n| 0.00 | 1.00 | 0.00 | 1.00 |\n| 1.00 | 0.00 | 1.00 | 0.00 |\n| 1.41 | 0.00 | 0.00 | 1.41 |\n| 0.00 | 1.41 | 1.41 | 0.00 |\n\n",
            "text/html": [
              "<table>\n",
              "<caption>A matrix: 4 × 4 of type dbl</caption>\n",
              "<tbody>\n",
              "\t<tr><td>0.00</td><td>1.00</td><td>0.00</td><td>1.00</td></tr>\n",
              "\t<tr><td>1.00</td><td>0.00</td><td>1.00</td><td>0.00</td></tr>\n",
              "\t<tr><td>1.41</td><td>0.00</td><td>0.00</td><td>1.41</td></tr>\n",
              "\t<tr><td>0.00</td><td>1.41</td><td>1.41</td><td>0.00</td></tr>\n",
              "</tbody>\n",
              "</table>\n"
            ]
          },
          "metadata": {
            "tags": []
          }
        }
      ]
    },
    {
      "cell_type": "code",
      "metadata": {
        "id": "_eyI5k7aZah1",
        "outputId": "e1d38061-0596-4a39-a0c3-67de61be89b8",
        "colab": {
          "base_uri": "https://localhost:8080/",
          "height": 353
        }
      },
      "source": [
        "gtgsvd"
      ],
      "execution_count": null,
      "outputs": [
        {
          "output_type": "display_data",
          "data": {
            "text/plain": [
              "$d\n",
              "[1] 5.998792 3.998792 2.000000\n",
              "\n",
              "$u\n",
              "     [,1] [,2] [,3] [,4]\n",
              "[1,] -0.5  0.5 -0.5 -0.5\n",
              "[2,] -0.5 -0.5  0.5 -0.5\n",
              "[3,] -0.5 -0.5 -0.5  0.5\n",
              "[4,] -0.5  0.5  0.5  0.5\n",
              "\n",
              "$v\n",
              "     [,1] [,2] [,3] [,4]\n",
              "[1,] -0.5  0.5 -0.5 -0.5\n",
              "[2,] -0.5 -0.5  0.5 -0.5\n",
              "[3,] -0.5 -0.5 -0.5  0.5\n",
              "[4,] -0.5  0.5  0.5  0.5\n"
            ],
            "text/latex": "\\begin{description}\n\\item[\\$d] \\begin{enumerate*}\n\\item 5.998792\n\\item 3.998792\n\\item 2\n\\end{enumerate*}\n\n\\item[\\$u] A matrix: 4 × 4 of type dbl\n\\begin{tabular}{llll}\n\t -0.5 &  0.5 & -0.5 & -0.5\\\\\n\t -0.5 & -0.5 &  0.5 & -0.5\\\\\n\t -0.5 & -0.5 & -0.5 &  0.5\\\\\n\t -0.5 &  0.5 &  0.5 &  0.5\\\\\n\\end{tabular}\n\n\\item[\\$v] A matrix: 4 × 4 of type dbl\n\\begin{tabular}{llll}\n\t -0.5 &  0.5 & -0.5 & -0.5\\\\\n\t -0.5 & -0.5 &  0.5 & -0.5\\\\\n\t -0.5 & -0.5 & -0.5 &  0.5\\\\\n\t -0.5 &  0.5 &  0.5 &  0.5\\\\\n\\end{tabular}\n\n\\end{description}\n",
            "text/markdown": "$d\n:   1. 5.998792\n2. 3.998792\n3. 2\n\n\n\n$u\n:   \nA matrix: 4 × 4 of type dbl\n\n| -0.5 |  0.5 | -0.5 | -0.5 |\n| -0.5 | -0.5 |  0.5 | -0.5 |\n| -0.5 | -0.5 | -0.5 |  0.5 |\n| -0.5 |  0.5 |  0.5 |  0.5 |\n\n\n$v\n:   \nA matrix: 4 × 4 of type dbl\n\n| -0.5 |  0.5 | -0.5 | -0.5 |\n| -0.5 | -0.5 |  0.5 | -0.5 |\n| -0.5 | -0.5 | -0.5 |  0.5 |\n| -0.5 |  0.5 |  0.5 |  0.5 |\n\n\n\n\n",
            "text/html": [
              "<dl>\n",
              "\t<dt>$d</dt>\n",
              "\t\t<dd><style>\n",
              ".list-inline {list-style: none; margin:0; padding: 0}\n",
              ".list-inline>li {display: inline-block}\n",
              ".list-inline>li:not(:last-child)::after {content: \"\\00b7\"; padding: 0 .5ex}\n",
              "</style>\n",
              "<ol class=list-inline><li>5.998792</li><li>3.998792</li><li>2</li></ol>\n",
              "</dd>\n",
              "\t<dt>$u</dt>\n",
              "\t\t<dd><table>\n",
              "<caption>A matrix: 4 × 4 of type dbl</caption>\n",
              "<tbody>\n",
              "\t<tr><td>-0.5</td><td> 0.5</td><td>-0.5</td><td>-0.5</td></tr>\n",
              "\t<tr><td>-0.5</td><td>-0.5</td><td> 0.5</td><td>-0.5</td></tr>\n",
              "\t<tr><td>-0.5</td><td>-0.5</td><td>-0.5</td><td> 0.5</td></tr>\n",
              "\t<tr><td>-0.5</td><td> 0.5</td><td> 0.5</td><td> 0.5</td></tr>\n",
              "</tbody>\n",
              "</table>\n",
              "</dd>\n",
              "\t<dt>$v</dt>\n",
              "\t\t<dd><table>\n",
              "<caption>A matrix: 4 × 4 of type dbl</caption>\n",
              "<tbody>\n",
              "\t<tr><td>-0.5</td><td> 0.5</td><td>-0.5</td><td>-0.5</td></tr>\n",
              "\t<tr><td>-0.5</td><td>-0.5</td><td> 0.5</td><td>-0.5</td></tr>\n",
              "\t<tr><td>-0.5</td><td>-0.5</td><td>-0.5</td><td> 0.5</td></tr>\n",
              "\t<tr><td>-0.5</td><td> 0.5</td><td> 0.5</td><td> 0.5</td></tr>\n",
              "</tbody>\n",
              "</table>\n",
              "</dd>\n",
              "</dl>\n"
            ]
          },
          "metadata": {
            "tags": []
          }
        }
      ]
    }
  ]
}