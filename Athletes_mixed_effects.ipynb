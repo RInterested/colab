{
  "nbformat": 4,
  "nbformat_minor": 0,
  "metadata": {
    "colab": {
      "provenance": [],
      "authorship_tag": "ABX9TyP+X4VOa7hq3jHp2/4OPff9"
    },
    "kernelspec": {
      "name": "ir",
      "display_name": "R"
    }
  },
  "cells": [
    {
      "cell_type": "code",
      "metadata": {
        "id": "4Ex7UQNnqIMU",
        "outputId": "f6b8b832-0a1b-44d2-c8cd-e1080a9a2c63",
        "colab": {
          "base_uri": "https://localhost:8080/",
          "height": 119
        }
      },
      "source": [
        "install.packages(\"lme4\")\n",
        "install.packages(\"mvtnorm\")"
      ],
      "execution_count": null,
      "outputs": [
        {
          "output_type": "stream",
          "text": [
            "Installing package into ‘/usr/local/lib/R/site-library’\n",
            "(as ‘lib’ is unspecified)\n",
            "\n",
            "Installing package into ‘/usr/local/lib/R/site-library’\n",
            "(as ‘lib’ is unspecified)\n",
            "\n"
          ],
          "name": "stderr"
        }
      ]
    },
    {
      "cell_type": "code",
      "metadata": {
        "id": "HrK8_yJEz9lt",
        "outputId": "ccc64d7d-1f2d-40d9-91e0-c68cf0f8a565",
        "colab": {
          "base_uri": "https://localhost:8080/",
          "height": 1000
        }
      },
      "source": [
        "# From http://anythingbutrbitrary.blogspot.in/2012/10/hierarchical-linear-models-and-lmer.html\n",
        "\n",
        "# WE LOOK AT THE REGRESSION OF [GLUCOSE] ~ [AMINOACID_A] IN 30 athletes after 15 races:\n",
        "\n",
        "# we'll make the sd of the slopes between athletes 0.5,\n",
        "# and the sd between intercepts of different athletes 0.2\n",
        "# Further we'll establish a correlation between intercepts and slopes of 0.8.\n",
        "\n",
        "rm(list = ls())\n",
        "set.seed(0)\n",
        "library(lme4)\n",
        "library(mvtnorm)\n",
        "\n",
        "athletes = 30\n",
        "races = 15\n",
        "\n",
        "# Setting up covariance matrix:\n",
        "\n",
        "i = 0.2 # sd between intercepts\n",
        "s = 0.5 # sd between slopes\n",
        "r = 0.8 # correlation between intercepts and slopes\n",
        "\n",
        "(cov.matrix1<-  matrix(c(i^2, r * i * s, r * i * s, s^2), nrow = 2, byrow = T))\n",
        "\n",
        "# Getting a random sample from this bi-variate normal distribution for each athlete:\n",
        "\n",
        "require(mvtnorm)\n",
        "random.effects_athletes <-  rmvnorm(athletes, mean = c(0, 0), sigma = cov.matrix1)\n",
        "\n",
        "\n",
        "# We establish now the mean of these random intercepts (`alpha_ath`) and slopes (`beta_ath`):\n",
        "\n",
        "\n",
        "athletes.df = data.frame(athlete  = c(1:athletes)) # Just a column of numbers from 1 to 30\n",
        "athletes.df$alpha_athletes = 1 + random.effects_athletes[, 1]\n",
        "athletes.df$beta_athletes =  2 + random.effects_athletes[, 2]\n",
        "\n",
        "summary(athletes.df$beta_athletes)  # The mean is the slope in the fixed effects: 2 + random.effects[,2])\n",
        "sd(athletes.df$beta_athletes)       # The sd of the slopes as random effects (we wanted 0.5)\n",
        "summary(athletes.df$alpha_athletes) # The intercept has a mean of 1: (Intercept) fixed eff's\n",
        "sd(athletes.df$alpha_athletes)      # with a SD intercept as random eff (we wanted 0.2)\n",
        "cor(athletes.df$alpha_athletes, athletes.df$beta_athletes) # Set at 0.8.\n",
        "\n",
        "\n",
        "\n",
        "#####FOR RACES:\n",
        "\n",
        "# The covariance matrix will be:\n",
        "\n",
        "i =   0.8   # sd between intercepts\n",
        "s =   0.2   # sd between slopes\n",
        "r = -0.01   # hardly any relationship between intercepts and slopes\n",
        "(cov.matrix2 <-  matrix(c(i^2, r * i * s, r * i * s, s^2), nrow = 2, byrow = T))\n",
        "\n",
        "\n",
        "# Getting a random sample from this bi-variate normal distribution for each race:\n",
        "\n",
        "random.effects_races <-  rmvnorm(races, mean = c(0, 0), sigma = cov.matrix2)\n",
        "\n",
        "# We establish now the mean of these random intercepts (`alpha_race`) and slopes (`beta_race`):\n",
        "\n",
        "races.df = data.frame(race  = c(1:races)) # Just a column of numbers from 1 to 15\n",
        "races.df$alpha_races   =    -1 + random.effects_races[, 1]\n",
        "races.df$beta_races    =     1 + random.effects_races[, 2]\n",
        "summary(races.df$beta_races)  # The mean is the slope in the fixed effects: 1 + random.effects[,2])\n",
        "sd(races.df$beta_races)       # The sd of the slopes as random effects (we wanted 0.2)\n",
        "summary(races.df$alpha_races) # The intercept has a mean of - 1: (Intercept) fixed eff's\n",
        "sd(races.df$alpha_races) # with a SD intercept as random eff (we wanted 0.8)\n",
        "cor(races.df$alpha_races, races.df$beta_races) # Set at -0.01.\n",
        "\n",
        "\n",
        "#####THE COVARIATE `AAA` - the fictitious amino acyd:\n",
        "\n",
        "# We need now produce the `[AAA]` with a mean of `50` and a sd of `5` as:\n",
        "\n",
        "\n",
        "observations <- athletes * races\n",
        "observations.df <-  data.frame(\n",
        "                    athlete = sort(rep(c(1:athletes), races)),\n",
        "                    race = rep(c(1:races), athletes),\n",
        "                    AAA = rep(rnorm(athletes * races, 50, 5)))\n",
        "dat1   <-  merge(athletes.df, observations.df)\n",
        "dat2   <-  merge(dat1, races.df)\n",
        "dat3   <-  dat2[with(dat2, order(athlete,race)), ]\n",
        "rownames(dat3)   <-  1:nrow(dat3)\n",
        "\n",
        "#####THE REGRESSOR:\n",
        "\n",
        "# It is time now to calculate the `[Glucose]` values as:\n",
        "\n",
        "\n",
        "df <-  within(dat3,\n",
        "       glucose <-  alpha_athletes + AAA * beta_athletes +\n",
        "                   alpha_races    + AAA * beta_races    +\n",
        "                   0.75 * rnorm(n = observations)) # Epsilon is 0.75\n",
        "\n",
        "head(df)\n",
        "D <- df[,c(2,1,5,8)]\n",
        "head(D)\n",
        "\n",
        "\n",
        "### THE MODELS:\n",
        "\n",
        "\n",
        "m1=lmer(glucose ~ AAA + (1|athlete), data=D)\n",
        "coefficients(m1) # 30 intercepts: 1 for every athlete; and one single slope for AAA\n",
        "m2=lmer(glucose ~ AAA + (1|athlete) + (0 + AAA|athlete), data=D)\n",
        "coefficients(m2) # One single intercept but 30 different slopes: 1 / athlete\n",
        "m3=lmer(glucose ~ AAA + (1 + AAA|athlete), data=D)\n",
        "coefficients(m3) # 30 intecepts and 30 different slopes\n",
        "m4=lmer(glucose ~ AAA * race + (1 + AAA * race|athlete), data=D)\n",
        "# 30 intercepts (30 inter'pts from athletes; 30 from race|athlete);\n",
        "# 30 slopes for AAA; 30 for race\n",
        "# And the interaction slopes of the AAA*race interaction.\n",
        "coefficients(m4)"
      ],
      "execution_count": null,
      "outputs": [
        {
          "output_type": "stream",
          "text": [
            "Loading required package: Matrix\n",
            "\n"
          ],
          "name": "stderr"
        },
        {
          "output_type": "display_data",
          "data": {
            "text/plain": [
              "     [,1] [,2]\n",
              "[1,] 0.04 0.08\n",
              "[2,] 0.08 0.25"
            ],
            "text/latex": "A matrix: 2 × 2 of type dbl\n\\begin{tabular}{ll}\n\t 0.04 & 0.08\\\\\n\t 0.08 & 0.25\\\\\n\\end{tabular}\n",
            "text/markdown": "\nA matrix: 2 × 2 of type dbl\n\n| 0.04 | 0.08 |\n| 0.08 | 0.25 |\n\n",
            "text/html": [
              "<table>\n",
              "<caption>A matrix: 2 × 2 of type dbl</caption>\n",
              "<tbody>\n",
              "\t<tr><td>0.04</td><td>0.08</td></tr>\n",
              "\t<tr><td>0.08</td><td>0.25</td></tr>\n",
              "</tbody>\n",
              "</table>\n"
            ]
          },
          "metadata": {
            "tags": []
          }
        },
        {
          "output_type": "display_data",
          "data": {
            "text/plain": [
              "   Min. 1st Qu.  Median    Mean 3rd Qu.    Max. \n",
              "  1.110   1.708   1.889   1.945   2.145   3.163 "
            ]
          },
          "metadata": {
            "tags": []
          }
        },
        {
          "output_type": "display_data",
          "data": {
            "text/plain": [
              "[1] 0.4513766"
            ],
            "text/latex": "0.451376610098581",
            "text/markdown": "0.451376610098581",
            "text/html": [
              "0.451376610098581"
            ]
          },
          "metadata": {
            "tags": []
          }
        },
        {
          "output_type": "display_data",
          "data": {
            "text/plain": [
              "   Min. 1st Qu.  Median    Mean 3rd Qu.    Max. \n",
              " 0.4948  0.8781  1.0158  1.0042  1.1164  1.3667 "
            ]
          },
          "metadata": {
            "tags": []
          }
        },
        {
          "output_type": "display_data",
          "data": {
            "text/plain": [
              "[1] 0.2011818"
            ],
            "text/latex": "0.20118181758907",
            "text/markdown": "0.20118181758907",
            "text/html": [
              "0.20118181758907"
            ]
          },
          "metadata": {
            "tags": []
          }
        },
        {
          "output_type": "display_data",
          "data": {
            "text/plain": [
              "[1] 0.7991471"
            ],
            "text/latex": "0.799147093107386",
            "text/markdown": "0.799147093107386",
            "text/html": [
              "0.799147093107386"
            ]
          },
          "metadata": {
            "tags": []
          }
        },
        {
          "output_type": "display_data",
          "data": {
            "text/plain": [
              "     [,1]    [,2]   \n",
              "[1,]  0.6400 -0.0016\n",
              "[2,] -0.0016  0.0400"
            ],
            "text/latex": "A matrix: 2 × 2 of type dbl\n\\begin{tabular}{ll}\n\t  0.6400 & -0.0016\\\\\n\t -0.0016 &  0.0400\\\\\n\\end{tabular}\n",
            "text/markdown": "\nA matrix: 2 × 2 of type dbl\n\n|  0.6400 | -0.0016 |\n| -0.0016 |  0.0400 |\n\n",
            "text/html": [
              "<table>\n",
              "<caption>A matrix: 2 × 2 of type dbl</caption>\n",
              "<tbody>\n",
              "\t<tr><td> 0.6400</td><td>-0.0016</td></tr>\n",
              "\t<tr><td>-0.0016</td><td> 0.0400</td></tr>\n",
              "</tbody>\n",
              "</table>\n"
            ]
          },
          "metadata": {
            "tags": []
          }
        },
        {
          "output_type": "display_data",
          "data": {
            "text/plain": [
              "   Min. 1st Qu.  Median    Mean 3rd Qu.    Max. \n",
              " 0.7140  0.9655  0.9972  1.0164  1.0635  1.2521 "
            ]
          },
          "metadata": {
            "tags": []
          }
        },
        {
          "output_type": "display_data",
          "data": {
            "text/plain": [
              "[1] 0.1282501"
            ],
            "text/latex": "0.128250107115081",
            "text/markdown": "0.128250107115081",
            "text/html": [
              "0.128250107115081"
            ]
          },
          "metadata": {
            "tags": []
          }
        },
        {
          "output_type": "display_data",
          "data": {
            "text/plain": [
              "     Min.   1st Qu.    Median      Mean   3rd Qu.      Max. \n",
              "-2.140662 -1.646019 -0.985087 -1.080361 -0.591727  0.003778 "
            ]
          },
          "metadata": {
            "tags": []
          }
        },
        {
          "output_type": "display_data",
          "data": {
            "text/plain": [
              "[1] 0.6525022"
            ],
            "text/latex": "0.652502186250417",
            "text/markdown": "0.652502186250417",
            "text/html": [
              "0.652502186250417"
            ]
          },
          "metadata": {
            "tags": []
          }
        },
        {
          "output_type": "display_data",
          "data": {
            "text/plain": [
              "[1] 0.1491423"
            ],
            "text/latex": "0.149142338182411",
            "text/markdown": "0.149142338182411",
            "text/html": [
              "0.149142338182411"
            ]
          },
          "metadata": {
            "tags": []
          }
        },
        {
          "output_type": "display_data",
          "data": {
            "text/plain": [
              "  race athlete alpha_athletes beta_athletes AAA      alpha_races beta_races\n",
              "1 1    1       1.156481       1.99985       56.49656 -0.7129998  0.9972170 \n",
              "2 2    1       1.156481       1.99985       45.63369 -1.7523325  0.9783407 \n",
              "3 3    1       1.156481       1.99985       50.04185 -1.6523613  1.0497551 \n",
              "4 4    1       1.156481       1.99985       45.59564 -2.1406619  1.0754661 \n",
              "5 5    1       1.156481       1.99985       52.98130 -0.8013747  1.0126598 \n",
              "6 6    1       1.156481       1.99985       50.59859 -0.9850867  1.0514354 \n",
              "  glucose \n",
              "1 169.5516\n",
              "2 135.0500\n",
              "3 150.7323\n",
              "4 139.9108\n",
              "5 159.0521\n",
              "6 154.3979"
            ],
            "text/latex": "A data.frame: 6 × 8\n\\begin{tabular}{r|llllllll}\n  & race & athlete & alpha\\_athletes & beta\\_athletes & AAA & alpha\\_races & beta\\_races & glucose\\\\\n  & <int> & <int> & <dbl> & <dbl> & <dbl> & <dbl> & <dbl> & <dbl>\\\\\n\\hline\n\t1 & 1 & 1 & 1.156481 & 1.99985 & 56.49656 & -0.7129998 & 0.9972170 & 169.5516\\\\\n\t2 & 2 & 1 & 1.156481 & 1.99985 & 45.63369 & -1.7523325 & 0.9783407 & 135.0500\\\\\n\t3 & 3 & 1 & 1.156481 & 1.99985 & 50.04185 & -1.6523613 & 1.0497551 & 150.7323\\\\\n\t4 & 4 & 1 & 1.156481 & 1.99985 & 45.59564 & -2.1406619 & 1.0754661 & 139.9108\\\\\n\t5 & 5 & 1 & 1.156481 & 1.99985 & 52.98130 & -0.8013747 & 1.0126598 & 159.0521\\\\\n\t6 & 6 & 1 & 1.156481 & 1.99985 & 50.59859 & -0.9850867 & 1.0514354 & 154.3979\\\\\n\\end{tabular}\n",
            "text/markdown": "\nA data.frame: 6 × 8\n\n| <!--/--> | race &lt;int&gt; | athlete &lt;int&gt; | alpha_athletes &lt;dbl&gt; | beta_athletes &lt;dbl&gt; | AAA &lt;dbl&gt; | alpha_races &lt;dbl&gt; | beta_races &lt;dbl&gt; | glucose &lt;dbl&gt; |\n|---|---|---|---|---|---|---|---|---|\n| 1 | 1 | 1 | 1.156481 | 1.99985 | 56.49656 | -0.7129998 | 0.9972170 | 169.5516 |\n| 2 | 2 | 1 | 1.156481 | 1.99985 | 45.63369 | -1.7523325 | 0.9783407 | 135.0500 |\n| 3 | 3 | 1 | 1.156481 | 1.99985 | 50.04185 | -1.6523613 | 1.0497551 | 150.7323 |\n| 4 | 4 | 1 | 1.156481 | 1.99985 | 45.59564 | -2.1406619 | 1.0754661 | 139.9108 |\n| 5 | 5 | 1 | 1.156481 | 1.99985 | 52.98130 | -0.8013747 | 1.0126598 | 159.0521 |\n| 6 | 6 | 1 | 1.156481 | 1.99985 | 50.59859 | -0.9850867 | 1.0514354 | 154.3979 |\n\n",
            "text/html": [
              "<table>\n",
              "<caption>A data.frame: 6 × 8</caption>\n",
              "<thead>\n",
              "\t<tr><th></th><th scope=col>race</th><th scope=col>athlete</th><th scope=col>alpha_athletes</th><th scope=col>beta_athletes</th><th scope=col>AAA</th><th scope=col>alpha_races</th><th scope=col>beta_races</th><th scope=col>glucose</th></tr>\n",
              "\t<tr><th></th><th scope=col>&lt;int&gt;</th><th scope=col>&lt;int&gt;</th><th scope=col>&lt;dbl&gt;</th><th scope=col>&lt;dbl&gt;</th><th scope=col>&lt;dbl&gt;</th><th scope=col>&lt;dbl&gt;</th><th scope=col>&lt;dbl&gt;</th><th scope=col>&lt;dbl&gt;</th></tr>\n",
              "</thead>\n",
              "<tbody>\n",
              "\t<tr><th scope=row>1</th><td>1</td><td>1</td><td>1.156481</td><td>1.99985</td><td>56.49656</td><td>-0.7129998</td><td>0.9972170</td><td>169.5516</td></tr>\n",
              "\t<tr><th scope=row>2</th><td>2</td><td>1</td><td>1.156481</td><td>1.99985</td><td>45.63369</td><td>-1.7523325</td><td>0.9783407</td><td>135.0500</td></tr>\n",
              "\t<tr><th scope=row>3</th><td>3</td><td>1</td><td>1.156481</td><td>1.99985</td><td>50.04185</td><td>-1.6523613</td><td>1.0497551</td><td>150.7323</td></tr>\n",
              "\t<tr><th scope=row>4</th><td>4</td><td>1</td><td>1.156481</td><td>1.99985</td><td>45.59564</td><td>-2.1406619</td><td>1.0754661</td><td>139.9108</td></tr>\n",
              "\t<tr><th scope=row>5</th><td>5</td><td>1</td><td>1.156481</td><td>1.99985</td><td>52.98130</td><td>-0.8013747</td><td>1.0126598</td><td>159.0521</td></tr>\n",
              "\t<tr><th scope=row>6</th><td>6</td><td>1</td><td>1.156481</td><td>1.99985</td><td>50.59859</td><td>-0.9850867</td><td>1.0514354</td><td>154.3979</td></tr>\n",
              "</tbody>\n",
              "</table>\n"
            ]
          },
          "metadata": {
            "tags": []
          }
        },
        {
          "output_type": "display_data",
          "data": {
            "text/plain": [
              "  athlete race AAA      glucose \n",
              "1 1       1    56.49656 169.5516\n",
              "2 1       2    45.63369 135.0500\n",
              "3 1       3    50.04185 150.7323\n",
              "4 1       4    45.59564 139.9108\n",
              "5 1       5    52.98130 159.0521\n",
              "6 1       6    50.59859 154.3979"
            ],
            "text/latex": "A data.frame: 6 × 4\n\\begin{tabular}{r|llll}\n  & athlete & race & AAA & glucose\\\\\n  & <int> & <int> & <dbl> & <dbl>\\\\\n\\hline\n\t1 & 1 & 1 & 56.49656 & 169.5516\\\\\n\t2 & 1 & 2 & 45.63369 & 135.0500\\\\\n\t3 & 1 & 3 & 50.04185 & 150.7323\\\\\n\t4 & 1 & 4 & 45.59564 & 139.9108\\\\\n\t5 & 1 & 5 & 52.98130 & 159.0521\\\\\n\t6 & 1 & 6 & 50.59859 & 154.3979\\\\\n\\end{tabular}\n",
            "text/markdown": "\nA data.frame: 6 × 4\n\n| <!--/--> | athlete &lt;int&gt; | race &lt;int&gt; | AAA &lt;dbl&gt; | glucose &lt;dbl&gt; |\n|---|---|---|---|---|\n| 1 | 1 | 1 | 56.49656 | 169.5516 |\n| 2 | 1 | 2 | 45.63369 | 135.0500 |\n| 3 | 1 | 3 | 50.04185 | 150.7323 |\n| 4 | 1 | 4 | 45.59564 | 139.9108 |\n| 5 | 1 | 5 | 52.98130 | 159.0521 |\n| 6 | 1 | 6 | 50.59859 | 154.3979 |\n\n",
            "text/html": [
              "<table>\n",
              "<caption>A data.frame: 6 × 4</caption>\n",
              "<thead>\n",
              "\t<tr><th></th><th scope=col>athlete</th><th scope=col>race</th><th scope=col>AAA</th><th scope=col>glucose</th></tr>\n",
              "\t<tr><th></th><th scope=col>&lt;int&gt;</th><th scope=col>&lt;int&gt;</th><th scope=col>&lt;dbl&gt;</th><th scope=col>&lt;dbl&gt;</th></tr>\n",
              "</thead>\n",
              "<tbody>\n",
              "\t<tr><th scope=row>1</th><td>1</td><td>1</td><td>56.49656</td><td>169.5516</td></tr>\n",
              "\t<tr><th scope=row>2</th><td>1</td><td>2</td><td>45.63369</td><td>135.0500</td></tr>\n",
              "\t<tr><th scope=row>3</th><td>1</td><td>3</td><td>50.04185</td><td>150.7323</td></tr>\n",
              "\t<tr><th scope=row>4</th><td>1</td><td>4</td><td>45.59564</td><td>139.9108</td></tr>\n",
              "\t<tr><th scope=row>5</th><td>1</td><td>5</td><td>52.98130</td><td>159.0521</td></tr>\n",
              "\t<tr><th scope=row>6</th><td>1</td><td>6</td><td>50.59859</td><td>154.3979</td></tr>\n",
              "</tbody>\n",
              "</table>\n"
            ]
          },
          "metadata": {
            "tags": []
          }
        },
        {
          "output_type": "display_data",
          "data": {
            "text/plain": [
              "$athlete\n",
              "   (Intercept)      AAA\n",
              "1    -2.319430 3.062027\n",
              "2    37.252580 3.062027\n",
              "3   -37.369466 3.062027\n",
              "4   -14.498814 3.062027\n",
              "5    58.412704 3.062027\n",
              "6   -16.321969 3.062027\n",
              "7   -16.930180 3.062027\n",
              "8   -14.312161 3.062027\n",
              "9   -22.562873 3.062027\n",
              "10  -29.490204 3.062027\n",
              "11    5.189050 3.062027\n",
              "12   17.922213 3.062027\n",
              "13    9.632048 3.062027\n",
              "14  -12.402902 3.062027\n",
              "15   -8.973970 3.062027\n",
              "16  -17.162565 3.062027\n",
              "17  -20.555254 3.062027\n",
              "18   30.116141 3.062027\n",
              "19   -6.759428 3.062027\n",
              "20   -1.335303 3.062027\n",
              "21   22.288812 3.062027\n",
              "22  -25.822019 3.062027\n",
              "23  -34.820442 3.062027\n",
              "24   14.937800 3.062027\n",
              "25   -2.613498 3.062027\n",
              "26   -9.760009 3.062027\n",
              "27   -5.968219 3.062027\n",
              "28    3.074827 3.062027\n",
              "29   -2.450880 3.062027\n",
              "30  -46.164701 3.062027\n",
              "\n",
              "attr(,\"class\")\n",
              "[1] \"coef.mer\""
            ]
          },
          "metadata": {
            "tags": []
          }
        },
        {
          "output_type": "stream",
          "text": [
            "boundary (singular) fit: see ?isSingular\n",
            "\n"
          ],
          "name": "stderr"
        },
        {
          "output_type": "display_data",
          "data": {
            "text/plain": [
              "$athlete\n",
              "   (Intercept)      AAA\n",
              "1    -3.293895 3.082104\n",
              "2    -3.293895 3.878285\n",
              "3    -3.293895 2.385910\n",
              "4    -3.293895 2.822765\n",
              "5    -3.293895 4.240351\n",
              "6    -3.293895 2.796344\n",
              "7    -3.293895 2.790783\n",
              "8    -3.293895 2.846261\n",
              "9    -3.293895 2.688807\n",
              "10   -3.293895 2.537121\n",
              "11   -3.293895 3.226337\n",
              "12   -3.293895 3.488651\n",
              "13   -3.293895 3.323610\n",
              "14   -3.293895 2.878070\n",
              "15   -3.293895 2.946938\n",
              "16   -3.293895 2.785408\n",
              "17   -3.293895 2.719229\n",
              "18   -3.293895 3.724945\n",
              "19   -3.293895 2.986893\n",
              "20   -3.293895 3.095998\n",
              "21   -3.293895 3.573158\n",
              "22   -3.293895 2.627459\n",
              "23   -3.293895 2.421532\n",
              "24   -3.293895 3.433305\n",
              "25   -3.293895 3.072523\n",
              "26   -3.293895 2.931712\n",
              "27   -3.293895 3.011902\n",
              "28   -3.293895 3.186349\n",
              "29   -3.293895 3.080520\n",
              "30   -3.293895 2.179237\n",
              "\n",
              "attr(,\"class\")\n",
              "[1] \"coef.mer\""
            ]
          },
          "metadata": {
            "tags": []
          }
        },
        {
          "output_type": "stream",
          "text": [
            "boundary (singular) fit: see ?isSingular\n",
            "\n"
          ],
          "name": "stderr"
        },
        {
          "output_type": "display_data",
          "data": {
            "text/plain": [
              "$athlete\n",
              "   (Intercept)      AAA\n",
              "1    -3.293893 3.082104\n",
              "2    -3.293893 3.878285\n",
              "3    -3.293893 2.385909\n",
              "4    -3.293893 2.822765\n",
              "5    -3.293893 4.240352\n",
              "6    -3.293893 2.796344\n",
              "7    -3.293893 2.790783\n",
              "8    -3.293893 2.846261\n",
              "9    -3.293893 2.688807\n",
              "10   -3.293893 2.537121\n",
              "11   -3.293893 3.226337\n",
              "12   -3.293893 3.488652\n",
              "13   -3.293893 3.323610\n",
              "14   -3.293893 2.878070\n",
              "15   -3.293893 2.946938\n",
              "16   -3.293893 2.785408\n",
              "17   -3.293893 2.719229\n",
              "18   -3.293893 3.724945\n",
              "19   -3.293893 2.986892\n",
              "20   -3.293893 3.095998\n",
              "21   -3.293893 3.573158\n",
              "22   -3.293893 2.627459\n",
              "23   -3.293893 2.421532\n",
              "24   -3.293893 3.433305\n",
              "25   -3.293893 3.072523\n",
              "26   -3.293893 2.931712\n",
              "27   -3.293893 3.011902\n",
              "28   -3.293893 3.186349\n",
              "29   -3.293893 3.080520\n",
              "30   -3.293893 2.179237\n",
              "\n",
              "attr(,\"class\")\n",
              "[1] \"coef.mer\""
            ]
          },
          "metadata": {
            "tags": []
          }
        },
        {
          "output_type": "stream",
          "text": [
            "boundary (singular) fit: see ?isSingular\n",
            "\n"
          ],
          "name": "stderr"
        },
        {
          "output_type": "display_data",
          "data": {
            "text/plain": [
              "$athlete\n",
              "   (Intercept)      AAA        race      AAA:race\n",
              "1    1.9767682 2.973291 -0.80056675  0.0165666867\n",
              "2    5.5187592 3.709103 -4.72173721  0.0935066179\n",
              "3   -0.1562703 2.307275 -2.64674739  0.0536808017\n",
              "4    0.9132622 2.725112  0.01885582  0.0005705346\n",
              "5    6.1547881 4.060662 -0.52124891  0.0100822872\n",
              "6    0.8796833 2.720062 -1.99049774  0.0403409931\n",
              "7    1.4982774 2.699735  2.22757625 -0.0431317231\n",
              "8    1.0725842 2.748798 -2.01663690  0.0408314069\n",
              "9    0.9142550 2.583552 -4.19176379  0.0840139337\n",
              "10   0.3014324 2.454717 -0.80722906  0.0171485643\n",
              "11   2.8246423 3.106519  1.61844699 -0.0314301155\n",
              "12   4.2185350 3.339082 -1.26262171  0.0253727880\n",
              "13   3.4190397 3.183039 -5.64081015  0.1121596933\n",
              "14   1.6902255 2.772324  1.45639909 -0.0279320481\n",
              "15   1.7952148 2.842018 -0.63158534  0.0133316832\n",
              "16   1.2079677 2.688746 -0.47821382  0.0104312200\n",
              "17   0.8433720 2.634029 -2.19479847  0.0444541182\n",
              "18   4.6163419 3.568123  0.13711634 -0.0025205624\n",
              "19   2.1586931 2.863903  2.20952999 -0.0429195854\n",
              "20   2.7549929 2.978874  1.54267437 -0.0298264625\n",
              "21   4.8848944 3.410694 -0.58867977  0.0119646353\n",
              "22   0.1561310 2.534604 -2.60443683  0.0526544115\n",
              "23  -0.5623365 2.362343 -1.71135899  0.0351327692\n",
              "24   3.4984028 3.296454 -0.28373072  0.0060485778\n",
              "25   2.7633485 2.943849  0.28424763 -0.0048937746\n",
              "26   1.8186279 2.824920  1.40944144 -0.0270475754\n",
              "27   1.8057244 2.907187 -3.63506365  0.0727188100\n",
              "28   1.8521616 3.085593  0.70271667 -0.0132717180\n",
              "29   1.7451423 2.978966 -1.25556399  0.0255711753\n",
              "30  -1.1800811 2.123068  0.18278220 -0.0021482620\n",
              "\n",
              "attr(,\"class\")\n",
              "[1] \"coef.mer\""
            ]
          },
          "metadata": {
            "tags": []
          }
        }
      ]
    }
  ]
}