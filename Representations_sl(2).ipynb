{
  "nbformat": 4,
  "nbformat_minor": 0,
  "metadata": {
    "colab": {
      "provenance": [],
      "authorship_tag": "ABX9TyN4Xru8xQnKR238wkZXiyDy"
    },
    "kernelspec": {
      "name": "ir",
      "display_name": "R"
    }
  },
  "cells": [
    {
      "cell_type": "markdown",
      "metadata": {
        "id": "umtGX5cl0O4Z"
      },
      "source": [
        "As a note to self (and hopefully some other people out there) I want to reflect here the comment by @Torsten Shoeneberg, which gives an immediate intuition as to how to build these matrices for any dimensions, and a perfect correspondence to the diagram:\n",
        "\n",
        "\n",
        "$$\\begin{align}\n",
        "\\small H&=\\begin{bmatrix}\\color{blue}4&0&0&0&0\\\\0&\\color{blue}2&0&0&0\\\\0&0&\\color{blue}0&0&0\\\\0&0&0&\\color{blue}{-2}&0\\\\0&0&0&0&\\color{blue}{-4}\\end{bmatrix}\\\\\n",
        "E&=\\small \\begin{bmatrix}0&\\color{orange}4&0&0&0\\\\0&0&\\color{orange}3&0&0\\\\0&0&0&\\color{orange}2&0\\\\0&0&0&0&\\color{orange}1\\\\0&0&0&0&0\\end{bmatrix}\\\\\n",
        "F&=\\small \\begin{bmatrix}0&0&0&0&0\\\\\\color{lime}{1}&0&0&0&0\\\\0&\\color{lime}{2}&0&0&0\\\\0&0&\\color{lime}{3}&0&0\\\\0&0&0&\\color{lime}{4}&0\\end{bmatrix}\n",
        "\\end{align}\n",
        "$$\n",
        "\n"
      ]
    },
    {
      "cell_type": "markdown",
      "metadata": {
        "id": "E5x_QT10CuyU"
      },
      "source": [
        "For example $(0,0,0,1,0),$ corresponding to the fourth white dot, and performing the backet $[E,F].$ Starting with $EF,$\n",
        "\n",
        "$F\\cdot e_4=4 e_5$\n",
        "\n",
        "and composing this result with $E,$ we obtain $4 e_4.$\n",
        "\n",
        "Whereas $FE$ will entail starting with $E\\cdot e_4 = 2 e_3$ which then becomes $2F\\cdot e_3=6e_4$"
      ]
    },
    {
      "cell_type": "code",
      "metadata": {
        "id": "HrK8_yJEz9lt"
      },
      "source": [
        "vec <- c(3+1i, -2-1i)"
      ],
      "execution_count": null,
      "outputs": []
    },
    {
      "cell_type": "code",
      "metadata": {
        "id": "7RsTRVVWQUGS",
        "colab": {
          "base_uri": "https://localhost:8080/",
          "height": 491
        },
        "outputId": "0b0a6bce-80e1-4371-c569-6e15e4089118"
      },
      "source": [
        "H = matrix(c(4,0,0,0,0,0,2,0,0,0,0,0,0,0,0,0,0,0,-2,0,0,0,0,0,-4),5,5,1)\n",
        "H\n",
        "E = matrix(c(0,4,0,0,0,0,0,3,0,0,0,0,0,2,0,0,0,0,0,1,0,0,0,0,0),5,5,1)\n",
        "E\n",
        "F = matrix(c(0,0,0,0,0,1,0,0,0,0,0,2,0,0,0,0,0,3,0,0,0,0,0,4,0),5,5,1)\n",
        "F"
      ],
      "execution_count": null,
      "outputs": [
        {
          "output_type": "display_data",
          "data": {
            "text/plain": [
              "     [,1] [,2] [,3] [,4] [,5]\n",
              "[1,] 4    0    0     0    0  \n",
              "[2,] 0    2    0     0    0  \n",
              "[3,] 0    0    0     0    0  \n",
              "[4,] 0    0    0    -2    0  \n",
              "[5,] 0    0    0     0   -4  "
            ],
            "text/latex": "A matrix: 5 × 5 of type dbl\n\\begin{tabular}{lllll}\n\t 4 & 0 & 0 &  0 &  0\\\\\n\t 0 & 2 & 0 &  0 &  0\\\\\n\t 0 & 0 & 0 &  0 &  0\\\\\n\t 0 & 0 & 0 & -2 &  0\\\\\n\t 0 & 0 & 0 &  0 & -4\\\\\n\\end{tabular}\n",
            "text/markdown": "\nA matrix: 5 × 5 of type dbl\n\n| 4 | 0 | 0 |  0 |  0 |\n| 0 | 2 | 0 |  0 |  0 |\n| 0 | 0 | 0 |  0 |  0 |\n| 0 | 0 | 0 | -2 |  0 |\n| 0 | 0 | 0 |  0 | -4 |\n\n",
            "text/html": [
              "<table>\n",
              "<caption>A matrix: 5 × 5 of type dbl</caption>\n",
              "<tbody>\n",
              "\t<tr><td>4</td><td>0</td><td>0</td><td> 0</td><td> 0</td></tr>\n",
              "\t<tr><td>0</td><td>2</td><td>0</td><td> 0</td><td> 0</td></tr>\n",
              "\t<tr><td>0</td><td>0</td><td>0</td><td> 0</td><td> 0</td></tr>\n",
              "\t<tr><td>0</td><td>0</td><td>0</td><td>-2</td><td> 0</td></tr>\n",
              "\t<tr><td>0</td><td>0</td><td>0</td><td> 0</td><td>-4</td></tr>\n",
              "</tbody>\n",
              "</table>\n"
            ]
          },
          "metadata": {
            "tags": []
          }
        },
        {
          "output_type": "display_data",
          "data": {
            "text/plain": [
              "     [,1] [,2] [,3] [,4] [,5]\n",
              "[1,] 0    4    0    0    0   \n",
              "[2,] 0    0    3    0    0   \n",
              "[3,] 0    0    0    2    0   \n",
              "[4,] 0    0    0    0    1   \n",
              "[5,] 0    0    0    0    0   "
            ],
            "text/latex": "A matrix: 5 × 5 of type dbl\n\\begin{tabular}{lllll}\n\t 0 & 4 & 0 & 0 & 0\\\\\n\t 0 & 0 & 3 & 0 & 0\\\\\n\t 0 & 0 & 0 & 2 & 0\\\\\n\t 0 & 0 & 0 & 0 & 1\\\\\n\t 0 & 0 & 0 & 0 & 0\\\\\n\\end{tabular}\n",
            "text/markdown": "\nA matrix: 5 × 5 of type dbl\n\n| 0 | 4 | 0 | 0 | 0 |\n| 0 | 0 | 3 | 0 | 0 |\n| 0 | 0 | 0 | 2 | 0 |\n| 0 | 0 | 0 | 0 | 1 |\n| 0 | 0 | 0 | 0 | 0 |\n\n",
            "text/html": [
              "<table>\n",
              "<caption>A matrix: 5 × 5 of type dbl</caption>\n",
              "<tbody>\n",
              "\t<tr><td>0</td><td>4</td><td>0</td><td>0</td><td>0</td></tr>\n",
              "\t<tr><td>0</td><td>0</td><td>3</td><td>0</td><td>0</td></tr>\n",
              "\t<tr><td>0</td><td>0</td><td>0</td><td>2</td><td>0</td></tr>\n",
              "\t<tr><td>0</td><td>0</td><td>0</td><td>0</td><td>1</td></tr>\n",
              "\t<tr><td>0</td><td>0</td><td>0</td><td>0</td><td>0</td></tr>\n",
              "</tbody>\n",
              "</table>\n"
            ]
          },
          "metadata": {
            "tags": []
          }
        },
        {
          "output_type": "display_data",
          "data": {
            "text/plain": [
              "     [,1] [,2] [,3] [,4] [,5]\n",
              "[1,] 0    0    0    0    0   \n",
              "[2,] 1    0    0    0    0   \n",
              "[3,] 0    2    0    0    0   \n",
              "[4,] 0    0    3    0    0   \n",
              "[5,] 0    0    0    4    0   "
            ],
            "text/latex": "A matrix: 5 × 5 of type dbl\n\\begin{tabular}{lllll}\n\t 0 & 0 & 0 & 0 & 0\\\\\n\t 1 & 0 & 0 & 0 & 0\\\\\n\t 0 & 2 & 0 & 0 & 0\\\\\n\t 0 & 0 & 3 & 0 & 0\\\\\n\t 0 & 0 & 0 & 4 & 0\\\\\n\\end{tabular}\n",
            "text/markdown": "\nA matrix: 5 × 5 of type dbl\n\n| 0 | 0 | 0 | 0 | 0 |\n| 1 | 0 | 0 | 0 | 0 |\n| 0 | 2 | 0 | 0 | 0 |\n| 0 | 0 | 3 | 0 | 0 |\n| 0 | 0 | 0 | 4 | 0 |\n\n",
            "text/html": [
              "<table>\n",
              "<caption>A matrix: 5 × 5 of type dbl</caption>\n",
              "<tbody>\n",
              "\t<tr><td>0</td><td>0</td><td>0</td><td>0</td><td>0</td></tr>\n",
              "\t<tr><td>1</td><td>0</td><td>0</td><td>0</td><td>0</td></tr>\n",
              "\t<tr><td>0</td><td>2</td><td>0</td><td>0</td><td>0</td></tr>\n",
              "\t<tr><td>0</td><td>0</td><td>3</td><td>0</td><td>0</td></tr>\n",
              "\t<tr><td>0</td><td>0</td><td>0</td><td>4</td><td>0</td></tr>\n",
              "</tbody>\n",
              "</table>\n"
            ]
          },
          "metadata": {
            "tags": []
          }
        }
      ]
    },
    {
      "cell_type": "code",
      "metadata": {
        "colab": {
          "base_uri": "https://localhost:8080/",
          "height": 333
        },
        "id": "VKJOqbBamvW3",
        "outputId": "795a4158-b8bd-4268-f7b4-08e5cc576f38"
      },
      "source": [
        "(H %*% E) - (E %*% H)\n",
        "2 * E"
      ],
      "execution_count": null,
      "outputs": [
        {
          "output_type": "display_data",
          "data": {
            "text/plain": [
              "     [,1] [,2] [,3] [,4] [,5]\n",
              "[1,] 0    8    0    0    0   \n",
              "[2,] 0    0    6    0    0   \n",
              "[3,] 0    0    0    4    0   \n",
              "[4,] 0    0    0    0    2   \n",
              "[5,] 0    0    0    0    0   "
            ],
            "text/latex": "A matrix: 5 × 5 of type dbl\n\\begin{tabular}{lllll}\n\t 0 & 8 & 0 & 0 & 0\\\\\n\t 0 & 0 & 6 & 0 & 0\\\\\n\t 0 & 0 & 0 & 4 & 0\\\\\n\t 0 & 0 & 0 & 0 & 2\\\\\n\t 0 & 0 & 0 & 0 & 0\\\\\n\\end{tabular}\n",
            "text/markdown": "\nA matrix: 5 × 5 of type dbl\n\n| 0 | 8 | 0 | 0 | 0 |\n| 0 | 0 | 6 | 0 | 0 |\n| 0 | 0 | 0 | 4 | 0 |\n| 0 | 0 | 0 | 0 | 2 |\n| 0 | 0 | 0 | 0 | 0 |\n\n",
            "text/html": [
              "<table>\n",
              "<caption>A matrix: 5 × 5 of type dbl</caption>\n",
              "<tbody>\n",
              "\t<tr><td>0</td><td>8</td><td>0</td><td>0</td><td>0</td></tr>\n",
              "\t<tr><td>0</td><td>0</td><td>6</td><td>0</td><td>0</td></tr>\n",
              "\t<tr><td>0</td><td>0</td><td>0</td><td>4</td><td>0</td></tr>\n",
              "\t<tr><td>0</td><td>0</td><td>0</td><td>0</td><td>2</td></tr>\n",
              "\t<tr><td>0</td><td>0</td><td>0</td><td>0</td><td>0</td></tr>\n",
              "</tbody>\n",
              "</table>\n"
            ]
          },
          "metadata": {
            "tags": []
          }
        },
        {
          "output_type": "display_data",
          "data": {
            "text/plain": [
              "     [,1] [,2] [,3] [,4] [,5]\n",
              "[1,] 0    8    0    0    0   \n",
              "[2,] 0    0    6    0    0   \n",
              "[3,] 0    0    0    4    0   \n",
              "[4,] 0    0    0    0    2   \n",
              "[5,] 0    0    0    0    0   "
            ],
            "text/latex": "A matrix: 5 × 5 of type dbl\n\\begin{tabular}{lllll}\n\t 0 & 8 & 0 & 0 & 0\\\\\n\t 0 & 0 & 6 & 0 & 0\\\\\n\t 0 & 0 & 0 & 4 & 0\\\\\n\t 0 & 0 & 0 & 0 & 2\\\\\n\t 0 & 0 & 0 & 0 & 0\\\\\n\\end{tabular}\n",
            "text/markdown": "\nA matrix: 5 × 5 of type dbl\n\n| 0 | 8 | 0 | 0 | 0 |\n| 0 | 0 | 6 | 0 | 0 |\n| 0 | 0 | 0 | 4 | 0 |\n| 0 | 0 | 0 | 0 | 2 |\n| 0 | 0 | 0 | 0 | 0 |\n\n",
            "text/html": [
              "<table>\n",
              "<caption>A matrix: 5 × 5 of type dbl</caption>\n",
              "<tbody>\n",
              "\t<tr><td>0</td><td>8</td><td>0</td><td>0</td><td>0</td></tr>\n",
              "\t<tr><td>0</td><td>0</td><td>6</td><td>0</td><td>0</td></tr>\n",
              "\t<tr><td>0</td><td>0</td><td>0</td><td>4</td><td>0</td></tr>\n",
              "\t<tr><td>0</td><td>0</td><td>0</td><td>0</td><td>2</td></tr>\n",
              "\t<tr><td>0</td><td>0</td><td>0</td><td>0</td><td>0</td></tr>\n",
              "</tbody>\n",
              "</table>\n"
            ]
          },
          "metadata": {
            "tags": []
          }
        }
      ]
    },
    {
      "cell_type": "code",
      "metadata": {
        "colab": {
          "base_uri": "https://localhost:8080/",
          "height": 299
        },
        "id": "sAKVpKxznBWF",
        "outputId": "77df6ee6-5ffc-435b-83ce-0b1c5ad539f3"
      },
      "source": [
        "H %*% F - F %*% H\n",
        "-2*F"
      ],
      "execution_count": null,
      "outputs": [
        {
          "output_type": "display_data",
          "data": {
            "text/plain": [
              "     [,1] [,2] [,3] [,4] [,5]\n",
              "[1,]  0    0    0    0   0   \n",
              "[2,] -2    0    0    0   0   \n",
              "[3,]  0   -4    0    0   0   \n",
              "[4,]  0    0   -6    0   0   \n",
              "[5,]  0    0    0   -8   0   "
            ],
            "text/latex": "A matrix: 5 × 5 of type dbl\n\\begin{tabular}{lllll}\n\t  0 &  0 &  0 &  0 & 0\\\\\n\t -2 &  0 &  0 &  0 & 0\\\\\n\t  0 & -4 &  0 &  0 & 0\\\\\n\t  0 &  0 & -6 &  0 & 0\\\\\n\t  0 &  0 &  0 & -8 & 0\\\\\n\\end{tabular}\n",
            "text/markdown": "\nA matrix: 5 × 5 of type dbl\n\n|  0 |  0 |  0 |  0 | 0 |\n| -2 |  0 |  0 |  0 | 0 |\n|  0 | -4 |  0 |  0 | 0 |\n|  0 |  0 | -6 |  0 | 0 |\n|  0 |  0 |  0 | -8 | 0 |\n\n",
            "text/html": [
              "<table>\n",
              "<caption>A matrix: 5 × 5 of type dbl</caption>\n",
              "<tbody>\n",
              "\t<tr><td> 0</td><td> 0</td><td> 0</td><td> 0</td><td>0</td></tr>\n",
              "\t<tr><td>-2</td><td> 0</td><td> 0</td><td> 0</td><td>0</td></tr>\n",
              "\t<tr><td> 0</td><td>-4</td><td> 0</td><td> 0</td><td>0</td></tr>\n",
              "\t<tr><td> 0</td><td> 0</td><td>-6</td><td> 0</td><td>0</td></tr>\n",
              "\t<tr><td> 0</td><td> 0</td><td> 0</td><td>-8</td><td>0</td></tr>\n",
              "</tbody>\n",
              "</table>\n"
            ]
          },
          "metadata": {
            "tags": []
          }
        },
        {
          "output_type": "display_data",
          "data": {
            "text/plain": [
              "     [,1] [,2] [,3] [,4] [,5]\n",
              "[1,]  0    0    0    0   0   \n",
              "[2,] -2    0    0    0   0   \n",
              "[3,]  0   -4    0    0   0   \n",
              "[4,]  0    0   -6    0   0   \n",
              "[5,]  0    0    0   -8   0   "
            ],
            "text/latex": "A matrix: 5 × 5 of type dbl\n\\begin{tabular}{lllll}\n\t  0 &  0 &  0 &  0 & 0\\\\\n\t -2 &  0 &  0 &  0 & 0\\\\\n\t  0 & -4 &  0 &  0 & 0\\\\\n\t  0 &  0 & -6 &  0 & 0\\\\\n\t  0 &  0 &  0 & -8 & 0\\\\\n\\end{tabular}\n",
            "text/markdown": "\nA matrix: 5 × 5 of type dbl\n\n|  0 |  0 |  0 |  0 | 0 |\n| -2 |  0 |  0 |  0 | 0 |\n|  0 | -4 |  0 |  0 | 0 |\n|  0 |  0 | -6 |  0 | 0 |\n|  0 |  0 |  0 | -8 | 0 |\n\n",
            "text/html": [
              "<table>\n",
              "<caption>A matrix: 5 × 5 of type dbl</caption>\n",
              "<tbody>\n",
              "\t<tr><td> 0</td><td> 0</td><td> 0</td><td> 0</td><td>0</td></tr>\n",
              "\t<tr><td>-2</td><td> 0</td><td> 0</td><td> 0</td><td>0</td></tr>\n",
              "\t<tr><td> 0</td><td>-4</td><td> 0</td><td> 0</td><td>0</td></tr>\n",
              "\t<tr><td> 0</td><td> 0</td><td>-6</td><td> 0</td><td>0</td></tr>\n",
              "\t<tr><td> 0</td><td> 0</td><td> 0</td><td>-8</td><td>0</td></tr>\n",
              "</tbody>\n",
              "</table>\n"
            ]
          },
          "metadata": {
            "tags": []
          }
        }
      ]
    },
    {
      "cell_type": "code",
      "metadata": {
        "colab": {
          "base_uri": "https://localhost:8080/",
          "height": 333
        },
        "id": "DHQYUDUFxGy1",
        "outputId": "f99537df-b907-4bae-ee87-2d8c673d764a"
      },
      "source": [
        "E %*% F - F %*% E\n",
        "H"
      ],
      "execution_count": null,
      "outputs": [
        {
          "output_type": "display_data",
          "data": {
            "text/plain": [
              "     [,1] [,2] [,3] [,4] [,5]\n",
              "[1,] 4    0    0     0    0  \n",
              "[2,] 0    2    0     0    0  \n",
              "[3,] 0    0    0     0    0  \n",
              "[4,] 0    0    0    -2    0  \n",
              "[5,] 0    0    0     0   -4  "
            ],
            "text/latex": "A matrix: 5 × 5 of type dbl\n\\begin{tabular}{lllll}\n\t 4 & 0 & 0 &  0 &  0\\\\\n\t 0 & 2 & 0 &  0 &  0\\\\\n\t 0 & 0 & 0 &  0 &  0\\\\\n\t 0 & 0 & 0 & -2 &  0\\\\\n\t 0 & 0 & 0 &  0 & -4\\\\\n\\end{tabular}\n",
            "text/markdown": "\nA matrix: 5 × 5 of type dbl\n\n| 4 | 0 | 0 |  0 |  0 |\n| 0 | 2 | 0 |  0 |  0 |\n| 0 | 0 | 0 |  0 |  0 |\n| 0 | 0 | 0 | -2 |  0 |\n| 0 | 0 | 0 |  0 | -4 |\n\n",
            "text/html": [
              "<table>\n",
              "<caption>A matrix: 5 × 5 of type dbl</caption>\n",
              "<tbody>\n",
              "\t<tr><td>4</td><td>0</td><td>0</td><td> 0</td><td> 0</td></tr>\n",
              "\t<tr><td>0</td><td>2</td><td>0</td><td> 0</td><td> 0</td></tr>\n",
              "\t<tr><td>0</td><td>0</td><td>0</td><td> 0</td><td> 0</td></tr>\n",
              "\t<tr><td>0</td><td>0</td><td>0</td><td>-2</td><td> 0</td></tr>\n",
              "\t<tr><td>0</td><td>0</td><td>0</td><td> 0</td><td>-4</td></tr>\n",
              "</tbody>\n",
              "</table>\n"
            ]
          },
          "metadata": {
            "tags": []
          }
        },
        {
          "output_type": "display_data",
          "data": {
            "text/plain": [
              "     [,1] [,2] [,3] [,4] [,5]\n",
              "[1,] 4    0    0     0    0  \n",
              "[2,] 0    2    0     0    0  \n",
              "[3,] 0    0    0     0    0  \n",
              "[4,] 0    0    0    -2    0  \n",
              "[5,] 0    0    0     0   -4  "
            ],
            "text/latex": "A matrix: 5 × 5 of type dbl\n\\begin{tabular}{lllll}\n\t 4 & 0 & 0 &  0 &  0\\\\\n\t 0 & 2 & 0 &  0 &  0\\\\\n\t 0 & 0 & 0 &  0 &  0\\\\\n\t 0 & 0 & 0 & -2 &  0\\\\\n\t 0 & 0 & 0 &  0 & -4\\\\\n\\end{tabular}\n",
            "text/markdown": "\nA matrix: 5 × 5 of type dbl\n\n| 4 | 0 | 0 |  0 |  0 |\n| 0 | 2 | 0 |  0 |  0 |\n| 0 | 0 | 0 |  0 |  0 |\n| 0 | 0 | 0 | -2 |  0 |\n| 0 | 0 | 0 |  0 | -4 |\n\n",
            "text/html": [
              "<table>\n",
              "<caption>A matrix: 5 × 5 of type dbl</caption>\n",
              "<tbody>\n",
              "\t<tr><td>4</td><td>0</td><td>0</td><td> 0</td><td> 0</td></tr>\n",
              "\t<tr><td>0</td><td>2</td><td>0</td><td> 0</td><td> 0</td></tr>\n",
              "\t<tr><td>0</td><td>0</td><td>0</td><td> 0</td><td> 0</td></tr>\n",
              "\t<tr><td>0</td><td>0</td><td>0</td><td>-2</td><td> 0</td></tr>\n",
              "\t<tr><td>0</td><td>0</td><td>0</td><td> 0</td><td>-4</td></tr>\n",
              "</tbody>\n",
              "</table>\n"
            ]
          },
          "metadata": {
            "tags": []
          }
        }
      ]
    }
  ]
}