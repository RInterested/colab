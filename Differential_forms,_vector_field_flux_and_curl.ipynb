{
  "nbformat": 4,
  "nbformat_minor": 0,
  "metadata": {
    "kernelspec": {
      "display_name": "Python 3",
      "language": "python",
      "name": "python3"
    },
    "language_info": {
      "codemirror_mode": {
        "name": "ipython",
        "version": 3
      },
      "file_extension": ".py",
      "mimetype": "text/x-python",
      "name": "python",
      "nbconvert_exporter": "python",
      "pygments_lexer": "ipython3",
      "version": "3.7.6"
    },
    "colab": {
      "provenance": []
    }
  },
  "cells": [
    {
      "cell_type": "markdown",
      "metadata": {
        "id": "YQwjUXeEjuE3"
      },
      "source": [
        "From [curl in 3D](https://youtu.be/ntGWiFh0nOU), [flux in 3D](https://www.youtube.com/watch?v=dL2qyuVvqsk) and [d of 1-form](https://youtu.be/eFuA4zwgi4o).\n",
        "\n"
      ]
    },
    {
      "cell_type": "markdown",
      "metadata": {
        "id": "CuAhM168juE4"
      },
      "source": [
        "The flux $1$-form of a planar vector field, and the flux $2$-form of a $3$-dimensional vector field, expressed as $\\varphi_{\\vec F}= F_x \\hat {\\mathbf{i}}+ Fy \\hat {\\mathbf{j}}  \\;[+ F_z \\hat {\\mathbf{k}}]$ share the same differential structure.\n",
        "\n",
        "For the $1$-form in the planar field,\n",
        "\n",
        "$$\\varphi_{\\vec F}=\\det\\begin{bmatrix} F_x&\\vert&\\text dx\\\\F_y&\\vert& \\text dy\\end{bmatrix}=F_x\\text dy - F_y \\text dx$$\n",
        "\n",
        "Example: The vector field $\\vec F=y \\hat {\\mathbf{i}}-x \\hat {\\mathbf{j}}$ will have a flux across a straight line from $(0,b)$ towards $(a,0)$ with both $a$ and $b$ positives calculated by parametrizing path as $\\gamma(t)=\\begin{bmatrix}at&b(1-t)\\end{bmatrix}^\\top,$ which tangent is $\\gamma'(t)=\\begin{bmatrix}a& -b\\end{bmatrix}^\\top$ with $0\\leq t\\leq1,$ which substituting\n",
        "\n",
        "$$\\small \\int_\\gamma \\varphi_{\\vec F}=\\int_{\\gamma}x\\text dx+y\\text dy\n",
        "=\\int_{t=0}^1 (at)(a)+\\left(b(1-t)\\right)(-b)\\text dt=\\frac 1 2 \\left(a^2-b^2\\right).$$\n",
        "\n",
        "Similarly for a $3$-dim vector field the $2$-form flux field, \"eating\" $2$ vectors $\\vec u$ and $\\vec v,$ (as opposed to the parametrized curve $\\gamma'(t)$ in the flux $1$-form):\n",
        "\n",
        "$$\\varphi_{\\vec F}=\\small \\det\\begin{bmatrix} F_x&\\vert&\\text dx^{({\\vec u})} & \\vert&\\text dx^{({\\vec v})}\\\\F_y&\\vert& \\text dy^{({\\vec u})}& \\vert&\\text dy^{({\\vec v})}\\\\\n",
        "F_z&\\vert& \\text dz^{({\\vec u})}& \\vert&\\text dz^{({\\vec v})}\n",
        "\\end{bmatrix}=F_x \\text dy\\wedge \\text dz + F_y \\text dz\\wedge \\text dx+ F_z\\text dx\\wedge \\text dy\n",
        "$$\n",
        "\n",
        "Any arbitrary $2$-form field $\\vec F$ in $3$D can be turned into a vector field $\\vec \\varphi$ for which its flux $2$-form is the original $2$-form field $\\vec F.$\n",
        "\n",
        "Example: For the flux $2$-form field $\\varphi_{\\vec F}= (x+y)^2 \\text dx \\wedge \\text dy - z\\text dy\\wedge \\text dz$ over the upper hemisphere $\\tiny z=\\sqrt{c^2-x^2-y^2}$ the flux is calculated by parametrizing here directly with $x,y$ as opposed to $u,v)$ as $\\small G(x,y)=\\tiny\\begin{bmatrix}x\\\\y\\\\ \\sqrt{c^2-x^2-y^2}\\end{bmatrix}$ with $\\small G'(x,y)=\\tiny\\begin{bmatrix}1&0\\\\0&1\\\\\\frac{-x}{\\sqrt{c^2-x^2-y^2}}& \\frac{-y}{\\sqrt{c^2-x^2-y^2}}\\end{bmatrix}$\n",
        "\n",
        "$$\\Tiny \\int \\varphi_{\\vec F}=\\int\\int_S(x+y)^2 \\det\\begin{bmatrix}1&0\\\\0&1\\end{bmatrix}-\\sqrt{c^2-x^2-y^2}\\det{\\begin{bmatrix}0&1\\\\\\frac{-x}{\\sqrt{c^2-x^2-y^2}}& \\frac{-y}{\\sqrt{c^2-x^2-y^2}}\\end{bmatrix}}\\text dx\\text dy=\\frac{\\pi c^2}{2}.$$\n",
        "\n",
        "\n",
        "And since the field's **curl** of the vector field $\\vec F$ is the vector field\n",
        "\n",
        "$$\\nabla\\times \\vec F= \\begin{vmatrix}\n",
        "\\hat {\\bf i} & \\frac{\\partial}{\\partial x} & F_x\\\\\n",
        "\\hat {\\bf j} & \\frac{\\partial}{\\partial y} & F_y\\\\\n",
        "\\hat {\\bf k} & \\frac{\\partial}{\\partial z} & F_z\n",
        "\\end{vmatrix}\n",
        "=\\left(\\frac{\\partial F_z}{\\partial y} -\\frac{\\partial F_y}{\\partial z} \\right) \\hat {\\bf i}+\n",
        "\\left(\\frac{\\partial F_x}{\\partial z} -\\frac{\\partial F_z}{\\partial x} \\right) \\hat {\\bf j}+\n",
        "\\left(\\frac{\\partial F_y}{\\partial x} -\\frac{\\partial F_x}{\\partial y} \\right) \\hat {\\bf k}\n",
        "$$\n",
        "\n",
        "the differential $\\text d$ of the $1$-form of $\\vec F,$ i.e. $\\alpha_{\\vec F}=F_x \\text dx + F_y \\text dy + F_z \\text dz$ is the $2$-form of the vector field $\\vec F$'s curl:\n",
        "\n",
        "$$\\text d_{\\vec F}=\\varphi_{\\nabla \\times \\vec F}=\n",
        "\\left(\\frac{\\partial F_z}{\\partial y} -\\frac{\\partial F_y}{\\partial z} \\right) \\text dy\\wedge \\text dz+\n",
        "\\left(\\frac{\\partial F_x}{\\partial z} -\\frac{\\partial F_z}{\\partial x} \\right) \\text dz\\wedge \\text dx+\n",
        "\\left(\\frac{\\partial F_y}{\\partial x} -\\frac{\\partial F_x}{\\partial y} \\right) \\text dx\\wedge \\text dy\n",
        "$$\n",
        "\n",
        "Further, the exterior derivative of a $2$-form field $\\beta=F_1 \\text dy\\wedge \\text dz + F_2 \\text dz\\wedge \\text dx + F_3 \\text d_x\\wedge \\text d_y,$ which would be the flux $2$-form of some field is\n",
        "\n",
        "$$\\left(\\frac{\\partial F_1}{\\partial x} + \\frac{\\partial F_2}{\\partial y} + \\frac{\\partial F_3}{\\partial z} \\right) \\text dx\\wedge \\text dy\\wedge \\text dz= \\nabla \\cdot \\vec F \\text dx\\wedge \\text dy\\wedge \\text dz$$\n",
        "\n",
        "which is the divergence of the vector field times the volume form."
      ]
    }
  ]
}