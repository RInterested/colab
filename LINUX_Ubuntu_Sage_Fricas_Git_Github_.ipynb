{
  "cells": [
    {
      "cell_type": "markdown",
      "source": [
        "## Setting up WSL (Windows Subsystem for Linux) and Ubuntu:\n",
        "\n",
        "\n",
        "Note that the Windows subsystem for Windows need to be enabled to install Ubuntu. This is accomplished after installing WSL by going to the start button and searching for `Windows Features` (`Turn Windows Features on or off`) and selecting: `Windows Susystem for Linux`. In addition, the `Virtual Machine Platform` needs to be checked on the same menu.\n",
        "\n",
        "Partially from [here](https://ubuntu.com/tutorials/install-ubuntu-on-wsl2-on-windows-11-with-gui-support#1-overview).\n",
        "\n",
        "From Windows Store download and install WSL.\n",
        "\n",
        "On cmd (Windows Powershell) line type:\n",
        "\n",
        "`wsl --list --online`\n",
        "\n",
        "Type\n",
        "\n",
        "`wsl --install Ubuntu`\n",
        "\n",
        "## UPGRADING ALL PACKAGES:\n",
        "\n",
        "`sudo apt update`\n",
        "\n",
        "Then\n",
        "\n",
        "`sudo apt full-upgrade`\n",
        "\n",
        "### To see packages installed:\n",
        "\n",
        "`apt list --installed`\n",
        "\n",
        "\n",
        "### To get upgrades an all packages:\n",
        "\n",
        "`sudo apt update`\n",
        "\n",
        "or\n",
        "\n",
        "`sudo apt-get update && sudo apt-get upgrade -y`\n",
        "\n",
        "or for specific package:\n",
        "\n",
        "`sudo apt install ...` (... = name of the package)\n",
        "\n",
        "\n",
        "\n",
        "---\n",
        "\n",
        "If error message:\n",
        "\n",
        ">Failed to attach disk 'C:\\Users\\anton\\AppData\\Local\\Packages\\CanonicalGroupLimited.Ubuntu_79rhkp1fndgsc\\LocalState\\ext4.vhdx' to WSL2: The system cannot find the file specified.\n",
        "\n",
        "`wsl --unregister ubuntu`\n",
        "followed by\n",
        "`wsl --install`"
      ],
      "metadata": {
        "id": "O4hOBVoSfBlo"
      },
      "id": "O4hOBVoSfBlo"
    },
    {
      "cell_type": "markdown",
      "source": [
        "#### Resetting Windows Subsystem Linux (WSL):\n",
        "\n",
        "    wsl.exe --shutdown"
      ],
      "metadata": {
        "id": "xWCJAHqomwnP"
      },
      "id": "xWCJAHqomwnP"
    },
    {
      "cell_type": "markdown",
      "source": [
        "\n",
        "## Installing SageMath:\n",
        "\n",
        "It's just part of Ubuntu...\n",
        "\n",
        "So...\n",
        "\n",
        "`sudo apt install sagemath`\n",
        "\n",
        "will do the trick.\n",
        "\n",
        "\n",
        "and\n",
        "\n",
        "`toni@JA:~$ sudo apt-get update`\n",
        "\n",
        "---\n",
        "\n",
        "#### Alternative method:\n",
        "\n",
        "Check [here](https://sagemanifolds.obspm.fr/install_ubuntu.html).\n",
        "\n"
      ],
      "metadata": {
        "id": "C8AwLOWfjhwz"
      },
      "id": "C8AwLOWfjhwz"
    },
    {
      "cell_type": "markdown",
      "source": [
        "### Uninstall sage:\n",
        "\n",
        "`sudo apt-get --purge remove sagemath`\n",
        "\n",
        "### Uninstall Ubuntu from the command line of Windows:\n",
        "\n",
        "`wsl --unregister Ubuntu`"
      ],
      "metadata": {
        "id": "lpEyD-cE2H8m"
      },
      "id": "lpEyD-cE2H8m"
    },
    {
      "cell_type": "markdown",
      "source": [
        "## GIT CONFIG:\n",
        "\n",
        "Set your username:\n",
        "\n",
        "`git config --global user.name RInterested`\n",
        "\n",
        "Set your email address:\n",
        "\n",
        "`git config --global user.email \"antoni.parellada@gmail.com\"`\n",
        "\n",
        "---\n",
        "\n",
        "#### PASSWORD:\n",
        "\n",
        "To remember credentials:\n",
        "\n",
        "`git config --global credential.helper store`"
      ],
      "metadata": {
        "id": "-IRU6OUjKiVt"
      },
      "id": "-IRU6OUjKiVt"
    },
    {
      "cell_type": "markdown",
      "source": [
        "# UPLOADING A FILE (\"COMMIT\"):\n",
        "\n",
        "`git add \"Sage Code Examples.ipynb\"`\n",
        "\n",
        "`git commit -m \"new\"`\n",
        "\n",
        "`git push origin master`\n",
        "\n",
        "!!!! Now `master` has become `main`\n",
        "\n",
        "!!! In the case of conflicts:\n",
        "\n",
        "`git fetch origin main`\n",
        "\n",
        "`git reset --hard origin/main`\n",
        "\n",
        "#### To uncommit:\n",
        "\n",
        "          git add -u\n",
        "          git reset HEAD path/to/file\n",
        "          git commit\n",
        "\n",
        "Example:\n",
        "\n",
        "            git add \"Elliptic curves.ipynb\"\n",
        "            git commit -m \"edits\"\n",
        "            [master cf4fa18] edits\n",
        "             1 file changed, 61 insertions(+), 37 deletions(-)\n",
        "            toni@JA:~/SageMath$ git push origin master\n",
        "            Enumerating objects: 5, done.\n",
        "            Counting objects: 100% (5/5), done.\n",
        "            Delta compression using up to 8 threads\n",
        "            Compressing objects: 100% (2/2), done.\n",
        "            Writing objects: 100% (3/3), 40.48 KiB | 1.50 MiB/s, done.\n",
        "            Total 3 (delta 1), reused 0 (delta 0), pack-reused 0\n",
        "            remote: Resolving deltas: 100% (1/1), completed with 1 local object.\n",
        "            To https://github.com/RInterested/SageMath.git\n",
        "               5ffdb89..cf4fa18  master -> master\n",
        "               \n",
        "For several files:\n",
        "\n",
        "            git add \"Elliptic curves.ipynb\" \"Matrices with SageMath.ipynb\"\n",
        "\n",
        "---\n",
        "\n",
        "## REMOVE A FILE:\n",
        "\n",
        "For instance after changing the file name locally, uploading to Github will create a new document. To get rid of the document with the old name from Github:\n",
        "\n",
        "      $git rm 'Fermat Lil Theorem Patterns.ipynb'\n",
        "      $git commit -m rm\n",
        "      $git push origin master"
      ],
      "metadata": {
        "id": "1ZaS0qVgK4zH"
      },
      "id": "1ZaS0qVgK4zH"
    },
    {
      "cell_type": "markdown",
      "id": "cbbd4795",
      "metadata": {
        "id": "cbbd4795"
      },
      "source": [
        "\n",
        "Password no longer valid! Go to GitHub. Click on avatar. Go to settings. On the left column (bottom), click on:\n",
        "\n",
        "<> Developer settings\n",
        "\n",
        "Then go to Personal Access Tokens\n",
        "\n",
        "Enter the token instead of password.\n",
        "\n",
        "---\n",
        "\n",
        "## INITIALIZING A FOLDER FOR GIT USE:\n",
        "\n",
        "`git init`\n",
        "\n",
        "* Only done once!\n",
        "\n",
        "If it needs to be undone:\n",
        "\n",
        "`rm -rf .git/`\n",
        "\n",
        "---\n",
        "\n",
        "#### LINK TO GITHUB REPO URL:\n",
        "\n",
        "git remote add origin \"https://github.com/RInterested/Sage.git\"\n",
        "\n",
        "Confirm by:\n",
        "\n",
        "`git remote -v`\n"
      ]
    },
    {
      "cell_type": "markdown",
      "source": [
        "## Installing Firefox (necessary for Jupyter Notebook):\n",
        "\n",
        " `sudo apt install firefox`\n",
        "\n",
        " It may require prior installation of\n",
        "\n",
        " `sudo apt-get install -y desktop-file-utils`"
      ],
      "metadata": {
        "id": "7BqrXg_8DkvH"
      },
      "id": "7BqrXg_8DkvH"
    },
    {
      "cell_type": "markdown",
      "source": [
        "## Manifolds\n",
        "\n",
        "From [here](https://sagemanifolds.obspm.fr/install_ubuntu.html):\n",
        "\n",
        "Installing SageMath 9.5 in Ubuntu 22.04\n",
        "The version of SageMath provided as a system package for Ubuntu 22.04 is 9.5; to install it, it suffices to run the command\n",
        "\n",
        "`sudo apt install sagemath-jupyter`\n",
        "\n",
        "If you would like to install version 9.8 instead, remove the system package sagemath if already installed, and follow the instructions below:\n",
        "\n",
        "Installing SageMath 9.8 in Ubuntu 20.04 or 22.04\n",
        "The version of SageMath provided as a system package is only 9.0 for Ubuntu 20.04 and 9.5 for Ubuntu 22.04. However building SageMath 9.8 from source in Ubuntu 20.04 or 22.04 is very easy.\n",
        "\n",
        "First, install the dependencies, i.e. the Ubuntu packages required to build SageMath: simply open a terminal and type the single (long) line\n",
        "\n",
        "`sudo apt install bc binutils bzip2 ca-certificates cliquer cmake curl ecl eclib-tools fflas-ffpack flintqs g++ gengetopt gfan gfortran git glpk-utils gmp-ecm lcalc libatomic-ops-dev libboost-dev libbraiding-dev libbrial-dev libbrial-groebner-dev libbz2-dev libcdd-dev libcdd-tools libcliquer-dev libcurl4-openssl-dev libec-dev libecm-dev libffi-dev libflint-arb-dev libflint-dev libfreetype6-dev libgc-dev libgd-dev libgf2x-dev libgiac-dev libgivaro-dev libglpk-dev libgmp-dev libgsl-dev libhomfly-dev libiml-dev liblfunction-dev liblrcalc-dev liblzma-dev libm4rie-dev libmpc-dev libmpfi-dev libmpfr-dev libncurses5-dev libntl-dev libopenblas-dev libpari-dev libpcre3-dev libplanarity-dev libppl-dev libprimesieve-dev libpython3-dev libqhull-dev libreadline-dev librw-dev libsingular4-dev libsqlite3-dev libssl-dev libsuitesparse-dev libsymmetrica2-dev libz-dev libzmq3-dev libzn-poly-dev m4 make nauty openssl palp pari-doc pari-elldata pari-galdata pari-galpol pari-gp2c pari-seadata patch perl pkg-config planarity ppl-dev python3-distutils python3-venv r-base-dev r-cran-lattice singular sqlite3 sympow tachyon tar tox xcas xz-utils`\n",
        "\n",
        "[consider adding `fricas` to that long list.]\n",
        "\n",
        "To benefit from extra functionalities when running SageMath (e.g. exporting a Jupyter notebook to pdf), it is recommended to install some additional Ubuntu packages:\n",
        "\n",
        "`sudo apt install texlive-latex-extra texlive-xetex latexmk pandoc dvipng`\n",
        "\n",
        "Then you can download SageMath 9.8 sources and launch the build by typing (from you home directory or from the directory in which you want SageMath to be installed)\n",
        "\n",
        "`git clone --branch master https://github.com/sagemath/sage.git`\n",
        "\n",
        "`cd sage`\n",
        "\n",
        "`make configure`\n",
        "\n",
        "`./configure`\n",
        "\n",
        "`MAKE=\"make -j8\" make`\n",
        "\n",
        "The last command launches the build in parallel on 8 threads (as specified by -j8); adapt to your CPU (usually you may choose a number of threads that is twice the number of cores of your CPU). The build time is about half an hour on a modern CPU. Once it is finished, you can create a symbolic link by typing\n",
        "\n",
        "`sudo ln -sf $(pwd)/sage /usr/local/bin`\n",
        "\n",
        "Then you can change to any directory and start SageMath in Jupyter by running\n",
        "\n",
        "`sage -n`\n",
        "\n",
        "A Jupyter page should then open in your browser. Click on \"New\" and select \"SageMath 9.8\" to open a Jupyter notebook with a SageMath kernel.\n",
        "\n",
        "Installing SageMath 10.0.beta* in Ubuntu 20.04 or 22.04\n",
        "To install the latest development (beta) version, follow the same instructions as above for SageMath 9.8, except for the git clone line to be replaced by\n",
        "\n",
        "`git clone --branch develop https://github.com/sagemath/sage.git`"
      ],
      "metadata": {
        "id": "2-tfThqd2g7c"
      },
      "id": "2-tfThqd2g7c"
    },
    {
      "cell_type": "markdown",
      "source": [
        "\n",
        "## Changing username in kali (only for WSL):\n",
        "\n",
        "1. Create a new profile:\n",
        "\n",
        "On kali,\n",
        "\n",
        "`sudo adduser NEW_NAME`\n",
        "\n",
        "Check it is there:\n",
        "\n",
        "`sudo cat /etc/passwd`\n",
        "\n",
        "Now give it `sudoer` privileges:\n",
        "\n",
        "`sudo usermod -aG sudo NEW_NAME`\n",
        "\n",
        "2. Assign the new profile as default:\n",
        "\n",
        "Exit and go to cmd for Windows as admin. Type\n",
        "\n",
        "`kali config --default-user NEW_NAME`\n",
        "\n",
        "3. Go back to Kali and delete old profile:\n",
        "\n",
        "`sudo userdel -r OLD_NAME`\n",
        "\n",
        "\n",
        "---\n",
        "\n",
        "## Changing username in kali (only for virtual box):\n",
        "\n",
        "Explained in [this video](https://youtu.be/-nHmA75AcTM?t=61).\n",
        "\n",
        "1. Enable root user:\n",
        "\n",
        "`sudo -i`\n",
        "\n",
        "2. Change the root password:\n",
        "\n",
        "`passwd root`\n",
        "\n",
        "3. Reboot:\n",
        "\n",
        "`exit`\n",
        "\n",
        "4. Log on as `root` at the login screen with the root password.\n",
        "\n",
        "`sudo usermod -l newname -d /home/newname -m oldname`\n",
        "\n",
        "`sudo groupmod -n newname oldname`\n",
        "\n",
        "`sudo ln -s /home/newname /home/oldname`\n",
        "\n",
        "`sudo chfn -f \"DISPLAY NAME\" newname`"
      ],
      "metadata": {
        "id": "LGmeFiFZVe-E"
      },
      "id": "LGmeFiFZVe-E"
    },
    {
      "cell_type": "markdown",
      "source": [
        "## Getting a file from GitHub\n",
        "\n",
        "`curl -L -o http://image-net.org/download/synset\\?wnid\\=xxx\\&username\\=xxx\\&accesskey\\=xxx\\&release\\=latest\\&src\\=stanford`"
      ],
      "metadata": {
        "id": "W4e8TKh3ED5d"
      },
      "id": "W4e8TKh3ED5d"
    },
    {
      "cell_type": "markdown",
      "source": [
        "## Updating Jupyter Notebook:\n",
        "\n",
        "`pip install --upgrade jupyter`"
      ],
      "metadata": {
        "id": "FSNlk-A6t5XB"
      },
      "id": "FSNlk-A6t5XB"
    },
    {
      "cell_type": "markdown",
      "source": [
        "# INSTALLING R (RStats) KERNEL in JUPYTER NOTEBOOK:\n",
        "\n",
        "This is explained [here](https://youtu.be/cn6dH8cGC9o):\n",
        "\n",
        "In the Ubuntu cmd line type: `R`\n",
        "\n",
        "`install.packages('IRkernel')`\n",
        "\n",
        "Prompts: `use a personal library?` Type `yes`\n",
        "\n",
        "         `to install packages into?` Type `yes`\n",
        "\n",
        "After installation is complete:\n",
        "\n",
        "`IRkernel::installspec()`\n",
        "\n",
        "`q()`\n",
        "\n",
        "`save workspace image?` Type `n`\n",
        "\n",
        "### ISSUES:\n",
        "\n",
        "It may require prior installation of `devtools`. As explained [here](https://stackoverflow.com/a/55626636/4089351):\n",
        "\n",
        "From Ubuntu cmd line (not from within R):\n",
        "\n",
        "`sudo apt-get update -y`\n",
        "\n",
        "and then\n",
        "\n",
        "`sudo apt install r-cran-devtools`\n",
        "\n",
        "And then:\n",
        "\n",
        "`pip3 install jupyterlab`\n",
        "\n",
        "Now try again from R:\n",
        "\n",
        "`IRkernel::installspec()`\n",
        "\n",
        "It seems like this will not work out until the `jupyter kernelspec --version` on the cmd prompt is valid. It is common to get the message:\n",
        "\n",
        "`jupyter-client has to be installed but “jupyter kernelspec --version” exited with code 1`\n",
        "\n",
        "As explained in [here](https://stackoverflow.com/a/76329215/4089351), you can try upgrading jupyter:\n",
        "\n",
        "\n",
        "`pip install --upgrade jupyter`\n",
        "\n",
        "`pip3 install jupyterlab`\n",
        "\n",
        "and try to see if there is a response to\n",
        "\n",
        "`jupyter kernelspec --version`\n",
        "\n",
        "like...\n",
        "\n",
        "`8.2.0`\n",
        "\n",
        "If not re-start Ubuntu, and try again with `jupyter kernelspec --version` and\n",
        "\n",
        "`IRkernel::installspec()`\n"
      ],
      "metadata": {
        "id": "XVctbFNuxH7a"
      },
      "id": "XVctbFNuxH7a"
    },
    {
      "cell_type": "markdown",
      "source": [
        "### INSTALLING PANDAS:\n",
        "\n",
        "From Ubuntu cmd line:\n",
        "\n",
        "`sudo apt-get install python3-pandas`"
      ],
      "metadata": {
        "id": "7Wz3rfs086sr"
      },
      "id": "7Wz3rfs086sr"
    },
    {
      "cell_type": "markdown",
      "source": [
        "### IMPORT STATSMODELS:\n",
        "\n",
        "`sudo apt-get update -y`\n",
        "\n",
        "`sudo apt-get install -y python3-statsmodels`"
      ],
      "metadata": {
        "id": "chOw_6RQ9WIj"
      },
      "id": "chOw_6RQ9WIj"
    },
    {
      "cell_type": "markdown",
      "source": [
        "### INSTALLING TIDYVERSE:\n",
        "\n",
        "Go to `R` from Ubuntu cmd. Type:\n",
        "\n",
        "`install.packages('tidyverse')`"
      ],
      "metadata": {
        "id": "UCQgMlzECR--"
      },
      "id": "UCQgMlzECR--"
    },
    {
      "cell_type": "markdown",
      "source": [
        "## KALI STYLE CMD LINE:\n",
        "\n",
        "Kali PROMPT in Ubuntu\n",
        "---------------------\n",
        "\n",
        "Open `~/.bashrc` file. How?\n",
        "\n",
        "Open Ubuntu in the cmd line and type\n",
        "\n",
        "`ls -la`\n",
        "\n",
        "You will see the file:\n",
        "\n",
        "`-rw-r--r--  1 toni toni  3821 May 24 10:26 .bashrc`\n",
        "\n",
        "Open it with\n",
        "\n",
        "`vi .bashrc`\n",
        "\n",
        "To navigate (from [here](https://www.redhat.com/sysadmin/introduction-vi-editor)):\n",
        "\n",
        "    $ vi <filename> — Open or edit a file.\n",
        "    i — Switch to Insert mode.\n",
        "    Esc — Switch to Command mode.\n",
        "    :w — Save and continue editing.\n",
        "    :wq or ZZ — Save and quit/exit vi.\n",
        "    :q! — Quit vi and do not save changes.\n",
        "\n",
        "\n",
        "Now search for PS1 variable and replace the 1st PS1 variable i.e this\n",
        "```bash\n",
        "PS1='${debian_chroot:+($debian_chroot)}\\[\\033[01;32m\\]\\u@\\h\\[\\033[00m\\]:\\[\\033[01;34m\\]\\w\\[\\033[00m\\]\\$'\n",
        "```\n",
        "with this\n",
        "```bash\n",
        "PS1='\\[\\033[01;32m\\]┌──${debian_chroot:+($debian_chroot)}(\\[\\033[00m\\]\\u@\\h\\[\\033[01;32m\\])-[\\[\\033[01;34m\\]\\w\\[\\033[01;32m\\]]\\n└─\\[\\033[00m\\]\\$'\n",
        "  ```\n",
        "------------\n",
        "\n"
      ],
      "metadata": {
        "id": "_I46UeP6Ff0E"
      },
      "id": "_I46UeP6Ff0E"
    },
    {
      "cell_type": "markdown",
      "source": [
        "### HOW TO CHANGE THE DEFAULT DIRECTORY THAT OPENS WITH UBUNTU:\n",
        "\n",
        "From [here](https://askubuntu.com/a/332065/1694203):\n",
        "\n",
        "`echo \"cd ~/files\" >> ~/.bashrc`\n",
        "\n",
        "So if needs reverting you know where to find `.bashrc` (see above re: kali appearance of the cmd line). So go to `cd` (home), type `ls -la`, identify the `.bashrc` file, open it with `vi .bashrc`, look for the line where it says `cd ~/files` press `i` for insert, change that line to the new directory desired, press `Esc` to end editing, and now exit saving with `:wq`."
      ],
      "metadata": {
        "id": "RX4_1HNrK5uA"
      },
      "id": "RX4_1HNrK5uA"
    },
    {
      "cell_type": "markdown",
      "source": [
        "### ENABLING COPYING AND PASTING WITH CONTROL C AND CONTROL V:\n",
        "\n",
        "Right click at the top of the command window and go to Properties > Options > Ctrl C Ctrl V\n",
        "\n",
        "IMPORTANT: Properties is ONLY AVAILABLE IF CMD IS RUN AS ADMINISTRATOR."
      ],
      "metadata": {
        "id": "2KT_qeQ1H9WI"
      },
      "id": "2KT_qeQ1H9WI"
    },
    {
      "cell_type": "markdown",
      "source": [
        "## ADDITIONAL TROUBLESHOOTING:\n",
        "\n",
        "### NO SOUND:\n",
        "\n",
        "[Here](https://askubuntu.com/a/882222/1694203)\n",
        "\n",
        "`sudo alsa force-reload`\n",
        "\n",
        "`rm -r ~/.config/pulse; pulseaudio -k`\n",
        "\n",
        "\n",
        "---\n",
        "\n",
        "### SNAP STORE UNABLE TO UPDATE:\n",
        "\n",
        "[Here](https://askubuntu.com/a/1411573/1694203).\n",
        "\n",
        "\n",
        "`snap-store --quit && sudo snap refresh snap-store`\n",
        "\n",
        "`udo snap refresh snap-store`\n",
        "\n",
        "---\n",
        "\n",
        "### DEACTIVATE ANNOYING PASSWORD:\n",
        "\n",
        "[Here](https://askubuntu.com/a/354219/1694203)\n",
        "\n",
        "\n",
        "`gsettings set org.gnome.desktop.screensaver lock-enabled false`\n",
        "\n",
        "---\n",
        "\n",
        "### REMOVING KEYRING PROMPTS:\n",
        "\n",
        "[Here](https://askubuntu.com/a/700987/1694203)\n",
        "\n",
        "`cd .local/share/keyrings/`\n",
        "\n",
        "`rm *.keyring`"
      ],
      "metadata": {
        "id": "BJkES3CDO_x_"
      },
      "id": "BJkES3CDO_x_"
    },
    {
      "cell_type": "markdown",
      "source": [
        "## CURRENT PASSWORD FOR KALI VIRTUAL BOX\n",
        "\n",
        "To change it, from within kali, `passwd kali`\n",
        "\n",
        "username: kali\n",
        "password: kalikali"
      ],
      "metadata": {
        "id": "jOYsyuvLB-8S"
      },
      "id": "jOYsyuvLB-8S"
    },
    {
      "cell_type": "markdown",
      "source": [
        "If you get the message:\n",
        "\n",
        "`Jupyter command `jupyter-notebook` not found`\n",
        "\n",
        "Try starting notebook with:\n",
        "\n",
        "`python -m notebook`"
      ],
      "metadata": {
        "id": "02OFRrmVxD5T"
      },
      "id": "02OFRrmVxD5T"
    },
    {
      "cell_type": "markdown",
      "source": [
        "# TOR in Kali\n",
        "\n",
        "First install `tor`:\n",
        "\n",
        "`sudo apt install tor`\n",
        "\n",
        "Then type\n",
        "\n",
        "`sudo service tor start`\n",
        "\n",
        "Finally,\n",
        "\n",
        "`proxychains firefox`\n",
        "\n",
        "Firefox has to be installed:\n",
        "\n",
        "`sudo apt install firefox-esr`"
      ],
      "metadata": {
        "id": "UL4aQ0POdr54"
      },
      "id": "UL4aQ0POdr54"
    }
  ],
  "metadata": {
    "kernelspec": {
      "display_name": "Python 3 (ipykernel)",
      "language": "python",
      "name": "python3"
    },
    "language_info": {
      "codemirror_mode": {
        "name": "ipython",
        "version": 3
      },
      "file_extension": ".py",
      "mimetype": "text/x-python",
      "name": "python",
      "nbconvert_exporter": "python",
      "pygments_lexer": "ipython3",
      "version": "3.10.6"
    },
    "colab": {
      "provenance": []
    }
  },
  "nbformat": 4,
  "nbformat_minor": 5
}