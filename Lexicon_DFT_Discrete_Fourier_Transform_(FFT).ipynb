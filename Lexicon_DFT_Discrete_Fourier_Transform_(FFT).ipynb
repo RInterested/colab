{
  "nbformat": 4,
  "nbformat_minor": 0,
  "metadata": {
    "colab": {
      "provenance": [],
      "authorship_tag": "ABX9TyPE7DnjEMku801+r2yJql/q"
    },
    "kernelspec": {
      "name": "python3",
      "display_name": "Python 3"
    },
    "language_info": {
      "name": "python"
    }
  },
  "cells": [
    {
      "cell_type": "markdown",
      "source": [
        "**DFT LEXICON:**\n",
        "\n",
        "$$S[k]=\\sum_{n=0}^{N-1} s[n] \\; \\underset{\\text{twiddle  factors (FFT)}}{\\underbrace{\\;\\;\\;\\;e^{\\color{magenta}{-}\\color{blue}{2\\pi} \\rm \\; i \\frac{\\color{orange}{k}}{\\color{red} N}}\\;\\;\\;}\\color{black}n}$$\n",
        "\n",
        "or alternatively,\n",
        "\n",
        "$$S[k]=\\sum_{n=0}^{N-1} s[n] \\; e^{\\color{magenta}{-}\\color{blue}{2\\pi} \\rm \\; i \\frac{\\color{orange}{k}}{\\color{red} NT}\\color{black}n}$$\n",
        "\n",
        "$s[n]:$ Signal samples\n",
        "\n",
        "$S[k]:$ Complex coefficients.\n",
        "\n",
        "$\\color{magenta}-$: The complex sinusoids dotted with the signal samples \"move\" clockwise.\n",
        "\n",
        "$\\color{blue}{2\\pi}:$ The DFT assumes that the function is $2\\pi$-periodic.\n",
        "\n",
        "$\\color{red} N$: Number of samples extracted (digitized) indexed from $ n=0$ to $n= N-1.$\n",
        "\n",
        "$\\frac{\\color{orange}{k}}{\\color{red} N}:$ Discrete frequencies of the complex exponentials (harmonic frequencies) ranging from $0$ to $1/2$ of the sampling rate.\n",
        "\n",
        "$f_s$: Sampling rate or the inverse of the...\n",
        "\n",
        "$T:$ Sampling period\n",
        "\n",
        "$\\color{red}NT:$ Total sampling time\n",
        "\n",
        "$\\omega_0=\\frac{\\color{blue}{2\\pi}}{\\color{red}N}:$ The fundamental angular frequency in \"Fourier time\". However, this can expressed in physical \"units\" (e.g. Hertz(1/sec), 1/cm...), in which case the fundamental frequency will be $\\omega_0=\\frac{\\color{blue}{2\\pi}}{\\color{red}NT}.$\n",
        "\n",
        "$\\omega_k=\\frac{\\color{blue}{2\\pi}}{\\color{red}N}\\color{orange}k:$ The angular frequency. Alternatively expressed as $\\omega_0=\\frac{\\color{blue}{2\\pi}}{\\color{red}NT}\\color{orange}k$\n",
        "\n",
        "$e^{\\color{magenta}{-}\\color{blue}{2\\pi} \\rm \\; i \\frac{\\color{orange}{k}}{\\color{red} N}}:$ $N$-th roots of unity with $k=0,1,\\dots,N-1.$"
      ],
      "metadata": {
        "id": "L5TZKM-BA2iQ"
      }
    }
  ]
}