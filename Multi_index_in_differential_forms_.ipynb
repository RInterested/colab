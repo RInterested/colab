{
  "nbformat": 4,
  "nbformat_minor": 0,
  "metadata": {
    "colab": {
      "provenance": [],
      "authorship_tag": "ABX9TyN6bAf4lfe/kea+sFPI2UFM"
    },
    "kernelspec": {
      "name": "ir",
      "display_name": "R"
    }
  },
  "cells": [
    {
      "cell_type": "markdown",
      "source": [
        "An $m$ differential form in $\\mathbb R^n$ can be expressed in multi-index notation as\n",
        "\n",
        "$$\\begin{align}\n",
        "\\omega &= \\sum_I f_I \\; dx_I \\\\\n",
        "&= \\sum_{1 \\leq i_1 < i_2 \\ \\dots <i_m} a_{i_1, \\dots, i_m} \\; dx_1 \\wedge dx_2 \\wedge \\dots \\wedge dx_m  \\\\\\\\\n",
        "&I=(i_1, i_2, \\dots,i_m) \\; \\mid\\; 1 \\leq i_1 < i_2 \\ \\dots <i_m \\leq n\n",
        "\\end{align}$$\n",
        "\n",
        "---\n",
        "\n",
        "In $\\mathbb R^5$, we can construct $1$-forms using the $dx$ elements of the dual basis $(1,3),(1,2,3,4,5)$ or $(2,4,5):$\n",
        "\n",
        "\\begin{align}\n",
        "\\color{blue}{dx_1} && dx_2 &&\\color{blue}{dx_3} && dx_4 && dx_5   \\\\\n",
        "\\color{orange}{dx_1} && \\color{orange}{dx_2} && \\color{orange}{dx_3} && \\color{orange}{dx_4} && \\color{orange}{dx_5}  \\\\\n",
        "dx_1 && \\color{red}{dx_2} && {dx_3} && \\color{red}{dx_4} && \\color{red}{dx_5}  && \\\\\n",
        "\\end{align}\n",
        "\n",
        "These are not the multi-indices above, which correspond to wedged dual basis elements.\n",
        "\n",
        "An example of a $1$-forms with these dual basis elements can look like\n",
        "\n",
        "$$\\begin{align}\\omega_1 &= -7\\,\\color{blue}{dx_1} + 3 \\,\\color{blue}{dx_3}\\\\\n",
        "\\omega_2 &=-1 \\,\\color{orange}{dx_1} + \\color{orange}{dx_2} + \\color{orange}{dx_3}-4\\,\\color{orange}{d_4} + 5\\,\\color{orange}{dx_5}\\\\\n",
        "\\omega_3 &=-2 \\,\\color{red}{dx_2} + \\color{red}{dx_4} - \\color{red}{dx_5}\n",
        "\\end{align}\n",
        "$$\n",
        "\n",
        "A $3$-form can be the result of wedging $\\omega_1 \\wedge \\omega_2\\wedge \\omega_3.$\n",
        "\n",
        "It acts on three vectors in $\\mathbb R^5,$ such as\n",
        "\n",
        "$$\\begin{align}\\small v_1 &=\\begin{bmatrix}1&&2 &&-1&& 0 &&5\\end{bmatrix}\\\\ v_2 &=\\begin{bmatrix}0&&0 &&1&& 10 &&1\\end{bmatrix}\\\\ v_3 &=\\begin{bmatrix}7&&1 &&0&& 3 &&2\\end{bmatrix}\n",
        "\\end{align}$$\n",
        "\n",
        "as\n",
        "\n",
        "$$\\omega_1 \\wedge \\omega_2\\wedge \\omega_3\\;(v_1,v_2,v_3)=\\begin{vmatrix}\\color{blue}{-10}&&\\color{orange}{25} && \\color{red}{-9}\\\\\\color{blue}{3}&&\\color{orange}{-34} && \\color{red}{9}\\\\\\color{blue}{-49}&&\\color{orange}{-8} && \\color{red}{-1}\\end{vmatrix}=3200$$\n",
        "\n",
        "\n",
        "\n",
        "Trying to express it as in the multi-index notation above invoves distributing the wedged $1$-forms:\n",
        "\n",
        "$$\\begin{align}\n",
        "\\omega_1 \\wedge \\omega_2\\wedge \\omega_3\n",
        "&=\\Tiny\\left( -7\\, dx_1+ 3\\,dx_3\\right)\\wedge\n",
        "\\left(-1\\,dx_1 + dx_2 + dx_3-4\\,dx_4 + 5\\,dx_5 \\right) \\wedge\n",
        "\\left(-2\\,dx_2 + dx_4 - dx_5 \\right)\\\\\n",
        "&\\Tiny=(\n",
        "-7 \\, dx_1\\wedge dx_2\n",
        "- 7\\, dx_1\\wedge dx_3\n",
        "+28\\, dx_1 \\wedge dx_4\n",
        "-35\\,dx_1\\wedge dx_5\n",
        "+3 dx_1\\wedge dx_3\\\\\n",
        "&\\Tiny -3\\,dx_2\\wedge dx_3\n",
        "- 12\\,dx_3\\wedge dx_4) + 15 \\, dx_3 \\wedge dx_5\\\\\n",
        "&\\Tiny\\wedge \\Tiny \\left(-2\\,dx_2 + dx_4 - dx_5 \\right)=\\\\\n",
        "& \\small  -8\\,dx_1\\wedge dx_2 \\wedge dx_3\\\\  \n",
        "& \\small + 49\\,dx_1\\wedge dx_2 \\wedge dx_4 \\\\\n",
        "& \\small - 63\\, dx_1\\wedge dx_2 \\wedge dx_5  \\\\\n",
        "&\\small -4\\, dx_1\\wedge dx_3 \\wedge dx_4 \\\\\n",
        "& \\small + 4 \\, dx_1\\wedge dx_3 \\wedge dx_5\\\\  \n",
        "& \\small +7 \\, dx_1\\wedge dx_4 \\wedge dx_5\\\\\n",
        "&\\small + 21\\, dx_2\\wedge dx_3 \\wedge dx_4\\\\\n",
        "&\\small - 27\\, dx_2\\wedge dx_3 \\wedge dx_5\\\\\n",
        "&\\small - 3\\, dx_3\\wedge dx_4 \\wedge dx_5\n",
        "\\end{align}$$\n",
        "\n",
        "which applied to the vectors above:\n",
        "\n",
        "$$\\Tiny\n",
        "-8 \\begin{vmatrix} 1& 2 & -1 \\\\ 0&0&1\\\\7&1&0 \\end{vmatrix}\n",
        "+49\\begin{vmatrix} 1&2&0 \\\\ 0&0&10\\\\7&1&3 \\end{vmatrix}\n",
        "-63\\begin{vmatrix} 1&2&5 \\\\ 0&0&1\\\\7&1&2 \\end{vmatrix}\n",
        "-4 \\begin{vmatrix} 1&-1&0 \\\\ 0&1&10\\\\7&0&3 \\end{vmatrix}\n",
        "+ 4 \\begin{vmatrix} 1&-1&5 \\\\ 0&1&1\\\\7&0&2 \\end{vmatrix}\n",
        "+7 \\begin{vmatrix} 1&0&5 \\\\ 0&10&1\\\\7&3&2 \\end{vmatrix}\n",
        "+21 \\begin{vmatrix} 2&-1&0 \\\\ 0&1&10\\\\1&0&3 \\end{vmatrix}\n",
        "-27 \\begin{vmatrix} 2&-1&5 \\\\ 0&1&1\\\\1&0&2 \\end{vmatrix}\n",
        "-3 \\begin{vmatrix} -1&0&5 \\\\ 1&10&1\\\\0&3&2 \\end{vmatrix}=3200$$"
      ],
      "metadata": {
        "id": "-QdPaHlw6BoF"
      }
    },
    {
      "cell_type": "code",
      "source": [
        "m = matrix(c(-10,25,-9,3,-34,9,-49,-8,-1),3,byrow=T)\n",
        "m\n",
        "det(m)"
      ],
      "metadata": {
        "colab": {
          "base_uri": "https://localhost:8080/",
          "height": 163
        },
        "id": "r1Tx-85ECSCE",
        "outputId": "17c8a69a-deeb-4034-d42c-5428a3685936"
      },
      "execution_count": null,
      "outputs": [
        {
          "output_type": "display_data",
          "data": {
            "text/html": [
              "<table class=\"dataframe\">\n",
              "<caption>A matrix: 3 × 3 of type dbl</caption>\n",
              "<tbody>\n",
              "\t<tr><td>-10</td><td> 25</td><td>-9</td></tr>\n",
              "\t<tr><td>  3</td><td>-34</td><td> 9</td></tr>\n",
              "\t<tr><td>-49</td><td> -8</td><td>-1</td></tr>\n",
              "</tbody>\n",
              "</table>\n"
            ],
            "text/markdown": "\nA matrix: 3 × 3 of type dbl\n\n| -10 |  25 | -9 |\n|   3 | -34 |  9 |\n| -49 |  -8 | -1 |\n\n",
            "text/latex": "A matrix: 3 × 3 of type dbl\n\\begin{tabular}{lll}\n\t -10 &  25 & -9\\\\\n\t   3 & -34 &  9\\\\\n\t -49 &  -8 & -1\\\\\n\\end{tabular}\n",
            "text/plain": [
              "     [,1] [,2] [,3]\n",
              "[1,] -10   25  -9  \n",
              "[2,]   3  -34   9  \n",
              "[3,] -49   -8  -1  "
            ]
          },
          "metadata": {}
        },
        {
          "output_type": "display_data",
          "data": {
            "text/html": [
              "3200"
            ],
            "text/markdown": "3200",
            "text/latex": "3200",
            "text/plain": [
              "[1] 3200"
            ]
          },
          "metadata": {}
        }
      ]
    },
    {
      "cell_type": "code",
      "source": [
        "one = matrix(c(1,2,-1,0,0,1,7,1,0),3,byrow=T)\n",
        "two = matrix(c(1,2,0,0,0,10,7,1,3),3,byrow=T)\n",
        "three = matrix(c(1,2,5,0,0,1,7,1,2),3,byrow=T)\n",
        "four = matrix(c(1,-1,0,0,1,10,7,0,3),3,byrow=T)\n",
        "five = matrix(c(1,-1,5,0,1,1,7,0,2),3,byrow=T)\n",
        "six = matrix(c(1,0,5,0,10,1,7,3,2),3,byrow=T)\n",
        "seven = matrix(c(2,-1,0,0,1,10,1,0,3),3,byrow=T)\n",
        "eight = matrix(c(2,-1,5,0,1,1,1,0,2),3,byrow=T)\n",
        "nine = matrix(c(-1,0,5,1,10,1,0,3,2),3,byrow=T)"
      ],
      "metadata": {
        "id": "nwBWWlM0azrb"
      },
      "execution_count": null,
      "outputs": []
    },
    {
      "cell_type": "code",
      "source": [
        "-8*det(one)  +49*det(two)  -63*det(three) -4*det(four) +4*det(five) +7*det(six) +21*det(seven) -27*det(eight) -3*det(nine)"
      ],
      "metadata": {
        "colab": {
          "base_uri": "https://localhost:8080/",
          "height": 34
        },
        "id": "JvaTtF1icdt2",
        "outputId": "2f381b7e-732d-4aba-d666-5db372696ae7"
      },
      "execution_count": null,
      "outputs": [
        {
          "output_type": "display_data",
          "data": {
            "text/html": [
              "3200"
            ],
            "text/markdown": "3200",
            "text/latex": "3200",
            "text/plain": [
              "[1] 3200"
            ]
          },
          "metadata": {}
        }
      ]
    },
    {
      "cell_type": "markdown",
      "source": [
        "Here is another example:\n",
        "\n",
        "$$\\begin{align}\\omega_1 &= dx + dy + dz\\\\\n",
        "\\omega_2 &=2\\, dx - 3 \\,  dy\\\\\n",
        "\\omega_3 &=dx + 2\\, dz\n",
        "\\end{align}\n",
        "$$\n",
        "\n",
        "A $3$-form can be the result of wedging $\\omega_1 \\wedge \\omega_2\\wedge \\omega_3.$\n",
        "\n",
        "It acts on three vectors in $\\mathbb R^3,$ such as\n",
        "\n",
        "$$\\begin{align}\\small v_1 &=\\begin{bmatrix}2&1 &0\\end{bmatrix}\\\\ v_2 &=\\begin{bmatrix}-1&3&-2\\end{bmatrix}\\\\ v_3 &=\\begin{bmatrix}1&0&1\\end{bmatrix}\n",
        "\\end{align}$$\n",
        "\n",
        "$$\\omega_1 \\wedge \\omega_2\\wedge \\omega_3\\;(v_1,v_2,v_3)=\\begin{vmatrix}3&&1 && 2\\\\0&&-11&& -5\\\\2&&2 && 3\\end{vmatrix}=-35$$"
      ],
      "metadata": {
        "id": "kaiH6ZRnlc7a"
      }
    },
    {
      "cell_type": "code",
      "source": [
        "det(M <- matrix(c(3,1,2,0,-11,-5,2,2,3),3,byrow=T))\n",
        "M"
      ],
      "metadata": {
        "colab": {
          "base_uri": "https://localhost:8080/",
          "height": 163
        },
        "id": "2U9L-XQcnGGX",
        "outputId": "903237f4-48ac-4dce-904f-9108b66c3694"
      },
      "execution_count": null,
      "outputs": [
        {
          "output_type": "display_data",
          "data": {
            "text/html": [
              "-35"
            ],
            "text/markdown": "-35",
            "text/latex": "-35",
            "text/plain": [
              "[1] -35"
            ]
          },
          "metadata": {}
        },
        {
          "output_type": "display_data",
          "data": {
            "text/html": [
              "<table class=\"dataframe\">\n",
              "<caption>A matrix: 3 × 3 of type dbl</caption>\n",
              "<tbody>\n",
              "\t<tr><td>3</td><td>  1</td><td> 2</td></tr>\n",
              "\t<tr><td>0</td><td>-11</td><td>-5</td></tr>\n",
              "\t<tr><td>2</td><td>  2</td><td> 3</td></tr>\n",
              "</tbody>\n",
              "</table>\n"
            ],
            "text/markdown": "\nA matrix: 3 × 3 of type dbl\n\n| 3 |   1 |  2 |\n| 0 | -11 | -5 |\n| 2 |   2 |  3 |\n\n",
            "text/latex": "A matrix: 3 × 3 of type dbl\n\\begin{tabular}{lll}\n\t 3 &   1 &  2\\\\\n\t 0 & -11 & -5\\\\\n\t 2 &   2 &  3\\\\\n\\end{tabular}\n",
            "text/plain": [
              "     [,1] [,2] [,3]\n",
              "[1,] 3      1   2  \n",
              "[2,] 0    -11  -5  \n",
              "[3,] 2      2   3  "
            ]
          },
          "metadata": {}
        }
      ]
    },
    {
      "cell_type": "markdown",
      "source": [
        "If instead we distribute as\n",
        "\n",
        "$$\\begin{align}\n",
        "(dx + dy + dz) \\wedge (2dx - 3dy) \\wedge (dx+2dz) &= (-3\\,dx\\wedge dy - 2\\,dx\\wedge dy -2\\,dx\\wedge dz+3\\,dy\\wedge dz )\\wedge (dx+2dz)\\\\\n",
        "&=  (-5\\,dx\\wedge dy -2\\,dx\\wedge dz+3\\,dy\\wedge dz)\\wedge (dx+2dz)\\\\\n",
        "&=  -10\\, dx\\wedge dy \\wedge dz + 3 dx \\wedge dy \\wedge dz  \\\\\n",
        "&= - 7\\, dx\\wedge dy \\wedge dz\n",
        "\\end{align}$$\n",
        "\n",
        "the same result could now be obtained multiplying...\n",
        "\n",
        "$$-7 \\; \\begin{vmatrix}2 & 1 & 0 \\\\ -1 & 3 & -2 \\\\ 1 & 0 & 1 \\end{vmatrix}$$"
      ],
      "metadata": {
        "id": "XhnSlyaHnVFT"
      }
    },
    {
      "cell_type": "code",
      "source": [
        "-7 * det(Q <- matrix(c(2,1,0,-1,3,-2,1,0,1),3,byrow=T))\n",
        "Q"
      ],
      "metadata": {
        "colab": {
          "base_uri": "https://localhost:8080/",
          "height": 180
        },
        "id": "d3YG68QvnUqL",
        "outputId": "e616da8d-2177-4652-f314-8cb1dfbfa48f"
      },
      "execution_count": null,
      "outputs": [
        {
          "output_type": "display_data",
          "data": {
            "text/html": [
              "-35"
            ],
            "text/markdown": "-35",
            "text/latex": "-35",
            "text/plain": [
              "[1] -35"
            ]
          },
          "metadata": {}
        },
        {
          "output_type": "display_data",
          "data": {
            "text/html": [
              "<table class=\"dataframe\">\n",
              "<caption>A matrix: 3 × 3 of type dbl</caption>\n",
              "<tbody>\n",
              "\t<tr><td> 2</td><td>1</td><td> 0</td></tr>\n",
              "\t<tr><td>-1</td><td>3</td><td>-2</td></tr>\n",
              "\t<tr><td> 1</td><td>0</td><td> 1</td></tr>\n",
              "</tbody>\n",
              "</table>\n"
            ],
            "text/markdown": "\nA matrix: 3 × 3 of type dbl\n\n|  2 | 1 |  0 |\n| -1 | 3 | -2 |\n|  1 | 0 |  1 |\n\n",
            "text/latex": "A matrix: 3 × 3 of type dbl\n\\begin{tabular}{lll}\n\t  2 & 1 &  0\\\\\n\t -1 & 3 & -2\\\\\n\t  1 & 0 &  1\\\\\n\\end{tabular}\n",
            "text/plain": [
              "     [,1] [,2] [,3]\n",
              "[1,]  2   1     0  \n",
              "[2,] -1   3    -2  \n",
              "[3,]  1   0     1  "
            ]
          },
          "metadata": {}
        }
      ]
    }
  ]
}