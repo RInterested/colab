{
  "nbformat": 4,
  "nbformat_minor": 0,
  "metadata": {
    "colab": {
      "provenance": [],
      "authorship_tag": "ABX9TyOO9+ugfCQhWoqumVZEV9iW"
    },
    "kernelspec": {
      "display_name": "R",
      "name": "ir"
    }
  },
  "cells": [
    {
      "cell_type": "markdown",
      "metadata": {
        "id": "HLSAdv79QLRx"
      },
      "source": [
        "Extracted from [here](https://youtu.be/IiOSxaF5oxo)."
      ]
    },
    {
      "cell_type": "code",
      "metadata": {
        "colab": {
          "base_uri": "https://localhost:8080/"
        },
        "id": "llG3JjJfQBMD",
        "outputId": "462cf56d-1fc7-48cc-89b2-d0b6151d0f86"
      },
      "source": [
        "install.packages('xts')\n",
        "install.packages('qrmdata')\n",
        "install.packages('qrmtools')\n",
        "library(xts) # for functions around time series objects\n",
        "library(qrmdata) # for the S&P 500 data\n",
        "library(qrmtools) # for returns()"
      ],
      "execution_count": 1,
      "outputs": [
        {
          "output_type": "stream",
          "name": "stderr",
          "text": [
            "Installing package into ‘/usr/local/lib/R/site-library’\n",
            "(as ‘lib’ is unspecified)\n",
            "\n",
            "also installing the dependency ‘zoo’\n",
            "\n",
            "\n",
            "Installing package into ‘/usr/local/lib/R/site-library’\n",
            "(as ‘lib’ is unspecified)\n",
            "\n",
            "Installing package into ‘/usr/local/lib/R/site-library’\n",
            "(as ‘lib’ is unspecified)\n",
            "\n",
            "also installing the dependencies ‘misc3d’, ‘truncnorm’, ‘FNN’, ‘kernlab’, ‘mclust’, ‘multicool’, ‘mvtnorm’, ‘plot3D’, ‘pracma’, ‘DistributionUtils’, ‘GeneralizedHyperbolic’, ‘TTR’, ‘Rsolnp’, ‘ks’, ‘numDeriv’, ‘spd’, ‘chron’, ‘SkewHyperbolic’, ‘Rcpp’, ‘RcppArmadillo’, ‘quantmod’, ‘Quandl’, ‘rugarch’, ‘ADGofTest’\n",
            "\n",
            "\n",
            "Loading required package: zoo\n",
            "\n",
            "\n",
            "Attaching package: ‘zoo’\n",
            "\n",
            "\n",
            "The following objects are masked from ‘package:base’:\n",
            "\n",
            "    as.Date, as.Date.numeric\n",
            "\n",
            "\n",
            "Registered S3 method overwritten by 'quantmod':\n",
            "  method            from\n",
            "  as.zoo.data.frame zoo \n",
            "\n"
          ]
        }
      ]
    },
    {
      "cell_type": "code",
      "metadata": {
        "id": "Gy7XzMUcLZpG",
        "colab": {
          "base_uri": "https://localhost:8080/",
          "height": 1000
        },
        "outputId": "b5da2e2d-dbef-4309-af9d-7c0fb8c49fcd"
      },
      "source": [
        "## By Marius Hofert\n",
        "\n",
        "## 1) Compute the probability of next year's maximal risk-factor change\n",
        "##    exceeding all previous ones via the BBM based on S&P 500 data;\n",
        "##    see MFE (2015, Example 5.12).\n",
        "## 2) Compute a return level;  see MFE (2015, Example 5.15)\n",
        "## 3) Compute a return period; see MFE (2015, Example 5.15)\n",
        "\n",
        "## Note: Different databases can (and indeed do) provide different stock values\n",
        "##       for the S&P 500. The data below (from qrmdata) is from finance.yahoo.com\n",
        "##       and thus our computed values differ from the values reported\n",
        "##       in MFE (2015). Also, we (mostly) work with log-returns\n",
        "##       instead of classical returns here.\n",
        "\n",
        "\n",
        "\n",
        "\n",
        "### 1 Working with the data ####################################################\n",
        "\n",
        "## Load the data and compute the losses\n",
        "data(SP500) # load the S&P 500 data\n",
        "S <- SP500 # 'xts'/'zoo' object\n",
        "X <- returns(S) # log-returns X_t = log(S_t/S_{t-1}) as risk factor changes\n",
        "L <- -X # losses\n",
        "stopifnot(all.equal(L, -diff(log(S))[-1], check.attributes = FALSE))\n",
        "\n",
        "## Let's briefly work out some numbers around next Monday (= Black Monday!)\n",
        "L['1987-10-16'] # ~=  5.3%; risk-factor change on the Friday before Black Monday\n",
        "L['1987-10-19'] # ~= 22.9%; risk-factor change on Black Monday!\n",
        "\n",
        "## Let's briefly consider negative classical instead of -log-returns\n",
        "## Note: A change of beta from yesterday's value to today's satisfies\n",
        "##       S_t = (1 + beta) * S_{t-1} => Y_t = -(S_t/S_{t-1}-1) = -beta\n",
        "##       => The negative classical returns Y_t give exactly the drop beta (= -beta)\n",
        "Y <- -returns(S, method = \"simple\") # classical negative returns\n",
        "stopifnot(all.equal(Y, -diff(S)[-1]/as.numeric(S[-length(S)]),\n",
        "                    check.attributes = FALSE))\n",
        "Y['1987-10-16'] # ~=  5.16% (drop)\n",
        "Y['1987-10-19'] # ~= 20.47% (drop)\n",
        "\n",
        "## To see the same change from -log-returns, note that L_t = -log(S_t/S_{t-1})\n",
        "## = -log(1+beta) => -beta = -(exp(-L_t)-1) = -expm1(-L_t),\n",
        "## so negative classical returns can be obtained from -log-returns via -expm1(-.)\n",
        "stopifnot(all.equal(-expm1(-L['1987-10-16']), Y['1987-10-16'], check.attributes = FALSE))\n",
        "stopifnot(all.equal(-expm1(-L['1987-10-19']), Y['1987-10-19'], check.attributes = FALSE))\n",
        "## ... and over a time period: The drop (= loss) from (end of) Mon 1987-10-12\n",
        "## to (end of) Fri 1987-10-16 can be obtained via -expm1(-sum(.)):\n",
        "## Note: S_t/S_{t-4} = S_t/S_{t-1} * S_{t-1}/S_{t-2} ... * S_{t-3}/S_{t-4}\n",
        "##       = exp(-L_t) * exp(-L_{t-1}) * ... * exp(-L_{t-3}) = exp(-sum(L_i, i=t-3,..,t))\n",
        "##       => (Positive drop) -beta = -(S_t/S_{t-4}-1) = -(exp(-sum(L_i, i=t-3,..,t))-1)\n",
        "-expm1(-sum(L['1987-10-12/1987-10-16'])) # ~= 9.12% (drop)\n",
        "\n",
        "## Does working with either notion of (classical/log-)returns matter?\n",
        "## The tangent to the curve log(x) in 1 is x - 1.\n",
        "## 1) Near 1, log(x) ~ x - 1. So if S_t/S_{t-1} ~= 1 (so beta ~= 0),\n",
        "##    then log(S_t/S_{t-1}) is roughly S_t/S_{t-1} - 1\n",
        "##    => It does not matter much with which version one works\n",
        "## 2) However, \"Friday before Black Monday\" S_t differs substantially from S_{t-1}\n",
        "##    so it can/does matter:\n",
        "(x <- S[\"1987-10-19\"]/as.numeric(S[\"1987-10-16\"])) # S_t/S_{t-1} ~= 0.7953\n",
        "stopifnot(all.equal(-(x - 1), Y['1987-10-19'], # classical -return; ~= 0.2047\n",
        "                    check.attributes = FALSE))\n",
        "stopifnot(all.equal(-log(x),  L['1987-10-19'], # -log-return;       ~= 0.2290\n",
        "                    check.attributes = FALSE))\n",
        "## => Difference of 2.43%.\n",
        "##    Since log(x) <= x - 1, classical returns are larger than log-returns\n",
        "##    and so -log-returns are larger than negative classical returns.\n",
        "\n",
        "## From now on we only consider the -log-returns from 1960-01-01 until\n",
        "## the evening of 1987-10-16\n",
        "L. <- L['1960-01-01/1987-10-16']\n",
        "\n",
        "## Plot the S&P 500 -log-returns\n",
        "plot.zoo(L., main = \"S&P 500 losses (-log-returns)\",\n",
        "         xlab = \"Time t\", ylab = expression(L[t] == -log(S[t]/S[t-1])))\n",
        "## One would need to fit a time series model to L. (e.g., GARCH process), but\n",
        "## we omit that here.\n",
        "\n",
        "\n",
        "### 2 Block Maxima Method (BMM) ################################################\n",
        "\n",
        "## Extract (half-)yearly maxima\n",
        "M.y <- period.apply(L., INDEX = endpoints(L., \"years\"), FUN = max) # yearly maxima\n",
        "endpts <- endpoints(L., \"quarters\") # end indices for quarters\n",
        "endpts <- endpts[seq(1, length(endpts), by = 2)] # end indices for half-years\n",
        "M.hy <- period.apply(L., INDEX = endpts, FUN = max) # half-yearly maxima\n",
        "\n",
        "## Fit the GEV distribution H_{xi,mu,sigma} to the (half-)yearly maxima\n",
        "\n",
        "## Yearly maxima\n",
        "fit.y <- fit_GEV_MLE(M.y) # maximum likelihood estimator\n",
        "stopifnot(fit.y$convergence == 0) # => converged\n",
        "(xi.y <- fit.y$par[[\"shape\"]]) # ~= 0.2971 => Frechet domain with infinite ceiling(1/xi.y) = 4th moment\n",
        "(mu.y  <- fit.y$par[[\"loc\"]])\n",
        "(sig.y <- fit.y$par[[\"scale\"]])\n",
        "fit.y$SE # standard errors\n",
        "\n",
        "## Half-yearly maxima\n",
        "fit.hy <- fit_GEV_MLE(M.hy)\n",
        "stopifnot(fit.hy$convergence == 0) # => converged\n",
        "(xi.hy <- fit.hy$par[[\"shape\"]]) # ~= 0.3401 => Frechet domain with infinite ceiling(1/xi.hy) = 3rd moment\n",
        "(mu.hy  <- fit.hy$par[[\"loc\"]])\n",
        "(sig.hy <- fit.hy$par[[\"scale\"]])\n",
        "fit.hy$SE # standard errors\n",
        "\n",
        "\n",
        "### 3 Compute exceedance probabilities, return levels and return periods #######\n",
        "\n",
        "## Q: What is the probability that next year's maximal risk-factor change\n",
        "##    exceeds all previous ones?\n",
        "1-pGEV(max(head(M.y,  n = -1)), shape = xi.y,  loc = mu.y,  scale = sig.y)  # exceedance prob. ~= 2.58%\n",
        "1-pGEV(max(head(M.hy, n = -1)), shape = xi.hy, loc = mu.hy, scale = sig.hy) # exceedance prob. ~= 1.49%\n",
        "## Note: mu and sig also differ for half-yearly vs yearly data; if it was only xi,\n",
        "##       the exceedance probability based on half-yearly data would be estimated\n",
        "##       larger than the one based on yearly data (as xi is larger => heavier tailed GEV)\n",
        "\n",
        "## Q: What is the 10-year and 50-year return level? ... so the loss we expect\n",
        "##    to be exceeded once every 10 (or 50) years.\n",
        "##    Recall: k n-block return level = r_{n,k} = H^-(1-1/k) = level which is\n",
        "##            expected to be exceeded in one out of every k n-blocks.\n",
        "qGEV(1-1/10, shape = xi.y, loc = mu.y, scale = sig.y) # r_{n = 260, k = 10} ~= 4.42%; n ~ 1y\n",
        "qGEV(1-1/50, shape = xi.y, loc = mu.y, scale = sig.y) # r_{n = 260, k = 50} ~= 7.49%\n",
        "## 20-half-year and 100-half-year return levels\n",
        "qGEV(1-1/20,  shape = xi.hy, loc = mu.hy, scale = sig.hy) # r_{n = 130, k = 20}  ~= 4.56%; n ~ 1/2y\n",
        "qGEV(1-1/100, shape = xi.hy, loc = mu.hy, scale = sig.hy) # r_{n = 130, k = 100} ~= 7.90%\n",
        "## => Close to r_{n = 260, k = 10} and r_{n = 260, k = 50}, respectively (reassuring).\n",
        "\n",
        "## Q: What is the return period of a risk-factor change at least as large as\n",
        "##    on Black Monday? ... so the number of n-blocks for which we expect to see\n",
        "##    at least one of them exceeding a loss as large as on Black Monday.\n",
        "##    Recall: k_{n,u} = 1/\\bar{H}(u) = period (= number of n-blocks) in which we\n",
        "##            expect to see a single n-block exceeding u (= risk-factor change\n",
        "##            as on Black Monday)\n",
        "1/(1-pGEV(as.numeric(L['1987-10-19']),\n",
        "          shape = xi.y, loc = mu.y, scale = sig.y)) # ~= 1876 years\n",
        "1/(1-pGEV(as.numeric(L['1987-10-19']),\n",
        "          shape = xi.hy, loc = mu.hy, scale = sig.hy)) # ~= 2300 half-years = 1150 years\n",
        "\n",
        "\n",
        "### 4 Behind the scenes ########################################################\n",
        "\n",
        "## Note:\n",
        "## 1) Fitting a GEV via MLE needs initial values. One (of multiple) problem(s) is\n",
        "##    that for xi != 0, we need 1 + xi * (x - mu) / sigma > 0 for *all* data points\n",
        "##    x in order for the density to be positive and thus the log-likelihood to be\n",
        "##    finite.\n",
        "## 2) A cheap solution is to use the case xi = 0 as initial values. So xi = 0,\n",
        "##    sigma = sqrt(6 * var(x)) / pi and mu = mean(x) - sigma * gam in this case,\n",
        "##    where gam = 0.5772157 (= -digamma(1)) denotes the Euler--Mascheroni constant.\n",
        "## 3) This is no problem for x = M.y, however, it is a problem for x = M.hy as we\n",
        "##    now explore a bit.\n",
        "## 4) These types of numerical explorations are important for many practical\n",
        "##    problems. It is always good to keep an eye on numerics...\n",
        "\n",
        "## Fit based on half-yearly maxima with the case 'xi = 0' as initial values\n",
        "x <- M.hy # for simplicity\n",
        "scale.init <- sqrt(6 * var(x)) / pi # initial sigma for the 'xi = 0' case\n",
        "loc.init <- mean(x) - scale.init * 0.5772157\n",
        "init <- c(0, loc.init, scale.init) # initial xi, mu, sigma\n",
        "fit.hy. <- fit_GEV_MLE(M.hy, init = init) # maximum likelihood estimator\n",
        "stopifnot(fit.hy.$convergence == 0) # => converged, but...\n",
        "fit.hy.$par[[\"shape\"]] # => ~= -7e-17, suspicious shape\n",
        "if(FALSE)\n",
        "    ## Let's look at a trace\n",
        "    fit_GEV_MLE(M.hy, init = init, control = list(trace = TRUE)) # => nothing obvious\n",
        "    ## On a second thought (comparing the log-likelihoods below (~ 191) with the\n",
        "    ## ones of this trace), Nelder--Mead seems to 'jump' on the second reflection.\n",
        "\n",
        "## Check a different optimizer\n",
        "fit_GEV_MLE(M.hy, init = init, method = \"BFGS\") # ~= 0.3265 => ok\n",
        "\n",
        "## Check a whole sequence of xi's (for the same mu, sigma)\n",
        "s <- 2^(-seq(3, 20, by = 0.5)) # sequence concentrating near 0\n",
        "shape.init <- c(-s, 0, rev(s)) # sequence concentrating around 0\n",
        "fit.hy.xis <- lapply(shape.init, function(xi) fit_GEV_MLE(M.hy, init = c(xi, init[2:3])))\n",
        "stopifnot(sapply(fit.hy.xis, function(f) f$convergence) == 0) # => converged\n",
        "shape.fit <- lapply(fit.hy.xis, function(f) f$par[[\"shape\"]]) # fitted xi's\n",
        "plot(shape.init, shape.fit, type = \"b\",\n",
        "     xlab = expression(\"initial\"~xi), ylab = expression(\"fitted\"~xi))\n",
        "## => The optimization method Nelder--Mead fails exactly for xi = 0...\n",
        "\n",
        "## ... with no obvious reason (at least not when looking at the log-likelihood\n",
        "## as a function of xi\n",
        "logL <- sapply(shape.init, function(xi) logLik_GEV(c(xi, init[2:3]), M.hy))\n",
        "plot(shape.init, logL, type = \"b\") # => ok; see also 'logL'\n",
        "\n",
        "## For initial |xi| small but nonzero, fitting works.\n",
        "fit_GEV_MLE(M.hy, init = c( .Machine$double.eps^0.25, init[2:3])) # ~= 0.3401 => ok\n",
        "fit_GEV_MLE(M.hy, init = c(-.Machine$double.eps^0.25, init[2:3])) # ~= 0.3400 => ok\n",
        "## ... and this and another trick are in fact used internally.\n",
        "## In some other R packages, initial xi are more brutally set as 0.1.\n",
        "\n",
        "## Note:\n",
        "## 1) fit_GEV_MLE() internally also provides more algorithms for finding\n",
        "##    initial values, and they also (roughly) lead to xi ~= 0.3402.\n",
        "## 2) The problem overall is significantly more severe and challenging\n",
        "##    when computing profile log-likelihood based confidence intervals\n",
        "##    for return levels and return periods; see the script\n",
        "##    05_GEV_BMM_SP500_CIs_rlevels_rperiods.R"
      ],
      "execution_count": 2,
      "outputs": [
        {
          "output_type": "display_data",
          "data": {
            "text/plain": [
              "                 [,1]\n",
              "1987-10-16 0.05297556"
            ]
          },
          "metadata": {}
        },
        {
          "output_type": "display_data",
          "data": {
            "text/plain": [
              "                [,1]\n",
              "1987-10-19 0.2289973"
            ]
          },
          "metadata": {}
        },
        {
          "output_type": "display_data",
          "data": {
            "text/plain": [
              "                 [,1]\n",
              "1987-10-16 0.05159681"
            ]
          },
          "metadata": {}
        },
        {
          "output_type": "display_data",
          "data": {
            "text/plain": [
              "                [,1]\n",
              "1987-10-19 0.2046693"
            ]
          },
          "metadata": {}
        },
        {
          "output_type": "display_data",
          "data": {
            "text/html": [
              "0.0912013191937208"
            ],
            "text/markdown": "0.0912013191937208",
            "text/latex": "0.0912013191937208",
            "text/plain": [
              "[1] 0.09120132"
            ]
          },
          "metadata": {}
        },
        {
          "output_type": "display_data",
          "data": {
            "text/plain": [
              "               ^GSPC\n",
              "1987-10-19 0.7953307"
            ]
          },
          "metadata": {}
        },
        {
          "output_type": "display_data",
          "data": {
            "text/html": [
              "0.29708064108628"
            ],
            "text/markdown": "0.29708064108628",
            "text/latex": "0.29708064108628",
            "text/plain": [
              "[1] 0.2970806"
            ]
          },
          "metadata": {}
        },
        {
          "output_type": "display_data",
          "data": {
            "text/html": [
              "0.0205477582545467"
            ],
            "text/markdown": "0.0205477582545467",
            "text/latex": "0.0205477582545467",
            "text/plain": [
              "[1] 0.02054776"
            ]
          },
          "metadata": {}
        },
        {
          "output_type": "display_data",
          "data": {
            "text/html": [
              "0.00738641978440216"
            ],
            "text/markdown": "0.00738641978440216",
            "text/latex": "0.00738641978440216",
            "text/plain": [
              "[1] 0.00738642"
            ]
          },
          "metadata": {}
        },
        {
          "output_type": "display_data",
          "data": {
            "text/html": [
              "<style>\n",
              ".dl-inline {width: auto; margin:0; padding: 0}\n",
              ".dl-inline>dt, .dl-inline>dd {float: none; width: auto; display: inline-block}\n",
              ".dl-inline>dt::after {content: \":\\0020\"; padding-right: .5ex}\n",
              ".dl-inline>dt:not(:first-of-type) {padding-left: .5ex}\n",
              "</style><dl class=dl-inline><dt>shape</dt><dd>0.216335151783151</dd><dt>loc</dt><dd>0.00167630151407856</dd><dt>scale</dt><dd>0.0012425656737555</dd></dl>\n"
            ],
            "text/markdown": "shape\n:   0.216335151783151loc\n:   0.00167630151407856scale\n:   0.0012425656737555\n\n",
            "text/latex": "\\begin{description*}\n\\item[shape] 0.216335151783151\n\\item[loc] 0.00167630151407856\n\\item[scale] 0.0012425656737555\n\\end{description*}\n",
            "text/plain": [
              "      shape         loc       scale \n",
              "0.216335152 0.001676302 0.001242566 "
            ]
          },
          "metadata": {}
        },
        {
          "output_type": "display_data",
          "data": {
            "text/html": [
              "0.3400842423731"
            ],
            "text/markdown": "0.3400842423731",
            "text/latex": "0.3400842423731",
            "text/plain": [
              "[1] 0.3400842"
            ]
          },
          "metadata": {}
        },
        {
          "output_type": "display_data",
          "data": {
            "text/html": [
              "0.016938547051488"
            ],
            "text/markdown": "0.016938547051488",
            "text/latex": "0.016938547051488",
            "text/plain": [
              "[1] 0.01693855"
            ]
          },
          "metadata": {}
        },
        {
          "output_type": "display_data",
          "data": {
            "text/html": [
              "0.00558748815954119"
            ],
            "text/markdown": "0.00558748815954119",
            "text/latex": "0.00558748815954119",
            "text/plain": [
              "[1] 0.005587488"
            ]
          },
          "metadata": {}
        },
        {
          "output_type": "display_data",
          "data": {
            "text/html": [
              "<style>\n",
              ".dl-inline {width: auto; margin:0; padding: 0}\n",
              ".dl-inline>dt, .dl-inline>dd {float: none; width: auto; display: inline-block}\n",
              ".dl-inline>dt::after {content: \":\\0020\"; padding-right: .5ex}\n",
              ".dl-inline>dt:not(:first-of-type) {padding-left: .5ex}\n",
              "</style><dl class=dl-inline><dt>shape</dt><dd>0.145089527801291</dd><dt>loc</dt><dd>0.0008416442973891</dd><dt>scale</dt><dd>0.000538288123526051</dd></dl>\n"
            ],
            "text/markdown": "shape\n:   0.145089527801291loc\n:   0.0008416442973891scale\n:   0.000538288123526051\n\n",
            "text/latex": "\\begin{description*}\n\\item[shape] 0.145089527801291\n\\item[loc] 0.0008416442973891\n\\item[scale] 0.000538288123526051\n\\end{description*}\n",
            "text/plain": [
              "       shape          loc        scale \n",
              "0.1450895278 0.0008416443 0.0005382881 "
            ]
          },
          "metadata": {}
        },
        {
          "output_type": "display_data",
          "data": {
            "text/html": [
              "0.0258061243380945"
            ],
            "text/markdown": "0.0258061243380945",
            "text/latex": "0.0258061243380945",
            "text/plain": [
              "[1] 0.02580612"
            ]
          },
          "metadata": {}
        },
        {
          "output_type": "display_data",
          "data": {
            "text/html": [
              "0.0148595034536981"
            ],
            "text/markdown": "0.0148595034536981",
            "text/latex": "0.0148595034536981",
            "text/plain": [
              "[1] 0.0148595"
            ]
          },
          "metadata": {}
        },
        {
          "output_type": "display_data",
          "data": {
            "text/html": [
              "0.0442024337443458"
            ],
            "text/markdown": "0.0442024337443458",
            "text/latex": "0.0442024337443458",
            "text/plain": [
              "[1] 0.04420243"
            ]
          },
          "metadata": {}
        },
        {
          "output_type": "display_data",
          "data": {
            "text/html": [
              "0.0749326521545739"
            ],
            "text/markdown": "0.0749326521545739",
            "text/latex": "0.0749326521545739",
            "text/plain": [
              "[1] 0.07493265"
            ]
          },
          "metadata": {}
        },
        {
          "output_type": "display_data",
          "data": {
            "text/html": [
              "0.0456235393814307"
            ],
            "text/markdown": "0.0456235393814307",
            "text/latex": "0.0456235393814307",
            "text/plain": [
              "[1] 0.04562354"
            ]
          },
          "metadata": {}
        },
        {
          "output_type": "display_data",
          "data": {
            "text/html": [
              "0.0790427014516239"
            ],
            "text/markdown": "0.0790427014516239",
            "text/latex": "0.0790427014516239",
            "text/plain": [
              "[1] 0.0790427"
            ]
          },
          "metadata": {}
        },
        {
          "output_type": "display_data",
          "data": {
            "text/html": [
              "1875.9907469159"
            ],
            "text/markdown": "1875.9907469159",
            "text/latex": "1875.9907469159",
            "text/plain": [
              "[1] 1875.991"
            ]
          },
          "metadata": {}
        },
        {
          "output_type": "display_data",
          "data": {
            "text/html": [
              "2299.93164426079"
            ],
            "text/markdown": "2299.93164426079",
            "text/latex": "2299.93164426079",
            "text/plain": [
              "[1] 2299.932"
            ]
          },
          "metadata": {}
        },
        {
          "output_type": "display_data",
          "data": {
            "text/html": [
              "-7.08329117514462e-17"
            ],
            "text/markdown": "-7.08329117514462e-17",
            "text/latex": "-7.08329117514462e-17",
            "text/plain": [
              "[1] -7.083291e-17"
            ]
          },
          "metadata": {}
        },
        {
          "output_type": "display_data",
          "data": {
            "text/html": [
              "<dl>\n",
              "\t<dt>$par</dt>\n",
              "\t\t<dd><style>\n",
              ".dl-inline {width: auto; margin:0; padding: 0}\n",
              ".dl-inline>dt, .dl-inline>dd {float: none; width: auto; display: inline-block}\n",
              ".dl-inline>dt::after {content: \":\\0020\"; padding-right: .5ex}\n",
              ".dl-inline>dt:not(:first-of-type) {padding-left: .5ex}\n",
              "</style><dl class=dl-inline><dt>shape</dt><dd>0.326462437990021</dd><dt>loc</dt><dd>0.0171367933469702</dd><dt>scale</dt><dd>0.00580562012243437</dd></dl>\n",
              "</dd>\n",
              "\t<dt>$value</dt>\n",
              "\t\t<dd>191.270065776361</dd>\n",
              "\t<dt>$counts</dt>\n",
              "\t\t<dd><style>\n",
              ".dl-inline {width: auto; margin:0; padding: 0}\n",
              ".dl-inline>dt, .dl-inline>dd {float: none; width: auto; display: inline-block}\n",
              ".dl-inline>dt::after {content: \":\\0020\"; padding-right: .5ex}\n",
              ".dl-inline>dt:not(:first-of-type) {padding-left: .5ex}\n",
              "</style><dl class=dl-inline><dt>function</dt><dd>58</dd><dt>gradient</dt><dd>8</dd></dl>\n",
              "</dd>\n",
              "\t<dt>$convergence</dt>\n",
              "\t\t<dd>0</dd>\n",
              "\t<dt>$message</dt>\n",
              "\t\t<dd>NULL</dd>\n",
              "\t<dt>$hessian</dt>\n",
              "\t\t<dd><table class=\"dataframe\">\n",
              "<caption>A matrix: 3 × 3 of type dbl</caption>\n",
              "<tbody>\n",
              "\t<tr><td>  -56.72621</td><td>   -5427.364</td><td>    4886.675</td></tr>\n",
              "\t<tr><td>-5427.36409</td><td>-2798099.425</td><td> 2636073.565</td></tr>\n",
              "\t<tr><td> 4886.67491</td><td> 2636073.565</td><td>-5226847.069</td></tr>\n",
              "</tbody>\n",
              "</table>\n",
              "</dd>\n",
              "\t<dt>$Cov</dt>\n",
              "\t\t<dd><table class=\"dataframe\">\n",
              "<caption>A matrix: 3 × 3 of type dbl</caption>\n",
              "<thead>\n",
              "\t<tr><th></th><th scope=col>shape</th><th scope=col>loc</th><th scope=col>scale</th></tr>\n",
              "</thead>\n",
              "<tbody>\n",
              "\t<tr><th scope=row>shape</th><td> 2.165427e-02</td><td>-4.368558e-05</td><td>-1.787125e-06</td></tr>\n",
              "\t<tr><th scope=row>loc</th><td>-4.368558e-05</td><td> 7.690341e-07</td><td> 3.470071e-07</td></tr>\n",
              "\t<tr><th scope=row>scale</th><td>-1.787125e-06</td><td> 3.470071e-07</td><td> 3.646564e-07</td></tr>\n",
              "</tbody>\n",
              "</table>\n",
              "</dd>\n",
              "\t<dt>$SE</dt>\n",
              "\t\t<dd><style>\n",
              ".dl-inline {width: auto; margin:0; padding: 0}\n",
              ".dl-inline>dt, .dl-inline>dd {float: none; width: auto; display: inline-block}\n",
              ".dl-inline>dt::after {content: \":\\0020\"; padding-right: .5ex}\n",
              ".dl-inline>dt:not(:first-of-type) {padding-left: .5ex}\n",
              "</style><dl class=dl-inline><dt>shape</dt><dd>0.147153890027304</dd><dt>loc</dt><dd>0.000876945894366284</dd><dt>scale</dt><dd>0.000603867869334767</dd></dl>\n",
              "</dd>\n",
              "</dl>\n"
            ],
            "text/markdown": "$par\n:   shape\n:   0.326462437990021loc\n:   0.0171367933469702scale\n:   0.00580562012243437\n\n\n$value\n:   191.270065776361\n$counts\n:   function\n:   58gradient\n:   8\n\n\n$convergence\n:   0\n$message\n:   NULL\n$hessian\n:   \nA matrix: 3 × 3 of type dbl\n\n|   -56.72621 |    -5427.364 |     4886.675 |\n| -5427.36409 | -2798099.425 |  2636073.565 |\n|  4886.67491 |  2636073.565 | -5226847.069 |\n\n\n$Cov\n:   \nA matrix: 3 × 3 of type dbl\n\n| <!--/--> | shape | loc | scale |\n|---|---|---|---|\n| shape |  2.165427e-02 | -4.368558e-05 | -1.787125e-06 |\n| loc | -4.368558e-05 |  7.690341e-07 |  3.470071e-07 |\n| scale | -1.787125e-06 |  3.470071e-07 |  3.646564e-07 |\n\n\n$SE\n:   shape\n:   0.147153890027304loc\n:   0.000876945894366284scale\n:   0.000603867869334767\n\n\n\n\n",
            "text/latex": "\\begin{description}\n\\item[\\$par] \\begin{description*}\n\\item[shape] 0.326462437990021\n\\item[loc] 0.0171367933469702\n\\item[scale] 0.00580562012243437\n\\end{description*}\n\n\\item[\\$value] 191.270065776361\n\\item[\\$counts] \\begin{description*}\n\\item[function] 58\n\\item[gradient] 8\n\\end{description*}\n\n\\item[\\$convergence] 0\n\\item[\\$message] NULL\n\\item[\\$hessian] A matrix: 3 × 3 of type dbl\n\\begin{tabular}{lll}\n\t   -56.72621 &    -5427.364 &     4886.675\\\\\n\t -5427.36409 & -2798099.425 &  2636073.565\\\\\n\t  4886.67491 &  2636073.565 & -5226847.069\\\\\n\\end{tabular}\n\n\\item[\\$Cov] A matrix: 3 × 3 of type dbl\n\\begin{tabular}{r|lll}\n  & shape & loc & scale\\\\\n\\hline\n\tshape &  2.165427e-02 & -4.368558e-05 & -1.787125e-06\\\\\n\tloc & -4.368558e-05 &  7.690341e-07 &  3.470071e-07\\\\\n\tscale & -1.787125e-06 &  3.470071e-07 &  3.646564e-07\\\\\n\\end{tabular}\n\n\\item[\\$SE] \\begin{description*}\n\\item[shape] 0.147153890027304\n\\item[loc] 0.000876945894366284\n\\item[scale] 0.000603867869334767\n\\end{description*}\n\n\\end{description}\n",
            "text/plain": [
              "$par\n",
              "     shape        loc      scale \n",
              "0.32646244 0.01713679 0.00580562 \n",
              "\n",
              "$value\n",
              "[1] 191.2701\n",
              "\n",
              "$counts\n",
              "function gradient \n",
              "      58        8 \n",
              "\n",
              "$convergence\n",
              "[1] 0\n",
              "\n",
              "$message\n",
              "NULL\n",
              "\n",
              "$hessian\n",
              "            [,1]         [,2]         [,3]\n",
              "[1,]   -56.72621    -5427.364     4886.675\n",
              "[2,] -5427.36409 -2798099.425  2636073.565\n",
              "[3,]  4886.67491  2636073.565 -5226847.069\n",
              "\n",
              "$Cov\n",
              "              shape           loc         scale\n",
              "shape  2.165427e-02 -4.368558e-05 -1.787125e-06\n",
              "loc   -4.368558e-05  7.690341e-07  3.470071e-07\n",
              "scale -1.787125e-06  3.470071e-07  3.646564e-07\n",
              "\n",
              "$SE\n",
              "       shape          loc        scale \n",
              "0.1471538900 0.0008769459 0.0006038679 \n"
            ]
          },
          "metadata": {}
        },
        {
          "output_type": "display_data",
          "data": {
            "text/plain": [
              "Plot with title “S&P 500 losses (-log-returns)”"
            ],
            "image/png": "[encoded data removed]"
          },
          "metadata": {
            "image/png": {
              "width": 420,
              "height": 420
            }
          }
        },
        {
          "output_type": "display_data",
          "data": {
            "text/plain": [
              "plot without title"
            ],
            "image/png": "[encoded data removed]"
          },
          "metadata": {
            "image/png": {
              "width": 420,
              "height": 420
            }
          }
        },
        {
          "output_type": "display_data",
          "data": {
            "text/html": [
              "<dl>\n",
              "\t<dt>$par</dt>\n",
              "\t\t<dd><style>\n",
              ".dl-inline {width: auto; margin:0; padding: 0}\n",
              ".dl-inline>dt, .dl-inline>dd {float: none; width: auto; display: inline-block}\n",
              ".dl-inline>dt::after {content: \":\\0020\"; padding-right: .5ex}\n",
              ".dl-inline>dt:not(:first-of-type) {padding-left: .5ex}\n",
              "</style><dl class=dl-inline><dt>shape</dt><dd>0.3400842423731</dd><dt>loc</dt><dd>0.016938547051488</dd><dt>scale</dt><dd>0.00558748815954119</dd></dl>\n",
              "</dd>\n",
              "\t<dt>$value</dt>\n",
              "\t\t<dd>191.312248492531</dd>\n",
              "\t<dt>$counts</dt>\n",
              "\t\t<dd><style>\n",
              ".dl-inline {width: auto; margin:0; padding: 0}\n",
              ".dl-inline>dt, .dl-inline>dd {float: none; width: auto; display: inline-block}\n",
              ".dl-inline>dt::after {content: \":\\0020\"; padding-right: .5ex}\n",
              ".dl-inline>dt:not(:first-of-type) {padding-left: .5ex}\n",
              "</style><dl class=dl-inline><dt>function</dt><dd>134</dd><dt>gradient</dt><dd>&lt;NA&gt;</dd></dl>\n",
              "</dd>\n",
              "\t<dt>$convergence</dt>\n",
              "\t\t<dd>0</dd>\n",
              "\t<dt>$message</dt>\n",
              "\t\t<dd>NULL</dd>\n",
              "\t<dt>$hessian</dt>\n",
              "\t\t<dd><table class=\"dataframe\">\n",
              "<caption>A matrix: 3 × 3 of type dbl</caption>\n",
              "<tbody>\n",
              "\t<tr><td>  -61.30981</td><td>   -6559.188</td><td>    6416.038</td></tr>\n",
              "\t<tr><td>-6559.18798</td><td>-3117747.521</td><td> 3121976.272</td></tr>\n",
              "\t<tr><td> 6416.03770</td><td> 3121976.272</td><td>-6577899.549</td></tr>\n",
              "</tbody>\n",
              "</table>\n",
              "</dd>\n",
              "\t<dt>$Cov</dt>\n",
              "\t\t<dd><table class=\"dataframe\">\n",
              "<caption>A matrix: 3 × 3 of type dbl</caption>\n",
              "<thead>\n",
              "\t<tr><th></th><th scope=col>shape</th><th scope=col>loc</th><th scope=col>scale</th></tr>\n",
              "</thead>\n",
              "<tbody>\n",
              "\t<tr><th scope=row>shape</th><td> 2.105097e-02</td><td>-4.521606e-05</td><td>-9.272949e-07</td></tr>\n",
              "\t<tr><th scope=row>loc</th><td>-4.521606e-05</td><td> 7.083651e-07</td><td> 2.920980e-07</td></tr>\n",
              "\t<tr><th scope=row>scale</th><td>-9.272949e-07</td><td> 2.920980e-07</td><td> 2.897541e-07</td></tr>\n",
              "</tbody>\n",
              "</table>\n",
              "</dd>\n",
              "\t<dt>$SE</dt>\n",
              "\t\t<dd><style>\n",
              ".dl-inline {width: auto; margin:0; padding: 0}\n",
              ".dl-inline>dt, .dl-inline>dd {float: none; width: auto; display: inline-block}\n",
              ".dl-inline>dt::after {content: \":\\0020\"; padding-right: .5ex}\n",
              ".dl-inline>dt:not(:first-of-type) {padding-left: .5ex}\n",
              "</style><dl class=dl-inline><dt>shape</dt><dd>0.145089527801291</dd><dt>loc</dt><dd>0.0008416442973891</dd><dt>scale</dt><dd>0.000538288123526051</dd></dl>\n",
              "</dd>\n",
              "</dl>\n"
            ],
            "text/markdown": "$par\n:   shape\n:   0.3400842423731loc\n:   0.016938547051488scale\n:   0.00558748815954119\n\n\n$value\n:   191.312248492531\n$counts\n:   function\n:   134gradient\n:   &lt;NA&gt;\n\n\n$convergence\n:   0\n$message\n:   NULL\n$hessian\n:   \nA matrix: 3 × 3 of type dbl\n\n|   -61.30981 |    -6559.188 |     6416.038 |\n| -6559.18798 | -3117747.521 |  3121976.272 |\n|  6416.03770 |  3121976.272 | -6577899.549 |\n\n\n$Cov\n:   \nA matrix: 3 × 3 of type dbl\n\n| <!--/--> | shape | loc | scale |\n|---|---|---|---|\n| shape |  2.105097e-02 | -4.521606e-05 | -9.272949e-07 |\n| loc | -4.521606e-05 |  7.083651e-07 |  2.920980e-07 |\n| scale | -9.272949e-07 |  2.920980e-07 |  2.897541e-07 |\n\n\n$SE\n:   shape\n:   0.145089527801291loc\n:   0.0008416442973891scale\n:   0.000538288123526051\n\n\n\n\n",
            "text/latex": "\\begin{description}\n\\item[\\$par] \\begin{description*}\n\\item[shape] 0.3400842423731\n\\item[loc] 0.016938547051488\n\\item[scale] 0.00558748815954119\n\\end{description*}\n\n\\item[\\$value] 191.312248492531\n\\item[\\$counts] \\begin{description*}\n\\item[function] 134\n\\item[gradient] <NA>\n\\end{description*}\n\n\\item[\\$convergence] 0\n\\item[\\$message] NULL\n\\item[\\$hessian] A matrix: 3 × 3 of type dbl\n\\begin{tabular}{lll}\n\t   -61.30981 &    -6559.188 &     6416.038\\\\\n\t -6559.18798 & -3117747.521 &  3121976.272\\\\\n\t  6416.03770 &  3121976.272 & -6577899.549\\\\\n\\end{tabular}\n\n\\item[\\$Cov] A matrix: 3 × 3 of type dbl\n\\begin{tabular}{r|lll}\n  & shape & loc & scale\\\\\n\\hline\n\tshape &  2.105097e-02 & -4.521606e-05 & -9.272949e-07\\\\\n\tloc & -4.521606e-05 &  7.083651e-07 &  2.920980e-07\\\\\n\tscale & -9.272949e-07 &  2.920980e-07 &  2.897541e-07\\\\\n\\end{tabular}\n\n\\item[\\$SE] \\begin{description*}\n\\item[shape] 0.145089527801291\n\\item[loc] 0.0008416442973891\n\\item[scale] 0.000538288123526051\n\\end{description*}\n\n\\end{description}\n",
            "text/plain": [
              "$par\n",
              "      shape         loc       scale \n",
              "0.340084242 0.016938547 0.005587488 \n",
              "\n",
              "$value\n",
              "[1] 191.3122\n",
              "\n",
              "$counts\n",
              "function gradient \n",
              "     134       NA \n",
              "\n",
              "$convergence\n",
              "[1] 0\n",
              "\n",
              "$message\n",
              "NULL\n",
              "\n",
              "$hessian\n",
              "            [,1]         [,2]         [,3]\n",
              "[1,]   -61.30981    -6559.188     6416.038\n",
              "[2,] -6559.18798 -3117747.521  3121976.272\n",
              "[3,]  6416.03770  3121976.272 -6577899.549\n",
              "\n",
              "$Cov\n",
              "              shape           loc         scale\n",
              "shape  2.105097e-02 -4.521606e-05 -9.272949e-07\n",
              "loc   -4.521606e-05  7.083651e-07  2.920980e-07\n",
              "scale -9.272949e-07  2.920980e-07  2.897541e-07\n",
              "\n",
              "$SE\n",
              "       shape          loc        scale \n",
              "0.1450895278 0.0008416443 0.0005382881 \n"
            ]
          },
          "metadata": {}
        },
        {
          "output_type": "display_data",
          "data": {
            "text/html": [
              "<dl>\n",
              "\t<dt>$par</dt>\n",
              "\t\t<dd><style>\n",
              ".dl-inline {width: auto; margin:0; padding: 0}\n",
              ".dl-inline>dt, .dl-inline>dd {float: none; width: auto; display: inline-block}\n",
              ".dl-inline>dt::after {content: \":\\0020\"; padding-right: .5ex}\n",
              ".dl-inline>dt:not(:first-of-type) {padding-left: .5ex}\n",
              "</style><dl class=dl-inline><dt>shape</dt><dd>0.339954769920818</dd><dt>loc</dt><dd>0.0169383052713474</dd><dt>scale</dt><dd>0.00558670379875575</dd></dl>\n",
              "</dd>\n",
              "\t<dt>$value</dt>\n",
              "\t\t<dd>191.312247808779</dd>\n",
              "\t<dt>$counts</dt>\n",
              "\t\t<dd><style>\n",
              ".dl-inline {width: auto; margin:0; padding: 0}\n",
              ".dl-inline>dt, .dl-inline>dd {float: none; width: auto; display: inline-block}\n",
              ".dl-inline>dt::after {content: \":\\0020\"; padding-right: .5ex}\n",
              ".dl-inline>dt:not(:first-of-type) {padding-left: .5ex}\n",
              "</style><dl class=dl-inline><dt>function</dt><dd>132</dd><dt>gradient</dt><dd>&lt;NA&gt;</dd></dl>\n",
              "</dd>\n",
              "\t<dt>$convergence</dt>\n",
              "\t\t<dd>0</dd>\n",
              "\t<dt>$message</dt>\n",
              "\t\t<dd>NULL</dd>\n",
              "\t<dt>$hessian</dt>\n",
              "\t\t<dd><table class=\"dataframe\">\n",
              "<caption>A matrix: 3 × 3 of type dbl</caption>\n",
              "<tbody>\n",
              "\t<tr><td>  -61.35173</td><td>   -6560.156</td><td>    6413.752</td></tr>\n",
              "\t<tr><td>-6560.15591</td><td>-3117871.840</td><td> 3122262.119</td></tr>\n",
              "\t<tr><td> 6413.75171</td><td> 3122262.119</td><td>-6580382.181</td></tr>\n",
              "</tbody>\n",
              "</table>\n",
              "</dd>\n",
              "\t<dt>$Cov</dt>\n",
              "\t\t<dd><table class=\"dataframe\">\n",
              "<caption>A matrix: 3 × 3 of type dbl</caption>\n",
              "<thead>\n",
              "\t<tr><th></th><th scope=col>shape</th><th scope=col>loc</th><th scope=col>scale</th></tr>\n",
              "</thead>\n",
              "<tbody>\n",
              "\t<tr><th scope=row>shape</th><td> 2.103411e-02</td><td>-4.520604e-05</td><td>-9.478991e-07</td></tr>\n",
              "\t<tr><th scope=row>loc</th><td>-4.520604e-05</td><td> 7.082459e-07</td><td> 2.919875e-07</td></tr>\n",
              "\t<tr><th scope=row>scale</th><td>-9.478991e-07</td><td> 2.919875e-07</td><td> 2.895853e-07</td></tr>\n",
              "</tbody>\n",
              "</table>\n",
              "</dd>\n",
              "\t<dt>$SE</dt>\n",
              "\t\t<dd><style>\n",
              ".dl-inline {width: auto; margin:0; padding: 0}\n",
              ".dl-inline>dt, .dl-inline>dd {float: none; width: auto; display: inline-block}\n",
              ".dl-inline>dt::after {content: \":\\0020\"; padding-right: .5ex}\n",
              ".dl-inline>dt:not(:first-of-type) {padding-left: .5ex}\n",
              "</style><dl class=dl-inline><dt>shape</dt><dd>0.14503140801784</dd><dt>loc</dt><dd>0.00084157349223739</dd><dt>scale</dt><dd>0.000538131289539712</dd></dl>\n",
              "</dd>\n",
              "</dl>\n"
            ],
            "text/markdown": "$par\n:   shape\n:   0.339954769920818loc\n:   0.0169383052713474scale\n:   0.00558670379875575\n\n\n$value\n:   191.312247808779\n$counts\n:   function\n:   132gradient\n:   &lt;NA&gt;\n\n\n$convergence\n:   0\n$message\n:   NULL\n$hessian\n:   \nA matrix: 3 × 3 of type dbl\n\n|   -61.35173 |    -6560.156 |     6413.752 |\n| -6560.15591 | -3117871.840 |  3122262.119 |\n|  6413.75171 |  3122262.119 | -6580382.181 |\n\n\n$Cov\n:   \nA matrix: 3 × 3 of type dbl\n\n| <!--/--> | shape | loc | scale |\n|---|---|---|---|\n| shape |  2.103411e-02 | -4.520604e-05 | -9.478991e-07 |\n| loc | -4.520604e-05 |  7.082459e-07 |  2.919875e-07 |\n| scale | -9.478991e-07 |  2.919875e-07 |  2.895853e-07 |\n\n\n$SE\n:   shape\n:   0.14503140801784loc\n:   0.00084157349223739scale\n:   0.000538131289539712\n\n\n\n\n",
            "text/latex": "\\begin{description}\n\\item[\\$par] \\begin{description*}\n\\item[shape] 0.339954769920818\n\\item[loc] 0.0169383052713474\n\\item[scale] 0.00558670379875575\n\\end{description*}\n\n\\item[\\$value] 191.312247808779\n\\item[\\$counts] \\begin{description*}\n\\item[function] 132\n\\item[gradient] <NA>\n\\end{description*}\n\n\\item[\\$convergence] 0\n\\item[\\$message] NULL\n\\item[\\$hessian] A matrix: 3 × 3 of type dbl\n\\begin{tabular}{lll}\n\t   -61.35173 &    -6560.156 &     6413.752\\\\\n\t -6560.15591 & -3117871.840 &  3122262.119\\\\\n\t  6413.75171 &  3122262.119 & -6580382.181\\\\\n\\end{tabular}\n\n\\item[\\$Cov] A matrix: 3 × 3 of type dbl\n\\begin{tabular}{r|lll}\n  & shape & loc & scale\\\\\n\\hline\n\tshape &  2.103411e-02 & -4.520604e-05 & -9.478991e-07\\\\\n\tloc & -4.520604e-05 &  7.082459e-07 &  2.919875e-07\\\\\n\tscale & -9.478991e-07 &  2.919875e-07 &  2.895853e-07\\\\\n\\end{tabular}\n\n\\item[\\$SE] \\begin{description*}\n\\item[shape] 0.14503140801784\n\\item[loc] 0.00084157349223739\n\\item[scale] 0.000538131289539712\n\\end{description*}\n\n\\end{description}\n",
            "text/plain": [
              "$par\n",
              "      shape         loc       scale \n",
              "0.339954770 0.016938305 0.005586704 \n",
              "\n",
              "$value\n",
              "[1] 191.3122\n",
              "\n",
              "$counts\n",
              "function gradient \n",
              "     132       NA \n",
              "\n",
              "$convergence\n",
              "[1] 0\n",
              "\n",
              "$message\n",
              "NULL\n",
              "\n",
              "$hessian\n",
              "            [,1]         [,2]         [,3]\n",
              "[1,]   -61.35173    -6560.156     6413.752\n",
              "[2,] -6560.15591 -3117871.840  3122262.119\n",
              "[3,]  6413.75171  3122262.119 -6580382.181\n",
              "\n",
              "$Cov\n",
              "              shape           loc         scale\n",
              "shape  2.103411e-02 -4.520604e-05 -9.478991e-07\n",
              "loc   -4.520604e-05  7.082459e-07  2.919875e-07\n",
              "scale -9.478991e-07  2.919875e-07  2.895853e-07\n",
              "\n",
              "$SE\n",
              "       shape          loc        scale \n",
              "0.1450314080 0.0008415735 0.0005381313 \n"
            ]
          },
          "metadata": {}
        },
        {
          "output_type": "display_data",
          "data": {
            "text/plain": [
              "plot without title"
            ],
            "image/png": "[encoded data removed]"
          },
          "metadata": {
            "image/png": {
              "width": 420,
              "height": 420
            }
          }
        }
      ]
    }
  ]
}