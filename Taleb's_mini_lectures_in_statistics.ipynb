{
  "nbformat": 4,
  "nbformat_minor": 0,
  "metadata": {
    "colab": {
      "provenance": [],
      "authorship_tag": "ABX9TyPE3LIfRftJNdOqK48X1ZEh"
    },
    "kernelspec": {
      "display_name": "R",
      "name": "ir"
    }
  },
  "cells": [
    {
      "cell_type": "markdown",
      "metadata": {
        "id": "eHVUG-CGMTaW"
      },
      "source": [
        "## The standard deviation squares the deviation from the mean:\n",
        "\n",
        "This results in counterintuitive results. For example, in a vector of $999,999$ zeros and a single entry of $1,000,000$:\n",
        "\n",
        "$$\\underset{\\text{1 million entries}}{\\underbrace{(0,0,0,\\dots,10^6,0,0,\\dots)}}$$\n",
        "\n",
        "the mean is $\\bar x=1$ and in every entry except for the $1,000,000$ the deviation from the mean is $1.$ Yet, the standard deviation is $1,000$ because of that single $1,000,000$ entry.\n",
        "\n",
        "The mean average deviation is much closer to the intuition, and it is $2.$"
      ]
    },
    {
      "cell_type": "code",
      "metadata": {
        "id": "Gy7XzMUcLZpG"
      },
      "source": [
        "v <- c(rep(0,999999),10^6) # The vector with one single 1 million entry."
      ],
      "execution_count": null,
      "outputs": []
    },
    {
      "cell_type": "markdown",
      "metadata": {
        "id": "Q7nwIb30QJ9a"
      },
      "source": [
        "The distribution of the values of v is an example of fat tails:"
      ]
    },
    {
      "cell_type": "code",
      "metadata": {
        "colab": {
          "base_uri": "https://localhost:8080/",
          "height": 34
        },
        "id": "e_0udo6eLr3r",
        "outputId": "98ec2473-bac1-43d2-dc3f-2dac5410bca0"
      },
      "source": [
        "# The standard deviation is 1000:\n",
        "sd(v)"
      ],
      "execution_count": null,
      "outputs": [
        {
          "output_type": "display_data",
          "data": {
            "text/plain": [
              "[1] 1000"
            ],
            "text/latex": "1000",
            "text/markdown": "1000",
            "text/html": [
              "1000"
            ]
          },
          "metadata": {
            "tags": []
          }
        }
      ]
    },
    {
      "cell_type": "code",
      "metadata": {
        "colab": {
          "base_uri": "https://localhost:8080/",
          "height": 34
        },
        "id": "gIP8kJl3L4OZ",
        "outputId": "b0e787ee-4939-4de2-fd26-ae5ae0bad8c3"
      },
      "source": [
        "# The mean average deviation is 2:\n",
        "sum(abs(v-mean(v)))/length(v)"
      ],
      "execution_count": null,
      "outputs": [
        {
          "output_type": "display_data",
          "data": {
            "text/plain": [
              "[1] 1.999998"
            ],
            "text/latex": "1.999998",
            "text/markdown": "1.999998",
            "text/html": [
              "1.999998"
            ]
          },
          "metadata": {
            "tags": []
          }
        }
      ]
    },
    {
      "cell_type": "markdown",
      "metadata": {
        "id": "gLPoRjOhOPx_"
      },
      "source": [
        "The ratio between SD and MAD in a Gaussian distribution is $\\sqrt{\\frac \\pi 2}=1.25:$"
      ]
    },
    {
      "cell_type": "code",
      "metadata": {
        "colab": {
          "base_uri": "https://localhost:8080/",
          "height": 34
        },
        "id": "gPE_Z6daOajq",
        "outputId": "eea8ab86-f247-408f-f6de-e3813b64d436"
      },
      "source": [
        "# Ratio between SD and MAD of the Gaussian:\n",
        "vec <- rnorm(10^6)\n",
        "sd(vec)/(sum(abs(vec-mean(vec)))/length(vec))"
      ],
      "execution_count": null,
      "outputs": [
        {
          "output_type": "display_data",
          "data": {
            "text/plain": [
              "[1] 1.25343"
            ],
            "text/latex": "1.25343016875969",
            "text/markdown": "1.25343016875969",
            "text/html": [
              "1.25343016875969"
            ]
          },
          "metadata": {
            "tags": []
          }
        }
      ]
    },
    {
      "cell_type": "markdown",
      "metadata": {
        "id": "R8vBvADGSWU8"
      },
      "source": [
        "## The law of large numbers:\n",
        "\n",
        "According to the law, the average of the results obtained from a large number of trials should be close to the expected value and will tend to become closer to the expected value as more trials are performed.\n",
        "\n",
        "The LLN is important because it guarantees stable long-term results for the averages of some random events.\n",
        "\n",
        "It does not speak about the Gaussian - that is for the central limit theorem."
      ]
    },
    {
      "cell_type": "markdown",
      "metadata": {
        "id": "igDp9Yd0eA54"
      },
      "source": [
        "# Correlation:\n",
        "\n",
        "From [here](https://stats.stackexchange.com/a/3733/67822):\n",
        "  \n",
        "Pearson's correlation is a measure of the linear relationship between two continuous random variables. It does not assume normality although it does assume finite variances and finite covariance. When the variables are bivariate normal, Pearson's correlation provides a complete description of the association.\n",
        "\n",
        "\n",
        "Spearman's correlation applies to ranks and so provides a measure of a monotonic relationship between two continuous random variables. It is also useful with ordinal data and is robust to outliers (unlike Pearson's correlation).\n",
        "\n",
        "The distribution of either correlation coefficient will depend on the underlying distribution, although both are asymptotically normal because of the central limit theorem. This is shown in [Taleb's presentation](https://youtu.be/fb921ZrM6h0), and illustrated below.\n",
        "\n",
        "From [here](https://www.statstutor.ac.uk/resources/uploaded/pearsons.pdf):\n",
        "\n",
        "Correlation is an effect size and so we can verbally describe the strength of the\n",
        "correlation using the guide that Evans (1996) suggests for the absolute value of r:\n",
        " .00-.19 “very weak”\n",
        "\n",
        "1. .20-.39 “weak”\n",
        "2. .40-.59 “moderate”\n",
        "3. .60-.79 “strong”\n",
        "4. .80-1.0 “very strong”"
      ]
    },
    {
      "cell_type": "code",
      "metadata": {
        "colab": {
          "base_uri": "https://localhost:8080/",
          "height": 454
        },
        "id": "1NsDSF7ZcQh4",
        "outputId": "3bd3e17d-0e68-4cf7-c87a-126884fad429"
      },
      "source": [
        "set.seed(2021)\n",
        "n <- 1000 # Number of experiments to find correlation between completely independent Gaussian samples.\n",
        "s <- 10   # Number of observations in each sample.\n",
        "v <- vector(,n)\n",
        "for(i in 1:n){\n",
        "  X = rnorm(s); Y= rnorm(s); v[i] <- cor(X,Y)\n",
        "}\n",
        "hist(v, main=paste('Cor coef between independent samples of size', s), xlab='', border=F)\n",
        "paste('There are', sum(v > .4)/length(v) * 100, 'percent', 'false correlations of moderate or higher degree (> 0.4), or type I errors if the sample size is',s,'.')"
      ],
      "execution_count": null,
      "outputs": [
        {
          "output_type": "display_data",
          "data": {
            "text/plain": [
              "[1] \"There are 13.8 percent false correlations of moderate or higher degree (> 0.4), or type I errors if the sample size is 10 .\""
            ],
            "text/latex": "'There are 13.8 percent false correlations of moderate or higher degree (> 0.4), or type I errors if the sample size is 10 .'",
            "text/markdown": "'There are 13.8 percent false correlations of moderate or higher degree (&gt; 0.4), or type I errors if the sample size is 10 .'",
            "text/html": [
              "'There are 13.8 percent false correlations of moderate or higher degree (&gt; 0.4), or type I errors if the sample size is 10 .'"
            ]
          },
          "metadata": {
            "tags": []
          }
        },
        {
          "output_type": "display_data",
          "data": {
            "image/png": "[encoded data removed]",
            "text/plain": [
              "Plot with title “Cor coef between independent samples of size 10”"
            ]
          },
          "metadata": {
            "tags": [],
            "image/png": {
              "width": 420,
              "height": 420
            }
          }
        }
      ]
    },
    {
      "cell_type": "markdown",
      "metadata": {
        "id": "bRzEOp7MuhaS"
      },
      "source": [
        "The cutoff for significance is r = 0.55:"
      ]
    },
    {
      "cell_type": "code",
      "metadata": {
        "colab": {
          "base_uri": "https://localhost:8080/",
          "height": 34
        },
        "id": "nGeM-aL3uYu6",
        "outputId": "fd159c4a-7769-4f71-b5d1-7e5495de2671"
      },
      "source": [
        "# If we want a risk alpha of 5 percent, the cutoff should be at 0.55:\n",
        "paste('There are', sum(v > .55)/length(v) * 100, 'percent', 'false correlations of moderate or higher degree, or type I errors.')"
      ],
      "execution_count": null,
      "outputs": [
        {
          "output_type": "display_data",
          "data": {
            "text/plain": [
              "[1] \"There are 5 percent false correlations of moderate or higher degree, or type I errors.\""
            ],
            "text/latex": "'There are 5 percent false correlations of moderate or higher degree, or type I errors.'",
            "text/markdown": "'There are 5 percent false correlations of moderate or higher degree, or type I errors.'",
            "text/html": [
              "'There are 5 percent false correlations of moderate or higher degree, or type I errors.'"
            ]
          },
          "metadata": {
            "tags": []
          }
        }
      ]
    },
    {
      "cell_type": "markdown",
      "metadata": {
        "id": "0bkPFAMRt3ra"
      },
      "source": [
        "The correlation is tested for its p-value with a t-test, as explained [here](http://www.sthda.com/english/wiki/correlation-test-between-two-variables-in-r)."
      ]
    },
    {
      "cell_type": "code",
      "metadata": {
        "colab": {
          "base_uri": "https://localhost:8080/",
          "height": 238
        },
        "id": "umoaBNthpb_I",
        "outputId": "d851f5ae-0680-4dea-a3bf-785e64b9e600"
      },
      "source": [
        "X = rnorm(s)\n",
        "Y = rnorm(s)\n",
        "cor(X,Y)\n",
        "cor.test(X, Y, method=c('pearson'))\n",
        "cor.test(X, Y, method=c('pearson'))$p.value"
      ],
      "execution_count": null,
      "outputs": [
        {
          "output_type": "display_data",
          "data": {
            "text/plain": [
              "[1] -0.1299026"
            ],
            "text/latex": "-0.129902645361953",
            "text/markdown": "-0.129902645361953",
            "text/html": [
              "-0.129902645361953"
            ]
          },
          "metadata": {
            "tags": []
          }
        },
        {
          "output_type": "display_data",
          "data": {
            "text/plain": [
              "\n",
              "\tPearson's product-moment correlation\n",
              "\n",
              "data:  X and Y\n",
              "t = -0.37056, df = 8, p-value = 0.7206\n",
              "alternative hypothesis: true correlation is not equal to 0\n",
              "95 percent confidence interval:\n",
              " -0.7021038  0.5442369\n",
              "sample estimates:\n",
              "       cor \n",
              "-0.1299026 \n"
            ]
          },
          "metadata": {
            "tags": []
          }
        },
        {
          "output_type": "display_data",
          "data": {
            "text/plain": [
              "[1] 0.7205848"
            ],
            "text/latex": "0.7205847566742",
            "text/markdown": "0.7205847566742",
            "text/html": [
              "0.7205847566742"
            ]
          },
          "metadata": {
            "tags": []
          }
        }
      ]
    },
    {
      "cell_type": "code",
      "metadata": {
        "colab": {
          "base_uri": "https://localhost:8080/",
          "height": 51
        },
        "id": "txePQku9rqEQ",
        "outputId": "2542005b-abbf-4766-fbc2-639bc2a77e01"
      },
      "source": [
        "set.seed(2021)\n",
        "v <- vector(,n)\n",
        "w <- vector(,n)\n",
        "for(i in 1:n){\n",
        "  X = rnorm(s); Y= rnorm(s);\n",
        "  v[i] <- cor.test(X, Y, method=c('pearson'))$p.value\n",
        "  w[i] <- cor(X,Y)\n",
        "}\n",
        "mean(v<0.05) # Fractionvof p-values that are type I errors.\n",
        "mean(w>0.55) # The cutoff for significance of the p.value in a sample of 10 is approximately an r = 0.55."
      ],
      "execution_count": null,
      "outputs": [
        {
          "output_type": "display_data",
          "data": {
            "text/plain": [
              "[1] 0.051"
            ],
            "text/latex": "0.051",
            "text/markdown": "0.051",
            "text/html": [
              "0.051"
            ]
          },
          "metadata": {
            "tags": []
          }
        },
        {
          "output_type": "display_data",
          "data": {
            "text/plain": [
              "[1] 0.05"
            ],
            "text/latex": "0.05",
            "text/markdown": "0.05",
            "text/html": [
              "0.05"
            ]
          },
          "metadata": {
            "tags": []
          }
        }
      ]
    },
    {
      "cell_type": "code",
      "metadata": {
        "colab": {
          "base_uri": "https://localhost:8080/",
          "height": 454
        },
        "id": "mIIPldEK-Er8",
        "outputId": "89c5377d-6db8-4d9e-d73f-564455617310"
      },
      "source": [
        "# Increasing the sample size tenfold the results are more reliable:\n",
        "\n",
        "n <- 1000 # Number of experiments to find correlation between completely independent Gaussian samples.\n",
        "s <- 100   # Number of observations in each sample.\n",
        "v <- vector(,n)\n",
        "for(i in 1:n){\n",
        "  X = rnorm(s); Y= rnorm(s); v[i] <- cor(X,Y)\n",
        "}\n",
        "hist(v, main=paste('Cor coef between independent samples of size', s), xlab='', border=F)\n",
        "paste('There are', sum(v > .4)/length(v) * 100, 'percent', 'false correlations of moderate or higher degree, or type I errors.')"
      ],
      "execution_count": null,
      "outputs": [
        {
          "output_type": "display_data",
          "data": {
            "text/plain": [
              "[1] \"There are 0 percent false correlations of moderate or higher degree, or type I errors.\""
            ],
            "text/latex": "'There are 0 percent false correlations of moderate or higher degree, or type I errors.'",
            "text/markdown": "'There are 0 percent false correlations of moderate or higher degree, or type I errors.'",
            "text/html": [
              "'There are 0 percent false correlations of moderate or higher degree, or type I errors.'"
            ]
          },
          "metadata": {
            "tags": []
          }
        },
        {
          "output_type": "display_data",
          "data": {
            "image/png": "[encoded data removed]",
            "text/plain": [
              "Plot with title “Cor coef between independent samples of size 100”"
            ]
          },
          "metadata": {
            "tags": [],
            "image/png": {
              "width": 420,
              "height": 420
            }
          }
        }
      ]
    },
    {
      "cell_type": "code",
      "metadata": {
        "colab": {
          "base_uri": "https://localhost:8080/",
          "height": 51
        },
        "id": "ZBK_0rjTdD1P",
        "outputId": "5bbb2afd-75d4-46b6-c170-5e970b2a0f30"
      },
      "source": [
        "set.seed(2021)\n",
        "v <- vector(,n)\n",
        "w <- vector(,n)\n",
        "for(i in 1:n){\n",
        "  X = rnorm(s); Y= rnorm(s);\n",
        "  v[i] <- cor.test(X, Y, method=c('pearson'))$p.value\n",
        "  w[i] <- cor(X,Y)\n",
        "}\n",
        "mean(v<0.05)\n",
        "mean(w>0.55) # The cutoff for significance of the p.value in a sample of 10 is approximately an r = 0.55."
      ],
      "execution_count": null,
      "outputs": [
        {
          "output_type": "display_data",
          "data": {
            "text/plain": [
              "[1] 0.059"
            ],
            "text/latex": "0.059",
            "text/markdown": "0.059",
            "text/html": [
              "0.059"
            ]
          },
          "metadata": {
            "tags": []
          }
        },
        {
          "output_type": "display_data",
          "data": {
            "text/plain": [
              "[1] 0"
            ],
            "text/latex": "0",
            "text/markdown": "0",
            "text/html": [
              "0"
            ]
          },
          "metadata": {
            "tags": []
          }
        }
      ]
    },
    {
      "cell_type": "markdown",
      "metadata": {
        "id": "fbd-vb9ZRH6x"
      },
      "source": [
        "### Concentration inequalities:\n",
        "\n",
        "The tail bounds are analyzed through several inequalities. This is explained in [this presentation](https://youtu.be/BD7y6Tuo51c).\n",
        "\n",
        "The most basic is the Markov inequality:\n",
        "\n",
        "$$P(X\\geq a) \\leq \\frac{E(X)}{a}$$\n",
        "\n",
        "which is improved upon by the Chernoff inequality:\n",
        "\n",
        "$$P(X\\geq a)=P(e^{tX}\\geq e^{ta}) \\leq \\frac{E(e^{tX})}{e^{ta}}=\\frac{M_X(t)}{e^{ta}}=e^{-ta}M_X(t)$$\n",
        "\n",
        "So now we know that if the moment generating function\n",
        "\n",
        "$$M_X(t)=E(e^{tX})$$\n",
        "\n",
        "is a finite quantity, the probability will decrease exponentially, as the value $a$ increases.\n",
        "\n",
        "For instance, in the case of the $Z \\sim N(0,1)$ the MGF is $M_Z(t)= e^{{t^2}/2},$ and if $a=t,$\n",
        "\n",
        "$$P(X\\geq a)\\leq e^{-a^2/2}$$\n",
        "\n",
        "In general the MGF of the Gaussian is $M_X(t) = e^{t\\mu+ t^2 \\sigma^2/2}.$\n",
        "\n",
        "A rv $X$ with mean $\\mu<\\infty$ is **subGaussian** with parameter $\\sigma$ if the MGF of $X-E(X)$ is bounded by the MGF of a normal distribution with variance $\\sigma$:\n",
        "\n",
        "$$E\\left(e^{t(X-\\mu)}\\right) \\leq e^{t^2\\sigma^2/2}$$\n",
        "\n",
        "A random variable $X$ with mean $µ = E[X]$ is **sub-exponential** if there\n",
        "are non-negative parameters $(\\nu, b)$ such that $E[e^{λ(X−µ)}] ≤ e^{\\frac{\\nu^2λ^2}2}\\quad \\forall |λ| < \\frac{1}{b}.$\n"
      ]
    },
    {
      "cell_type": "markdown",
      "metadata": {
        "id": "r9o6Yo5BSj2w"
      },
      "source": [
        "## Bestiary of distributions:\n",
        "\n",
        "From [here](https://youtu.be/7w1rAfFgD0A):\n",
        "\n",
        "#### Heavy tailed:\n",
        "\n",
        "The benchmark to break into 'heavy' and 'light'-tailed distributions is the exponential. The survival function of an exponential distribution is $\\bar F_{\\text{exp}}(x) = \\Pr(X>x)=e^{-\\lambda x}.$ Considering non-negative rv, a distribution is heavy-tailed if:\n",
        "\n",
        "$$\\lim \\sup_{x\\to\\infty} \\frac{\\bar F(x)}{\\bar F_{\\text{exp}}(x)}= \\lim \\sup_{x\\to\\infty} \\frac{\\bar F(x)}{e^{-\\lambda x}}= \\lim \\sup_{x\\to\\infty} \\bar F(x)\\;\\color{red}{e^{\\lambda x}}=\\infty$$\n",
        "\n",
        "which is equivalent to saying that the MGF is infinite for all $\\lambda>0$. In the Wikipedia entry for heavy-tailed distributions, heavy tails as those distributions with infinity MGF:\n",
        "\n",
        "\\begin{align}\n",
        "M_X(x)=\\mathbb E\\left[e^\\lambda X\\right]&=\\int_{-\\infty}^{\\infty}e^{tx}f_X(x)dx\\\\\n",
        "&=\\int_{-\\infty}^{\\infty}e^{tx}dF_X(x)=\\infty\n",
        "\\end{align}\n",
        "\n",
        "and they claim that this implies that\n",
        "\n",
        "\\begin{align}\n",
        "\\lim_{x\\to\\infty}e^{tX}\\bar F(x)=\\lim_{x\\to\\infty}e^{tX}\\Pr(X>x)=\\infty\n",
        "\\end{align}\n",
        "\n",
        "#### Long tails:\n",
        "\n",
        "A long-tailed distribution is also a heavy-tailed distribution, but the opposite is not true. Long-tailed distributions also fulfill the 'explosion principle':\n",
        "\n",
        "$$\\lim_{x\\to \\infty}\\Pr(X>x+t\\mid X>x)=  1$$\n",
        "\n",
        "for every $t>0.$ This says that if a very extreme event has happened, the probability that an even more extreme event occurs has probability $1.$ Therefore assuming that a tail event is an upper bound is not sensible under this distribution. In reality it is a partial maximum. The time or clustering of tail events is not in this definition.\n",
        "\n",
        "#### Sub-exponential:\n",
        "\n",
        "A more workable subgroup of long-tailed rv's are the sub-exponentials. So $\\text{subexponential}\\implies\\text{long-tail and heavy tail},$ but not the other way around. Sub-exponentials are characterized by the \"one-shot or catastrophe or 'winner-takes-all principle:\" As we look at tail events the probability of a partial sum of events will be dominated by a single maximum event:\n",
        "\n",
        "$$\\Pr(S_n>x)\\equiv \\Pr(M_n>x), \\text{ as }x \\to \\infty$$\n",
        "\n",
        "The losses in one portfolio are dominated by one big loss.\n",
        "\n",
        "#### Fat tails:\n",
        "\n",
        "From [here](https://peeps.unet.brandeis.edu/~blebaron/wps/tails.pdf):\n",
        "\n",
        ">According to the central limit theorem, the normal distribution is the limiting distribution of sample averages. A parallel idea exists when discussing sample extrema. A class of extreme value distributions characterize the possible distributions of sample maxima. The *Fisher-Tippet theorem* is analogous to the CLT and uses the tail index to unify the possible characterizations of the density function of an extreme value distribution. Intuitively these functions represent three possibilities for the decay of the density function in the tail. These three possibilities can be mapped onto different **domains of attraction,** the Gumbel, Frechet and Weibull limiting distributions.\n",
        ">\n",
        ">a) Gumbel: The tail can decay exponentially with all finite moments; these are the standard cases of the normal, log normal, gamma etc.\n",
        ">\n",
        ">b) Frechet: It can decay by a power, as in the cases of the stable Paretian, Cauchy and student t distributions. These are no longer integrable when weighed by the tail probabilities, hence leading to “ fat tails”.\n",
        ">\n",
        ">c) Weibull The tail can decay with a finite tail index; this will be a thin tailed distribution with a finite upper endpoint.\n",
        ">\n",
        ">Suppose $X1, X2, X3$ are a sequence of stationary random variables that may be either iid or dependent with a common distribution function $F(x) = Pr(X_t < x).$ For the first set of n observations, we get the maxima M1 . The next set of n observations of X2 yields the next maximum M2. In this way from n*N observations one would get N observations of the maxima. Extreme Value Theory tells us that even without the exact knowledge of the distribution of the parent variable (X) we can derive certain limiting results of the\n",
        "distribution of M. In order to do this, M is first reduced by a location parameter (υ) and a scale parameter (σ). This standardized extreme variable has a distribution that is non-degenerate. As the period (n) over which the maximum is taken tends toward infinity, the Fisher Tippet theorem summarizes three possible limiting extreme value distributions for this standardized variable.\n",
        "\n",
        "Fat tailed-distribution belongs to the maximum domain of attraction of a Frechet distribution. The survival function of a fat-tailed distribution is regularly varying, and can be expressed as the product of a power-law decay and a slowly varying function:\n",
        "\n",
        "$$\\bar F(x) = x^{-\\alpha}L(x).$$\n",
        "\n",
        "In the limit $L(x)$ vanishes, leaving just the power law decay.\n",
        "\n",
        "Fat-tailed distributions are thick-tailed and long-tailed. A Pareto is fat-tailed (maximum domain of attraction of a Frechet), whereas a log-normal is not fat-tailed (the log-norm is the maximum domain of attraction of a Gumbel distribution). Therefore the behavior of the maxima generated by these distributions is different. The log-normal is, however, different from the other distributions in the maximum domain of attraction of a Gumbel because it is long-tailed and heavy-tailed, being a sub-exponential distribution.\n",
        "\n",
        "A Pareto has moments that do not exist, whereas all moments of a log-normal exist, despite having infinite MGF (see [this post](https://stats.stackexchange.com/a/32787/311006)).\n",
        "\n",
        "<img src=\"https://user-images.githubusercontent.com/9312897/120114119-a4693b80-c14b-11eb-8d21-927e63e564e7.png\" width=\"600\" height=\"500\" />\n",
        "\n",
        "\n",
        "\n"
      ]
    },
    {
      "cell_type": "markdown",
      "metadata": {
        "id": "GbHp6KP1yJDL"
      },
      "source": [
        "### The p-value is stochastic:\n",
        "\n",
        "Most observations of the p-value are going to be below the mean:\n",
        "\n",
        "<img src=\"https://user-images.githubusercontent.com/9312897/128061098-f2436ef2-69ba-4be3-966c-66fefd1d1670.png\" width=\"500\" height=\"400\" />\n"
      ]
    },
    {
      "cell_type": "code",
      "metadata": {
        "id": "UxSecZck3iET"
      },
      "source": [
        "set.seed(0)\n",
        "mu <- 0                 # Population mean\n",
        "sd <- 1                 # True population standard deviation\n",
        "n <- 10                 # Sample size\n",
        "exp.p.value <- 0.11     # Predetermined p valued\n",
        "# To determine the mean of the sample that will result in this p value:\n",
        "# 0.11 = 1 - pnorm(mean(sam - mu)/ (sd/sqrt(n)))\n",
        "mean.sam <- qnorm(1 - exp.p.value) * sd/sqrt(n) + mu # Here is the computation of the sample mean.\n",
        "# This can be achieved by randomly selecting draws from the normal, and adjusting the last sample element:\n",
        "# mean.sam = (sum(free) + delta)/n; delta = n * mean.sam - sum(free)\n",
        "# sam <- c(free <- rnorm(n-1,mean=mu,sd=sd), n * mean.sam - sum(free))"
      ],
      "execution_count": null,
      "outputs": []
    },
    {
      "cell_type": "code",
      "metadata": {
        "id": "Umysb23j7QBU"
      },
      "source": [
        "pvals <- vector() # Empty vector to collect results\n",
        "pvals.sd <- vector() # Empty vec for pval under sd\n",
        "for(i in 1:1e3){  # Getting 1,000 p-values\n",
        "# Getting samples with a true p-value as the preset 0.11:\n",
        "sam <- c(free <- rnorm(n-1,mean=mu,sd=sd), n * mean.sam - sum(free))\n",
        "# t.test for 'greater than'\n",
        "pvals[i] <- t.test(sam, alternative='greater')[3]\n",
        "pvals.sd[i] <- 1 - pnorm((mean(sam)-mu)/(sd/sqrt(n)))\n",
        "}\n",
        "\n",
        "pvals <- as.numeric(pvals)"
      ],
      "execution_count": null,
      "outputs": []
    },
    {
      "cell_type": "code",
      "metadata": {
        "colab": {
          "base_uri": "https://localhost:8080/",
          "height": 317
        },
        "id": "y32v60Wd8kYJ",
        "outputId": "883b5caf-8598-4dc7-c4fd-4d409ff19d10"
      },
      "source": [
        "\n",
        "options(repr.plot.width=6, repr.plot.height=5)\n",
        "\n",
        "hist(pvals, xlim=c(0.01,0.4),\n",
        "breaks=10, border=F)\n",
        "abline(v=exp.p.value)\n",
        "abline(v=median(pvals), col=2)\n",
        "legend(.17,20,'Median', box.lty=0,\n",
        "  text.col=2)\n",
        "legend(0.5*exp.p.value,20,'True p',\n",
        "  box.lty=0)"
      ],
      "execution_count": null,
      "outputs": [
        {
          "output_type": "display_data",
          "data": {
            "image/png": "[encoded data removed]",
            "text/plain": [
              "Plot with title “Histogram of pvals”"
            ]
          },
          "metadata": {
            "tags": [],
            "image/png": {
              "width": 360,
              "height": 300
            }
          }
        }
      ]
    },
    {
      "cell_type": "code",
      "metadata": {
        "id": "8jf7xZ5sKRo-",
        "colab": {
          "base_uri": "https://localhost:8080/",
          "height": 351
        },
        "outputId": "956663c4-b139-40fd-8821-bb00a06cd04d"
      },
      "source": [
        "plot(pvals.sd, type='l')\n",
        "summary(pvals.sd)"
      ],
      "execution_count": null,
      "outputs": [
        {
          "output_type": "display_data",
          "data": {
            "text/plain": [
              "   Min. 1st Qu.  Median    Mean 3rd Qu.    Max. \n",
              "   0.11    0.11    0.11    0.11    0.11    0.11 "
            ]
          },
          "metadata": {
            "tags": []
          }
        },
        {
          "output_type": "display_data",
          "data": {
            "image/png": "[encoded data removed]",
            "text/plain": [
              "plot without title"
            ]
          },
          "metadata": {
            "tags": [],
            "image/png": {
              "width": 360,
              "height": 300
            }
          }
        }
      ]
    },
    {
      "cell_type": "markdown",
      "metadata": {
        "id": "0eqvruIV_wYJ"
      },
      "source": [
        "Taleb's plot comes from the Monte Carlo simulation explained [here](https://www.youtube.com/watch?v=8qrfSh07rT0&ab_channel=NNTaleb%27sProbabilityMoocs):\n",
        "\n",
        "The simulated data comes from a Gaussian distribution with a mean $\\mu = 0.5$ and standard deviation $\\sigma = 1.$ The size of the samples is $n=30.$"
      ]
    },
    {
      "cell_type": "code",
      "metadata": {
        "colab": {
          "base_uri": "https://localhost:8080/",
          "height": 334
        },
        "id": "Ltk-44Sk5ex3",
        "outputId": "0c1a3143-bccc-4b16-abf8-2e0da4419823"
      },
      "source": [
        "n <- 30\n",
        "samples <- replicate(1e4, rnorm(n,.5,1))\n",
        "mu <- 0.5\n",
        "test.stat <- rep(sqrt(30), ncol(samples)) * colMeans(samples)/apply(samples, 2, sd)\n",
        "hist(test.stat, probability = T, ylim=c(0,0.5))\n",
        "\n",
        "# The test statistic follows a t distribution:\n",
        "x <- seq(min(test.stat),max(test.stat),0.01)\n",
        "lines(x, dt(x-mean(test.stat), df=n-1))"
      ],
      "execution_count": null,
      "outputs": [
        {
          "output_type": "display_data",
          "data": {
            "text/plain": [
              "[1] 0.005206356"
            ],
            "text/latex": "0.005206355982597",
            "text/markdown": "0.005206355982597",
            "text/html": [
              "0.005206355982597"
            ]
          },
          "metadata": {
            "tags": []
          }
        },
        {
          "output_type": "display_data",
          "data": {
            "image/png": "[encoded data removed]",
            "text/plain": [
              "Plot with title “Histogram of test.stat”"
            ]
          },
          "metadata": {
            "tags": [],
            "image/png": {
              "width": 360,
              "height": 300
            }
          }
        }
      ]
    },
    {
      "cell_type": "code",
      "metadata": {
        "colab": {
          "base_uri": "https://localhost:8080/",
          "height": 351
        },
        "id": "vxau3ujm--jU",
        "outputId": "bb385ece-6cb2-4356-a442-4ededbfe3d61"
      },
      "source": [
        "# P values assuming mean of zero (survival function):\n",
        "median(1 - pt(test.stat, df=n-1))\n",
        "mean(1 - pt(test.stat, df=n-1))\n",
        "hist(1 - pt(test.stat, df=n-1))"
      ],
      "execution_count": null,
      "outputs": [
        {
          "output_type": "display_data",
          "data": {
            "text/plain": [
              "[1] 0.005206356"
            ],
            "text/latex": "0.00520635640226419",
            "text/markdown": "0.00520635640226419",
            "text/html": [
              "0.00520635640226419"
            ]
          },
          "metadata": {
            "tags": []
          }
        },
        {
          "output_type": "display_data",
          "data": {
            "text/plain": [
              "[1] 0.02993342"
            ],
            "text/latex": "0.0299334173448221",
            "text/markdown": "0.0299334173448221",
            "text/html": [
              "0.0299334173448221"
            ]
          },
          "metadata": {
            "tags": []
          }
        },
        {
          "output_type": "display_data",
          "data": {
            "image/png": "[encoded data removed]",
            "text/plain": [
              "Plot with title “Histogram of 1 - pt(test.stat, df = n - 1)”"
            ]
          },
          "metadata": {
            "tags": [],
            "image/png": {
              "width": 360,
              "height": 300
            }
          }
        }
      ]
    }
  ]
}