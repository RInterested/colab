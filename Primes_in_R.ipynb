{
  "nbformat": 4,
  "nbformat_minor": 0,
  "metadata": {
    "colab": {
      "provenance": [],
      "authorship_tag": "ABX9TyPS1FgUjbgGYLDtw4twjLpH"
    },
    "kernelspec": {
      "name": "ir",
      "display_name": "R"
    }
  },
  "cells": [
    {
      "cell_type": "code",
      "metadata": {
        "id": "FcLX2x_yON-o"
      },
      "source": [
        "# IS A GIVEN INTEGER A PRIME?\n",
        "\n",
        "prime <- function(n){\n",
        "  if (n < 1) warning(\"Enter a natural number\")\n",
        "\n",
        "  is_it <- T\n",
        "  if(n>=1){\n",
        "  for (i in 2:ceiling(sqrt(n))){\n",
        "    if(n==2) break\n",
        "    if(n %% i == 0) is_it <- F\n",
        "  }\n",
        "    is_it\n",
        "}\n",
        "}"
      ],
      "execution_count": null,
      "outputs": []
    },
    {
      "cell_type": "code",
      "metadata": {
        "id": "As3qjE27OjzY",
        "colab": {
          "base_uri": "https://localhost:8080/",
          "height": 34
        },
        "outputId": "cf4a9d64-a397-43cc-fe9a-0cc6a3863bc5"
      },
      "source": [
        "prime(47)"
      ],
      "execution_count": null,
      "outputs": [
        {
          "output_type": "display_data",
          "data": {
            "text/plain": [
              "[1] TRUE"
            ],
            "text/latex": "TRUE",
            "text/markdown": "TRUE",
            "text/html": [
              "TRUE"
            ]
          },
          "metadata": {
            "tags": []
          }
        }
      ]
    },
    {
      "cell_type": "code",
      "metadata": {
        "id": "YKOilnhCSkNH"
      },
      "source": [
        "# GET THE PRIME NUMBERS BETWEEN TWO INTEGERS:\n",
        "\n",
        "get_primes <- function(n_min, n_max){\n",
        "  options(scipen=999)\n",
        "    result = vector()\n",
        "      if(n_min<=2) result <- c(result,2)\n",
        "      for (x in seq(max(n_min,2), n_max)){\n",
        "        has_factor <- F\n",
        "        for (p in seq(2, ceiling(sqrt(x)))){\n",
        "          if(x %% p == 0) has_factor <- T\n",
        "          if(has_factor == T) break\n",
        "          }\n",
        "        if(has_factor==F) result <- c(result,x)\n",
        "        }\n",
        "    result\n",
        "}"
      ],
      "execution_count": null,
      "outputs": []
    },
    {
      "cell_type": "code",
      "metadata": {
        "id": "MNOv85b_hEaY",
        "colab": {
          "base_uri": "https://localhost:8080/",
          "height": 34
        },
        "outputId": "e22de65d-761f-4e63-f7cb-1d8879c82f7b"
      },
      "source": [
        "get_primes(0,50)"
      ],
      "execution_count": null,
      "outputs": [
        {
          "output_type": "display_data",
          "data": {
            "text/plain": [
              " [1]  2  3  5  7 11 13 17 19 23 29 31 37 41 43 47"
            ],
            "text/latex": "\\begin{enumerate*}\n\\item 2\n\\item 3\n\\item 5\n\\item 7\n\\item 11\n\\item 13\n\\item 17\n\\item 19\n\\item 23\n\\item 29\n\\item 31\n\\item 37\n\\item 41\n\\item 43\n\\item 47\n\\end{enumerate*}\n",
            "text/markdown": "1. 2\n2. 3\n3. 5\n4. 7\n5. 11\n6. 13\n7. 17\n8. 19\n9. 23\n10. 29\n11. 31\n12. 37\n13. 41\n14. 43\n15. 47\n\n\n",
            "text/html": [
              "<style>\n",
              ".list-inline {list-style: none; margin:0; padding: 0}\n",
              ".list-inline>li {display: inline-block}\n",
              ".list-inline>li:not(:last-child)::after {content: \"\\00b7\"; padding: 0 .5ex}\n",
              "</style>\n",
              "<ol class=list-inline><li>2</li><li>3</li><li>5</li><li>7</li><li>11</li><li>13</li><li>17</li><li>19</li><li>23</li><li>29</li><li>31</li><li>37</li><li>41</li><li>43</li><li>47</li></ol>\n"
            ]
          },
          "metadata": {
            "tags": []
          }
        }
      ]
    },
    {
      "cell_type": "code",
      "metadata": {
        "id": "KUg3eqnti4CV",
        "colab": {
          "base_uri": "https://localhost:8080/",
          "height": 34
        },
        "outputId": "70f63d27-ad02-46cc-8abb-e6b75c11fb17"
      },
      "source": [
        "get_primes(20,50)"
      ],
      "execution_count": null,
      "outputs": [
        {
          "output_type": "display_data",
          "data": {
            "text/plain": [
              "[1] 23 29 31 37 41 43 47"
            ],
            "text/latex": "\\begin{enumerate*}\n\\item 23\n\\item 29\n\\item 31\n\\item 37\n\\item 41\n\\item 43\n\\item 47\n\\end{enumerate*}\n",
            "text/markdown": "1. 23\n2. 29\n3. 31\n4. 37\n5. 41\n6. 43\n7. 47\n\n\n",
            "text/html": [
              "<style>\n",
              ".list-inline {list-style: none; margin:0; padding: 0}\n",
              ".list-inline>li {display: inline-block}\n",
              ".list-inline>li:not(:last-child)::after {content: \"\\00b7\"; padding: 0 .5ex}\n",
              "</style>\n",
              "<ol class=list-inline><li>23</li><li>29</li><li>31</li><li>37</li><li>41</li><li>43</li><li>47</li></ol>\n"
            ]
          },
          "metadata": {
            "tags": []
          }
        }
      ]
    },
    {
      "cell_type": "code",
      "metadata": {
        "id": "iS3Kpq3IeINs",
        "colab": {
          "base_uri": "https://localhost:8080/",
          "height": 170
        },
        "outputId": "635e4488-4def-47c9-f4ff-bca74c66d5bb"
      },
      "source": [
        "# THIS CELL TAKES SOME 20 sec TO RUN!\n",
        "\n",
        "system.time({them_primes <- get_primes(1e12,1e12+1000)})\n",
        "them_primes\n",
        "length(them_primes)\n",
        "(density_among_this_interval = 1000 / length(them_primes))\n",
        "(density_of_prime_numbers_math = log(1e12))"
      ],
      "execution_count": null,
      "outputs": [
        {
          "output_type": "display_data",
          "data": {
            "text/plain": [
              "   user  system elapsed \n",
              " 18.212   0.005  18.234 "
            ]
          },
          "metadata": {
            "tags": []
          }
        },
        {
          "output_type": "display_data",
          "data": {
            "text/plain": [
              " [1] 1000000000039 1000000000061 1000000000063 1000000000091 1000000000121\n",
              " [6] 1000000000163 1000000000169 1000000000177 1000000000189 1000000000193\n",
              "[11] 1000000000211 1000000000271 1000000000303 1000000000331 1000000000333\n",
              "[16] 1000000000339 1000000000459 1000000000471 1000000000537 1000000000543\n",
              "[21] 1000000000547 1000000000561 1000000000609 1000000000661 1000000000669\n",
              "[26] 1000000000721 1000000000751 1000000000787 1000000000789 1000000000799\n",
              "[31] 1000000000841 1000000000903 1000000000921 1000000000931 1000000000933\n",
              "[36] 1000000000949 1000000000997"
            ],
            "text/latex": "\\begin{enumerate*}\n\\item 1000000000039\n\\item 1000000000061\n\\item 1000000000063\n\\item 1000000000091\n\\item 1000000000121\n\\item 1000000000163\n\\item 1000000000169\n\\item 1000000000177\n\\item 1000000000189\n\\item 1000000000193\n\\item 1000000000211\n\\item 1000000000271\n\\item 1000000000303\n\\item 1000000000331\n\\item 1000000000333\n\\item 1000000000339\n\\item 1000000000459\n\\item 1000000000471\n\\item 1000000000537\n\\item 1000000000543\n\\item 1000000000547\n\\item 1000000000561\n\\item 1000000000609\n\\item 1000000000661\n\\item 1000000000669\n\\item 1000000000721\n\\item 1000000000751\n\\item 1000000000787\n\\item 1000000000789\n\\item 1000000000799\n\\item 1000000000841\n\\item 1000000000903\n\\item 1000000000921\n\\item 1000000000931\n\\item 1000000000933\n\\item 1000000000949\n\\item 1000000000997\n\\end{enumerate*}\n",
            "text/markdown": "1. 1000000000039\n2. 1000000000061\n3. 1000000000063\n4. 1000000000091\n5. 1000000000121\n6. 1000000000163\n7. 1000000000169\n8. 1000000000177\n9. 1000000000189\n10. 1000000000193\n11. 1000000000211\n12. 1000000000271\n13. 1000000000303\n14. 1000000000331\n15. 1000000000333\n16. 1000000000339\n17. 1000000000459\n18. 1000000000471\n19. 1000000000537\n20. 1000000000543\n21. 1000000000547\n22. 1000000000561\n23. 1000000000609\n24. 1000000000661\n25. 1000000000669\n26. 1000000000721\n27. 1000000000751\n28. 1000000000787\n29. 1000000000789\n30. 1000000000799\n31. 1000000000841\n32. 1000000000903\n33. 1000000000921\n34. 1000000000931\n35. 1000000000933\n36. 1000000000949\n37. 1000000000997\n\n\n",
            "text/html": [
              "<style>\n",
              ".list-inline {list-style: none; margin:0; padding: 0}\n",
              ".list-inline>li {display: inline-block}\n",
              ".list-inline>li:not(:last-child)::after {content: \"\\00b7\"; padding: 0 .5ex}\n",
              "</style>\n",
              "<ol class=list-inline><li>1000000000039</li><li>1000000000061</li><li>1000000000063</li><li>1000000000091</li><li>1000000000121</li><li>1000000000163</li><li>1000000000169</li><li>1000000000177</li><li>1000000000189</li><li>1000000000193</li><li>1000000000211</li><li>1000000000271</li><li>1000000000303</li><li>1000000000331</li><li>1000000000333</li><li>1000000000339</li><li>1000000000459</li><li>1000000000471</li><li>1000000000537</li><li>1000000000543</li><li>1000000000547</li><li>1000000000561</li><li>1000000000609</li><li>1000000000661</li><li>1000000000669</li><li>1000000000721</li><li>1000000000751</li><li>1000000000787</li><li>1000000000789</li><li>1000000000799</li><li>1000000000841</li><li>1000000000903</li><li>1000000000921</li><li>1000000000931</li><li>1000000000933</li><li>1000000000949</li><li>1000000000997</li></ol>\n"
            ]
          },
          "metadata": {
            "tags": []
          }
        },
        {
          "output_type": "display_data",
          "data": {
            "text/plain": [
              "[1] 37"
            ],
            "text/latex": "37",
            "text/markdown": "37",
            "text/html": [
              "37"
            ]
          },
          "metadata": {
            "tags": []
          }
        },
        {
          "output_type": "display_data",
          "data": {
            "text/plain": [
              "[1] 27.02703"
            ],
            "text/latex": "27.027027027027",
            "text/markdown": "27.027027027027",
            "text/html": [
              "27.027027027027"
            ]
          },
          "metadata": {
            "tags": []
          }
        },
        {
          "output_type": "display_data",
          "data": {
            "text/plain": [
              "[1] 27.63102"
            ],
            "text/latex": "27.6310211159285",
            "text/markdown": "27.6310211159285",
            "text/html": [
              "27.6310211159285"
            ]
          },
          "metadata": {
            "tags": []
          }
        }
      ]
    },
    {
      "cell_type": "code",
      "metadata": {
        "id": "HrK8_yJEz9lt",
        "colab": {
          "base_uri": "https://localhost:8080/",
          "height": 34
        },
        "outputId": "61db1b25-a65d-417b-fdca-31dd5c902be6"
      },
      "source": [
        "# PRIMES FROM 2 TO A GIVEN INTEGER:\n",
        "primelist <- function(n){\n",
        "    p <- 2:n\n",
        "    i <- 1\n",
        "    while (p[i] <= sqrt(n)) {\n",
        "        p <-  p[p %% p[i] != 0 | p==p[i]]\n",
        "        i <- i+1\n",
        "    }\n",
        "    p\n",
        "}\n",
        "\n",
        "primelist(50)"
      ],
      "execution_count": null,
      "outputs": [
        {
          "output_type": "display_data",
          "data": {
            "text/plain": [
              " [1]  2  3  5  7 11 13 17 19 23 29 31 37 41 43 47"
            ],
            "text/latex": "\\begin{enumerate*}\n\\item 2\n\\item 3\n\\item 5\n\\item 7\n\\item 11\n\\item 13\n\\item 17\n\\item 19\n\\item 23\n\\item 29\n\\item 31\n\\item 37\n\\item 41\n\\item 43\n\\item 47\n\\end{enumerate*}\n",
            "text/markdown": "1. 2\n2. 3\n3. 5\n4. 7\n5. 11\n6. 13\n7. 17\n8. 19\n9. 23\n10. 29\n11. 31\n12. 37\n13. 41\n14. 43\n15. 47\n\n\n",
            "text/html": [
              "<style>\n",
              ".list-inline {list-style: none; margin:0; padding: 0}\n",
              ".list-inline>li {display: inline-block}\n",
              ".list-inline>li:not(:last-child)::after {content: \"\\00b7\"; padding: 0 .5ex}\n",
              "</style>\n",
              "<ol class=list-inline><li>2</li><li>3</li><li>5</li><li>7</li><li>11</li><li>13</li><li>17</li><li>19</li><li>23</li><li>29</li><li>31</li><li>37</li><li>41</li><li>43</li><li>47</li></ol>\n"
            ]
          },
          "metadata": {
            "tags": []
          }
        }
      ]
    }
  ]
}