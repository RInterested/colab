{
  "nbformat": 4,
  "nbformat_minor": 0,
  "metadata": {
    "colab": {
      "provenance": [],
      "authorship_tag": "ABX9TyO4H0vLgIsnEVCQPkywJAG/"
    },
    "kernelspec": {
      "name": "python3",
      "display_name": "Python 3"
    },
    "language_info": {
      "name": "python"
    }
  },
  "cells": [
    {
      "cell_type": "code",
      "execution_count": null,
      "metadata": {
        "id": "zEi_LOG1Wjn0"
      },
      "outputs": [],
      "source": [
        "import numpy as np\n",
        "%matplotlib inline"
      ]
    },
    {
      "cell_type": "markdown",
      "source": [
        "Conditions for ergodicity:\n",
        "\n",
        "1. Irreducible:\n",
        "\n",
        "In a Markov transition matrix $P$ with $N$ states all the entries in $$\\sum_{n=0}^{N-1} P^n$$\n",
        "\n",
        "must be $>0.$\n",
        "\n",
        "2. Aperiodicity:\n",
        "\n",
        "The paths from one state to itself are not only multiples of a period $T \\geq 2.$ It can be checked by finding a loop in the transition diagram of $k$ steps, and another loop of $k+1$ steps. Once is enough if irreducible. With transition matrices: Find $k$ and $i$ such that $P^k_{ii}P^{k+1}_{ii}>0.$\n",
        "\n",
        "3. Positive recurrence: If I am at a given state the expected time before returning to that state is finite. If the matrix is irreducible and the number of states is finite, it is a given."
      ],
      "metadata": {
        "id": "ufwVeU34i6rO"
      }
    },
    {
      "cell_type": "code",
      "source": [
        "[0] * 3"
      ],
      "metadata": {
        "colab": {
          "base_uri": "https://localhost:8080/"
        },
        "id": "sIOe0zaGM36f",
        "outputId": "5a724f9b-21bd-4376-8f95-ef88cac2bb08"
      },
      "execution_count": null,
      "outputs": [
        {
          "output_type": "execute_result",
          "data": {
            "text/plain": [
              "[0, 0, 0]"
            ]
          },
          "metadata": {},
          "execution_count": 8
        }
      ]
    },
    {
      "cell_type": "code",
      "source": [
        "# Example: 1 -> 2 -> 3 -> 1\n",
        "\n",
        "mat = np.array([\n",
        "   [0,1,0],\n",
        "   [0,0,1],\n",
        "   [1,0,0],\n",
        "])\n",
        "\n",
        "\n",
        "# Irreducible:\n",
        "matpow = [0] * 3\n",
        "print(matpow)\n",
        "for i in range(3):\n",
        " print(i)\n",
        " matpow = matpow +  np.linalg.matrix_power(mat,i)\n",
        " print(matpow)\n",
        "\n",
        "matpow"
      ],
      "metadata": {
        "colab": {
          "base_uri": "https://localhost:8080/"
        },
        "id": "SWRAZvywgS5V",
        "outputId": "47d4d15a-490a-4e88-aa03-23b0f4ee1864"
      },
      "execution_count": null,
      "outputs": [
        {
          "output_type": "stream",
          "name": "stdout",
          "text": [
            "[0, 0, 0]\n",
            "0\n",
            "[[1 0 0]\n",
            " [0 1 0]\n",
            " [0 0 1]]\n",
            "1\n",
            "[[1 1 0]\n",
            " [0 1 1]\n",
            " [1 0 1]]\n",
            "2\n",
            "[[1 1 1]\n",
            " [1 1 1]\n",
            " [1 1 1]]\n"
          ]
        },
        {
          "output_type": "execute_result",
          "data": {
            "text/plain": [
              "array([[1, 1, 1],\n",
              "       [1, 1, 1],\n",
              "       [1, 1, 1]])"
            ]
          },
          "metadata": {},
          "execution_count": 9
        }
      ]
    },
    {
      "cell_type": "code",
      "source": [
        "# Aperiodic:\n",
        "# Example: 1 -> 2 -> 3 -> 1\n",
        "# If we want to move from 1 to itself we can do it in 3 steps or 6 or 9 or 12... So it's periodic with T = 3.\n",
        "print(np.linalg.matrix_power(mat,1))\n",
        "print(np.linalg.matrix_power(mat,2))\n",
        "print(np.linalg.matrix_power(mat,3))\n",
        "# P to the power of 3 is the identity. Same for any P to the power of 1 + 3k or 2 + 3k or 3 + 3k."
      ],
      "metadata": {
        "colab": {
          "base_uri": "https://localhost:8080/"
        },
        "id": "54KzAIFF0J3v",
        "outputId": "a3f493bd-3f21-4c19-9a6c-c1def070fb84"
      },
      "execution_count": null,
      "outputs": [
        {
          "output_type": "stream",
          "name": "stdout",
          "text": [
            "[[0 1 0]\n",
            " [0 0 1]\n",
            " [1 0 0]]\n",
            "[[0 0 1]\n",
            " [1 0 0]\n",
            " [0 1 0]]\n",
            "[[1 0 0]\n",
            " [0 1 0]\n",
            " [0 0 1]]\n"
          ]
        }
      ]
    },
    {
      "cell_type": "markdown",
      "source": [
        "A state i is an absorbing state if once the system reaches state $i,$ it stays in that state; that is, $\\Pr_{ii}=1$."
      ],
      "metadata": {
        "id": "kH3hJ2cQ4nUz"
      }
    },
    {
      "cell_type": "markdown",
      "source": [
        "### Non-ergodic chain with no absorbing state:"
      ],
      "metadata": {
        "id": "O1ZwLz6uWodB"
      }
    },
    {
      "cell_type": "code",
      "source": [
        "Transition_matrix = np.array([\n",
        "   [0,0.5,0,0.5,0],\n",
        "   [0,0.5,0.5,0,0],\n",
        "   [0,0.5,0.5,0,0],\n",
        "   [0,0,0,0.5,0.5],\n",
        "   [0,0,0,0.5,0.5],\n",
        "])\n",
        "N =100\n",
        "Matrix_to_power_N = np.linalg.matrix_power(Transition_matrix,N)\n",
        "Matrix_to_power_N"
      ],
      "metadata": {
        "colab": {
          "base_uri": "https://localhost:8080/"
        },
        "id": "VaDd7vYPXAyG",
        "outputId": "035c64c5-c246-4e7a-e831-5250c889830f"
      },
      "execution_count": null,
      "outputs": [
        {
          "output_type": "execute_result",
          "data": {
            "text/plain": [
              "array([[0.  , 0.25, 0.25, 0.25, 0.25],\n",
              "       [0.  , 0.5 , 0.5 , 0.  , 0.  ],\n",
              "       [0.  , 0.5 , 0.5 , 0.  , 0.  ],\n",
              "       [0.  , 0.  , 0.  , 0.5 , 0.5 ],\n",
              "       [0.  , 0.  , 0.  , 0.5 , 0.5 ]])"
            ]
          },
          "metadata": {},
          "execution_count": 11
        }
      ]
    },
    {
      "cell_type": "code",
      "source": [
        "# Check lack of irreducibility... number of states is 5:\n",
        "\n",
        "N = 5\n",
        "\n",
        "matpow = [0] * N\n",
        "for i in range(N):\n",
        " matpow = matpow +  np.linalg.matrix_power(Transition_matrix,i)\n",
        "matpow"
      ],
      "metadata": {
        "colab": {
          "base_uri": "https://localhost:8080/"
        },
        "id": "QFJNyjce3Aoc",
        "outputId": "dfbc7ce2-1734-481d-a391-1431b78cedbc"
      },
      "execution_count": null,
      "outputs": [
        {
          "output_type": "execute_result",
          "data": {
            "text/plain": [
              "array([[1.  , 1.25, 0.75, 1.25, 0.75],\n",
              "       [0.  , 3.  , 2.  , 0.  , 0.  ],\n",
              "       [0.  , 2.  , 3.  , 0.  , 0.  ],\n",
              "       [0.  , 0.  , 0.  , 3.  , 2.  ],\n",
              "       [0.  , 0.  , 0.  , 2.  , 3.  ]])"
            ]
          },
          "metadata": {},
          "execution_count": 12
        }
      ]
    },
    {
      "cell_type": "markdown",
      "source": [
        "### Non-ergodic chain with no absorbing state and each state with at least one incoming state:"
      ],
      "metadata": {
        "id": "afWs70DwbMgk"
      }
    },
    {
      "cell_type": "code",
      "source": [
        "Transition_matrix = np.array([\n",
        "   [0,0.5,0,0.5,0],\n",
        "   [0,0.5,0.5,0,0],\n",
        "   [0,0.5,0.5,0,0],\n",
        "   [0,0,0,0.5,0.5],\n",
        "   [0.1,0,0,0.4,0.5],\n",
        "])\n",
        "N =100\n",
        "Matrix_to_power_N = np.linalg.matrix_power(Transition_matrix,N)\n",
        "Matrix_to_power_N"
      ],
      "metadata": {
        "colab": {
          "base_uri": "https://localhost:8080/"
        },
        "id": "JF65T3HFgCZA",
        "outputId": "623b0951-3fb0-4ea9-8835-db7f54247d9a"
      },
      "execution_count": null,
      "outputs": [
        {
          "output_type": "execute_result",
          "data": {
            "text/plain": [
              "array([[0.00214542, 0.47908182, 0.47798162, 0.01987296, 0.02091818],\n",
              "       [0.        , 0.5       , 0.5       , 0.        , 0.        ],\n",
              "       [0.        , 0.5       , 0.5       , 0.        , 0.        ],\n",
              "       [0.00418364, 0.45920886, 0.45706344, 0.03875293, 0.04079114],\n",
              "       [0.00397459, 0.46124707, 0.45920886, 0.03681655, 0.03875293]])"
            ]
          },
          "metadata": {},
          "execution_count": 13
        }
      ]
    },
    {
      "cell_type": "markdown",
      "source": [
        "### Ergodic chain:"
      ],
      "metadata": {
        "id": "mjapB6-Dgpf0"
      }
    },
    {
      "cell_type": "code",
      "source": [
        "Transition_matrix = np.array([\n",
        "   [0,0.5,0,0.5,0],\n",
        "   [0,0.5,0.5,0,0],\n",
        "   [0.1,0.4,0.5,0,0],\n",
        "   [0,0,0,0.5,0.5],\n",
        "   [0.1,0,0,0.4,0.5],\n",
        "])\n",
        "N =100\n",
        "Matrix_to_power_N = np.linalg.matrix_power(Transition_matrix,N)\n",
        "Matrix_to_power_N"
      ],
      "metadata": {
        "colab": {
          "base_uri": "https://localhost:8080/"
        },
        "id": "T2u0HEfEgxNS",
        "outputId": "c0f51fda-99e7-4b5a-e74d-8610fc811c07"
      },
      "execution_count": null,
      "outputs": [
        {
          "output_type": "execute_result",
          "data": {
            "text/plain": [
              "array([[0.04761905, 0.23809524, 0.23809524, 0.23809524, 0.23809524],\n",
              "       [0.04761905, 0.23919864, 0.23932887, 0.23699184, 0.2368616 ],\n",
              "       [0.04761905, 0.23908215, 0.23919864, 0.23710833, 0.23699184],\n",
              "       [0.04761905, 0.23699184, 0.2368616 , 0.23919864, 0.23932887],\n",
              "       [0.04761905, 0.23710833, 0.23699184, 0.23908215, 0.23919864]])"
            ]
          },
          "metadata": {},
          "execution_count": 14
        }
      ]
    }
  ]
}