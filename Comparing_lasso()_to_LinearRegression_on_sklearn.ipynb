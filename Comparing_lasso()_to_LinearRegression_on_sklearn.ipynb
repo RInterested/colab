{
  "nbformat": 4,
  "nbformat_minor": 0,
  "metadata": {
    "colab": {
      "provenance": [],
      "authorship_tag": "ABX9TyO9ng0OFV6oIk6kFKsBafg/"
    },
    "kernelspec": {
      "name": "python3",
      "display_name": "Python 3"
    },
    "language_info": {
      "name": "python"
    }
  },
  "cells": [
    {
      "cell_type": "markdown",
      "metadata": {
        "id": "FdsjLhQjxw2X"
      },
      "source": [
        "From [this website](https://miamioh.instructure.com/courses/38817/pages/regression).\n",
        "\n",
        "[Here is a comparison](https://www.ritchieng.com/machine-learning-evaluate-linear-regression-model/) between [sklearn](https://scikit-learn.org/stable/) and [ols](https://www.statsmodels.org/stable/index.html).\n"
      ]
    },
    {
      "cell_type": "code",
      "metadata": {
        "id": "YQFH_7UDr1hY"
      },
      "source": [
        "import numpy as np\n",
        "import matplotlib.pyplot as plt"
      ],
      "execution_count": null,
      "outputs": []
    },
    {
      "cell_type": "markdown",
      "metadata": {
        "id": "xlvNIWyqyAJQ"
      },
      "source": [
        "First import the dataset mtcars and turn it into a dataframe with pandas:"
      ]
    },
    {
      "cell_type": "code",
      "metadata": {
        "id": "dAB7H7XyTF13",
        "colab": {
          "base_uri": "https://localhost:8080/"
        },
        "outputId": "c92cc20f-4839-41dc-9166-5400675f9136"
      },
      "source": [
        "import statsmodels.api as sm\n",
        "import pandas as pd\n",
        "import statsmodels.formula.api as smf\n",
        "from patsy import dmatrix\n",
        "\n",
        "\n",
        "mtcars = sm.datasets.get_rdataset(\"mtcars\", \"datasets\", cache=True).data\n",
        "df = pd.DataFrame(mtcars)"
      ],
      "execution_count": null,
      "outputs": [
        {
          "output_type": "stream",
          "text": [
            "/usr/local/lib/python3.7/dist-packages/statsmodels/tools/_testing.py:19: FutureWarning: pandas.util.testing is deprecated. Use the functions in the public API at pandas.testing instead.\n",
            "  import pandas.util.testing as tm\n"
          ],
          "name": "stderr"
        }
      ]
    },
    {
      "cell_type": "markdown",
      "metadata": {
        "id": "Gm60YzLkyOvl"
      },
      "source": [
        "Some useful exploratory commands:"
      ]
    },
    {
      "cell_type": "code",
      "metadata": {
        "colab": {
          "base_uri": "https://localhost:8080/"
        },
        "id": "v93_6PpOsOVb",
        "outputId": "577a7eef-42a9-4fd8-c4ce-2bc2a36ab56e"
      },
      "source": [
        "print(df.head())\n",
        "print(df.info())\n",
        "print(df.describe())"
      ],
      "execution_count": null,
      "outputs": [
        {
          "output_type": "stream",
          "text": [
            "                    mpg  cyl   disp   hp  drat  ...   qsec  vs  am  gear  carb\n",
            "Mazda RX4          21.0    6  160.0  110  3.90  ...  16.46   0   1     4     4\n",
            "Mazda RX4 Wag      21.0    6  160.0  110  3.90  ...  17.02   0   1     4     4\n",
            "Datsun 710         22.8    4  108.0   93  3.85  ...  18.61   1   1     4     1\n",
            "Hornet 4 Drive     21.4    6  258.0  110  3.08  ...  19.44   1   0     3     1\n",
            "Hornet Sportabout  18.7    8  360.0  175  3.15  ...  17.02   0   0     3     2\n",
            "\n",
            "[5 rows x 11 columns]\n",
            "<class 'pandas.core.frame.DataFrame'>\n",
            "Index: 32 entries, Mazda RX4 to Volvo 142E\n",
            "Data columns (total 11 columns):\n",
            " #   Column  Non-Null Count  Dtype  \n",
            "---  ------  --------------  -----  \n",
            " 0   mpg     32 non-null     float64\n",
            " 1   cyl     32 non-null     int64  \n",
            " 2   disp    32 non-null     float64\n",
            " 3   hp      32 non-null     int64  \n",
            " 4   drat    32 non-null     float64\n",
            " 5   wt      32 non-null     float64\n",
            " 6   qsec    32 non-null     float64\n",
            " 7   vs      32 non-null     int64  \n",
            " 8   am      32 non-null     int64  \n",
            " 9   gear    32 non-null     int64  \n",
            " 10  carb    32 non-null     int64  \n",
            "dtypes: float64(5), int64(6)\n",
            "memory usage: 3.0+ KB\n",
            "None\n",
            "             mpg        cyl        disp  ...         am       gear     carb\n",
            "count  32.000000  32.000000   32.000000  ...  32.000000  32.000000  32.0000\n",
            "mean   20.090625   6.187500  230.721875  ...   0.406250   3.687500   2.8125\n",
            "std     6.026948   1.785922  123.938694  ...   0.498991   0.737804   1.6152\n",
            "min    10.400000   4.000000   71.100000  ...   0.000000   3.000000   1.0000\n",
            "25%    15.425000   4.000000  120.825000  ...   0.000000   3.000000   2.0000\n",
            "50%    19.200000   6.000000  196.300000  ...   0.000000   4.000000   2.0000\n",
            "75%    22.800000   8.000000  326.000000  ...   1.000000   4.000000   4.0000\n",
            "max    33.900000   8.000000  472.000000  ...   1.000000   5.000000   8.0000\n",
            "\n",
            "[8 rows x 11 columns]\n"
          ],
          "name": "stdout"
        }
      ]
    },
    {
      "cell_type": "code",
      "metadata": {
        "colab": {
          "base_uri": "https://localhost:8080/",
          "height": 312
        },
        "id": "ogxP6OXOsegY",
        "outputId": "a6fb8547-9660-41b3-de53-fb408d43f728"
      },
      "source": [
        "plt.scatter(df['disp'],df['mpg'])\n",
        "plt.xlabel('Disp')\n",
        "plt.ylabel('mpg')\n",
        "plt.title('Disp vs mpg')"
      ],
      "execution_count": null,
      "outputs": [
        {
          "output_type": "execute_result",
          "data": {
            "text/plain": [
              "Text(0.5, 1.0, 'Disp vs mpg')"
            ]
          },
          "metadata": {
            "tags": []
          },
          "execution_count": 4
        },
        {
          "output_type": "display_data",
          "data": {
            "image/png": "[encoded data removed]",
            "text/plain": [
              "<Figure size 432x288 with 1 Axes>"
            ]
          },
          "metadata": {
            "tags": [],
            "needs_background": "light"
          }
        }
      ]
    },
    {
      "cell_type": "code",
      "metadata": {
        "colab": {
          "base_uri": "https://localhost:8080/"
        },
        "id": "baCCpVs51a4H",
        "outputId": "4c1e026c-dd84-490f-c151-d3e1d89aeff3"
      },
      "source": [
        "df.keys()"
      ],
      "execution_count": null,
      "outputs": [
        {
          "output_type": "execute_result",
          "data": {
            "text/plain": [
              "Index(['mpg', 'cyl', 'disp', 'hp', 'drat', 'wt', 'qsec', 'vs', 'am', 'gear',\n",
              "       'carb'],\n",
              "      dtype='object')"
            ]
          },
          "metadata": {
            "tags": []
          },
          "execution_count": 5
        }
      ]
    },
    {
      "cell_type": "code",
      "metadata": {
        "colab": {
          "base_uri": "https://localhost:8080/",
          "height": 35
        },
        "id": "cqoRAVO41TQv",
        "outputId": "d300cd2a-1967-4c3c-ea7a-b52063585b3c"
      },
      "source": [
        "df.keys()[0]"
      ],
      "execution_count": null,
      "outputs": [
        {
          "output_type": "execute_result",
          "data": {
            "application/vnd.google.colaboratory.intrinsic+json": {
              "type": "string"
            },
            "text/plain": [
              "'mpg'"
            ]
          },
          "metadata": {
            "tags": []
          },
          "execution_count": 6
        }
      ]
    },
    {
      "cell_type": "code",
      "metadata": {
        "colab": {
          "base_uri": "https://localhost:8080/"
        },
        "id": "ak5dEE1jzhdh",
        "outputId": "d96f55cd-433b-481f-d3ad-ee0569dfe20b"
      },
      "source": [
        "df['mpg']"
      ],
      "execution_count": null,
      "outputs": [
        {
          "output_type": "execute_result",
          "data": {
            "text/plain": [
              "Mazda RX4              21.0\n",
              "Mazda RX4 Wag          21.0\n",
              "Datsun 710             22.8\n",
              "Hornet 4 Drive         21.4\n",
              "Hornet Sportabout      18.7\n",
              "Valiant                18.1\n",
              "Duster 360             14.3\n",
              "Merc 240D              24.4\n",
              "Merc 230               22.8\n",
              "Merc 280               19.2\n",
              "Merc 280C              17.8\n",
              "Merc 450SE             16.4\n",
              "Merc 450SL             17.3\n",
              "Merc 450SLC            15.2\n",
              "Cadillac Fleetwood     10.4\n",
              "Lincoln Continental    10.4\n",
              "Chrysler Imperial      14.7\n",
              "Fiat 128               32.4\n",
              "Honda Civic            30.4\n",
              "Toyota Corolla         33.9\n",
              "Toyota Corona          21.5\n",
              "Dodge Challenger       15.5\n",
              "AMC Javelin            15.2\n",
              "Camaro Z28             13.3\n",
              "Pontiac Firebird       19.2\n",
              "Fiat X1-9              27.3\n",
              "Porsche 914-2          26.0\n",
              "Lotus Europa           30.4\n",
              "Ford Pantera L         15.8\n",
              "Ferrari Dino           19.7\n",
              "Maserati Bora          15.0\n",
              "Volvo 142E             21.4\n",
              "Name: mpg, dtype: float64"
            ]
          },
          "metadata": {
            "tags": []
          },
          "execution_count": 7
        }
      ]
    },
    {
      "cell_type": "code",
      "metadata": {
        "colab": {
          "base_uri": "https://localhost:8080/",
          "height": 286
        },
        "id": "NkeZIaBTybE4",
        "outputId": "42681b31-fdcf-45ee-d4b2-8924b307ce83"
      },
      "source": [
        "plt.scatter(df['disp'],df['mpg'])"
      ],
      "execution_count": null,
      "outputs": [
        {
          "output_type": "execute_result",
          "data": {
            "text/plain": [
              "<matplotlib.collections.PathCollection at 0x7f6b5bd13050>"
            ]
          },
          "metadata": {
            "tags": []
          },
          "execution_count": 8
        },
        {
          "output_type": "display_data",
          "data": {
            "image/png": "[encoded data removed]",
            "text/plain": [
              "<Figure size 432x288 with 1 Axes>"
            ]
          },
          "metadata": {
            "tags": [],
            "needs_background": "light"
          }
        }
      ]
    },
    {
      "cell_type": "markdown",
      "metadata": {
        "id": "NQNAefWVzn2k"
      },
      "source": [
        "Doing linear regression requires a matrix, apparently:"
      ]
    },
    {
      "cell_type": "code",
      "metadata": {
        "colab": {
          "base_uri": "https://localhost:8080/"
        },
        "id": "MrnvQuNI1wzU",
        "outputId": "2b212e08-2108-4de5-bcef-f8b4979d1beb"
      },
      "source": [
        "print(df.keys()[0], df.keys()[3])"
      ],
      "execution_count": null,
      "outputs": [
        {
          "output_type": "stream",
          "text": [
            "mpg hp\n"
          ],
          "name": "stdout"
        }
      ]
    },
    {
      "cell_type": "code",
      "metadata": {
        "colab": {
          "base_uri": "https://localhost:8080/"
        },
        "id": "QLdaVddQzt3P",
        "outputId": "0a88841b-16ec-4780-d09d-fb4423b0fd00"
      },
      "source": [
        "# So the following regresses mpg ~ hp:\n",
        "\n",
        "from sklearn.linear_model import LinearRegression\n",
        "\n",
        "lm = LinearRegression()\n",
        "\n",
        "mat = np.matrix(df)\n",
        "\n",
        "lmFit = lm.fit(mat[:,3], mat[:,0])\n",
        "\n",
        "print(lmFit.coef_)\n",
        "print(lmFit.intercept_)"
      ],
      "execution_count": null,
      "outputs": [
        {
          "output_type": "stream",
          "text": [
            "[[-0.06822828]]\n",
            "[30.09886054]\n"
          ],
          "name": "stdout"
        }
      ]
    },
    {
      "cell_type": "code",
      "metadata": {
        "colab": {
          "base_uri": "https://localhost:8080/"
        },
        "id": "sF3vCyjwE98L",
        "outputId": "823fd612-8969-414d-ae7f-89b7323d9b27"
      },
      "source": [
        "# The following is incorrect!!!!\n",
        "\n",
        "X,y = df[['mpg']], df.hp\n",
        "\n",
        "lmFit2 = lm.fit(X,y)\n",
        "\n",
        "print(lmFit2.coef_)\n",
        "print(lmFit2.intercept_)"
      ],
      "execution_count": null,
      "outputs": [
        {
          "output_type": "stream",
          "text": [
            "[-8.82973099]\n",
            "324.08231421252054\n"
          ],
          "name": "stdout"
        }
      ]
    },
    {
      "cell_type": "code",
      "metadata": {
        "colab": {
          "base_uri": "https://localhost:8080/"
        },
        "id": "7ntIIJYPuXwo",
        "outputId": "d5491312-e637-4b69-e1b0-297d45e58599"
      },
      "source": [
        "#R squared\n",
        "lmFit2.score(X, y)"
      ],
      "execution_count": null,
      "outputs": [
        {
          "output_type": "execute_result",
          "data": {
            "text/plain": [
              "0.602437341423934"
            ]
          },
          "metadata": {
            "tags": []
          },
          "execution_count": 12
        }
      ]
    },
    {
      "cell_type": "code",
      "metadata": {
        "colab": {
          "base_uri": "https://localhost:8080/"
        },
        "id": "SMHgHJtwumEF",
        "outputId": "c3d69441-021d-4083-9673-1611889d3e71"
      },
      "source": [
        "#Adjusted R square\n",
        "\n",
        "yhat = lmFit2.predict(X)\n",
        "SS_Residual = sum((y-yhat)**2)\n",
        "SS_Total = sum((y-np.mean(y))**2)\n",
        "r_squared = 1 - (float(SS_Residual))/SS_Total\n",
        "adjusted_r_squared = 1 - (1-r_squared)*(len(y)-1)/(len(y)-X.shape[1]-1)\n",
        "print(r_squared, adjusted_r_squared)\n"
      ],
      "execution_count": null,
      "outputs": [
        {
          "output_type": "stream",
          "text": [
            "0.602437341423934 0.5891852528047318\n"
          ],
          "name": "stdout"
        }
      ]
    },
    {
      "cell_type": "code",
      "metadata": {
        "colab": {
          "base_uri": "https://localhost:8080/"
        },
        "id": "Qay2C5obUqaQ",
        "outputId": "16c4ab93-bb69-4a24-a6ad-eaeeaf7354bd"
      },
      "source": [
        "mtcars = sm.datasets.get_rdataset(\"mtcars\", \"datasets\", cache=True).data\n",
        "\n",
        "mat = dmatrix(\"disp + qsec + C(cyl)\", mtcars)\n",
        "\n",
        "X = pd.DataFrame(mat[:,1:],columns = mat.design_info.column_names[1:])\n",
        "\n",
        "from sklearn.linear_model import LinearRegression\n",
        "model = LinearRegression().fit(X,mtcars['mpg'])\n",
        "\n",
        "pd.Series(model.coef_,index = X.columns)"
      ],
      "execution_count": null,
      "outputs": [
        {
          "output_type": "execute_result",
          "data": {
            "text/plain": [
              "C(cyl)[T.6]   -5.087564\n",
              "C(cyl)[T.8]   -5.535554\n",
              "disp          -0.025860\n",
              "qsec          -0.162425\n",
              "dtype: float64"
            ]
          },
          "metadata": {
            "tags": []
          },
          "execution_count": 16
        }
      ]
    },
    {
      "cell_type": "markdown",
      "metadata": {
        "id": "ihK5MCYR2h4-"
      },
      "source": [
        "Same for multiple regression:"
      ]
    },
    {
      "cell_type": "code",
      "metadata": {
        "id": "9alE7eE2up2f"
      },
      "source": [
        "lmm = LinearRegression()\n",
        "wt = np.array(df['wt'])\n",
        "cyl = np.array(df['cyl'])\n",
        "carb = np.array(df['carb'])\n",
        "stack = np.column_stack((cyl,wt,carb))\n",
        "stackmat = np.matrix(stack)\n",
        "\n",
        "lmFit2 = lmm.fit(stackmat,mat[:,4])\n",
        "print(lmFit2.coef_)\n",
        "print(lmFit2.intercept_)"
      ],
      "execution_count": null,
      "outputs": []
    },
    {
      "cell_type": "markdown",
      "metadata": {
        "id": "mRUi4m3B2pIf"
      },
      "source": [
        "Here is the equivalent for lasso:"
      ]
    },
    {
      "cell_type": "code",
      "metadata": {
        "id": "6aEoulC0carV"
      },
      "source": [
        "from sklearn.linear_model import Lasso"
      ],
      "execution_count": null,
      "outputs": []
    },
    {
      "cell_type": "code",
      "metadata": {
        "id": "B759JxaCclur"
      },
      "source": [
        "lasso = Lasso(alpha=0.001)\n",
        "lasso.fit(stackmat, mat[:,4])"
      ],
      "execution_count": null,
      "outputs": []
    },
    {
      "cell_type": "code",
      "metadata": {
        "id": "LfQ5wcyVwRaA"
      },
      "source": [
        "print(lasso.coef_)\n",
        "print(lasso.intercept_)"
      ],
      "execution_count": null,
      "outputs": []
    },
    {
      "cell_type": "markdown",
      "metadata": {
        "id": "VvLcLyeB22Dy"
      },
      "source": [
        "Lasso is equivalent to OLS if alpha is zero (same coefficients):"
      ]
    },
    {
      "cell_type": "code",
      "metadata": {
        "id": "hVarjFWnw_iy"
      },
      "source": [
        "lasso = Lasso(alpha=0)\n",
        "lasso.fit(stackmat, mat[:,4])\n",
        "\n",
        "print(lasso.coef_)\n",
        "print(lasso.intercept_)"
      ],
      "execution_count": null,
      "outputs": []
    },
    {
      "cell_type": "code",
      "metadata": {
        "id": "ofcunKiGxJMw"
      },
      "source": [
        "from patsy import dmatrices\n",
        "import statsmodels.api as sm\n",
        "\n",
        "from sklearn.linear_model import LogisticRegression"
      ],
      "execution_count": null,
      "outputs": []
    },
    {
      "cell_type": "code",
      "metadata": {
        "id": "7SUqIzPpxYx9"
      },
      "source": [
        "# Build dataset\n",
        "UVLevel = np.array((0.01,1,0.23,0.00,0.16,0.16,0.09,0.23,0.01,0.00,0.57,0.16,1.00,0.01,1,0.4,0.78,0.23,0.4,00)).reshape((20,1))\n",
        "Survived = np.array((0,0,0,0,0,0,0,1,0,0,0,0,0,0,0,0,0,0,1,0))\n",
        "df = pd.DataFrame(UVLevel, Survived)\n",
        "y, X = dmatrices(\"Survived~UVLevel\", df, return_type=\"dataframe\")\n",
        "\n",
        "# Construct regression object and print coefficients\n",
        "lgr = LogisticRegression(fit_intercept=False, C=1e9)\n",
        "lgrm = lgr.fit(X,y)\n",
        "print('Coefficients: \\n', lgrm.coef_, '    ', lgrm.intercept_)\n",
        "\n",
        "# Construct a generalized linear model and print information\n",
        "smGLM = sm.GLM(y, X, family=sm.families.Binomial())\n",
        "res = smGLM.fit()\n",
        "print(res.summary())"
      ],
      "execution_count": null,
      "outputs": []
    },
    {
      "cell_type": "code",
      "metadata": {
        "id": "Jotm9p1AYSEv"
      },
      "source": [
        "import numpy as np\n",
        "from statsmodels.stats import anova\n",
        "model = smf.ols(formula='np.log(mpg) ~ np.log(wt)', data=mtcars).fit()\n",
        "print(anova.anova_lm(model))\n",
        "print(anova.anova_lm(model).F[\"np.log(wt)\"])"
      ],
      "execution_count": null,
      "outputs": []
    },
    {
      "cell_type": "code",
      "metadata": {
        "id": "Ww170BTEC6QD"
      },
      "source": [
        "import seaborn as sns\n",
        "\n",
        "iris = sns.load_dataset('iris')\n",
        "iris.head()"
      ],
      "execution_count": null,
      "outputs": []
    },
    {
      "cell_type": "code",
      "metadata": {
        "id": "Dc2C7Q34cEWU"
      },
      "source": [
        "from   statsmodels.formula.api import ols"
      ],
      "execution_count": null,
      "outputs": []
    },
    {
      "cell_type": "code",
      "metadata": {
        "id": "cJuo--E0BcRK"
      },
      "source": [
        "reg = ols('sepal_length ~ C(species) + petal_width', data=iris).fit()\n",
        "print(reg.summary())\n",
        "print(dir(reg))"
      ],
      "execution_count": null,
      "outputs": []
    }
  ]
}