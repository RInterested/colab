{
  "nbformat": 4,
  "nbformat_minor": 0,
  "metadata": {
    "colab": {
      "provenance": [],
      "authorship_tag": "ABX9TyPr0mevaYzXo09QW2dKsFEj"
    },
    "kernelspec": {
      "name": "ir",
      "display_name": "R"
    }
  },
  "cells": [
    {
      "cell_type": "markdown",
      "metadata": {
        "id": "a73DfqBGUgbd"
      },
      "source": [
        "> A game is played among group of students in which there is Samantha and Mark. The game is played as follows: In the set {$1,2,3,4,5......,40$} , Samantha picks a subset of $20$ numbers. She then picks up the largest number from that subset , and gives every member of the group that many coins. What is the expected value of the number of coins she gives to Mark?"
      ]
    },
    {
      "cell_type": "markdown",
      "metadata": {
        "id": "cYF1TqHIUzb-"
      },
      "source": [
        "Answer:\n",
        "\n",
        "How many subsets will make Samantha give Mark 20 coins? 19C19  \n",
        "\n",
        "If the maximum number is $k=20$, there are $19 \\choose 19 $ ways to select the rest of the numbers in the subset. There are $20 \\choose 19 $ subsets that will make Samantha give Mark $21$ coins. Inductively, there are $k-1 \\choose 19 $ subsets to make Samantha give Mark $k$ coins.\n",
        "\n",
        "Therefore the expectation is\n",
        "\n",
        "\n",
        "$$E(\\text{coin given to Mark})= \\frac{1}{40 \\choose 20}\\sum_{k=20}^{40} k {k-1 \\choose 19}=\\frac{820}{21}=39.047619$$"
      ]
    },
    {
      "cell_type": "code",
      "metadata": {
        "id": "63gyKiIbeGoN",
        "colab": {
          "base_uri": "https://localhost:8080/",
          "height": 34
        },
        "outputId": "01df2396-8aa4-4e32-eef5-1df444e6a714"
      },
      "source": [
        "# Computational reality check:\n",
        "set.seed(561)\n",
        "set <- 1:40\n",
        "m <- replicate(3e6,sample(set,20))\n",
        "mean(apply(m, 2, function(x) max(x)))\n",
        "\n",
        "# Answer 39.0483533333333"
      ],
      "execution_count": null,
      "outputs": [
        {
          "output_type": "display_data",
          "data": {
            "text/plain": [
              "[1] 39.04835"
            ],
            "text/latex": "39.0483533333333",
            "text/markdown": "39.0483533333333",
            "text/html": [
              "39.0483533333333"
            ]
          },
          "metadata": {
            "tags": []
          }
        }
      ]
    },
    {
      "cell_type": "markdown",
      "metadata": {
        "id": "NIXayKq3fmUW"
      },
      "source": [
        "**My incorrect answer:**\n",
        "\n",
        "For each draw, $20$ numbers are picked (without replacement), which means that each of the $40$ numbers has $1/2$ probability of being picked up. It follows that the number $40$ will be the maximum of the subset in $1/2$ of the cases. In the other $1/2$ of cases, $39$ will be the maximum in $1/2$ of those cases, since $39$ has also $1/2$ probability of being picked in each draw: therefore $39$ is the maximum in $1/4$ of the cases. $38,$ analogously will be the maximum number in $(\\frac 1 2)^3=\\frac 1 {8},$ and so on and so forth until, and including the number $20.$ Clearly no number smaller than $20$ can be the maximum of a subset of $20.$\n",
        "\n",
        "Therefore the solution to the problem is\n",
        "\n",
        "$$\\small \\begin{bmatrix}\\frac 1 2 & \\left(\\frac 1 2\\right)^2 & \\left(\\frac 1 2\\right)^3 &\\cdots & \\left(\\frac 1 2\\right)^{21}   \\end{bmatrix} \\begin{bmatrix} 40\\\\39\\\\38\\\\\\vdots\\\\20\\end{bmatrix} = 38.9.$$\n",
        "\n",
        "This is lower than the correct answer because it doesn't consider the many different arrangements that, once a $k$ maximum value is determnined, can be group based on the number remaining available elements lower than $k.$"
      ]
    },
    {
      "cell_type": "code",
      "metadata": {
        "id": "yYKnTVFffpRo",
        "colab": {
          "base_uri": "https://localhost:8080/",
          "height": 34
        },
        "outputId": "db7fb072-8c30-4ce6-922f-deb4fc37731e"
      },
      "source": [
        "p = matrix(0,1,21)\n",
        "\n",
        "for (i in 1:21) p[1,i] <- (1/2)^i\n",
        "\n",
        "Max = 40:20\n",
        "\n",
        "sum(Max * p)"
      ],
      "execution_count": null,
      "outputs": [
        {
          "output_type": "display_data",
          "data": {
            "text/plain": [
              "[1] 38.99999"
            ],
            "text/latex": "38.9999914169312",
            "text/markdown": "38.9999914169312",
            "text/html": [
              "38.9999914169312"
            ]
          },
          "metadata": {
            "tags": []
          }
        }
      ]
    }
  ]
}