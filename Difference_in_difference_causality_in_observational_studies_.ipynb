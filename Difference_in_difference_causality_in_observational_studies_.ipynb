{
  "nbformat": 4,
  "nbformat_minor": 0,
  "metadata": {
    "colab": {
      "provenance": [],
      "authorship_tag": "ABX9TyOuUfE7qcwbVh4KSenb3ITQ"
    },
    "kernelspec": {
      "name": "ir",
      "display_name": "R"
    }
  },
  "cells": [
    {
      "cell_type": "markdown",
      "source": [
        "From [here](https://www.coursera.org/learn/data-what-it-is-what-can-we-do-with-it/lecture/8l5Qa/observational-studies-strategies-for-estimating-causal-effects) and [here](https://www.princeton.edu/~otorres/DID101R.pdf)."
      ],
      "metadata": {
        "id": "HzLlKDF5WB5Q"
      }
    },
    {
      "cell_type": "code",
      "source": [
        "library(foreign)\n",
        "mydata = read.dta(\"http://dss.princeton.edu/training/Panel101.dta\")"
      ],
      "metadata": {
        "id": "bNuQ5KPSnlr7"
      },
      "execution_count": null,
      "outputs": []
    },
    {
      "cell_type": "code",
      "source": [
        "head(mydata)"
      ],
      "metadata": {
        "colab": {
          "base_uri": "https://localhost:8080/",
          "height": 286
        },
        "id": "-z3dMbWzWXtg",
        "outputId": "e03938bc-236b-42fa-e586-2f9def902eb9"
      },
      "execution_count": null,
      "outputs": [
        {
          "output_type": "display_data",
          "data": {
            "text/html": [
              "<table class=\"dataframe\">\n",
              "<caption>A data.frame: 6 × 9</caption>\n",
              "<thead>\n",
              "\t<tr><th></th><th scope=col>country</th><th scope=col>year</th><th scope=col>y</th><th scope=col>y_bin</th><th scope=col>x1</th><th scope=col>x2</th><th scope=col>x3</th><th scope=col>opinion</th><th scope=col>op</th></tr>\n",
              "\t<tr><th></th><th scope=col>&lt;fct&gt;</th><th scope=col>&lt;int&gt;</th><th scope=col>&lt;dbl&gt;</th><th scope=col>&lt;dbl&gt;</th><th scope=col>&lt;dbl&gt;</th><th scope=col>&lt;dbl&gt;</th><th scope=col>&lt;dbl&gt;</th><th scope=col>&lt;fct&gt;</th><th scope=col>&lt;dbl&gt;</th></tr>\n",
              "</thead>\n",
              "<tbody>\n",
              "\t<tr><th scope=row>1</th><td>A</td><td>1990</td><td> 1342787840</td><td>1</td><td>0.2779036</td><td>-1.1079559</td><td> 0.28255358</td><td>Str agree</td><td>1</td></tr>\n",
              "\t<tr><th scope=row>2</th><td>A</td><td>1991</td><td>-1899660544</td><td>0</td><td>0.3206847</td><td>-0.9487200</td><td> 0.49253848</td><td>Disag    </td><td>0</td></tr>\n",
              "\t<tr><th scope=row>3</th><td>A</td><td>1992</td><td>  -11234363</td><td>0</td><td>0.3634657</td><td>-0.7894840</td><td> 0.70252335</td><td>Disag    </td><td>0</td></tr>\n",
              "\t<tr><th scope=row>4</th><td>A</td><td>1993</td><td> 2645775360</td><td>1</td><td>0.2461440</td><td>-0.8855330</td><td>-0.09439092</td><td>Disag    </td><td>0</td></tr>\n",
              "\t<tr><th scope=row>5</th><td>A</td><td>1994</td><td> 3008334848</td><td>1</td><td>0.4246230</td><td>-0.7297683</td><td> 0.94613063</td><td>Disag    </td><td>0</td></tr>\n",
              "\t<tr><th scope=row>6</th><td>A</td><td>1995</td><td> 3229574144</td><td>1</td><td>0.4772141</td><td>-0.7232460</td><td> 1.02968037</td><td>Str agree</td><td>1</td></tr>\n",
              "</tbody>\n",
              "</table>\n"
            ],
            "text/markdown": "\nA data.frame: 6 × 9\n\n| <!--/--> | country &lt;fct&gt; | year &lt;int&gt; | y &lt;dbl&gt; | y_bin &lt;dbl&gt; | x1 &lt;dbl&gt; | x2 &lt;dbl&gt; | x3 &lt;dbl&gt; | opinion &lt;fct&gt; | op &lt;dbl&gt; |\n|---|---|---|---|---|---|---|---|---|---|\n| 1 | A | 1990 |  1342787840 | 1 | 0.2779036 | -1.1079559 |  0.28255358 | Str agree | 1 |\n| 2 | A | 1991 | -1899660544 | 0 | 0.3206847 | -0.9487200 |  0.49253848 | Disag     | 0 |\n| 3 | A | 1992 |   -11234363 | 0 | 0.3634657 | -0.7894840 |  0.70252335 | Disag     | 0 |\n| 4 | A | 1993 |  2645775360 | 1 | 0.2461440 | -0.8855330 | -0.09439092 | Disag     | 0 |\n| 5 | A | 1994 |  3008334848 | 1 | 0.4246230 | -0.7297683 |  0.94613063 | Disag     | 0 |\n| 6 | A | 1995 |  3229574144 | 1 | 0.4772141 | -0.7232460 |  1.02968037 | Str agree | 1 |\n\n",
            "text/latex": "A data.frame: 6 × 9\n\\begin{tabular}{r|lllllllll}\n  & country & year & y & y\\_bin & x1 & x2 & x3 & opinion & op\\\\\n  & <fct> & <int> & <dbl> & <dbl> & <dbl> & <dbl> & <dbl> & <fct> & <dbl>\\\\\n\\hline\n\t1 & A & 1990 &  1342787840 & 1 & 0.2779036 & -1.1079559 &  0.28255358 & Str agree & 1\\\\\n\t2 & A & 1991 & -1899660544 & 0 & 0.3206847 & -0.9487200 &  0.49253848 & Disag     & 0\\\\\n\t3 & A & 1992 &   -11234363 & 0 & 0.3634657 & -0.7894840 &  0.70252335 & Disag     & 0\\\\\n\t4 & A & 1993 &  2645775360 & 1 & 0.2461440 & -0.8855330 & -0.09439092 & Disag     & 0\\\\\n\t5 & A & 1994 &  3008334848 & 1 & 0.4246230 & -0.7297683 &  0.94613063 & Disag     & 0\\\\\n\t6 & A & 1995 &  3229574144 & 1 & 0.4772141 & -0.7232460 &  1.02968037 & Str agree & 1\\\\\n\\end{tabular}\n",
            "text/plain": [
              "  country year y           y_bin x1        x2         x3          opinion   op\n",
              "1 A       1990  1342787840 1     0.2779036 -1.1079559  0.28255358 Str agree 1 \n",
              "2 A       1991 -1899660544 0     0.3206847 -0.9487200  0.49253848 Disag     0 \n",
              "3 A       1992   -11234363 0     0.3634657 -0.7894840  0.70252335 Disag     0 \n",
              "4 A       1993  2645775360 1     0.2461440 -0.8855330 -0.09439092 Disag     0 \n",
              "5 A       1994  3008334848 1     0.4246230 -0.7297683  0.94613063 Disag     0 \n",
              "6 A       1995  3229574144 1     0.4772141 -0.7232460  1.02968037 Str agree 1 "
            ]
          },
          "metadata": {}
        }
      ]
    },
    {
      "cell_type": "code",
      "source": [
        "# Create a dummy variable to indicate the time when the treatment started. Lets\n",
        "# assume that treatment started in 1994. In this case, years before 1994 will have a\n",
        "# value of 0 and 1994+ a 1. If you already have this skip this step.\n",
        "\n",
        "mydata$time = ifelse(mydata$year >= 1994, 1, 0)"
      ],
      "metadata": {
        "id": "s7Z63KoRWhF7"
      },
      "execution_count": null,
      "outputs": []
    },
    {
      "cell_type": "code",
      "source": [
        "# Create a dummy variable to identify the group exposed to the treatment. In this\n",
        "# example lets assumed that countries with code 5,6, and 7 were treated (=1).\n",
        "# Countries 1-4 were not treated (=0). If you already have this skip this step.\n",
        "\n",
        "mydata$treated = ifelse(mydata$country == \"E\" |\n",
        "mydata$country == \"F\" |\n",
        "mydata$country == \"G\", 1, 0)"
      ],
      "metadata": {
        "id": "a5-i2hS0WrqH"
      },
      "execution_count": null,
      "outputs": []
    },
    {
      "cell_type": "code",
      "source": [
        "# Create an interaction between time and treated. We will call this interaction\n",
        "# ‘did’.\n",
        "\n",
        "mydata$did = mydata$time * mydata$treated"
      ],
      "metadata": {
        "id": "GWYOqOYsW6UI"
      },
      "execution_count": null,
      "outputs": []
    },
    {
      "cell_type": "code",
      "source": [
        "# Estimating the DID estimator\n",
        "\n",
        "didreg = lm(y ~ treated + time + did, data = mydata)\n",
        "summary(didreg)"
      ],
      "metadata": {
        "colab": {
          "base_uri": "https://localhost:8080/",
          "height": 364
        },
        "id": "K3veK4yWXEOJ",
        "outputId": "38cd425d-f6f8-4002-f1b6-b4fa93d38529"
      },
      "execution_count": null,
      "outputs": [
        {
          "output_type": "display_data",
          "data": {
            "text/plain": [
              "\n",
              "Call:\n",
              "lm(formula = y ~ treated + time + did, data = mydata)\n",
              "\n",
              "Residuals:\n",
              "       Min         1Q     Median         3Q        Max \n",
              "-9.768e+09 -1.623e+09  1.167e+08  1.393e+09  6.807e+09 \n",
              "\n",
              "Coefficients:\n",
              "              Estimate Std. Error t value Pr(>|t|)  \n",
              "(Intercept)  3.581e+08  7.382e+08   0.485   0.6292  \n",
              "treated      1.776e+09  1.128e+09   1.575   0.1200  \n",
              "time         2.289e+09  9.530e+08   2.402   0.0191 *\n",
              "did         -2.520e+09  1.456e+09  -1.731   0.0882 .\n",
              "---\n",
              "Signif. codes:  0 ‘***’ 0.001 ‘**’ 0.01 ‘*’ 0.05 ‘.’ 0.1 ‘ ’ 1\n",
              "\n",
              "Residual standard error: 2.953e+09 on 66 degrees of freedom\n",
              "Multiple R-squared:  0.08273,\tAdjusted R-squared:  0.04104 \n",
              "F-statistic: 1.984 on 3 and 66 DF,  p-value: 0.1249\n"
            ]
          },
          "metadata": {}
        }
      ]
    },
    {
      "cell_type": "code",
      "source": [
        "# The coefficient for ‘did’ is the differences-in-differences\n",
        "# estimator. The effect is significant at 10% with the treatment having\n",
        "# a negative effect."
      ],
      "metadata": {
        "id": "dzssSpZwXP6m"
      },
      "execution_count": null,
      "outputs": []
    },
    {
      "cell_type": "code",
      "source": [
        "# Estimating the DID estimator (using the multiplication method, no\n",
        "# need to generate the interaction)\n",
        "\n",
        "didreg1 = lm(y ~ treated*time, data = mydata)\n",
        "summary(didreg1)"
      ],
      "metadata": {
        "colab": {
          "base_uri": "https://localhost:8080/",
          "height": 364
        },
        "id": "mmc6zrS2XW9O",
        "outputId": "f5494593-cdf4-463f-f8ef-64e4e27f2680"
      },
      "execution_count": null,
      "outputs": [
        {
          "output_type": "display_data",
          "data": {
            "text/plain": [
              "\n",
              "Call:\n",
              "lm(formula = y ~ treated * time, data = mydata)\n",
              "\n",
              "Residuals:\n",
              "       Min         1Q     Median         3Q        Max \n",
              "-9.768e+09 -1.623e+09  1.167e+08  1.393e+09  6.807e+09 \n",
              "\n",
              "Coefficients:\n",
              "               Estimate Std. Error t value Pr(>|t|)  \n",
              "(Intercept)   3.581e+08  7.382e+08   0.485   0.6292  \n",
              "treated       1.776e+09  1.128e+09   1.575   0.1200  \n",
              "time          2.289e+09  9.530e+08   2.402   0.0191 *\n",
              "treated:time -2.520e+09  1.456e+09  -1.731   0.0882 .\n",
              "---\n",
              "Signif. codes:  0 ‘***’ 0.001 ‘**’ 0.01 ‘*’ 0.05 ‘.’ 0.1 ‘ ’ 1\n",
              "\n",
              "Residual standard error: 2.953e+09 on 66 degrees of freedom\n",
              "Multiple R-squared:  0.08273,\tAdjusted R-squared:  0.04104 \n",
              "F-statistic: 1.984 on 3 and 66 DF,  p-value: 0.1249\n"
            ]
          },
          "metadata": {}
        }
      ]
    },
    {
      "cell_type": "code",
      "source": [
        "# The coefficient for ‘treated:time’ is the difference-in-difference estimator (‘did’ in the previous example). The effect is\n",
        "# significant at 10% with the treatment having a negative effect."
      ],
      "metadata": {
        "id": "-uRSnCTEXid-"
      },
      "execution_count": null,
      "outputs": []
    }
  ]
}