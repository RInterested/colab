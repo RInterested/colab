{
  "nbformat": 4,
  "nbformat_minor": 0,
  "metadata": {
    "colab": {
      "provenance": [],
      "authorship_tag": "ABX9TyOIvWZcoDj90AWKQ0P/xDmz"
    },
    "kernelspec": {
      "name": "python3",
      "display_name": "Python 3"
    }
  },
  "cells": [
    {
      "cell_type": "code",
      "metadata": {
        "id": "dcpiDXAMJk_q"
      },
      "source": [
        "import matplotlib.pyplot as plt\n",
        "import numpy as np\n",
        "%matplotlib inline"
      ],
      "execution_count": null,
      "outputs": []
    },
    {
      "cell_type": "code",
      "metadata": {
        "id": "J7XmjyZFRsfQ",
        "colab": {
          "base_uri": "https://localhost:8080/"
        },
        "outputId": "248a8ed8-2683-4b19-81c9-26759517c80f"
      },
      "source": [
        "R = 2\n",
        "for r in range(R+ 1):\n",
        "  print(r - 1j * r)"
      ],
      "execution_count": null,
      "outputs": [
        {
          "output_type": "stream",
          "name": "stdout",
          "text": [
            "0j\n",
            "(1-1j)\n",
            "(2-2j)\n"
          ]
        }
      ]
    },
    {
      "cell_type": "code",
      "metadata": {
        "id": "dFlPVvsUOW4V",
        "colab": {
          "base_uri": "https://localhost:8080/"
        },
        "outputId": "c7534732-33dd-46bf-d1fe-39d0c62f6f10"
      },
      "source": [
        "range(4)\n",
        "test = zip(range(4), [1j, -1, -1j, 1])\n",
        "list(test)"
      ],
      "execution_count": null,
      "outputs": [
        {
          "output_type": "execute_result",
          "data": {
            "text/plain": [
              "[(0, 1j), (1, -1), (2, (-0-1j)), (3, 1)]"
            ]
          },
          "metadata": {},
          "execution_count": 3
        }
      ]
    },
    {
      "cell_type": "code",
      "metadata": {
        "id": "c8pOozImTcm7",
        "colab": {
          "base_uri": "https://localhost:8080/"
        },
        "outputId": "af634eb4-03ef-4e03-da6a-619867a8d102"
      },
      "source": [
        "list(zip(range(4), [1j, -1, -1j, 1]))"
      ],
      "execution_count": null,
      "outputs": [
        {
          "output_type": "execute_result",
          "data": {
            "text/plain": [
              "[(0, 1j), (1, -1), (2, (-0-1j)), (3, 1)]"
            ]
          },
          "metadata": {},
          "execution_count": 4
        }
      ]
    },
    {
      "cell_type": "code",
      "metadata": {
        "id": "Zalq4IfGO6Y4",
        "colab": {
          "base_uri": "https://localhost:8080/"
        },
        "outputId": "8834da0a-8917-413c-e4da-d27dbc5d33e8"
      },
      "source": [
        "r = 1\n",
        "side_len = 2 * r\n",
        "range(side_len)"
      ],
      "execution_count": null,
      "outputs": [
        {
          "output_type": "execute_result",
          "data": {
            "text/plain": [
              "range(0, 2)"
            ]
          },
          "metadata": {},
          "execution_count": 5
        }
      ]
    },
    {
      "cell_type": "code",
      "metadata": {
        "id": "qHUuBMlqUP5z",
        "colab": {
          "base_uri": "https://localhost:8080/"
        },
        "outputId": "a07ebd8a-4c7f-4905-e7cb-404453386cf1"
      },
      "source": [
        "range(6)"
      ],
      "execution_count": null,
      "outputs": [
        {
          "output_type": "execute_result",
          "data": {
            "text/plain": [
              "range(0, 6)"
            ]
          },
          "metadata": {},
          "execution_count": 6
        }
      ]
    },
    {
      "cell_type": "code",
      "metadata": {
        "id": "hU2wy9v8W-wo",
        "colab": {
          "base_uri": "https://localhost:8080/"
        },
        "outputId": "7e7e8766-ceed-43c5-8f78-1687427496d5"
      },
      "source": [
        "current_pos = 0+0j\n",
        "direction = 1+1j\n",
        "for step in range(2):\n",
        "  current_pos += direction\n",
        "current_pos"
      ],
      "execution_count": null,
      "outputs": [
        {
          "output_type": "execute_result",
          "data": {
            "text/plain": [
              "(2+2j)"
            ]
          },
          "metadata": {},
          "execution_count": 7
        }
      ]
    },
    {
      "cell_type": "code",
      "metadata": {
        "id": "q-JHiKdRZgUE",
        "colab": {
          "base_uri": "https://localhost:8080/"
        },
        "outputId": "c2af1246-6747-494f-8646-01f35e02dc72"
      },
      "source": [
        "for r in range(1):\n",
        "  print(r - 1j * r)"
      ],
      "execution_count": null,
      "outputs": [
        {
          "output_type": "stream",
          "name": "stdout",
          "text": [
            "0j\n"
          ]
        }
      ]
    },
    {
      "cell_type": "code",
      "metadata": {
        "id": "frlEndLmZtoB",
        "colab": {
          "base_uri": "https://localhost:8080/"
        },
        "outputId": "be18a549-fdd4-4a79-be99-6405a5665105"
      },
      "source": [
        "for r in range(2):\n",
        "  print(r - 1j * r)"
      ],
      "execution_count": null,
      "outputs": [
        {
          "output_type": "stream",
          "name": "stdout",
          "text": [
            "0j\n",
            "(1-1j)\n"
          ]
        }
      ]
    },
    {
      "cell_type": "code",
      "metadata": {
        "id": "PzWk5o-tQFAU"
      },
      "source": [
        "def make_spiral(R):\n",
        "    \"\"\"Generates the spiral up to radius R.\n",
        "    Returns a list of complex numbers (x, y coordinates).\"\"\"\n",
        "    spiral = [(0+0j)]\n",
        "    for r in range(R+1):\n",
        "        corner = r - 1j * r\n",
        "        side_len = 2 * r\n",
        "        current_pos = corner\n",
        "        for side, direction in zip(range(4), [1j, -1, -1j, 1]):\n",
        "            for step in range(side_len):\n",
        "                current_pos += direction\n",
        "                spiral.append(current_pos)\n",
        "    return spiral"
      ],
      "execution_count": null,
      "outputs": []
    },
    {
      "cell_type": "code",
      "metadata": {
        "id": "dRDSJ1AHgEHy",
        "colab": {
          "base_uri": "https://localhost:8080/"
        },
        "outputId": "8d774ad2-9b05-4d42-f968-23a2cd70ec81"
      },
      "source": [
        "R=2\n",
        "for r in range(R+1):\n",
        "    print(r)\n",
        "    print(r - 1j * r)\n",
        "    print(2*r)"
      ],
      "execution_count": null,
      "outputs": [
        {
          "output_type": "stream",
          "name": "stdout",
          "text": [
            "0\n",
            "0j\n",
            "0\n",
            "1\n",
            "(1-1j)\n",
            "2\n",
            "2\n",
            "(2-2j)\n",
            "4\n"
          ]
        }
      ]
    },
    {
      "cell_type": "code",
      "metadata": {
        "id": "EnewDdy_hEpx",
        "colab": {
          "base_uri": "https://localhost:8080/"
        },
        "outputId": "0aa7ff39-d4c0-44fd-a2fc-d770a864a8da"
      },
      "source": [
        "list(zip(range(4), [1j, -1, -1j, 1]))"
      ],
      "execution_count": null,
      "outputs": [
        {
          "output_type": "execute_result",
          "data": {
            "text/plain": [
              "[(0, 1j), (1, -1), (2, (-0-1j)), (3, 1)]"
            ]
          },
          "metadata": {},
          "execution_count": 12
        }
      ]
    },
    {
      "cell_type": "code",
      "metadata": {
        "id": "smNPYqpKej22",
        "colab": {
          "base_uri": "https://localhost:8080/"
        },
        "outputId": "0ff9bcd8-e41d-4933-d2bb-107a9a6c2a91"
      },
      "source": [
        "print(make_spiral(2))"
      ],
      "execution_count": null,
      "outputs": [
        {
          "output_type": "stream",
          "name": "stdout",
          "text": [
            "[0j, (1+0j), (1+1j), 1j, (-1+1j), (-1+0j), (-1-1j), -1j, (1-1j), (2-1j), (2+0j), (2+1j), (2+2j), (1+2j), 2j, (-1+2j), (-2+2j), (-2+1j), (-2+0j), (-2-1j), (-2-2j), (-1-2j), -2j, (1-2j), (2-2j)]\n"
          ]
        }
      ]
    },
    {
      "cell_type": "code",
      "metadata": {
        "id": "kYWbrZd7JniW",
        "colab": {
          "base_uri": "https://localhost:8080/",
          "height": 320
        },
        "outputId": "8b5332c8-c44a-4f7e-e633-492f42a71ec2"
      },
      "source": [
        "fig, axes = plt.subplots(figsize=(15, 5), ncols=3)\n",
        "for ax, r in zip(axes.ravel(), [2, 3, 4]):\n",
        "    spiral = make_spiral(r)\n",
        "    ax.plot(np.real(spiral), np.imag(spiral), '-o')"
      ],
      "execution_count": null,
      "outputs": [
        {
          "output_type": "display_data",
          "data": {
            "image/png": "[encoded data removed]",
            "text/plain": [
              "<Figure size 1080x360 with 3 Axes>"
            ]
          },
          "metadata": {
            "needs_background": "light"
          }
        }
      ]
    }
  ]
}