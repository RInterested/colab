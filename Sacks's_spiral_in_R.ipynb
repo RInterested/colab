{
  "nbformat": 4,
  "nbformat_minor": 0,
  "metadata": {
    "colab": {
      "provenance": [],
      "authorship_tag": "ABX9TyP1vpXEwNCPA2LIRdgsCZe9"
    },
    "kernelspec": {
      "name": "ir",
      "display_name": "R"
    }
  },
  "cells": [
    {
      "cell_type": "code",
      "metadata": {
        "id": "HrK8_yJEz9lt"
      },
      "source": [
        "n <- 1:250            # Position of squares along x line.\n",
        "sq <- n^2             # Squares along x line\n",
        "\n",
        "\n",
        "vals <- 1 + 0*1i\n",
        "\n",
        "for(z in 1:(max(n)  - 1)){\n",
        "      stops <- 1:(diff(sq))[z]\n",
        "      base  <- sq[z]\n",
        "  for(j in stops){\n",
        "    coil <- (base + stops[j]) * exp(1i*2*pi/diff(sq)[z] * stops[j])\n",
        "    vals <- c(vals, coil)\n",
        "  }\n",
        "}\n",
        "\n",
        "int <- 1:length(vals)\n",
        "dat <- data.frame(int,vals)\n",
        "\n",
        "get_primes <- function(n_min, n_max){\n",
        "  options(scipen=999)\n",
        "  result = vector()\n",
        "  for (x in seq(max(n_min,2), n_max)){\n",
        "    has_factor <- F\n",
        "    for (p in seq(2, ceiling(sqrt(x)))){\n",
        "      if(x %% p == 0) has_factor <- T\n",
        "      if(has_factor == T) break\n",
        "    }\n",
        "    if(has_factor==F) result <- c(result,x)\n",
        "  }\n",
        "  result\n",
        "}\n",
        "\n",
        "primes <- get_primes(1, length(int))\n",
        "stark = dat[dat$int %in% primes,]\n",
        "\n",
        "par(mar=c(.1,.1,.1,.1))\n",
        "\n",
        "plot(0,0, xlab=\"\", ylab=\"\", axes=F,\n",
        "     xlim=c(-max(sq),max(sq)), ylim=c(-max(sq),max(sq)), pch=20)\n",
        "points(stark$vals, pch=20, cex=.01)\n",
        "\n",
        "diaphan=vector()\n",
        "for(x in 1:500){\n",
        "  diaphan <- c(diaphan, x^2 -x + 41)\n",
        "}\n",
        "subset_prime <- primes[primes %in% diaphan]\n",
        "diag = stark[stark$int %in% subset_prime,]\n",
        "points(diag$vals, pch=20, cex=.6, col=\"firebrick\")"
      ],
      "execution_count": null,
      "outputs": []
    }
  ]
}